{
  "nbformat": 4,
  "nbformat_minor": 0,
  "metadata": {
    "kernelspec": {
      "name": "python3",
      "display_name": "Python 3"
    },
    "language_info": {
      "codemirror_mode": {
        "name": "ipython",
        "version": 3
      },
      "file_extension": ".py",
      "mimetype": "text/x-python",
      "name": "python",
      "nbconvert_exporter": "python",
      "pygments_lexer": "ipython3",
      "version": "3.6.4"
    },
    "colab": {
      "name": "Character_Level_RNN_Exercise.ipynb",
      "provenance": [],
      "include_colab_link": true
    },
    "accelerator": "GPU"
  },
<<<<<<< HEAD
  {
   "cell_type": "markdown",
   "metadata": {},
   "source": [
    "First let's load in our required resources for data loading and model creation."
   ]
  },
  {
   "cell_type": "code",
   "execution_count": 1,
   "metadata": {},
   "outputs": [],
   "source": [
    "import numpy as np\n",
    "import torch\n",
    "from torch import nn\n",
    "import torch.nn.functional as F"
   ]
  },
  {
   "cell_type": "markdown",
   "metadata": {},
   "source": [
    "## Load in Data\n",
    "\n",
    "Then, we'll load the Anna Karenina text file and convert it into integers for our network to use. "
   ]
  },
  {
   "cell_type": "code",
   "execution_count": 2,
   "metadata": {},
   "outputs": [],
   "source": [
    "# open text file and read in data as `text`\n",
    "with open('data/anna.txt', 'r') as f:\n",
    "    text = f.read()"
   ]
  },
  {
   "cell_type": "markdown",
   "metadata": {},
   "source": [
    "Let's check out the first 100 characters, make sure everything is peachy. According to the [American Book Review](http://americanbookreview.org/100bestlines.asp), this is the 6th best first line of a book ever."
   ]
  },
  {
   "cell_type": "code",
   "execution_count": 3,
   "metadata": {},
   "outputs": [
    {
     "data": {
      "text/plain": [
       "'Chapter 1\\n\\n\\nHappy families are all alike; every unhappy family is unhappy in its own\\nway.\\n\\nEverythin'"
      ]
     },
     "execution_count": 3,
     "metadata": {},
     "output_type": "execute_result"
    }
   ],
   "source": [
    "text[:100]"
   ]
  },
  {
   "cell_type": "markdown",
   "metadata": {},
   "source": [
    "### Tokenization\n",
    "\n",
    "In the cells, below, I'm creating a couple **dictionaries** to convert the characters to and from integers. Encoding the characters as integers makes it easier to use as input in the network."
   ]
  },
  {
   "cell_type": "code",
   "execution_count": 4,
   "metadata": {},
   "outputs": [],
   "source": [
    "# encode the text and map each character to an integer and vice versa\n",
    "\n",
    "# we create two dictionaries:\n",
    "# 1. int2char, which maps integers to characters\n",
    "# 2. char2int, which maps characters to unique integers\n",
    "chars = tuple(set(text))\n",
    "int2char = dict(enumerate(chars))\n",
    "char2int = {ch: ii for ii, ch in int2char.items()}\n",
    "\n",
    "# encode the text\n",
    "encoded = np.array([char2int[ch] for ch in text])"
   ]
  },
  {
   "cell_type": "markdown",
   "metadata": {},
   "source": [
    "And we can see those same characters from above, encoded as integers."
   ]
  },
  {
   "cell_type": "code",
   "execution_count": 5,
   "metadata": {},
   "outputs": [
    {
     "data": {
      "text/plain": [
       "array([43, 52, 49, 12,  7, 33, 20, 24, 35, 26, 26, 26,  5, 49, 12, 12,  2,\n",
       "       24, 14, 49,  3, 29, 37, 29, 33, 50, 24, 49, 20, 33, 24, 49, 37, 37,\n",
       "       24, 49, 37, 29, 11, 33, 63, 24, 33, 81, 33, 20,  2, 24, 66, 69, 52,\n",
       "       49, 12, 12,  2, 24, 14, 49,  3, 29, 37,  2, 24, 29, 50, 24, 66, 69,\n",
       "       52, 49, 12, 12,  2, 24, 29, 69, 24, 29,  7, 50, 24, 21, 28, 69, 26,\n",
       "       28, 49,  2, 25, 26, 26, 64, 81, 33, 20,  2,  7, 52, 29, 69])"
      ]
     },
     "execution_count": 5,
     "metadata": {},
     "output_type": "execute_result"
    }
   ],
   "source": [
    "encoded[:100]"
   ]
  },
  {
   "cell_type": "markdown",
   "metadata": {},
   "source": [
    "## Pre-processing the data\n",
    "\n",
    "As you can see in our char-RNN image above, our LSTM expects an input that is **one-hot encoded** meaning that each character is converted into an integer (via our created dictionary) and *then* converted into a column vector where only it's corresponding integer index will have the value of 1 and the rest of the vector will be filled with 0's. Since we're one-hot encoding the data, let's make a function to do that!\n"
   ]
  },
  {
   "cell_type": "code",
   "execution_count": 12,
   "metadata": {},
   "outputs": [],
   "source": [
    "def one_hot_encode(arr, n_labels):\n",
    "    \n",
    "    # Initialize the the encoded array\n",
    "    one_hot = np.zeros((arr.size, n_labels), dtype=np.float32)\n",
    "\n",
    "#     print(one_hot)\n",
    "\n",
    "#     print(np.arange(one_hot.shape[0]))\n",
    "\n",
    "#     print(arr.flatten())\n",
    "\n",
    "    # Fill the appropriate elements with ones\n",
    "    one_hot[np.arange(one_hot.shape[0]), arr.flatten()] = 1.\n",
    "\n",
    "    #print(one_hot)\n",
    "    \n",
    "    # Finally reshape it to get back to the original array\n",
    "    one_hot = one_hot.reshape((*arr.shape, n_labels))\n",
    "    \n",
    "    return one_hot"
   ]
  },
  {
   "cell_type": "code",
   "execution_count": 13,
   "metadata": {},
   "outputs": [
    {
     "name": "stdout",
     "output_type": "stream",
     "text": [
      "[[[0. 0. 0. 1. 0. 0. 0. 0.]\n",
      "  [0. 0. 0. 0. 0. 1. 0. 0.]\n",
      "  [0. 1. 0. 0. 0. 0. 0. 0.]]]\n"
     ]
    }
   ],
   "source": [
    "# check that the function works as expected\n",
    "test_seq = np.array([[3, 5, 1]])\n",
    "one_hot = one_hot_encode(test_seq, 8)\n",
    "\n",
    "print(one_hot)"
   ]
  },
  {
   "cell_type": "markdown",
   "metadata": {},
   "source": [
    "## Making training mini-batches\n",
    "\n",
    "\n",
    "To train on this data, we also want to create mini-batches for training. Remember that we want our batches to be multiple sequences of some desired number of sequence steps. Considering a simple example, our batches would look like this:\n",
    "\n",
    "<img src=\"assets/sequence_batching@1x.png\" width=500px>\n",
    "\n",
    "\n",
    "<br>\n",
    "\n",
    "In this example, we'll take the encoded characters (passed in as the `arr` parameter) and split them into multiple sequences, given by `batch_size`. Each of our sequences will be `seq_length` long.\n",
    "\n",
    "### Creating Batches\n",
    "\n",
    "**1. The first thing we need to do is discard some of the text so we only have completely full mini-batches. **\n",
    "\n",
    "Each batch contains $N \\times M$ characters, where $N$ is the batch size (the number of sequences in a batch) and $M$ is the seq_length or number of time steps in a sequence. Then, to get the total number of batches, $K$, that we can make from the array `arr`, you divide the length of `arr` by the number of characters per batch. Once you know the number of batches, you can get the total number of characters to keep from `arr`, $N * M * K$.\n",
    "\n",
    "**2. After that, we need to split `arr` into $N$ batches. ** \n",
    "\n",
    "You can do this using `arr.reshape(size)` where `size` is a tuple containing the dimensions sizes of the reshaped array. We know we want $N$ sequences in a batch, so let's make that the size of the first dimension. For the second dimension, you can use `-1` as a placeholder in the size, it'll fill up the array with the appropriate data for you. After this, you should have an array that is $N \\times (M * K)$.\n",
    "\n",
    "**3. Now that we have this array, we can iterate through it to get our mini-batches. **\n",
    "\n",
    "The idea is each batch is a $N \\times M$ window on the $N \\times (M * K)$ array. For each subsequent batch, the window moves over by `seq_length`. We also want to create both the input and target arrays. Remember that the targets are just the inputs shifted over by one character. The way I like to do this window is use `range` to take steps of size `n_steps` from $0$ to `arr.shape[1]`, the total number of tokens in each sequence. That way, the integers you get from `range` always point to the start of a batch, and each window is `seq_length` wide.\n",
    "\n",
    "> **TODO:** Write the code for creating batches in the function below. The exercises in this notebook _will not be easy_. I've provided a notebook with solutions alongside this notebook. If you get stuck, checkout the solutions. The most important thing is that you don't copy and paste the code into here, **type out the solution code yourself.**"
   ]
  },
  {
   "cell_type": "code",
   "execution_count": null,
   "metadata": {
    "collapsed": true
   },
   "outputs": [],
   "source": [
    "def get_batches(arr, batch_size, seq_length):\n",
    "    '''Create a generator that returns batches of size\n",
    "       batch_size x seq_length from arr.\n",
    "       \n",
    "       Arguments\n",
    "       ---------\n",
    "       arr: Array you want to make batches from\n",
    "       batch_size: Batch size, the number of sequences per batch\n",
    "       seq_length: Number of encoded chars in a sequence\n",
    "    '''\n",
    "    \n",
    "    ## TODO: Get the number of batches we can make\n",
    "    n_batches = batch_size * \n",
    "    \n",
    "    ## TODO: Keep only enough characters to make full batches\n",
    "    arr = \n",
    "    \n",
    "    ## TODO: Reshape into batch_size rows\n",
    "    arr = \n",
    "    \n",
    "    ## TODO: Iterate over the batches using a window of size seq_length\n",
    "    for n in range(0, arr.shape[1], seq_length):\n",
    "        # The features\n",
    "        x = \n",
    "        # The targets, shifted by one\n",
    "        y = \n",
    "        yield x, y"
   ]
  },
  {
   "cell_type": "markdown",
   "metadata": {},
   "source": [
    "### Test Your Implementation\n",
    "\n",
    "Now I'll make some data sets and we can check out what's going on as we batch data. Here, as an example, I'm going to use a batch size of 8 and 50 sequence steps."
   ]
  },
  {
   "cell_type": "code",
   "execution_count": null,
   "metadata": {
    "collapsed": true
   },
   "outputs": [],
   "source": [
    "batches = get_batches(encoded, 8, 50)\n",
    "x, y = next(batches)"
   ]
  },
  {
   "cell_type": "code",
   "execution_count": null,
   "metadata": {
    "collapsed": true
   },
   "outputs": [],
   "source": [
    "# printing out the first 10 items in a sequence\n",
    "print('x\\n', x[:10, :10])\n",
    "print('\\ny\\n', y[:10, :10])"
   ]
  },
  {
   "cell_type": "markdown",
   "metadata": {},
   "source": [
    "If you implemented `get_batches` correctly, the above output should look something like \n",
    "```\n",
    "x\n",
    " [[25  8 60 11 45 27 28 73  1  2]\n",
    " [17  7 20 73 45  8 60 45 73 60]\n",
    " [27 20 80 73  7 28 73 60 73 65]\n",
    " [17 73 45  8 27 73 66  8 46 27]\n",
    " [73 17 60 12 73  8 27 28 73 45]\n",
    " [66 64 17 17 46  7 20 73 60 20]\n",
    " [73 76 20 20 60 73  8 60 80 73]\n",
    " [47 35 43  7 20 17 24 50 37 73]]\n",
    "\n",
    "y\n",
    " [[ 8 60 11 45 27 28 73  1  2  2]\n",
    " [ 7 20 73 45  8 60 45 73 60 45]\n",
    " [20 80 73  7 28 73 60 73 65  7]\n",
    " [73 45  8 27 73 66  8 46 27 65]\n",
    " [17 60 12 73  8 27 28 73 45 27]\n",
    " [64 17 17 46  7 20 73 60 20 80]\n",
    " [76 20 20 60 73  8 60 80 73 17]\n",
    " [35 43  7 20 17 24 50 37 73 36]]\n",
    " ```\n",
    " although the exact numbers may be different. Check to make sure the data is shifted over one step for `y`."
   ]
  },
  {
   "cell_type": "markdown",
   "metadata": {},
   "source": [
    "---\n",
    "## Defining the network with PyTorch\n",
    "\n",
    "Below is where you'll define the network.\n",
    "\n",
    "<img src=\"assets/charRNN.png\" width=500px>\n",
    "\n",
    "Next, you'll use PyTorch to define the architecture of the network. We start by defining the layers and operations we want. Then, define a method for the forward pass. You've also been given a method for predicting characters."
   ]
  },
  {
   "cell_type": "markdown",
   "metadata": {},
   "source": [
    "### Model Structure\n",
    "\n",
    "In `__init__` the suggested structure is as follows:\n",
    "* Create and store the necessary dictionaries (this has been done for you)\n",
    "* Define an LSTM layer that takes as params: an input size (the number of characters), a hidden layer size `n_hidden`, a number of layers `n_layers`, a dropout probability `drop_prob`, and a batch_first boolean (True, since we are batching)\n",
    "* Define a dropout layer with `drop_prob`\n",
    "* Define a fully-connected layer with params: input size `n_hidden` and output size (the number of characters)\n",
    "* Finally, initialize the weights (again, this has been given)\n",
    "\n",
    "Note that some parameters have been named and given in the `__init__` function, and we use them and store them by doing something like `self.drop_prob = drop_prob`."
   ]
  },
  {
   "cell_type": "markdown",
   "metadata": {},
   "source": [
    "---\n",
    "### LSTM Inputs/Outputs\n",
    "\n",
    "You can create a basic [LSTM layer](https://pytorch.org/docs/stable/nn.html#lstm) as follows\n",
    "\n",
    "```python\n",
    "self.lstm = nn.LSTM(input_size, n_hidden, n_layers, \n",
    "                            dropout=drop_prob, batch_first=True)\n",
    "```\n",
    "\n",
    "where `input_size` is the number of characters this cell expects to see as sequential input, and `n_hidden` is the number of units in the hidden layers in the cell. And we can add dropout by adding a dropout parameter with a specified probability; this will automatically add dropout to the inputs or outputs. Finally, in the `forward` function, we can stack up the LSTM cells into layers using `.view`. With this, you pass in a list of cells and it will send the output of one cell into the next cell.\n",
    "\n",
    "We also need to create an initial hidden state of all zeros. This is done like so\n",
    "\n",
    "```python\n",
    "self.init_hidden()\n",
    "```"
   ]
  },
  {
   "cell_type": "code",
   "execution_count": null,
   "metadata": {
    "collapsed": true
   },
   "outputs": [],
   "source": [
    "# check if GPU is available\n",
    "train_on_gpu = torch.cuda.is_available()\n",
    "if(train_on_gpu):\n",
    "    print('Training on GPU!')\n",
    "else: \n",
    "    print('No GPU available, training on CPU; consider making n_epochs very small.')"
   ]
  },
  {
   "cell_type": "code",
   "execution_count": null,
   "metadata": {
    "collapsed": true
   },
   "outputs": [],
   "source": [
    "class CharRNN(nn.Module):\n",
    "    \n",
    "    def __init__(self, tokens, n_hidden=256, n_layers=2,\n",
    "                               drop_prob=0.5, lr=0.001):\n",
    "        super().__init__()\n",
    "        self.drop_prob = drop_prob\n",
    "        self.n_layers = n_layers\n",
    "        self.n_hidden = n_hidden\n",
    "        self.lr = lr\n",
    "        \n",
    "        # creating character dictionaries\n",
    "        self.chars = tokens\n",
    "        self.int2char = dict(enumerate(self.chars))\n",
    "        self.char2int = {ch: ii for ii, ch in self.int2char.items()}\n",
    "        \n",
    "        ## TODO: define the layers of the model\n",
    "      \n",
    "    \n",
    "    def forward(self, x, hidden):\n",
    "        ''' Forward pass through the network. \n",
    "            These inputs are x, and the hidden/cell state `hidden`. '''\n",
    "                \n",
    "        ## TODO: Get the outputs and the new hidden state from the lstm\n",
    "        \n",
    "        # return the final output and the hidden state\n",
    "        return out, hidden\n",
    "    \n",
    "    \n",
    "    def init_hidden(self, batch_size):\n",
    "        ''' Initializes hidden state '''\n",
    "        # Create two new tensors with sizes n_layers x batch_size x n_hidden,\n",
    "        # initialized to zero, for hidden state and cell state of LSTM\n",
    "        weight = next(self.parameters()).data\n",
    "        \n",
    "        if (train_on_gpu):\n",
    "            hidden = (weight.new(self.n_layers, batch_size, self.n_hidden).zero_().cuda(),\n",
    "                  weight.new(self.n_layers, batch_size, self.n_hidden).zero_().cuda())\n",
    "        else:\n",
    "            hidden = (weight.new(self.n_layers, batch_size, self.n_hidden).zero_(),\n",
    "                      weight.new(self.n_layers, batch_size, self.n_hidden).zero_())\n",
    "        \n",
    "        return hidden\n",
    "        "
   ]
  },
  {
   "cell_type": "markdown",
   "metadata": {},
   "source": [
    "## Time to train\n",
    "\n",
    "The train function gives us the ability to set the number of epochs, the learning rate, and other parameters.\n",
    "\n",
    "Below we're using an Adam optimizer and cross entropy loss since we are looking at character class scores as output. We calculate the loss and perform backpropagation, as usual!\n",
    "\n",
    "A couple of details about training: \n",
    ">* Within the batch loop, we detach the hidden state from its history; this time setting it equal to a new *tuple* variable because an LSTM has a hidden state that is a tuple of the hidden and cell states.\n",
    "* We use [`clip_grad_norm_`](https://pytorch.org/docs/stable/_modules/torch/nn/utils/clip_grad.html) to help prevent exploding gradients."
   ]
  },
  {
   "cell_type": "code",
   "execution_count": null,
   "metadata": {
    "collapsed": true
   },
   "outputs": [],
   "source": [
    "def train(net, data, epochs=10, batch_size=10, seq_length=50, lr=0.001, clip=5, val_frac=0.1, print_every=10):\n",
    "    ''' Training a network \n",
    "    \n",
    "        Arguments\n",
    "        ---------\n",
    "        \n",
    "        net: CharRNN network\n",
    "        data: text data to train the network\n",
    "        epochs: Number of epochs to train\n",
    "        batch_size: Number of mini-sequences per mini-batch, aka batch size\n",
    "        seq_length: Number of character steps per mini-batch\n",
    "        lr: learning rate\n",
    "        clip: gradient clipping\n",
    "        val_frac: Fraction of data to hold out for validation\n",
    "        print_every: Number of steps for printing training and validation loss\n",
    "    \n",
    "    '''\n",
    "    net.train()\n",
    "    \n",
    "    opt = torch.optim.Adam(net.parameters(), lr=lr)\n",
    "    criterion = nn.CrossEntropyLoss()\n",
    "    \n",
    "    # create training and validation data\n",
    "    val_idx = int(len(data)*(1-val_frac))\n",
    "    data, val_data = data[:val_idx], data[val_idx:]\n",
    "    \n",
    "    if(train_on_gpu):\n",
    "        net.cuda()\n",
    "    \n",
    "    counter = 0\n",
    "    n_chars = len(net.chars)\n",
    "    for e in range(epochs):\n",
    "        # initialize hidden state\n",
    "        h = net.init_hidden(batch_size)\n",
    "        \n",
    "        for x, y in get_batches(data, batch_size, seq_length):\n",
    "            counter += 1\n",
    "            \n",
    "            # One-hot encode our data and make them Torch tensors\n",
    "            x = one_hot_encode(x, n_chars)\n",
    "            inputs, targets = torch.from_numpy(x), torch.from_numpy(y)\n",
    "            \n",
    "            if(train_on_gpu):\n",
    "                inputs, targets = inputs.cuda(), targets.cuda()\n",
    "\n",
    "            # Creating new variables for the hidden state, otherwise\n",
    "            # we'd backprop through the entire training history\n",
    "            h = tuple([each.data for each in h])\n",
    "\n",
    "            # zero accumulated gradients\n",
    "            net.zero_grad()\n",
    "            \n",
    "            # get the output from the model\n",
    "            output, h = net(inputs, h)\n",
    "            \n",
    "            # calculate the loss and perform backprop\n",
    "            loss = criterion(output, targets.view(batch_size*seq_length).long())\n",
    "            loss.backward()\n",
    "            # `clip_grad_norm` helps prevent the exploding gradient problem in RNNs / LSTMs.\n",
    "            nn.utils.clip_grad_norm_(net.parameters(), clip)\n",
    "            opt.step()\n",
    "            \n",
    "            # loss stats\n",
    "            if counter % print_every == 0:\n",
    "                # Get validation loss\n",
    "                val_h = net.init_hidden(batch_size)\n",
    "                val_losses = []\n",
    "                net.eval()\n",
    "                for x, y in get_batches(val_data, batch_size, seq_length):\n",
    "                    # One-hot encode our data and make them Torch tensors\n",
    "                    x = one_hot_encode(x, n_chars)\n",
    "                    x, y = torch.from_numpy(x), torch.from_numpy(y)\n",
    "                    \n",
    "                    # Creating new variables for the hidden state, otherwise\n",
    "                    # we'd backprop through the entire training history\n",
    "                    val_h = tuple([each.data for each in val_h])\n",
    "                    \n",
    "                    inputs, targets = x, y\n",
    "                    if(train_on_gpu):\n",
    "                        inputs, targets = inputs.cuda(), targets.cuda()\n",
    "\n",
    "                    output, val_h = net(inputs, val_h)\n",
    "                    val_loss = criterion(output, targets.view(batch_size*seq_length).long())\n",
    "                \n",
    "                    val_losses.append(val_loss.item())\n",
    "                \n",
    "                net.train() # reset to train mode after iterationg through validation data\n",
    "                \n",
    "                print(\"Epoch: {}/{}...\".format(e+1, epochs),\n",
    "                      \"Step: {}...\".format(counter),\n",
    "                      \"Loss: {:.4f}...\".format(loss.item()),\n",
    "                      \"Val Loss: {:.4f}\".format(np.mean(val_losses)))"
   ]
  },
  {
   "cell_type": "markdown",
   "metadata": {},
   "source": [
    "## Instantiating the model\n",
    "\n",
    "Now we can actually train the network. First we'll create the network itself, with some given hyperparameters. Then, define the mini-batches sizes, and start training!"
   ]
  },
  {
   "cell_type": "code",
   "execution_count": null,
   "metadata": {
    "collapsed": true
   },
   "outputs": [],
   "source": [
    "## TODO: set your model hyperparameters\n",
    "# define and print the net\n",
    "n_hidden=\n",
    "n_layers=\n",
    "\n",
    "net = CharRNN(chars, n_hidden, n_layers)\n",
    "print(net)"
   ]
  },
  {
   "cell_type": "markdown",
   "metadata": {},
   "source": [
    "### Set your training hyperparameters!"
   ]
  },
  {
   "cell_type": "code",
   "execution_count": null,
   "metadata": {
    "collapsed": true,
    "scrolled": true
   },
   "outputs": [],
   "source": [
    "batch_size = \n",
    "seq_length = \n",
    "n_epochs =  # start small if you are just testing initial behavior\n",
    "\n",
    "# train the model\n",
    "train(net, encoded, epochs=n_epochs, batch_size=batch_size, seq_length=seq_length, lr=0.001, print_every=10)"
   ]
  },
  {
   "cell_type": "markdown",
   "metadata": {},
   "source": [
    "## Getting the best model\n",
    "\n",
    "To set your hyperparameters to get the best performance, you'll want to watch the training and validation losses. If your training loss is much lower than the validation loss, you're overfitting. Increase regularization (more dropout) or use a smaller network. If the training and validation losses are close, you're underfitting so you can increase the size of the network."
   ]
  },
  {
   "cell_type": "markdown",
   "metadata": {},
   "source": [
    "## Hyperparameters\n",
    "\n",
    "Here are the hyperparameters for the network.\n",
    "\n",
    "In defining the model:\n",
    "* `n_hidden` - The number of units in the hidden layers.\n",
    "* `n_layers` - Number of hidden LSTM layers to use.\n",
    "\n",
    "We assume that dropout probability and learning rate will be kept at the default, in this example.\n",
    "\n",
    "And in training:\n",
    "* `batch_size` - Number of sequences running through the network in one pass.\n",
    "* `seq_length` - Number of characters in the sequence the network is trained on. Larger is better typically, the network will learn more long range dependencies. But it takes longer to train. 100 is typically a good number here.\n",
    "* `lr` - Learning rate for training\n",
    "\n",
    "Here's some good advice from Andrej Karpathy on training the network. I'm going to copy it in here for your benefit, but also link to [where it originally came from](https://github.com/karpathy/char-rnn#tips-and-tricks).\n",
    "\n",
    "> ## Tips and Tricks\n",
    "\n",
    ">### Monitoring Validation Loss vs. Training Loss\n",
    ">If you're somewhat new to Machine Learning or Neural Networks it can take a bit of expertise to get good models. The most important quantity to keep track of is the difference between your training loss (printed during training) and the validation loss (printed once in a while when the RNN is run on the validation data (by default every 1000 iterations)). In particular:\n",
    "\n",
    "> - If your training loss is much lower than validation loss then this means the network might be **overfitting**. Solutions to this are to decrease your network size, or to increase dropout. For example you could try dropout of 0.5 and so on.\n",
    "> - If your training/validation loss are about equal then your model is **underfitting**. Increase the size of your model (either number of layers or the raw number of neurons per layer)\n",
    "\n",
    "> ### Approximate number of parameters\n",
    "\n",
    "> The two most important parameters that control the model are `n_hidden` and `n_layers`. I would advise that you always use `n_layers` of either 2/3. The `n_hidden` can be adjusted based on how much data you have. The two important quantities to keep track of here are:\n",
    "\n",
    "> - The number of parameters in your model. This is printed when you start training.\n",
    "> - The size of your dataset. 1MB file is approximately 1 million characters.\n",
    "\n",
    ">These two should be about the same order of magnitude. It's a little tricky to tell. Here are some examples:\n",
    "\n",
    "> - I have a 100MB dataset and I'm using the default parameter settings (which currently print 150K parameters). My data size is significantly larger (100 mil >> 0.15 mil), so I expect to heavily underfit. I am thinking I can comfortably afford to make `n_hidden` larger.\n",
    "> - I have a 10MB dataset and running a 10 million parameter model. I'm slightly nervous and I'm carefully monitoring my validation loss. If it's larger than my training loss then I may want to try to increase dropout a bit and see if that helps the validation loss.\n",
    "\n",
    "> ### Best models strategy\n",
    "\n",
    ">The winning strategy to obtaining very good models (if you have the compute time) is to always err on making the network larger (as large as you're willing to wait for it to compute) and then try different dropout values (between 0,1). Whatever model has the best validation performance (the loss, written in the checkpoint filename, low is good) is the one you should use in the end.\n",
    "\n",
    ">It is very common in deep learning to run many different models with many different hyperparameter settings, and in the end take whatever checkpoint gave the best validation performance.\n",
    "\n",
    ">By the way, the size of your training and validation splits are also parameters. Make sure you have a decent amount of data in your validation set or otherwise the validation performance will be noisy and not very informative."
   ]
  },
  {
   "cell_type": "markdown",
   "metadata": {},
   "source": [
    "## Checkpoint\n",
    "\n",
    "After training, we'll save the model so we can load it again later if we need too. Here I'm saving the parameters needed to create the same architecture, the hidden layer hyperparameters and the text characters."
   ]
  },
  {
   "cell_type": "code",
   "execution_count": null,
   "metadata": {
    "collapsed": true
   },
   "outputs": [],
   "source": [
    "# change the name, for saving multiple files\n",
    "model_name = 'rnn_x_epoch.net'\n",
    "\n",
    "checkpoint = {'n_hidden': net.n_hidden,\n",
    "              'n_layers': net.n_layers,\n",
    "              'state_dict': net.state_dict(),\n",
    "              'tokens': net.chars}\n",
    "\n",
    "with open(model_name, 'wb') as f:\n",
    "    torch.save(checkpoint, f)"
   ]
  },
  {
   "cell_type": "markdown",
   "metadata": {},
   "source": [
    "---\n",
    "## Making Predictions\n",
    "\n",
    "Now that the model is trained, we'll want to sample from it and make predictions about next characters! To sample, we pass in a character and have the network predict the next character. Then we take that character, pass it back in, and get another predicted character. Just keep doing this and you'll generate a bunch of text!\n",
    "\n",
    "### A note on the `predict`  function\n",
    "\n",
    "The output of our RNN is from a fully-connected layer and it outputs a **distribution of next-character scores**.\n",
    "\n",
    "> To actually get the next character, we apply a softmax function, which gives us a *probability* distribution that we can then sample to predict the next character.\n",
    "\n",
    "### Top K sampling\n",
    "\n",
    "Our predictions come from a categorical probability distribution over all the possible characters. We can make the sample text and make it more reasonable to handle (with less variables) by only considering some $K$ most probable characters. This will prevent the network from giving us completely absurd characters while allowing it to introduce some noise and randomness into the sampled text. Read more about [topk, here](https://pytorch.org/docs/stable/torch.html#torch.topk).\n"
   ]
  },
  {
   "cell_type": "code",
   "execution_count": null,
   "metadata": {
    "collapsed": true
   },
   "outputs": [],
   "source": [
    "def predict(net, char, h=None, top_k=None):\n",
    "        ''' Given a character, predict the next character.\n",
    "            Returns the predicted character and the hidden state.\n",
    "        '''\n",
    "        \n",
    "        # tensor inputs\n",
    "        x = np.array([[net.char2int[char]]])\n",
    "        x = one_hot_encode(x, len(net.chars))\n",
    "        inputs = torch.from_numpy(x)\n",
    "        \n",
    "        if(train_on_gpu):\n",
    "            inputs = inputs.cuda()\n",
    "        \n",
    "        # detach hidden state from history\n",
    "        h = tuple([each.data for each in h])\n",
    "        # get the output of the model\n",
    "        out, h = net(inputs, h)\n",
    "\n",
    "        # get the character probabilities\n",
    "        p = F.softmax(out, dim=1).data\n",
    "        if(train_on_gpu):\n",
    "            p = p.cpu() # move to cpu\n",
    "        \n",
    "        # get top characters\n",
    "        if top_k is None:\n",
    "            top_ch = np.arange(len(net.chars))\n",
    "        else:\n",
    "            p, top_ch = p.topk(top_k)\n",
    "            top_ch = top_ch.numpy().squeeze()\n",
    "        \n",
    "        # select the likely next character with some element of randomness\n",
    "        p = p.numpy().squeeze()\n",
    "        char = np.random.choice(top_ch, p=p/p.sum())\n",
    "        \n",
    "        # return the encoded value of the predicted char and the hidden state\n",
    "        return net.int2char[char], h"
   ]
  },
  {
   "cell_type": "markdown",
   "metadata": {},
   "source": [
    "### Priming and generating text \n",
    "\n",
    "Typically you'll want to prime the network so you can build up a hidden state. Otherwise the network will start out generating characters at random. In general the first bunch of characters will be a little rough since it hasn't built up a long history of characters to predict from."
   ]
  },
  {
   "cell_type": "code",
   "execution_count": null,
   "metadata": {
    "collapsed": true
   },
   "outputs": [],
   "source": [
    "def sample(net, size, prime='The', top_k=None):\n",
    "        \n",
    "    if(train_on_gpu):\n",
    "        net.cuda()\n",
    "    else:\n",
    "        net.cpu()\n",
    "    \n",
    "    net.eval() # eval mode\n",
    "    \n",
    "    # First off, run through the prime characters\n",
    "    chars = [ch for ch in prime]\n",
    "    h = net.init_hidden(1)\n",
    "    for ch in prime:\n",
    "        char, h = predict(net, ch, h, top_k=top_k)\n",
    "\n",
    "    chars.append(char)\n",
    "    \n",
    "    # Now pass in the previous character and get a new one\n",
    "    for ii in range(size):\n",
    "        char, h = predict(net, chars[-1], h, top_k=top_k)\n",
    "        chars.append(char)\n",
    "\n",
    "    return ''.join(chars)"
   ]
  },
  {
   "cell_type": "code",
   "execution_count": null,
   "metadata": {
    "collapsed": true
   },
   "outputs": [],
   "source": [
    "print(sample(net, 1000, prime='Anna', top_k=5))"
   ]
  },
  {
   "cell_type": "markdown",
   "metadata": {},
   "source": [
    "## Loading a checkpoint"
   ]
  },
  {
   "cell_type": "code",
   "execution_count": null,
   "metadata": {
    "collapsed": true
   },
   "outputs": [],
   "source": [
    "# Here we have loaded in a model that trained over 20 epochs `rnn_20_epoch.net`\n",
    "with open('rnn_x_epoch.net', 'rb') as f:\n",
    "    checkpoint = torch.load(f)\n",
    "    \n",
    "loaded = CharRNN(checkpoint['tokens'], n_hidden=checkpoint['n_hidden'], n_layers=checkpoint['n_layers'])\n",
    "loaded.load_state_dict(checkpoint['state_dict'])"
   ]
  },
  {
   "cell_type": "code",
   "execution_count": null,
   "metadata": {
    "collapsed": true
   },
   "outputs": [],
   "source": [
    "# Sample using a loaded model\n",
    "print(sample(loaded, 2000, top_k=5, prime=\"And Levin said\"))"
   ]
  },
  {
   "cell_type": "code",
   "execution_count": null,
   "metadata": {
    "collapsed": true
   },
   "outputs": [],
   "source": []
  }
 ],
 "metadata": {
  "kernelspec": {
   "display_name": "Python 3",
   "language": "python",
   "name": "python3"
  },
  "language_info": {
   "codemirror_mode": {
    "name": "ipython",
    "version": 3
   },
   "file_extension": ".py",
   "mimetype": "text/x-python",
   "name": "python",
   "nbconvert_exporter": "python",
   "pygments_lexer": "ipython3",
   "version": "3.7.4"
  }
 },
 "nbformat": 4,
 "nbformat_minor": 2
}
=======
  "cells": [
    {
      "cell_type": "markdown",
      "metadata": {
        "id": "view-in-github",
        "colab_type": "text"
      },
      "source": [
        "<a href=\"https://colab.research.google.com/github/sumanyurosha/deep-learning-v2-pytorch/blob/master/recurrent-neural-networks/char-rnn/Character_Level_RNN_Exercise.ipynb\" target=\"_parent\"><img src=\"https://colab.research.google.com/assets/colab-badge.svg\" alt=\"Open In Colab\"/></a>"
      ]
    },
    {
      "cell_type": "markdown",
      "metadata": {
        "id": "l_mk3vPc-LkF",
        "colab_type": "text"
      },
      "source": [
        "# Character-Level LSTM in PyTorch\n",
        "\n",
        "In this notebook, I'll construct a character-level LSTM with PyTorch. The network will train character by character on some text, then generate new text character by character. As an example, I will train on Anna Karenina. **This model will be able to generate new text based on the text from the book!**\n",
        "\n",
        "This network is based off of Andrej Karpathy's [post on RNNs](http://karpathy.github.io/2015/05/21/rnn-effectiveness/) and [implementation in Torch](https://github.com/karpathy/char-rnn). Below is the general architecture of the character-wise RNN.\n",
        "\n",
        "<img src=\"https://github.com/sumanyurosha/deep-learning-v2-pytorch/blob/master/recurrent-neural-networks/char-rnn/assets/charseq.jpeg?raw=1\" width=\"500\">"
      ]
    },
    {
      "cell_type": "markdown",
      "metadata": {
        "id": "ZVP1KVMG-LkW",
        "colab_type": "text"
      },
      "source": [
        "First let's load in our required resources for data loading and model creation."
      ]
    },
    {
      "cell_type": "code",
      "metadata": {
        "id": "--645sS2-Lkc",
        "colab_type": "code",
        "colab": {}
      },
      "source": [
        "import numpy as np\n",
        "import torch\n",
        "from torch import nn\n",
        "import torch.nn.functional as F"
      ],
      "execution_count": 0,
      "outputs": []
    },
    {
      "cell_type": "markdown",
      "metadata": {
        "id": "d1lRoGdY-Lk4",
        "colab_type": "text"
      },
      "source": [
        "## Load in Data\n",
        "\n",
        "Then, we'll load the Anna Karenina text file and convert it into integers for our network to use. "
      ]
    },
    {
      "cell_type": "code",
      "metadata": {
        "id": "KXcG998X-Lk9",
        "colab_type": "code",
        "colab": {}
      },
      "source": [
        "# open text file and read in data as `text`\n",
        "with open('anna.txt', 'r') as f:\n",
        "    text = f.read()"
      ],
      "execution_count": 0,
      "outputs": []
    },
    {
      "cell_type": "markdown",
      "metadata": {
        "id": "N_I-KLby-LlP",
        "colab_type": "text"
      },
      "source": [
        "Let's check out the first 100 characters, make sure everything is peachy. According to the [American Book Review](http://americanbookreview.org/100bestlines.asp), this is the 6th best first line of a book ever."
      ]
    },
    {
      "cell_type": "code",
      "metadata": {
        "id": "f9GZhMeO-LlY",
        "colab_type": "code",
        "colab": {
          "base_uri": "https://localhost:8080/",
          "height": 34
        },
        "outputId": "6b0f2174-6cb3-4103-e392-f8f8c869af2f"
      },
      "source": [
        "text[:100]"
      ],
      "execution_count": 3,
      "outputs": [
        {
          "output_type": "execute_result",
          "data": {
            "text/plain": [
              "'Chapter 1\\n\\n\\nHappy families are all alike; every unhappy family is unhappy in its own\\nway.\\n\\nEverythin'"
            ]
          },
          "metadata": {
            "tags": []
          },
          "execution_count": 3
        }
      ]
    },
    {
      "cell_type": "markdown",
      "metadata": {
        "id": "rtkvlzH8-Llu",
        "colab_type": "text"
      },
      "source": [
        "### Tokenization\n",
        "\n",
        "In the cells, below, I'm creating a couple **dictionaries** to convert the characters to and from integers. Encoding the characters as integers makes it easier to use as input in the network."
      ]
    },
    {
      "cell_type": "code",
      "metadata": {
        "id": "YsH9SaV1-Ll1",
        "colab_type": "code",
        "colab": {}
      },
      "source": [
        "# encode the text and map each character to an integer and vice versa\n",
        "\n",
        "# we create two dictionaries:\n",
        "# 1. int2char, which maps integers to characters\n",
        "# 2. char2int, which maps characters to unique integers\n",
        "chars = tuple(set(text))\n",
        "int2char = dict(enumerate(chars))\n",
        "char2int = {ch: ii for ii, ch in int2char.items()}\n",
        "\n",
        "# encode the text\n",
        "encoded = np.array([char2int[ch] for ch in text])"
      ],
      "execution_count": 0,
      "outputs": []
    },
    {
      "cell_type": "markdown",
      "metadata": {
        "id": "hGJ6Lane-LmI",
        "colab_type": "text"
      },
      "source": [
        "And we can see those same characters from above, encoded as integers."
      ]
    },
    {
      "cell_type": "code",
      "metadata": {
        "id": "cyVY9NmZ-LmN",
        "colab_type": "code",
        "colab": {
          "base_uri": "https://localhost:8080/",
          "height": 119
        },
        "outputId": "e89ab944-58b2-4cc2-dbae-4ae75897330c"
      },
      "source": [
        "encoded[:100]"
      ],
      "execution_count": 5,
      "outputs": [
        {
          "output_type": "execute_result",
          "data": {
            "text/plain": [
              "array([12, 78, 48, 67, 28, 27,  6,  0,  1,  5,  5,  5, 77, 48, 67, 67, 61,\n",
              "        0, 42, 48, 68, 19, 39, 19, 27, 53,  0, 48,  6, 27,  0, 48, 39, 39,\n",
              "        0, 48, 39, 19, 33, 27, 16,  0, 27, 43, 27,  6, 61,  0, 58, 20, 78,\n",
              "       48, 67, 67, 61,  0, 42, 48, 68, 19, 39, 61,  0, 19, 53,  0, 58, 20,\n",
              "       78, 48, 67, 67, 61,  0, 19, 20,  0, 19, 28, 53,  0,  4, 34, 20,  5,\n",
              "       34, 48, 61,  3,  5,  5,  7, 43, 27,  6, 61, 28, 78, 19, 20])"
            ]
          },
          "metadata": {
            "tags": []
          },
          "execution_count": 5
        }
      ]
    },
    {
      "cell_type": "markdown",
      "metadata": {
        "id": "PyO5KSLB-Lmj",
        "colab_type": "text"
      },
      "source": [
        "## Pre-processing the data\n",
        "\n",
        "As you can see in our char-RNN image above, our LSTM expects an input that is **one-hot encoded** meaning that each character is converted into an integer (via our created dictionary) and *then* converted into a column vector where only it's corresponding integer index will have the value of 1 and the rest of the vector will be filled with 0's. Since we're one-hot encoding the data, let's make a function to do that!\n"
      ]
    },
    {
      "cell_type": "code",
      "metadata": {
        "id": "IdmgIfDO-Lmr",
        "colab_type": "code",
        "colab": {}
      },
      "source": [
        "def one_hot_encode(arr, n_labels):\n",
        "    \n",
        "    # Initialize the the encoded array\n",
        "    one_hot = np.zeros((arr.size, n_labels), dtype=np.float32)\n",
        "\n",
        "    # print(one_hot)\n",
        "\n",
        "    # print(np.arange(one_hot.shape[0]))\n",
        "\n",
        "    # print(arr.flatten())\n",
        "\n",
        "    # Fill the appropriate elements with ones\n",
        "    one_hot[np.arange(one_hot.shape[0]), arr.flatten()] = 1.\n",
        "\n",
        "    # print(one_hot)\n",
        "    \n",
        "    # Finally reshape it to get back to the original array\n",
        "    one_hot = one_hot.reshape((*arr.shape, n_labels))\n",
        "    \n",
        "    return one_hot"
      ],
      "execution_count": 0,
      "outputs": []
    },
    {
      "cell_type": "code",
      "metadata": {
        "id": "q3R3mVfw-Lm9",
        "colab_type": "code",
        "colab": {
          "base_uri": "https://localhost:8080/",
          "height": 68
        },
        "outputId": "dfa6f3f3-f73e-4b54-80a4-83e06c8b6ef3"
      },
      "source": [
        "# check that the function works as expected\n",
        "test_seq = np.array([[3, 5, 1]])\n",
        "one_hot = one_hot_encode(test_seq, 8)\n",
        "\n",
        "print(one_hot)"
      ],
      "execution_count": 8,
      "outputs": [
        {
          "output_type": "stream",
          "text": [
            "[[[0. 0. 0. 1. 0. 0. 0. 0.]\n",
            "  [0. 0. 0. 0. 0. 1. 0. 0.]\n",
            "  [0. 1. 0. 0. 0. 0. 0. 0.]]]\n"
          ],
          "name": "stdout"
        }
      ]
    },
    {
      "cell_type": "markdown",
      "metadata": {
        "id": "sFZQdDJk-LnN",
        "colab_type": "text"
      },
      "source": [
        "## Making training mini-batches\n",
        "\n",
        "\n",
        "To train on this data, we also want to create mini-batches for training. Remember that we want our batches to be multiple sequences of some desired number of sequence steps. Considering a simple example, our batches would look like this:\n",
        "\n",
        "<img src=\"https://github.com/sumanyurosha/deep-learning-v2-pytorch/blob/master/recurrent-neural-networks/char-rnn/assets/sequence_batching@1x.png?raw=1\" width=500px>\n",
        "\n",
        "\n",
        "<br>\n",
        "\n",
        "In this example, we'll take the encoded characters (passed in as the `arr` parameter) and split them into multiple sequences, given by `batch_size`. Each of our sequences will be `seq_length` long.\n",
        "\n",
        "### Creating Batches\n",
        "\n",
        "**1. The first thing we need to do is discard some of the text so we only have completely full mini-batches. **\n",
        "\n",
        "Each batch contains $N \\times M$ characters, where $N$ is the batch size (the number of sequences in a batch) and $M$ is the seq_length or number of time steps in a sequence. Then, to get the total number of batches, $K$, that we can make from the array `arr`, you divide the length of `arr` by the number of characters per batch. Once you know the number of batches, you can get the total number of characters to keep from `arr`, $N * M * K$.\n",
        "\n",
        "**2. After that, we need to split `arr` into $N$ batches. ** \n",
        "\n",
        "You can do this using `arr.reshape(size)` where `size` is a tuple containing the dimensions sizes of the reshaped array. We know we want $N$ sequences in a batch, so let's make that the size of the first dimension. For the second dimension, you can use `-1` as a placeholder in the size, it'll fill up the array with the appropriate data for you. After this, you should have an array that is $N \\times (M * K)$.\n",
        "\n",
        "**3. Now that we have this array, we can iterate through it to get our mini-batches. **\n",
        "\n",
        "The idea is each batch is a $N \\times M$ window on the $N \\times (M * K)$ array. For each subsequent batch, the window moves over by `seq_length`. We also want to create both the input and target arrays. Remember that the targets are just the inputs shifted over by one character. The way I like to do this window is use `range` to take steps of size `n_steps` from $0$ to `arr.shape[1]`, the total number of tokens in each sequence. That way, the integers you get from `range` always point to the start of a batch, and each window is `seq_length` wide.\n",
        "\n",
        "> **TODO:** Write the code for creating batches in the function below. The exercises in this notebook _will not be easy_. I've provided a notebook with solutions alongside this notebook. If you get stuck, checkout the solutions. The most important thing is that you don't copy and paste the code into here, **type out the solution code yourself.**"
      ]
    },
    {
      "cell_type": "code",
      "metadata": {
        "id": "zqAzr-uZ-LnR",
        "colab_type": "code",
        "colab": {}
      },
      "source": [
        "def get_batches(arr, batch_size, seq_length):\n",
        "    '''Create a generator that returns batches of size\n",
        "       batch_size x seq_length from arr.\n",
        "       \n",
        "       Arguments\n",
        "       ---------\n",
        "       arr: Array you want to make batches from\n",
        "       batch_size: Batch size, the number of sequences per batch\n",
        "       seq_length: Number of encoded chars in a sequence\n",
        "    '''\n",
        "    \n",
        "    ## TODO: Get the number of batches we can make\n",
        "    n_batches = len(arr) // (batch_size * seq_length) \n",
        "    \n",
        "    ## TODO: Keep only enough characters to make full batches\n",
        "    arr = arr[ : n_batches * batch_size * seq_length]\n",
        "    \n",
        "    ## TODO: Reshape into batch_size rows\n",
        "    arr = arr.reshape(batch_size, -1)\n",
        "    \n",
        "    ## TODO: Iterate over the batches using a window of size seq_length\n",
        "    for n in range(0, arr.shape[1], seq_length):\n",
        "        # The features\n",
        "        x = arr[ : , n : n + seq_length]\n",
        "        # The targets, shifted by one\n",
        "        y = np.zeros_like(x)\n",
        "        try:\n",
        "            y[:, :-1], y[:, -1] = x[:, 1:], arr[:, n+seq_length]\n",
        "        except IndexError:\n",
        "            y[:, :-1], y[:, -1] = x[:, 1:], arr[:, 0]\n",
        "        yield x, y"
      ],
      "execution_count": 0,
      "outputs": []
    },
    {
      "cell_type": "markdown",
      "metadata": {
        "id": "0PuUKeVH-Lnh",
        "colab_type": "text"
      },
      "source": [
        "### Test Your Implementation\n",
        "\n",
        "Now I'll make some data sets and we can check out what's going on as we batch data. Here, as an example, I'm going to use a batch size of 8 and 50 sequence steps."
      ]
    },
    {
      "cell_type": "code",
      "metadata": {
        "id": "wbQElrwS-Lnn",
        "colab_type": "code",
        "colab": {}
      },
      "source": [
        "batches = get_batches(encoded, 8, 50)\n",
        "x, y = next(batches)"
      ],
      "execution_count": 0,
      "outputs": []
    },
    {
      "cell_type": "code",
      "metadata": {
        "id": "Qb8Qye1f-Ln1",
        "colab_type": "code",
        "colab": {
          "base_uri": "https://localhost:8080/",
          "height": 340
        },
        "outputId": "90c03f18-a2f6-4e3a-c3e0-c6525e64054d"
      },
      "source": [
        "# printing out the first 10 items in a sequence\n",
        "print('x\\n', x[:10, :10])\n",
        "print('\\ny\\n', y[:10, :10])"
      ],
      "execution_count": 36,
      "outputs": [
        {
          "output_type": "stream",
          "text": [
            "x\n",
            " [[12 78 48 67 28 27  6  0  1  5]\n",
            " [53  4 20  0 28 78 48 28  0 48]\n",
            " [27 20 81  0  4  6  0 48  0 42]\n",
            " [53  0 28 78 27  0 30 78 19 27]\n",
            " [ 0 53 48 34  0 78 27  6  0 28]\n",
            " [30 58 53 53 19  4 20  0 48 20]\n",
            " [ 0 17 20 20 48  0 78 48 81  0]\n",
            " [62 14 39  4 20 53 33 61  3  0]]\n",
            "\n",
            "y\n",
            " [[78 48 67 28 27  6  0  1  5  5]\n",
            " [ 4 20  0 28 78 48 28  0 48 28]\n",
            " [20 81  0  4  6  0 48  0 42  4]\n",
            " [ 0 28 78 27  0 30 78 19 27 42]\n",
            " [53 48 34  0 78 27  6  0 28 27]\n",
            " [58 53 53 19  4 20  0 48 20 81]\n",
            " [17 20 20 48  0 78 48 81  0 53]\n",
            " [14 39  4 20 53 33 61  3  0 35]]\n"
          ],
          "name": "stdout"
        }
      ]
    },
    {
      "cell_type": "markdown",
      "metadata": {
        "id": "CfpoeVM3-LoC",
        "colab_type": "text"
      },
      "source": [
        "If you implemented `get_batches` correctly, the above output should look something like \n",
        "```\n",
        "x\n",
        " [[25  8 60 11 45 27 28 73  1  2]\n",
        " [17  7 20 73 45  8 60 45 73 60]\n",
        " [27 20 80 73  7 28 73 60 73 65]\n",
        " [17 73 45  8 27 73 66  8 46 27]\n",
        " [73 17 60 12 73  8 27 28 73 45]\n",
        " [66 64 17 17 46  7 20 73 60 20]\n",
        " [73 76 20 20 60 73  8 60 80 73]\n",
        " [47 35 43  7 20 17 24 50 37 73]]\n",
        "\n",
        "y\n",
        " [[ 8 60 11 45 27 28 73  1  2  2]\n",
        " [ 7 20 73 45  8 60 45 73 60 45]\n",
        " [20 80 73  7 28 73 60 73 65  7]\n",
        " [73 45  8 27 73 66  8 46 27 65]\n",
        " [17 60 12 73  8 27 28 73 45 27]\n",
        " [64 17 17 46  7 20 73 60 20 80]\n",
        " [76 20 20 60 73  8 60 80 73 17]\n",
        " [35 43  7 20 17 24 50 37 73 36]]\n",
        " ```\n",
        " although the exact numbers may be different. Check to make sure the data is shifted over one step for `y`."
      ]
    },
    {
      "cell_type": "markdown",
      "metadata": {
        "id": "-SLV_ve--LoH",
        "colab_type": "text"
      },
      "source": [
        "---\n",
        "## Defining the network with PyTorch\n",
        "\n",
        "Below is where you'll define the network.\n",
        "\n",
        "<img src=\"https://github.com/sumanyurosha/deep-learning-v2-pytorch/blob/master/recurrent-neural-networks/char-rnn/assets/charRNN.png?raw=1\" width=500px>\n",
        "\n",
        "Next, you'll use PyTorch to define the architecture of the network. We start by defining the layers and operations we want. Then, define a method for the forward pass. You've also been given a method for predicting characters."
      ]
    },
    {
      "cell_type": "markdown",
      "metadata": {
        "id": "58dayLZV-LoM",
        "colab_type": "text"
      },
      "source": [
        "### Model Structure\n",
        "\n",
        "In `__init__` the suggested structure is as follows:\n",
        "* Create and store the necessary dictionaries (this has been done for you)\n",
        "* Define an LSTM layer that takes as params: an input size (the number of characters), a hidden layer size `n_hidden`, a number of layers `n_layers`, a dropout probability `drop_prob`, and a batch_first boolean (True, since we are batching)\n",
        "* Define a dropout layer with `drop_prob`\n",
        "* Define a fully-connected layer with params: input size `n_hidden` and output size (the number of characters)\n",
        "* Finally, initialize the weights (again, this has been given)\n",
        "\n",
        "Note that some parameters have been named and given in the `__init__` function, and we use them and store them by doing something like `self.drop_prob = drop_prob`."
      ]
    },
    {
      "cell_type": "markdown",
      "metadata": {
        "id": "3Os2cxmA-LoQ",
        "colab_type": "text"
      },
      "source": [
        "---\n",
        "### LSTM Inputs/Outputs\n",
        "\n",
        "You can create a basic [LSTM layer](https://pytorch.org/docs/stable/nn.html#lstm) as follows\n",
        "\n",
        "```python\n",
        "self.lstm = nn.LSTM(input_size, n_hidden, n_layers, \n",
        "                            dropout=drop_prob, batch_first=True)\n",
        "```\n",
        "\n",
        "where `input_size` is the number of characters this cell expects to see as sequential input, and `n_hidden` is the number of units in the hidden layers in the cell. And we can add dropout by adding a dropout parameter with a specified probability; this will automatically add dropout to the inputs or outputs. Finally, in the `forward` function, we can stack up the LSTM cells into layers using `.view`. With this, you pass in a list of cells and it will send the output of one cell into the next cell.\n",
        "\n",
        "We also need to create an initial hidden state of all zeros. This is done like so\n",
        "\n",
        "```python\n",
        "self.init_hidden()\n",
        "```"
      ]
    },
    {
      "cell_type": "code",
      "metadata": {
        "id": "hfLWVo4m-LoT",
        "colab_type": "code",
        "colab": {
          "base_uri": "https://localhost:8080/",
          "height": 34
        },
        "outputId": "ad35b6a4-9761-4ccf-9528-dfa9004b5e41"
      },
      "source": [
        "# check if GPU is available\n",
        "train_on_gpu = torch.cuda.is_available()\n",
        "if(train_on_gpu):\n",
        "    print('Training on GPU!')\n",
        "else: \n",
        "    print('No GPU available, training on CPU; consider making n_epochs very small.')"
      ],
      "execution_count": 37,
      "outputs": [
        {
          "output_type": "stream",
          "text": [
            "Training on GPU!\n"
          ],
          "name": "stdout"
        }
      ]
    },
    {
      "cell_type": "code",
      "metadata": {
        "id": "hz-mqzeq-Log",
        "colab_type": "code",
        "colab": {}
      },
      "source": [
        "class CharRNN(nn.Module):\n",
        "    \n",
        "    def __init__(self, tokens, n_hidden=256, n_layers=2,\n",
        "                               drop_prob=0.5, lr=0.001):\n",
        "        super().__init__()\n",
        "        self.drop_prob = drop_prob\n",
        "        self.n_layers = n_layers\n",
        "        self.n_hidden = n_hidden\n",
        "        self.lr = lr\n",
        "        \n",
        "        # creating character dictionaries\n",
        "        self.chars = tokens\n",
        "        self.int2char = dict(enumerate(self.chars))\n",
        "        self.char2int = {ch: ii for ii, ch in self.int2char.items()}\n",
        "\n",
        "        # defining input & output size of network\n",
        "        self.input_size = len(self.chars)\n",
        "        self.output_size = self.input_size\n",
        "        \n",
        "        ## TODO: define the layers of the model\n",
        "        self.lstm = nn.LSTM(self.input_size, self.n_hidden, self.n_layers, dropout=self.drop_prob, batch_first=True)\n",
        "        self.drop_out = nn.Dropout(p=drop_prob)\n",
        "        self.fc = nn.Linear(self.n_hidden, self.output_size)\n",
        "\n",
        "\n",
        "      \n",
        "    \n",
        "    def forward(self, x, hidden):\n",
        "        ''' Forward pass through the network. \n",
        "            These inputs are x, and the hidden/cell state `hidden`. '''\n",
        "                \n",
        "        ## TODO: Get the outputs and the new hidden state from the lstm\n",
        "        out, hidden = self.lstm(x, hidden)\n",
        "\n",
        "        # passing through a drop out layer\n",
        "        out = self.drop_out(out)\n",
        "\n",
        "        # flattening the input\n",
        "        out = out.contiguous().view(-1, self.n_hidden)\n",
        "\n",
        "        # passing through the fully connected layer\n",
        "        out = self.fc(out)\n",
        "        \n",
        "        # return the final output and the hidden state\n",
        "        return out, hidden\n",
        "    \n",
        "    \n",
        "    def init_hidden(self, batch_size):\n",
        "        ''' Initializes hidden state '''\n",
        "        # Create two new tensors with sizes n_layers x batch_size x n_hidden,\n",
        "        # initialized to zero, for hidden state and cell state of LSTM\n",
        "        weight = next(self.parameters()).data\n",
        "        \n",
        "        if (train_on_gpu):\n",
        "            hidden = (weight.new(self.n_layers, batch_size, self.n_hidden).zero_().cuda(),\n",
        "                  weight.new(self.n_layers, batch_size, self.n_hidden).zero_().cuda())\n",
        "        else:\n",
        "            hidden = (weight.new(self.n_layers, batch_size, self.n_hidden).zero_(),\n",
        "                      weight.new(self.n_layers, batch_size, self.n_hidden).zero_())\n",
        "        \n",
        "        return hidden\n",
        "        "
      ],
      "execution_count": 0,
      "outputs": []
    },
    {
      "cell_type": "markdown",
      "metadata": {
        "id": "3NqD_Wyy-Los",
        "colab_type": "text"
      },
      "source": [
        "## Time to train\n",
        "\n",
        "The train function gives us the ability to set the number of epochs, the learning rate, and other parameters.\n",
        "\n",
        "Below we're using an Adam optimizer and cross entropy loss since we are looking at character class scores as output. We calculate the loss and perform backpropagation, as usual!\n",
        "\n",
        "A couple of details about training: \n",
        ">* Within the batch loop, we detach the hidden state from its history; this time setting it equal to a new *tuple* variable because an LSTM has a hidden state that is a tuple of the hidden and cell states.\n",
        "* We use [`clip_grad_norm_`](https://pytorch.org/docs/stable/_modules/torch/nn/utils/clip_grad.html) to help prevent exploding gradients."
      ]
    },
    {
      "cell_type": "code",
      "metadata": {
        "id": "iALPvKDN-Low",
        "colab_type": "code",
        "colab": {}
      },
      "source": [
        "def train(net, data, epochs=10, batch_size=10, seq_length=50, lr=0.001, clip=5, val_frac=0.1, print_every=10):\n",
        "    ''' Training a network \n",
        "    \n",
        "        Arguments\n",
        "        ---------\n",
        "        \n",
        "        net: CharRNN network\n",
        "        data: text data to train the network\n",
        "        epochs: Number of epochs to train\n",
        "        batch_size: Number of mini-sequences per mini-batch, aka batch size\n",
        "        seq_length: Number of character steps per mini-batch\n",
        "        lr: learning rate\n",
        "        clip: gradient clipping\n",
        "        val_frac: Fraction of data to hold out for validation\n",
        "        print_every: Number of steps for printing training and validation loss\n",
        "    \n",
        "    '''\n",
        "    net.train()\n",
        "    \n",
        "    opt = torch.optim.Adam(net.parameters(), lr=lr)\n",
        "    criterion = nn.CrossEntropyLoss()\n",
        "    \n",
        "    # create training and validation data\n",
        "    val_idx = int(len(data)*(1-val_frac))\n",
        "    data, val_data = data[:val_idx], data[val_idx:]\n",
        "    \n",
        "    if(train_on_gpu):\n",
        "        net.cuda()\n",
        "    \n",
        "    counter = 0\n",
        "    n_chars = len(net.chars)\n",
        "    for e in range(epochs):\n",
        "        # initialize hidden state\n",
        "        h = net.init_hidden(batch_size)\n",
        "        \n",
        "        for x, y in get_batches(data, batch_size, seq_length):\n",
        "            counter += 1\n",
        "            \n",
        "            # One-hot encode our data and make them Torch tensors\n",
        "            x = one_hot_encode(x, n_chars)\n",
        "            inputs, targets = torch.from_numpy(x), torch.from_numpy(y)\n",
        "            \n",
        "            if(train_on_gpu):\n",
        "                inputs, targets = inputs.cuda(), targets.cuda()\n",
        "\n",
        "            # Creating new variables for the hidden state, otherwise\n",
        "            # we'd backprop through the entire training history\n",
        "            h = tuple([each.data for each in h])\n",
        "\n",
        "            # zero accumulated gradients\n",
        "            net.zero_grad()\n",
        "            \n",
        "            # get the output from the model\n",
        "            output, h = net(inputs, h)\n",
        "            \n",
        "            # calculate the loss and perform backprop\n",
        "            loss = criterion(output, targets.view(batch_size*seq_length).long())\n",
        "            loss.backward()\n",
        "            # `clip_grad_norm` helps prevent the exploding gradient problem in RNNs / LSTMs.\n",
        "            nn.utils.clip_grad_norm_(net.parameters(), clip)\n",
        "            opt.step()\n",
        "            \n",
        "            # loss stats\n",
        "            if counter % print_every == 0:\n",
        "                # Get validation loss\n",
        "                val_h = net.init_hidden(batch_size)\n",
        "                val_losses = []\n",
        "                net.eval()\n",
        "                for x, y in get_batches(val_data, batch_size, seq_length):\n",
        "                    # One-hot encode our data and make them Torch tensors\n",
        "                    x = one_hot_encode(x, n_chars)\n",
        "                    x, y = torch.from_numpy(x), torch.from_numpy(y)\n",
        "                    \n",
        "                    # Creating new variables for the hidden state, otherwise\n",
        "                    # we'd backprop through the entire training history\n",
        "                    val_h = tuple([each.data for each in val_h])\n",
        "                    \n",
        "                    inputs, targets = x, y\n",
        "                    if(train_on_gpu):\n",
        "                        inputs, targets = inputs.cuda(), targets.cuda()\n",
        "\n",
        "                    output, val_h = net(inputs, val_h)\n",
        "                    val_loss = criterion(output, targets.view(batch_size*seq_length).long())\n",
        "                \n",
        "                    val_losses.append(val_loss.item())\n",
        "                \n",
        "                net.train() # reset to train mode after iterationg through validation data\n",
        "                \n",
        "                print(\"Epoch: {}/{}...\".format(e+1, epochs),\n",
        "                      \"Step: {}...\".format(counter),\n",
        "                      \"Loss: {:.4f}...\".format(loss.item()),\n",
        "                      \"Val Loss: {:.4f}\".format(np.mean(val_losses)))"
      ],
      "execution_count": 0,
      "outputs": []
    },
    {
      "cell_type": "markdown",
      "metadata": {
        "id": "zVhFjnmt-Lo9",
        "colab_type": "text"
      },
      "source": [
        "## Instantiating the model\n",
        "\n",
        "Now we can actually train the network. First we'll create the network itself, with some given hyperparameters. Then, define the mini-batches sizes, and start training!"
      ]
    },
    {
      "cell_type": "code",
      "metadata": {
        "id": "YZ7PIhAQ-LpA",
        "colab_type": "code",
        "colab": {
          "base_uri": "https://localhost:8080/",
          "height": 102
        },
        "outputId": "3a17c6f0-7cd9-4bfb-8ba3-6ef1842cff43"
      },
      "source": [
        "## TODO: set your model hyperparameters\n",
        "# define and print the net\n",
        "n_hidden= 512\n",
        "n_layers= 2\n",
        "\n",
        "net = CharRNN(chars, n_hidden, n_layers)\n",
        "print(net)"
      ],
      "execution_count": 42,
      "outputs": [
        {
          "output_type": "stream",
          "text": [
            "CharRNN(\n",
            "  (lstm): LSTM(83, 512, num_layers=2, batch_first=True, dropout=0.5)\n",
            "  (drop_out): Dropout(p=0.5, inplace=False)\n",
            "  (fc): Linear(in_features=512, out_features=83, bias=True)\n",
            ")\n"
          ],
          "name": "stdout"
        }
      ]
    },
    {
      "cell_type": "markdown",
      "metadata": {
        "id": "Kz8ODWYW-LpO",
        "colab_type": "text"
      },
      "source": [
        "### Set your training hyperparameters!"
      ]
    },
    {
      "cell_type": "code",
      "metadata": {
        "scrolled": true,
        "id": "ZV2Nl48Z-LpR",
        "colab_type": "code",
        "colab": {
          "base_uri": "https://localhost:8080/",
          "height": 1000
        },
        "outputId": "868fe48f-931f-4dac-de14-635ab3d96f6c"
      },
      "source": [
        "batch_size = 128\n",
        "seq_length = 100\n",
        "n_epochs =  20 # start small if you are just testing initial behavior\n",
        "\n",
        "# train the model\n",
        "train(net, encoded, epochs=n_epochs, batch_size=batch_size, seq_length=seq_length, lr=0.001, print_every=10)"
      ],
      "execution_count": 43,
      "outputs": [
        {
          "output_type": "stream",
          "text": [
            "Epoch: 1/20... Step: 10... Loss: 3.2588... Val Loss: 3.2137\n",
            "Epoch: 1/20... Step: 20... Loss: 3.1520... Val Loss: 3.1410\n",
            "Epoch: 1/20... Step: 30... Loss: 3.1460... Val Loss: 3.1255\n",
            "Epoch: 1/20... Step: 40... Loss: 3.1158... Val Loss: 3.1191\n",
            "Epoch: 1/20... Step: 50... Loss: 3.1419... Val Loss: 3.1164\n",
            "Epoch: 1/20... Step: 60... Loss: 3.1125... Val Loss: 3.1126\n",
            "Epoch: 1/20... Step: 70... Loss: 3.1014... Val Loss: 3.1068\n",
            "Epoch: 1/20... Step: 80... Loss: 3.1112... Val Loss: 3.0979\n",
            "Epoch: 1/20... Step: 90... Loss: 3.0940... Val Loss: 3.0722\n",
            "Epoch: 1/20... Step: 100... Loss: 3.0291... Val Loss: 3.0117\n",
            "Epoch: 1/20... Step: 110... Loss: 2.9297... Val Loss: 2.9945\n",
            "Epoch: 1/20... Step: 120... Loss: 2.9059... Val Loss: 2.8898\n",
            "Epoch: 1/20... Step: 130... Loss: 2.7829... Val Loss: 2.7378\n",
            "Epoch: 2/20... Step: 140... Loss: 2.6990... Val Loss: 2.6526\n",
            "Epoch: 2/20... Step: 150... Loss: 2.6081... Val Loss: 2.5599\n",
            "Epoch: 2/20... Step: 160... Loss: 2.5481... Val Loss: 2.5079\n",
            "Epoch: 2/20... Step: 170... Loss: 2.4750... Val Loss: 2.4716\n",
            "Epoch: 2/20... Step: 180... Loss: 2.4523... Val Loss: 2.4385\n",
            "Epoch: 2/20... Step: 190... Loss: 2.4085... Val Loss: 2.4018\n",
            "Epoch: 2/20... Step: 200... Loss: 2.4085... Val Loss: 2.3841\n",
            "Epoch: 2/20... Step: 210... Loss: 2.3731... Val Loss: 2.3475\n",
            "Epoch: 2/20... Step: 220... Loss: 2.3304... Val Loss: 2.3200\n",
            "Epoch: 2/20... Step: 230... Loss: 2.3269... Val Loss: 2.3006\n",
            "Epoch: 2/20... Step: 240... Loss: 2.3093... Val Loss: 2.2693\n",
            "Epoch: 2/20... Step: 250... Loss: 2.2369... Val Loss: 2.2444\n",
            "Epoch: 2/20... Step: 260... Loss: 2.2135... Val Loss: 2.2159\n",
            "Epoch: 2/20... Step: 270... Loss: 2.2246... Val Loss: 2.1933\n",
            "Epoch: 3/20... Step: 280... Loss: 2.2142... Val Loss: 2.1697\n",
            "Epoch: 3/20... Step: 290... Loss: 2.1806... Val Loss: 2.1436\n",
            "Epoch: 3/20... Step: 300... Loss: 2.1551... Val Loss: 2.1219\n",
            "Epoch: 3/20... Step: 310... Loss: 2.1213... Val Loss: 2.0996\n",
            "Epoch: 3/20... Step: 320... Loss: 2.0890... Val Loss: 2.0770\n",
            "Epoch: 3/20... Step: 330... Loss: 2.0564... Val Loss: 2.0592\n",
            "Epoch: 3/20... Step: 340... Loss: 2.0804... Val Loss: 2.0413\n",
            "Epoch: 3/20... Step: 350... Loss: 2.0621... Val Loss: 2.0230\n",
            "Epoch: 3/20... Step: 360... Loss: 1.9977... Val Loss: 2.0011\n",
            "Epoch: 3/20... Step: 370... Loss: 2.0261... Val Loss: 1.9817\n",
            "Epoch: 3/20... Step: 380... Loss: 1.9986... Val Loss: 1.9712\n",
            "Epoch: 3/20... Step: 390... Loss: 1.9726... Val Loss: 1.9560\n",
            "Epoch: 3/20... Step: 400... Loss: 1.9393... Val Loss: 1.9331\n",
            "Epoch: 3/20... Step: 410... Loss: 1.9502... Val Loss: 1.9214\n",
            "Epoch: 4/20... Step: 420... Loss: 1.9474... Val Loss: 1.9036\n",
            "Epoch: 4/20... Step: 430... Loss: 1.9217... Val Loss: 1.8866\n",
            "Epoch: 4/20... Step: 440... Loss: 1.9092... Val Loss: 1.8735\n",
            "Epoch: 4/20... Step: 450... Loss: 1.8506... Val Loss: 1.8586\n",
            "Epoch: 4/20... Step: 460... Loss: 1.8367... Val Loss: 1.8484\n",
            "Epoch: 4/20... Step: 470... Loss: 1.8678... Val Loss: 1.8356\n",
            "Epoch: 4/20... Step: 480... Loss: 1.8452... Val Loss: 1.8240\n",
            "Epoch: 4/20... Step: 490... Loss: 1.8556... Val Loss: 1.8118\n",
            "Epoch: 4/20... Step: 500... Loss: 1.8483... Val Loss: 1.8028\n",
            "Epoch: 4/20... Step: 510... Loss: 1.8222... Val Loss: 1.7882\n",
            "Epoch: 4/20... Step: 520... Loss: 1.8350... Val Loss: 1.7783\n",
            "Epoch: 4/20... Step: 530... Loss: 1.7983... Val Loss: 1.7716\n",
            "Epoch: 4/20... Step: 540... Loss: 1.7688... Val Loss: 1.7593\n",
            "Epoch: 4/20... Step: 550... Loss: 1.8103... Val Loss: 1.7500\n",
            "Epoch: 5/20... Step: 560... Loss: 1.7712... Val Loss: 1.7410\n",
            "Epoch: 5/20... Step: 570... Loss: 1.7458... Val Loss: 1.7298\n",
            "Epoch: 5/20... Step: 580... Loss: 1.7478... Val Loss: 1.7215\n",
            "Epoch: 5/20... Step: 590... Loss: 1.7425... Val Loss: 1.7139\n",
            "Epoch: 5/20... Step: 600... Loss: 1.7291... Val Loss: 1.7108\n",
            "Epoch: 5/20... Step: 610... Loss: 1.7145... Val Loss: 1.6999\n",
            "Epoch: 5/20... Step: 620... Loss: 1.7168... Val Loss: 1.6933\n",
            "Epoch: 5/20... Step: 630... Loss: 1.7270... Val Loss: 1.6820\n",
            "Epoch: 5/20... Step: 640... Loss: 1.7006... Val Loss: 1.6797\n",
            "Epoch: 5/20... Step: 650... Loss: 1.6868... Val Loss: 1.6713\n",
            "Epoch: 5/20... Step: 660... Loss: 1.6706... Val Loss: 1.6617\n",
            "Epoch: 5/20... Step: 670... Loss: 1.6889... Val Loss: 1.6620\n",
            "Epoch: 5/20... Step: 680... Loss: 1.6863... Val Loss: 1.6493\n",
            "Epoch: 5/20... Step: 690... Loss: 1.6740... Val Loss: 1.6479\n",
            "Epoch: 6/20... Step: 700... Loss: 1.6544... Val Loss: 1.6388\n",
            "Epoch: 6/20... Step: 710... Loss: 1.6511... Val Loss: 1.6323\n",
            "Epoch: 6/20... Step: 720... Loss: 1.6402... Val Loss: 1.6243\n",
            "Epoch: 6/20... Step: 730... Loss: 1.6583... Val Loss: 1.6165\n",
            "Epoch: 6/20... Step: 740... Loss: 1.6320... Val Loss: 1.6111\n",
            "Epoch: 6/20... Step: 750... Loss: 1.6058... Val Loss: 1.6109\n",
            "Epoch: 6/20... Step: 760... Loss: 1.6454... Val Loss: 1.6073\n",
            "Epoch: 6/20... Step: 770... Loss: 1.6245... Val Loss: 1.6021\n",
            "Epoch: 6/20... Step: 780... Loss: 1.6069... Val Loss: 1.5958\n",
            "Epoch: 6/20... Step: 790... Loss: 1.5962... Val Loss: 1.5939\n",
            "Epoch: 6/20... Step: 800... Loss: 1.6189... Val Loss: 1.5866\n",
            "Epoch: 6/20... Step: 810... Loss: 1.5976... Val Loss: 1.5844\n",
            "Epoch: 6/20... Step: 820... Loss: 1.5668... Val Loss: 1.5753\n",
            "Epoch: 6/20... Step: 830... Loss: 1.6083... Val Loss: 1.5704\n",
            "Epoch: 7/20... Step: 840... Loss: 1.5567... Val Loss: 1.5628\n",
            "Epoch: 7/20... Step: 850... Loss: 1.5720... Val Loss: 1.5630\n",
            "Epoch: 7/20... Step: 860... Loss: 1.5630... Val Loss: 1.5569\n",
            "Epoch: 7/20... Step: 870... Loss: 1.5740... Val Loss: 1.5547\n",
            "Epoch: 7/20... Step: 880... Loss: 1.5652... Val Loss: 1.5507\n",
            "Epoch: 7/20... Step: 890... Loss: 1.5632... Val Loss: 1.5461\n",
            "Epoch: 7/20... Step: 900... Loss: 1.5553... Val Loss: 1.5439\n",
            "Epoch: 7/20... Step: 910... Loss: 1.5106... Val Loss: 1.5411\n",
            "Epoch: 7/20... Step: 920... Loss: 1.5427... Val Loss: 1.5350\n",
            "Epoch: 7/20... Step: 930... Loss: 1.5320... Val Loss: 1.5333\n",
            "Epoch: 7/20... Step: 940... Loss: 1.5385... Val Loss: 1.5293\n",
            "Epoch: 7/20... Step: 950... Loss: 1.5327... Val Loss: 1.5244\n",
            "Epoch: 7/20... Step: 960... Loss: 1.5450... Val Loss: 1.5220\n",
            "Epoch: 7/20... Step: 970... Loss: 1.5431... Val Loss: 1.5190\n",
            "Epoch: 8/20... Step: 980... Loss: 1.5139... Val Loss: 1.5139\n",
            "Epoch: 8/20... Step: 990... Loss: 1.5201... Val Loss: 1.5117\n",
            "Epoch: 8/20... Step: 1000... Loss: 1.5137... Val Loss: 1.5093\n",
            "Epoch: 8/20... Step: 1010... Loss: 1.5518... Val Loss: 1.5024\n",
            "Epoch: 8/20... Step: 1020... Loss: 1.5249... Val Loss: 1.5026\n",
            "Epoch: 8/20... Step: 1030... Loss: 1.4962... Val Loss: 1.5005\n",
            "Epoch: 8/20... Step: 1040... Loss: 1.5140... Val Loss: 1.4962\n",
            "Epoch: 8/20... Step: 1050... Loss: 1.4898... Val Loss: 1.4957\n",
            "Epoch: 8/20... Step: 1060... Loss: 1.5009... Val Loss: 1.4949\n",
            "Epoch: 8/20... Step: 1070... Loss: 1.5094... Val Loss: 1.4892\n",
            "Epoch: 8/20... Step: 1080... Loss: 1.4868... Val Loss: 1.4872\n",
            "Epoch: 8/20... Step: 1090... Loss: 1.4789... Val Loss: 1.4846\n",
            "Epoch: 8/20... Step: 1100... Loss: 1.4718... Val Loss: 1.4820\n",
            "Epoch: 8/20... Step: 1110... Loss: 1.4791... Val Loss: 1.4814\n",
            "Epoch: 9/20... Step: 1120... Loss: 1.4969... Val Loss: 1.4749\n",
            "Epoch: 9/20... Step: 1130... Loss: 1.4789... Val Loss: 1.4749\n",
            "Epoch: 9/20... Step: 1140... Loss: 1.4913... Val Loss: 1.4692\n",
            "Epoch: 9/20... Step: 1150... Loss: 1.5029... Val Loss: 1.4702\n",
            "Epoch: 9/20... Step: 1160... Loss: 1.4533... Val Loss: 1.4679\n",
            "Epoch: 9/20... Step: 1170... Loss: 1.4674... Val Loss: 1.4643\n",
            "Epoch: 9/20... Step: 1180... Loss: 1.4578... Val Loss: 1.4653\n",
            "Epoch: 9/20... Step: 1190... Loss: 1.4856... Val Loss: 1.4661\n",
            "Epoch: 9/20... Step: 1200... Loss: 1.4332... Val Loss: 1.4581\n",
            "Epoch: 9/20... Step: 1210... Loss: 1.4523... Val Loss: 1.4548\n",
            "Epoch: 9/20... Step: 1220... Loss: 1.4464... Val Loss: 1.4534\n",
            "Epoch: 9/20... Step: 1230... Loss: 1.4288... Val Loss: 1.4543\n",
            "Epoch: 9/20... Step: 1240... Loss: 1.4403... Val Loss: 1.4486\n",
            "Epoch: 9/20... Step: 1250... Loss: 1.4564... Val Loss: 1.4485\n",
            "Epoch: 10/20... Step: 1260... Loss: 1.4531... Val Loss: 1.4409\n",
            "Epoch: 10/20... Step: 1270... Loss: 1.4469... Val Loss: 1.4406\n",
            "Epoch: 10/20... Step: 1280... Loss: 1.4536... Val Loss: 1.4382\n",
            "Epoch: 10/20... Step: 1290... Loss: 1.4411... Val Loss: 1.4415\n",
            "Epoch: 10/20... Step: 1300... Loss: 1.4299... Val Loss: 1.4341\n",
            "Epoch: 10/20... Step: 1310... Loss: 1.4353... Val Loss: 1.4338\n",
            "Epoch: 10/20... Step: 1320... Loss: 1.4050... Val Loss: 1.4340\n",
            "Epoch: 10/20... Step: 1330... Loss: 1.4126... Val Loss: 1.4336\n",
            "Epoch: 10/20... Step: 1340... Loss: 1.4051... Val Loss: 1.4287\n",
            "Epoch: 10/20... Step: 1350... Loss: 1.3937... Val Loss: 1.4264\n",
            "Epoch: 10/20... Step: 1360... Loss: 1.4036... Val Loss: 1.4245\n",
            "Epoch: 10/20... Step: 1370... Loss: 1.3943... Val Loss: 1.4209\n",
            "Epoch: 10/20... Step: 1380... Loss: 1.4324... Val Loss: 1.4197\n",
            "Epoch: 10/20... Step: 1390... Loss: 1.4352... Val Loss: 1.4202\n",
            "Epoch: 11/20... Step: 1400... Loss: 1.4432... Val Loss: 1.4160\n",
            "Epoch: 11/20... Step: 1410... Loss: 1.4528... Val Loss: 1.4126\n",
            "Epoch: 11/20... Step: 1420... Loss: 1.4383... Val Loss: 1.4098\n",
            "Epoch: 11/20... Step: 1430... Loss: 1.4023... Val Loss: 1.4102\n",
            "Epoch: 11/20... Step: 1440... Loss: 1.4341... Val Loss: 1.4052\n",
            "Epoch: 11/20... Step: 1450... Loss: 1.3577... Val Loss: 1.4053\n",
            "Epoch: 11/20... Step: 1460... Loss: 1.3892... Val Loss: 1.4033\n",
            "Epoch: 11/20... Step: 1470... Loss: 1.3725... Val Loss: 1.4004\n",
            "Epoch: 11/20... Step: 1480... Loss: 1.3909... Val Loss: 1.3957\n",
            "Epoch: 11/20... Step: 1490... Loss: 1.3858... Val Loss: 1.3919\n",
            "Epoch: 11/20... Step: 1500... Loss: 1.3698... Val Loss: 1.3938\n",
            "Epoch: 11/20... Step: 1510... Loss: 1.3551... Val Loss: 1.3921\n",
            "Epoch: 11/20... Step: 1520... Loss: 1.3922... Val Loss: 1.3908\n",
            "Epoch: 12/20... Step: 1530... Loss: 1.4571... Val Loss: 1.3888\n",
            "Epoch: 12/20... Step: 1540... Loss: 1.3867... Val Loss: 1.3892\n",
            "Epoch: 12/20... Step: 1550... Loss: 1.3937... Val Loss: 1.3788\n",
            "Epoch: 12/20... Step: 1560... Loss: 1.4015... Val Loss: 1.3808\n",
            "Epoch: 12/20... Step: 1570... Loss: 1.3585... Val Loss: 1.3802\n",
            "Epoch: 12/20... Step: 1580... Loss: 1.3337... Val Loss: 1.3767\n",
            "Epoch: 12/20... Step: 1590... Loss: 1.3259... Val Loss: 1.3786\n",
            "Epoch: 12/20... Step: 1600... Loss: 1.3600... Val Loss: 1.3749\n",
            "Epoch: 12/20... Step: 1610... Loss: 1.3455... Val Loss: 1.3750\n",
            "Epoch: 12/20... Step: 1620... Loss: 1.3439... Val Loss: 1.3671\n",
            "Epoch: 12/20... Step: 1630... Loss: 1.3599... Val Loss: 1.3697\n",
            "Epoch: 12/20... Step: 1640... Loss: 1.3441... Val Loss: 1.3663\n",
            "Epoch: 12/20... Step: 1650... Loss: 1.3254... Val Loss: 1.3723\n",
            "Epoch: 12/20... Step: 1660... Loss: 1.3750... Val Loss: 1.3735\n",
            "Epoch: 13/20... Step: 1670... Loss: 1.3387... Val Loss: 1.3690\n",
            "Epoch: 13/20... Step: 1680... Loss: 1.3531... Val Loss: 1.3625\n",
            "Epoch: 13/20... Step: 1690... Loss: 1.3335... Val Loss: 1.3619\n",
            "Epoch: 13/20... Step: 1700... Loss: 1.3353... Val Loss: 1.3615\n",
            "Epoch: 13/20... Step: 1710... Loss: 1.3168... Val Loss: 1.3630\n",
            "Epoch: 13/20... Step: 1720... Loss: 1.3304... Val Loss: 1.3613\n",
            "Epoch: 13/20... Step: 1730... Loss: 1.3607... Val Loss: 1.3599\n",
            "Epoch: 13/20... Step: 1740... Loss: 1.3360... Val Loss: 1.3633\n",
            "Epoch: 13/20... Step: 1750... Loss: 1.2982... Val Loss: 1.3581\n",
            "Epoch: 13/20... Step: 1760... Loss: 1.3266... Val Loss: 1.3552\n",
            "Epoch: 13/20... Step: 1770... Loss: 1.3380... Val Loss: 1.3562\n",
            "Epoch: 13/20... Step: 1780... Loss: 1.3177... Val Loss: 1.3525\n",
            "Epoch: 13/20... Step: 1790... Loss: 1.3110... Val Loss: 1.3544\n",
            "Epoch: 13/20... Step: 1800... Loss: 1.3279... Val Loss: 1.3535\n",
            "Epoch: 14/20... Step: 1810... Loss: 1.3369... Val Loss: 1.3529\n",
            "Epoch: 14/20... Step: 1820... Loss: 1.3200... Val Loss: 1.3490\n",
            "Epoch: 14/20... Step: 1830... Loss: 1.3288... Val Loss: 1.3458\n",
            "Epoch: 14/20... Step: 1840... Loss: 1.2822... Val Loss: 1.3453\n",
            "Epoch: 14/20... Step: 1850... Loss: 1.2651... Val Loss: 1.3405\n",
            "Epoch: 14/20... Step: 1860... Loss: 1.3249... Val Loss: 1.3406\n",
            "Epoch: 14/20... Step: 1870... Loss: 1.3397... Val Loss: 1.3420\n",
            "Epoch: 14/20... Step: 1880... Loss: 1.3235... Val Loss: 1.3441\n",
            "Epoch: 14/20... Step: 1890... Loss: 1.3430... Val Loss: 1.3454\n",
            "Epoch: 14/20... Step: 1900... Loss: 1.3181... Val Loss: 1.3401\n",
            "Epoch: 14/20... Step: 1910... Loss: 1.3178... Val Loss: 1.3408\n",
            "Epoch: 14/20... Step: 1920... Loss: 1.3128... Val Loss: 1.3405\n",
            "Epoch: 14/20... Step: 1930... Loss: 1.2763... Val Loss: 1.3357\n",
            "Epoch: 14/20... Step: 1940... Loss: 1.3398... Val Loss: 1.3371\n",
            "Epoch: 15/20... Step: 1950... Loss: 1.2999... Val Loss: 1.3449\n",
            "Epoch: 15/20... Step: 1960... Loss: 1.3051... Val Loss: 1.3342\n",
            "Epoch: 15/20... Step: 1970... Loss: 1.3005... Val Loss: 1.3319\n",
            "Epoch: 15/20... Step: 1980... Loss: 1.2920... Val Loss: 1.3330\n",
            "Epoch: 15/20... Step: 1990... Loss: 1.2836... Val Loss: 1.3430\n",
            "Epoch: 15/20... Step: 2000... Loss: 1.2834... Val Loss: 1.3329\n",
            "Epoch: 15/20... Step: 2010... Loss: 1.3000... Val Loss: 1.3273\n",
            "Epoch: 15/20... Step: 2020... Loss: 1.3098... Val Loss: 1.3289\n",
            "Epoch: 15/20... Step: 2030... Loss: 1.2774... Val Loss: 1.3301\n",
            "Epoch: 15/20... Step: 2040... Loss: 1.2948... Val Loss: 1.3315\n",
            "Epoch: 15/20... Step: 2050... Loss: 1.2784... Val Loss: 1.3288\n",
            "Epoch: 15/20... Step: 2060... Loss: 1.2930... Val Loss: 1.3251\n",
            "Epoch: 15/20... Step: 2070... Loss: 1.2991... Val Loss: 1.3231\n",
            "Epoch: 15/20... Step: 2080... Loss: 1.2888... Val Loss: 1.3235\n",
            "Epoch: 16/20... Step: 2090... Loss: 1.2931... Val Loss: 1.3310\n",
            "Epoch: 16/20... Step: 2100... Loss: 1.2802... Val Loss: 1.3209\n",
            "Epoch: 16/20... Step: 2110... Loss: 1.2719... Val Loss: 1.3200\n",
            "Epoch: 16/20... Step: 2120... Loss: 1.2922... Val Loss: 1.3213\n",
            "Epoch: 16/20... Step: 2130... Loss: 1.2546... Val Loss: 1.3220\n",
            "Epoch: 16/20... Step: 2140... Loss: 1.2712... Val Loss: 1.3179\n",
            "Epoch: 16/20... Step: 2150... Loss: 1.3028... Val Loss: 1.3209\n",
            "Epoch: 16/20... Step: 2160... Loss: 1.2767... Val Loss: 1.3214\n",
            "Epoch: 16/20... Step: 2170... Loss: 1.2698... Val Loss: 1.3212\n",
            "Epoch: 16/20... Step: 2180... Loss: 1.2636... Val Loss: 1.3188\n",
            "Epoch: 16/20... Step: 2190... Loss: 1.2973... Val Loss: 1.3168\n",
            "Epoch: 16/20... Step: 2200... Loss: 1.2609... Val Loss: 1.3183\n",
            "Epoch: 16/20... Step: 2210... Loss: 1.2312... Val Loss: 1.3156\n",
            "Epoch: 16/20... Step: 2220... Loss: 1.2806... Val Loss: 1.3130\n",
            "Epoch: 17/20... Step: 2230... Loss: 1.2505... Val Loss: 1.3176\n",
            "Epoch: 17/20... Step: 2240... Loss: 1.2618... Val Loss: 1.3097\n",
            "Epoch: 17/20... Step: 2250... Loss: 1.2457... Val Loss: 1.3142\n",
            "Epoch: 17/20... Step: 2260... Loss: 1.2554... Val Loss: 1.3113\n",
            "Epoch: 17/20... Step: 2270... Loss: 1.2746... Val Loss: 1.3071\n",
            "Epoch: 17/20... Step: 2280... Loss: 1.2811... Val Loss: 1.3138\n",
            "Epoch: 17/20... Step: 2290... Loss: 1.2856... Val Loss: 1.3156\n",
            "Epoch: 17/20... Step: 2300... Loss: 1.2401... Val Loss: 1.3120\n",
            "Epoch: 17/20... Step: 2310... Loss: 1.2636... Val Loss: 1.3148\n",
            "Epoch: 17/20... Step: 2320... Loss: 1.2513... Val Loss: 1.3121\n",
            "Epoch: 17/20... Step: 2330... Loss: 1.2600... Val Loss: 1.3060\n",
            "Epoch: 17/20... Step: 2340... Loss: 1.2737... Val Loss: 1.3062\n",
            "Epoch: 17/20... Step: 2350... Loss: 1.2713... Val Loss: 1.3024\n",
            "Epoch: 17/20... Step: 2360... Loss: 1.2744... Val Loss: 1.3048\n",
            "Epoch: 18/20... Step: 2370... Loss: 1.2411... Val Loss: 1.3066\n",
            "Epoch: 18/20... Step: 2380... Loss: 1.2457... Val Loss: 1.3035\n",
            "Epoch: 18/20... Step: 2390... Loss: 1.2447... Val Loss: 1.3014\n",
            "Epoch: 18/20... Step: 2400... Loss: 1.2819... Val Loss: 1.3053\n",
            "Epoch: 18/20... Step: 2410... Loss: 1.2740... Val Loss: 1.3021\n",
            "Epoch: 18/20... Step: 2420... Loss: 1.2524... Val Loss: 1.3040\n",
            "Epoch: 18/20... Step: 2430... Loss: 1.2643... Val Loss: 1.3024\n",
            "Epoch: 18/20... Step: 2440... Loss: 1.2428... Val Loss: 1.3012\n",
            "Epoch: 18/20... Step: 2450... Loss: 1.2499... Val Loss: 1.3014\n",
            "Epoch: 18/20... Step: 2460... Loss: 1.2540... Val Loss: 1.2996\n",
            "Epoch: 18/20... Step: 2470... Loss: 1.2506... Val Loss: 1.3018\n",
            "Epoch: 18/20... Step: 2480... Loss: 1.2410... Val Loss: 1.2996\n",
            "Epoch: 18/20... Step: 2490... Loss: 1.2293... Val Loss: 1.2977\n",
            "Epoch: 18/20... Step: 2500... Loss: 1.2480... Val Loss: 1.2979\n",
            "Epoch: 19/20... Step: 2510... Loss: 1.2525... Val Loss: 1.3020\n",
            "Epoch: 19/20... Step: 2520... Loss: 1.2517... Val Loss: 1.2993\n",
            "Epoch: 19/20... Step: 2530... Loss: 1.2628... Val Loss: 1.2955\n",
            "Epoch: 19/20... Step: 2540... Loss: 1.2669... Val Loss: 1.3017\n",
            "Epoch: 19/20... Step: 2550... Loss: 1.2328... Val Loss: 1.2943\n",
            "Epoch: 19/20... Step: 2560... Loss: 1.2395... Val Loss: 1.2984\n",
            "Epoch: 19/20... Step: 2570... Loss: 1.2349... Val Loss: 1.2986\n",
            "Epoch: 19/20... Step: 2580... Loss: 1.2624... Val Loss: 1.2995\n",
            "Epoch: 19/20... Step: 2590... Loss: 1.2273... Val Loss: 1.2914\n",
            "Epoch: 19/20... Step: 2600... Loss: 1.2303... Val Loss: 1.2921\n",
            "Epoch: 19/20... Step: 2610... Loss: 1.2377... Val Loss: 1.2938\n",
            "Epoch: 19/20... Step: 2620... Loss: 1.2067... Val Loss: 1.2911\n",
            "Epoch: 19/20... Step: 2630... Loss: 1.2147... Val Loss: 1.2911\n",
            "Epoch: 19/20... Step: 2640... Loss: 1.2406... Val Loss: 1.2949\n",
            "Epoch: 20/20... Step: 2650... Loss: 1.2407... Val Loss: 1.2899\n",
            "Epoch: 20/20... Step: 2660... Loss: 1.2372... Val Loss: 1.2921\n",
            "Epoch: 20/20... Step: 2670... Loss: 1.2457... Val Loss: 1.2868\n",
            "Epoch: 20/20... Step: 2680... Loss: 1.2412... Val Loss: 1.2895\n",
            "Epoch: 20/20... Step: 2690... Loss: 1.2291... Val Loss: 1.2929\n",
            "Epoch: 20/20... Step: 2700... Loss: 1.2343... Val Loss: 1.2914\n",
            "Epoch: 20/20... Step: 2710... Loss: 1.2129... Val Loss: 1.2896\n",
            "Epoch: 20/20... Step: 2720... Loss: 1.2127... Val Loss: 1.2875\n",
            "Epoch: 20/20... Step: 2730... Loss: 1.2034... Val Loss: 1.2865\n",
            "Epoch: 20/20... Step: 2740... Loss: 1.1963... Val Loss: 1.2895\n",
            "Epoch: 20/20... Step: 2750... Loss: 1.2171... Val Loss: 1.2870\n",
            "Epoch: 20/20... Step: 2760... Loss: 1.2067... Val Loss: 1.2884\n",
            "Epoch: 20/20... Step: 2770... Loss: 1.2443... Val Loss: 1.2820\n",
            "Epoch: 20/20... Step: 2780... Loss: 1.2674... Val Loss: 1.2826\n"
          ],
          "name": "stdout"
        }
      ]
    },
    {
      "cell_type": "markdown",
      "metadata": {
        "id": "4lUfiCW7-Lpu",
        "colab_type": "text"
      },
      "source": [
        "## Getting the best model\n",
        "\n",
        "To set your hyperparameters to get the best performance, you'll want to watch the training and validation losses. If your training loss is much lower than the validation loss, you're overfitting. Increase regularization (more dropout) or use a smaller network. If the training and validation losses are close, you're underfitting so you can increase the size of the network."
      ]
    },
    {
      "cell_type": "markdown",
      "metadata": {
        "id": "elYz6qsn-Lpy",
        "colab_type": "text"
      },
      "source": [
        "## Hyperparameters\n",
        "\n",
        "Here are the hyperparameters for the network.\n",
        "\n",
        "In defining the model:\n",
        "* `n_hidden` - The number of units in the hidden layers.\n",
        "* `n_layers` - Number of hidden LSTM layers to use.\n",
        "\n",
        "We assume that dropout probability and learning rate will be kept at the default, in this example.\n",
        "\n",
        "And in training:\n",
        "* `batch_size` - Number of sequences running through the network in one pass.\n",
        "* `seq_length` - Number of characters in the sequence the network is trained on. Larger is better typically, the network will learn more long range dependencies. But it takes longer to train. 100 is typically a good number here.\n",
        "* `lr` - Learning rate for training\n",
        "\n",
        "Here's some good advice from Andrej Karpathy on training the network. I'm going to copy it in here for your benefit, but also link to [where it originally came from](https://github.com/karpathy/char-rnn#tips-and-tricks).\n",
        "\n",
        "> ## Tips and Tricks\n",
        "\n",
        ">### Monitoring Validation Loss vs. Training Loss\n",
        ">If you're somewhat new to Machine Learning or Neural Networks it can take a bit of expertise to get good models. The most important quantity to keep track of is the difference between your training loss (printed during training) and the validation loss (printed once in a while when the RNN is run on the validation data (by default every 1000 iterations)). In particular:\n",
        "\n",
        "> - If your training loss is much lower than validation loss then this means the network might be **overfitting**. Solutions to this are to decrease your network size, or to increase dropout. For example you could try dropout of 0.5 and so on.\n",
        "> - If your training/validation loss are about equal then your model is **underfitting**. Increase the size of your model (either number of layers or the raw number of neurons per layer)\n",
        "\n",
        "> ### Approximate number of parameters\n",
        "\n",
        "> The two most important parameters that control the model are `n_hidden` and `n_layers`. I would advise that you always use `n_layers` of either 2/3. The `n_hidden` can be adjusted based on how much data you have. The two important quantities to keep track of here are:\n",
        "\n",
        "> - The number of parameters in your model. This is printed when you start training.\n",
        "> - The size of your dataset. 1MB file is approximately 1 million characters.\n",
        "\n",
        ">These two should be about the same order of magnitude. It's a little tricky to tell. Here are some examples:\n",
        "\n",
        "> - I have a 100MB dataset and I'm using the default parameter settings (which currently print 150K parameters). My data size is significantly larger (100 mil >> 0.15 mil), so I expect to heavily underfit. I am thinking I can comfortably afford to make `n_hidden` larger.\n",
        "> - I have a 10MB dataset and running a 10 million parameter model. I'm slightly nervous and I'm carefully monitoring my validation loss. If it's larger than my training loss then I may want to try to increase dropout a bit and see if that helps the validation loss.\n",
        "\n",
        "> ### Best models strategy\n",
        "\n",
        ">The winning strategy to obtaining very good models (if you have the compute time) is to always err on making the network larger (as large as you're willing to wait for it to compute) and then try different dropout values (between 0,1). Whatever model has the best validation performance (the loss, written in the checkpoint filename, low is good) is the one you should use in the end.\n",
        "\n",
        ">It is very common in deep learning to run many different models with many different hyperparameter settings, and in the end take whatever checkpoint gave the best validation performance.\n",
        "\n",
        ">By the way, the size of your training and validation splits are also parameters. Make sure you have a decent amount of data in your validation set or otherwise the validation performance will be noisy and not very informative."
      ]
    },
    {
      "cell_type": "markdown",
      "metadata": {
        "id": "726tlNbn-Lp3",
        "colab_type": "text"
      },
      "source": [
        "## Checkpoint\n",
        "\n",
        "After training, we'll save the model so we can load it again later if we need too. Here I'm saving the parameters needed to create the same architecture, the hidden layer hyperparameters and the text characters."
      ]
    },
    {
      "cell_type": "code",
      "metadata": {
        "id": "oRaqu7BC-Lp8",
        "colab_type": "code",
        "colab": {}
      },
      "source": [
        "# change the name, for saving multiple files\n",
        "model_name = 'rnn_20_epoch.net'\n",
        "\n",
        "checkpoint = {'n_hidden': net.n_hidden,\n",
        "              'n_layers': net.n_layers,\n",
        "              'state_dict': net.state_dict(),\n",
        "              'tokens': net.chars}\n",
        "\n",
        "with open(model_name, 'wb') as f:\n",
        "    torch.save(checkpoint, f)"
      ],
      "execution_count": 0,
      "outputs": []
    },
    {
      "cell_type": "markdown",
      "metadata": {
        "id": "xZTHGDZK-LqH",
        "colab_type": "text"
      },
      "source": [
        "---\n",
        "## Making Predictions\n",
        "\n",
        "Now that the model is trained, we'll want to sample from it and make predictions about next characters! To sample, we pass in a character and have the network predict the next character. Then we take that character, pass it back in, and get another predicted character. Just keep doing this and you'll generate a bunch of text!\n",
        "\n",
        "### A note on the `predict`  function\n",
        "\n",
        "The output of our RNN is from a fully-connected layer and it outputs a **distribution of next-character scores**.\n",
        "\n",
        "> To actually get the next character, we apply a softmax function, which gives us a *probability* distribution that we can then sample to predict the next character.\n",
        "\n",
        "### Top K sampling\n",
        "\n",
        "Our predictions come from a categorical probability distribution over all the possible characters. We can make the sample text and make it more reasonable to handle (with less variables) by only considering some $K$ most probable characters. This will prevent the network from giving us completely absurd characters while allowing it to introduce some noise and randomness into the sampled text. Read more about [topk, here](https://pytorch.org/docs/stable/torch.html#torch.topk).\n"
      ]
    },
    {
      "cell_type": "code",
      "metadata": {
        "id": "wPMp4Sb--LqK",
        "colab_type": "code",
        "colab": {}
      },
      "source": [
        "def predict(net, char, h=None, top_k=None):\n",
        "        ''' Given a character, predict the next character.\n",
        "            Returns the predicted character and the hidden state.\n",
        "        '''\n",
        "        \n",
        "        # tensor inputs\n",
        "        x = np.array([[net.char2int[char]]])\n",
        "        x = one_hot_encode(x, len(net.chars))\n",
        "        inputs = torch.from_numpy(x)\n",
        "        \n",
        "        if(train_on_gpu):\n",
        "            inputs = inputs.cuda()\n",
        "        \n",
        "        # detach hidden state from history\n",
        "        h = tuple([each.data for each in h])\n",
        "        # get the output of the model\n",
        "        out, h = net(inputs, h)\n",
        "\n",
        "        # get the character probabilities\n",
        "        p = F.softmax(out, dim=1).data\n",
        "        if(train_on_gpu):\n",
        "            p = p.cpu() # move to cpu\n",
        "        \n",
        "        # get top characters\n",
        "        if top_k is None:\n",
        "            top_ch = np.arange(len(net.chars))\n",
        "        else:\n",
        "            p, top_ch = p.topk(top_k)\n",
        "            top_ch = top_ch.numpy().squeeze()\n",
        "        \n",
        "        # select the likely next character with some element of randomness\n",
        "        p = p.numpy().squeeze()\n",
        "        char = np.random.choice(top_ch, p=p/p.sum())\n",
        "        \n",
        "        # return the encoded value of the predicted char and the hidden state\n",
        "        return net.int2char[char], h"
      ],
      "execution_count": 0,
      "outputs": []
    },
    {
      "cell_type": "markdown",
      "metadata": {
        "id": "Zho5Vayw-LqV",
        "colab_type": "text"
      },
      "source": [
        "### Priming and generating text \n",
        "\n",
        "Typically you'll want to prime the network so you can build up a hidden state. Otherwise the network will start out generating characters at random. In general the first bunch of characters will be a little rough since it hasn't built up a long history of characters to predict from."
      ]
    },
    {
      "cell_type": "code",
      "metadata": {
        "id": "R2PQtJAf-LqY",
        "colab_type": "code",
        "colab": {}
      },
      "source": [
        "def sample(net, size, prime='The', top_k=None):\n",
        "        \n",
        "    if(train_on_gpu):\n",
        "        net.cuda()\n",
        "    else:\n",
        "        net.cpu()\n",
        "    \n",
        "    net.eval() # eval mode\n",
        "    \n",
        "    # First off, run through the prime characters\n",
        "    chars = [ch for ch in prime]\n",
        "    h = net.init_hidden(1)\n",
        "    for ch in prime:\n",
        "        char, h = predict(net, ch, h, top_k=top_k)\n",
        "\n",
        "    chars.append(char)\n",
        "    \n",
        "    # Now pass in the previous character and get a new one\n",
        "    for ii in range(size):\n",
        "        char, h = predict(net, chars[-1], h, top_k=top_k)\n",
        "        chars.append(char)\n",
        "\n",
        "    return ''.join(chars)"
      ],
      "execution_count": 0,
      "outputs": []
    },
    {
      "cell_type": "code",
      "metadata": {
        "id": "89ZLCMrO-Lqq",
        "colab_type": "code",
        "colab": {
          "base_uri": "https://localhost:8080/",
          "height": 340
        },
        "outputId": "ec0d27d6-1009-4bc5-e676-c22d9129ab24"
      },
      "source": [
        "print(sample(net, 1000, prime='Anna', top_k=5))"
      ],
      "execution_count": 51,
      "outputs": [
        {
          "output_type": "stream",
          "text": [
            "Anna's here in them. They\n",
            "hoped that the minutest say, the fine, short in the samiliar.\n",
            "\n",
            "Alexey Alexandrovitch, and he stopped at the peasants and the command he\n",
            "saw that he had been been to the propossion to\n",
            "the man, the steps that they will be dispressed his brother\n",
            "that should than extreme was, he could not be surely to see it.\n",
            "An honest consciousness was a special part of the strings, that he\n",
            "was this candor is too, he said to have been treet at the face of the\n",
            "peasants.\n",
            "\n",
            "At his face to do to his story, and was doubts in a country and still\n",
            "moments and despision, howing his forest her face into to their\n",
            "first man that she could do nothing would have a strong set and who would\n",
            "have always assented his honorache in his confused, and as though she was said towards the\n",
            "pasing, and wish a girl was not before that he was near one of sorts, he felt\n",
            "that he had not tell nowh on their face and sitting a people he was truth.\n",
            "\n",
            "After sight was so than the famol which had to be so strong having and \n"
          ],
          "name": "stdout"
        }
      ]
    },
    {
      "cell_type": "markdown",
      "metadata": {
        "id": "gvyZbpyK-Lq1",
        "colab_type": "text"
      },
      "source": [
        "## Loading a checkpoint"
      ]
    },
    {
      "cell_type": "code",
      "metadata": {
        "id": "FphH-B59-Lq4",
        "colab_type": "code",
        "colab": {
          "base_uri": "https://localhost:8080/",
          "height": 34
        },
        "outputId": "65bb56f5-388c-4572-efee-771c73c90740"
      },
      "source": [
        "# Here we have loaded in a model that trained over 20 epochs `rnn_20_epoch.net`\n",
        "with open('rnn_20_epoch.net', 'rb') as f:\n",
        "    checkpoint = torch.load(f)\n",
        "    \n",
        "loaded = CharRNN(checkpoint['tokens'], n_hidden=checkpoint['n_hidden'], n_layers=checkpoint['n_layers'])\n",
        "loaded.load_state_dict(checkpoint['state_dict'])"
      ],
      "execution_count": 52,
      "outputs": [
        {
          "output_type": "execute_result",
          "data": {
            "text/plain": [
              "<All keys matched successfully>"
            ]
          },
          "metadata": {
            "tags": []
          },
          "execution_count": 52
        }
      ]
    },
    {
      "cell_type": "code",
      "metadata": {
        "id": "LIB5Tm7W-LrF",
        "colab_type": "code",
        "colab": {
          "base_uri": "https://localhost:8080/",
          "height": 646
        },
        "outputId": "d62c4e2c-21ed-4adb-e8a9-9c3d4b3b774d"
      },
      "source": [
        "# Sample using a loaded model\n",
        "print(sample(loaded, 2000, top_k=5, prime=\"And Levin said\"))"
      ],
      "execution_count": 53,
      "outputs": [
        {
          "output_type": "stream",
          "text": [
            "And Levin said\n",
            "to the stretting on the child and walked in the same town he felt\n",
            "as husband, and and how there was nothing of stirned and almost in the\n",
            "memorees, though seen her soft was starding to show his wealth as\n",
            "satisfaction to teel in the common and a sense of a charmen often, he\n",
            "said, so that he had been beanding at the strings then, and that the\n",
            "country, she was gloomy and had been something. She walked in\n",
            "a figer and sound.\n",
            "\n",
            "\"That's not one of this man of the pretty doing it. He wought\n",
            "in his stelk of such a signting in his matters, and a constant and\n",
            "want to say there came into the misital, and the propensy and the\n",
            "carriage was all of his beauty.\n",
            "\n",
            "Stepan Arkadyevitch was this could him, and that the simple towards\n",
            "it as always were new all the same time as he was struck the\n",
            "child's ack and his cartiful actroming his hins. He felt that the\n",
            "strong window on his head on her his hands on her house, and was stow\n",
            "horror. He was almost best her that he did nit care in the memories\n",
            "was not sorry our father. He studid a position when the pertaction of\n",
            "carriages he chome his finsers almost himself and the corringly this same\n",
            "with his study, and she walked away and he horseless husidess of\n",
            "her sunder simple who was stunished, and had not called on the position.\n",
            "The pleasure were the footman, as he sat down and, there was strangh of\n",
            "the provense, as the position of them, and so still they had all the same\n",
            "tasting of the porition of the mushing of the same word, however they had\n",
            "to get in over the steps of the presence what was a candle,\n",
            "who would be a still, and he said in her face.\n",
            "\n",
            "All he had been bringing to his well-ages of those that had not the strain\n",
            "of\n",
            "hope, whom she was almost all officed that he had an ordinality to him\n",
            "all at the presing her sister, she saw something. \"The courters old\n",
            "considering that, I say that is the corcertice, in the words...\"\n",
            "\n",
            "\"I shall see her so much of the whole secretary of the same thing,\n",
            "all that in this party went into the capacal secustors,\n"
          ],
          "name": "stdout"
        }
      ]
    },
    {
      "cell_type": "code",
      "metadata": {
        "id": "MqeKz_-8-LrQ",
        "colab_type": "code",
        "colab": {}
      },
      "source": [
        ""
      ],
      "execution_count": 0,
      "outputs": []
    }
  ]
}
>>>>>>> 59e51b55bb389f242ac69be65337aeddc8de9db5
