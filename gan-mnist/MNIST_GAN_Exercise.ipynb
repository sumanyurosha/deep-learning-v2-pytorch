{
  "nbformat": 4,
  "nbformat_minor": 0,
  "metadata": {
    "kernelspec": {
      "name": "python3",
      "display_name": "Python 3"
    },
    "language_info": {
      "codemirror_mode": {
        "name": "ipython",
        "version": 3
      },
      "file_extension": ".py",
      "mimetype": "text/x-python",
      "name": "python",
      "nbconvert_exporter": "python",
      "pygments_lexer": "ipython3",
      "version": "3.6.3"
    },
    "colab": {
      "name": "MNIST_GAN_Exercise.ipynb",
      "provenance": [],
      "include_colab_link": true
    },
    "accelerator": "GPU"
  },
  "cells": [
    {
      "cell_type": "markdown",
      "metadata": {
        "id": "view-in-github",
        "colab_type": "text"
      },
      "source": [
        "<a href=\"https://colab.research.google.com/github/sumanyurosha/deep-learning-v2-pytorch/blob/master/gan-mnist/MNIST_GAN_Exercise.ipynb\" target=\"_parent\"><img src=\"https://colab.research.google.com/assets/colab-badge.svg\" alt=\"Open In Colab\"/></a>"
      ]
    },
    {
      "cell_type": "markdown",
      "metadata": {
        "id": "XeX4ULsNYGyt",
        "colab_type": "text"
      },
      "source": [
        "# Generative Adversarial Network\n",
        "\n",
        "In this notebook, we'll be building a generative adversarial network (GAN) trained on the MNIST dataset. From this, we'll be able to generate new handwritten digits!\n",
        "\n",
        "GANs were [first reported on](https://arxiv.org/abs/1406.2661) in 2014 from Ian Goodfellow and others in Yoshua Bengio's lab. Since then, GANs have exploded in popularity. Here are a few examples to check out:\n",
        "\n",
        "* [Pix2Pix](https://affinelayer.com/pixsrv/) \n",
        "* [CycleGAN & Pix2Pix in PyTorch, Jun-Yan Zhu](https://github.com/junyanz/pytorch-CycleGAN-and-pix2pix)\n",
        "* [A list of generative models](https://github.com/wiseodd/generative-models)\n",
        "\n",
        "The idea behind GANs is that you have two networks, a generator $G$ and a discriminator $D$, competing against each other. The generator makes \"fake\" data to pass to the discriminator. The discriminator also sees real training data and predicts if the data it's received is real or fake. \n",
        "> * The generator is trained to fool the discriminator, it wants to output data that looks _as close as possible_ to real, training data. \n",
        "* The discriminator is a classifier that is trained to figure out which data is real and which is fake. \n",
        "\n",
        "What ends up happening is that the generator learns to make data that is indistinguishable from real data to the discriminator.\n",
        "\n",
        "<img src='https://github.com/sumanyurosha/deep-learning-v2-pytorch/blob/master/gan-mnist/assets/gan_pipeline.png?raw=1' width=70% />\n",
        "\n",
        "The general structure of a GAN is shown in the diagram above, using MNIST images as data. The latent sample is a random vector that the generator uses to construct its fake images. This is often called a **latent vector** and that vector space is called **latent space**. As the generator trains, it figures out how to map latent vectors to recognizable images that can fool the discriminator.\n",
        "\n",
        "If you're interested in generating only new images, you can throw out the discriminator after training. In this notebook, I'll show you how to define and train these adversarial networks in PyTorch and generate new images!"
      ]
    },
    {
      "cell_type": "code",
      "metadata": {
        "id": "qFjibb3MYGyx",
        "colab_type": "code",
        "colab": {}
      },
      "source": [
        "%matplotlib inline\n",
        "\n",
        "import numpy as np\n",
        "import torch\n",
        "import matplotlib.pyplot as plt"
      ],
      "execution_count": 0,
      "outputs": []
    },
    {
      "cell_type": "code",
      "metadata": {
        "id": "ia3RsijnYGy3",
        "colab_type": "code",
        "colab": {
          "base_uri": "https://localhost:8080/",
          "height": 255
        },
        "outputId": "87a7c009-7583-469c-efdb-e7765031cb87"
      },
      "source": [
        "from torchvision import datasets\n",
        "import torchvision.transforms as transforms\n",
        "\n",
        "# number of subprocesses to use for data loading\n",
        "num_workers = 0\n",
        "# how many samples per batch to load\n",
        "batch_size = 64\n",
        "\n",
        "# convert data to torch.FloatTensor\n",
        "transform = transforms.ToTensor()\n",
        "\n",
        "# get the training datasets\n",
        "train_data = datasets.MNIST(root='data', train=True,\n",
        "                                   download=True, transform=transform)\n",
        "\n",
        "# prepare data loader\n",
        "train_loader = torch.utils.data.DataLoader(train_data, batch_size=batch_size,\n",
        "                                           num_workers=num_workers)"
      ],
      "execution_count": 2,
      "outputs": [
        {
          "output_type": "stream",
          "text": [
            "\r0it [00:00, ?it/s]"
          ],
          "name": "stderr"
        },
        {
          "output_type": "stream",
          "text": [
            "Downloading http://yann.lecun.com/exdb/mnist/train-images-idx3-ubyte.gz to data/MNIST/raw/train-images-idx3-ubyte.gz\n"
          ],
          "name": "stdout"
        },
        {
          "output_type": "stream",
          "text": [
            "9920512it [00:02, 3840111.13it/s]                            \n"
          ],
          "name": "stderr"
        },
        {
          "output_type": "stream",
          "text": [
            "Extracting data/MNIST/raw/train-images-idx3-ubyte.gz to data/MNIST/raw\n"
          ],
          "name": "stdout"
        },
        {
          "output_type": "stream",
          "text": [
            "\r0it [00:00, ?it/s]"
          ],
          "name": "stderr"
        },
        {
          "output_type": "stream",
          "text": [
            "Downloading http://yann.lecun.com/exdb/mnist/train-labels-idx1-ubyte.gz to data/MNIST/raw/train-labels-idx1-ubyte.gz\n"
          ],
          "name": "stdout"
        },
        {
          "output_type": "stream",
          "text": [
            "32768it [00:00, 55922.64it/s]                           \n",
            "0it [00:00, ?it/s]"
          ],
          "name": "stderr"
        },
        {
          "output_type": "stream",
          "text": [
            "Extracting data/MNIST/raw/train-labels-idx1-ubyte.gz to data/MNIST/raw\n",
            "Downloading http://yann.lecun.com/exdb/mnist/t10k-images-idx3-ubyte.gz to data/MNIST/raw/t10k-images-idx3-ubyte.gz\n"
          ],
          "name": "stdout"
        },
        {
          "output_type": "stream",
          "text": [
            "1654784it [00:01, 918179.81it/s]                             \n",
            "0it [00:00, ?it/s]"
          ],
          "name": "stderr"
        },
        {
          "output_type": "stream",
          "text": [
            "Extracting data/MNIST/raw/t10k-images-idx3-ubyte.gz to data/MNIST/raw\n",
            "Downloading http://yann.lecun.com/exdb/mnist/t10k-labels-idx1-ubyte.gz to data/MNIST/raw/t10k-labels-idx1-ubyte.gz\n"
          ],
          "name": "stdout"
        },
        {
          "output_type": "stream",
          "text": [
            "8192it [00:00, 20600.98it/s]            "
          ],
          "name": "stderr"
        },
        {
          "output_type": "stream",
          "text": [
            "Extracting data/MNIST/raw/t10k-labels-idx1-ubyte.gz to data/MNIST/raw\n",
            "Processing...\n",
            "Done!\n"
          ],
          "name": "stdout"
        },
        {
          "output_type": "stream",
          "text": [
            "\n"
          ],
          "name": "stderr"
        }
      ]
    },
    {
      "cell_type": "markdown",
      "metadata": {
        "id": "vyTFYdqIYGy7",
        "colab_type": "text"
      },
      "source": [
        "### Visualize the data"
      ]
    },
    {
      "cell_type": "code",
      "metadata": {
        "id": "D4wdlIgfYGy8",
        "colab_type": "code",
        "colab": {
          "base_uri": "https://localhost:8080/",
          "height": 229
        },
        "outputId": "11f75994-bdb5-4efd-871e-932042f7486e"
      },
      "source": [
        "# obtain one batch of training images\n",
        "dataiter = iter(train_loader)\n",
        "images, labels = dataiter.next()\n",
        "images = images.numpy()\n",
        "\n",
        "# get one image from the batch\n",
        "img = np.squeeze(images[0])\n",
        "\n",
        "fig = plt.figure(figsize = (3,3)) \n",
        "ax = fig.add_subplot(111)\n",
        "ax.imshow(img, cmap='gray')"
      ],
      "execution_count": 3,
      "outputs": [
        {
          "output_type": "execute_result",
          "data": {
            "text/plain": [
              "<matplotlib.image.AxesImage at 0x7fb2cb388fd0>"
            ]
          },
          "metadata": {
            "tags": []
          },
          "execution_count": 3
        },
        {
          "output_type": "display_data",
          "data": {
            "image/png": "[encoded data removed]",
            "text/plain": [
              "<Figure size 216x216 with 1 Axes>"
            ]
          },
          "metadata": {
            "tags": []
          }
        }
      ]
    },
    {
      "cell_type": "markdown",
      "metadata": {
        "id": "c_vmxM2jYGy-",
        "colab_type": "text"
      },
      "source": [
        "---\n",
        "# Define the Model\n",
        "\n",
        "A GAN is comprised of two adversarial networks, a discriminator and a generator."
      ]
    },
    {
      "cell_type": "markdown",
      "metadata": {
        "id": "A0ZHAQCAYGy_",
        "colab_type": "text"
      },
      "source": [
        "## Discriminator\n",
        "\n",
        "The discriminator network is going to be a pretty typical linear classifier. To make this network a universal function approximator, we'll need at least one hidden layer, and these hidden layers should have one key attribute:\n",
        "> All hidden layers will have a [Leaky ReLu](https://pytorch.org/docs/stable/nn.html#torch.nn.LeakyReLU) activation function applied to their outputs.\n",
        "\n",
        "<img src='https://github.com/sumanyurosha/deep-learning-v2-pytorch/blob/master/gan-mnist/assets/gan_network.png?raw=1' width=70% />\n",
        "\n",
        "#### Leaky ReLu\n",
        "\n",
        "We should use a leaky ReLU to allow gradients to flow backwards through the layer unimpeded. A leaky ReLU is like a normal ReLU, except that there is a small non-zero output for negative input values.\n",
        "\n",
        "<img src='https://github.com/sumanyurosha/deep-learning-v2-pytorch/blob/master/gan-mnist/assets/leaky_relu.png?raw=1' width=40% />\n",
        "\n",
        "#### Sigmoid Output\n",
        "\n",
        "We'll also take the approach of using a more numerically stable loss function on the outputs. Recall that we want the discriminator to output a value 0-1 indicating whether an image is _real or fake_. \n",
        "> We will ultimately use [BCEWithLogitsLoss](https://pytorch.org/docs/stable/nn.html#bcewithlogitsloss), which combines a `sigmoid` activation function **and** and binary cross entropy loss in one function. \n",
        "\n",
        "So, our final output layer should not have any activation function applied to it."
      ]
    },
    {
      "cell_type": "code",
      "metadata": {
        "id": "I1IHmWTaYGzA",
        "colab_type": "code",
        "colab": {}
      },
      "source": [
        "import torch.nn as nn\n",
        "import torch.nn.functional as F\n",
        "\n",
        "class Discriminator(nn.Module):\n",
        "\n",
        "    def __init__(self, input_size, hidden_dim, output_size):\n",
        "        super(Discriminator, self).__init__()\n",
        "\n",
        "        # define params\n",
        "        self.input_size = input_size\n",
        "        \n",
        "        # define all layers\n",
        "        self.fc1 = nn.Linear(input_size, hidden_dim*2)\n",
        "        self.fc2 = nn.Linear(hidden_dim*2, hidden_dim)\n",
        "        self.fc3 = nn.Linear(hidden_dim, output_size)\n",
        "        self.leaky_relu = nn.LeakyReLU()\n",
        "        \n",
        "    def forward(self, x):\n",
        "        # flatten image\n",
        "        x = x.view(-1, self.input_size)\n",
        "        x = self.leaky_relu(self.fc1(x))\n",
        "        x = self.leaky_relu(self.fc2(x))\n",
        "        x = self.fc3(x)\n",
        "        \n",
        "        # pass x through all layers\n",
        "        # apply leaky relu activation to all hidden layers\n",
        "\n",
        "        return x\n"
      ],
      "execution_count": 0,
      "outputs": []
    },
    {
      "cell_type": "markdown",
      "metadata": {
        "id": "PBySXtCyYGzD",
        "colab_type": "text"
      },
      "source": [
        "## Generator\n",
        "\n",
        "The generator network will be almost exactly the same as the discriminator network, except that we're applying a [tanh activation function](https://pytorch.org/docs/stable/nn.html#tanh) to our output layer.\n",
        "\n",
        "#### tanh Output\n",
        "The generator has been found to perform the best with $tanh$ for the generator output, which scales the output to be between -1 and 1, instead of 0 and 1. \n",
        "\n",
        "<img src='https://github.com/sumanyurosha/deep-learning-v2-pytorch/blob/master/gan-mnist/assets/tanh_fn.png?raw=1' width=40% />\n",
        "\n",
        "Recall that we also want these outputs to be comparable to the *real* input pixel values, which are read in as normalized values between 0 and 1. \n",
        "> So, we'll also have to **scale our real input images to have pixel values between -1 and 1** when we train the discriminator. \n",
        "\n",
        "I'll do this in the training loop, later on."
      ]
    },
    {
      "cell_type": "code",
      "metadata": {
        "id": "LjmyvIs8YGzE",
        "colab_type": "code",
        "colab": {}
      },
      "source": [
        "class Generator(nn.Module):\n",
        "\n",
        "    def __init__(self, input_size, hidden_dim, output_size):\n",
        "        super(Generator, self).__init__()\n",
        "        \n",
        "        # define all layers\n",
        "        self.fc1 = nn.Linear(input_size, hidden_dim)\n",
        "        self.fc2 = nn.Linear(hidden_dim, hidden_dim*2)\n",
        "        self.fc3 = nn.Linear(hidden_dim*2, output_size)\n",
        "        self.leaky_relu = nn.LeakyReLU()\n",
        "        self.tanh = nn.Tanh()\n",
        "        \n",
        "\n",
        "    def forward(self, x):\n",
        "        # pass x through all layers\n",
        "        x = self.leaky_relu(self.fc1(x))\n",
        "        x = self.leaky_relu(self.fc2(x))\n",
        "        x = self.tanh(self.fc3(x))\n",
        "        \n",
        "        # final layer should have tanh applied\n",
        "        \n",
        "        return x"
      ],
      "execution_count": 0,
      "outputs": []
    },
    {
      "cell_type": "markdown",
      "metadata": {
        "id": "vnieLgcnYGzI",
        "colab_type": "text"
      },
      "source": [
        "## Model hyperparameters"
      ]
    },
    {
      "cell_type": "code",
      "metadata": {
        "id": "PZaGb0erYGzJ",
        "colab_type": "code",
        "colab": {}
      },
      "source": [
        "# Discriminator hyperparams\n",
        "\n",
        "# Size of input image to discriminator (28*28)\n",
        "input_size = 784\n",
        "# Size of discriminator output (real or fake)\n",
        "d_output_size = 1\n",
        "# Size of *last* hidden layer in the discriminator\n",
        "d_hidden_size = 128\n",
        "\n",
        "# Generator hyperparams\n",
        "\n",
        "# Size of latent vector to give to generator\n",
        "z_size = 64\n",
        "# Size of discriminator output (generated image)\n",
        "g_output_size = 784\n",
        "# Size of *first* hidden layer in the generator\n",
        "g_hidden_size = 128"
      ],
      "execution_count": 0,
      "outputs": []
    },
    {
      "cell_type": "markdown",
      "metadata": {
        "id": "ctnK8Wz-YGzM",
        "colab_type": "text"
      },
      "source": [
        "## Build complete network\n",
        "\n",
        "Now we're instantiating the discriminator and generator from the classes defined above. Make sure you've passed in the correct input arguments."
      ]
    },
    {
      "cell_type": "code",
      "metadata": {
        "id": "H6jrBGvnYGzN",
        "colab_type": "code",
        "colab": {
          "base_uri": "https://localhost:8080/",
          "height": 255
        },
        "outputId": "509c1465-8694-4179-a1d1-1988d1d08857"
      },
      "source": [
        "# instantiate discriminator and generator\n",
        "D = Discriminator(input_size, d_hidden_size, d_output_size)\n",
        "G = Generator(z_size, g_hidden_size, g_output_size)\n",
        "\n",
        "# check that they are as you expect\n",
        "print(D)\n",
        "print()\n",
        "print(G)"
      ],
      "execution_count": 32,
      "outputs": [
        {
          "output_type": "stream",
          "text": [
            "Discriminator(\n",
            "  (fc1): Linear(in_features=784, out_features=256, bias=True)\n",
            "  (fc2): Linear(in_features=256, out_features=128, bias=True)\n",
            "  (fc3): Linear(in_features=128, out_features=1, bias=True)\n",
            "  (leaky_relu): LeakyReLU(negative_slope=0.01)\n",
            ")\n",
            "\n",
            "Generator(\n",
            "  (fc1): Linear(in_features=64, out_features=128, bias=True)\n",
            "  (fc2): Linear(in_features=128, out_features=256, bias=True)\n",
            "  (fc3): Linear(in_features=256, out_features=784, bias=True)\n",
            "  (leaky_relu): LeakyReLU(negative_slope=0.01)\n",
            "  (tanh): Tanh()\n",
            ")\n"
          ],
          "name": "stdout"
        }
      ]
    },
    {
      "cell_type": "markdown",
      "metadata": {
        "id": "z4S43duSYGzP",
        "colab_type": "text"
      },
      "source": [
        "---\n",
        "## Discriminator and Generator Losses\n",
        "\n",
        "Now we need to calculate the losses. \n",
        "\n",
        "### Discriminator Losses\n",
        "\n",
        "> * For the discriminator, the total loss is the sum of the losses for real and fake images, `d_loss = d_real_loss + d_fake_loss`. \n",
        "* Remember that we want the discriminator to output 1 for real images and 0 for fake images, so we need to set up the losses to reflect that.\n",
        "\n",
        "<img src='https://github.com/sumanyurosha/deep-learning-v2-pytorch/blob/master/gan-mnist/assets/gan_pipeline.png?raw=1' width=70% />\n",
        "\n",
        "The losses will by binary cross entropy loss with logits, which we can get with [BCEWithLogitsLoss](https://pytorch.org/docs/stable/nn.html#bcewithlogitsloss). This combines a `sigmoid` activation function **and** and binary cross entropy loss in one function.\n",
        "\n",
        "For the real images, we want `D(real_images) = 1`. That is, we want the discriminator to classify the the real images with a label = 1, indicating that these are real. To help the discriminator generalize better, the labels are **reduced a bit from 1.0 to 0.9**. For this, we'll use the parameter `smooth`; if True, then we should smooth our labels. In PyTorch, this looks like `labels = torch.ones(size) * 0.9`\n",
        "\n",
        "The discriminator loss for the fake data is similar. We want `D(fake_images) = 0`, where the fake images are the _generator output_, `fake_images = G(z)`. \n",
        "\n",
        "### Generator Loss\n",
        "\n",
        "The generator loss will look similar only with flipped labels. The generator's goal is to get `D(fake_images) = 1`. In this case, the labels are **flipped** to represent that the generator is trying to fool the discriminator into thinking that the images it generates (fakes) are real!"
      ]
    },
    {
      "cell_type": "code",
      "metadata": {
        "id": "3Hdwrij9YGzQ",
        "colab_type": "code",
        "colab": {}
      },
      "source": [
        "# Calculate losses\n",
        "def real_loss(D_out, smooth=False):\n",
        "    # compare logits to real labels\n",
        "    # smooth labels if smooth=True\n",
        "    batch_size = D_out.size(0)\n",
        "\n",
        "    if(smooth == True):\n",
        "        labels = torch.ones(batch_size) * 0.9\n",
        "    else:\n",
        "        labels = torch.ones(batch_size)\n",
        "\n",
        "    criterion = nn.BCEWithLogitsLoss()\n",
        "    loss = criterion(D_out.squeeze(), labels)\n",
        "\n",
        "    return loss\n",
        "\n",
        "def fake_loss(D_out):\n",
        "    # compare logits to fake labels\n",
        "    batch_size = D_out.size(0)\n",
        "    labels = torch.zeros(batch_size)\n",
        "    criterion = nn.BCEWithLogitsLoss()\n",
        "    loss = criterion(D_out.squeeze(), labels)\n",
        "\n",
        "    return loss"
      ],
      "execution_count": 0,
      "outputs": []
    },
    {
      "cell_type": "markdown",
      "metadata": {
        "id": "TAIajCCSYGzS",
        "colab_type": "text"
      },
      "source": [
        "## Optimizers\n",
        "\n",
        "We want to update the generator and discriminator variables separately. So, we'll define two separate Adam optimizers."
      ]
    },
    {
      "cell_type": "code",
      "metadata": {
        "scrolled": true,
        "id": "6q_9u_xDYGzT",
        "colab_type": "code",
        "colab": {}
      },
      "source": [
        "import torch.optim as optim\n",
        "\n",
        "# learning rate for optimizers\n",
        "lr = 0.002\n",
        "\n",
        "# Create optimizers for the discriminator and generator\n",
        "d_optimizer = optim.Adam(D.parameters(), lr)\n",
        "g_optimizer = optim.Adam(G.parameters(), lr)"
      ],
      "execution_count": 0,
      "outputs": []
    },
    {
      "cell_type": "markdown",
      "metadata": {
        "id": "Nm0rjSHcYGzY",
        "colab_type": "text"
      },
      "source": [
        "---\n",
        "## Training\n",
        "\n",
        "Training will involve alternating between training the discriminator and the generator. We'll use our functions `real_loss` and `fake_loss` to help us calculate the discriminator losses in all of the following cases.\n",
        "\n",
        "### Discriminator training\n",
        "1. Compute the discriminator loss on real, training images        \n",
        "2. Generate fake images\n",
        "3. Compute the discriminator loss on fake, generated images     \n",
        "4. Add up real and fake loss\n",
        "5. Perform backpropagation + an optimization step to update the discriminator's weights\n",
        "\n",
        "### Generator training\n",
        "1. Generate fake images\n",
        "2. Compute the discriminator loss on fake images, using **flipped** labels!\n",
        "3. Perform backpropagation + an optimization step to update the generator's weights\n",
        "\n",
        "#### Saving Samples\n",
        "\n",
        "As we train, we'll also print out some loss statistics and save some generated \"fake\" samples."
      ]
    },
    {
      "cell_type": "code",
      "metadata": {
        "scrolled": true,
        "id": "e07fD3XZYGzZ",
        "colab_type": "code",
        "colab": {
          "base_uri": "https://localhost:8080/",
          "height": 1000
        },
        "outputId": "b74c76ea-64a7-4ab5-b736-5de4c5b7d279"
      },
      "source": [
        "import pickle as pkl\n",
        "\n",
        "# training hyperparams\n",
        "num_epochs = 40\n",
        "\n",
        "# keep track of loss and generated, \"fake\" samples\n",
        "samples = []\n",
        "losses = []\n",
        "\n",
        "print_every = 400\n",
        "\n",
        "# Get some fixed data for sampling. These are images that are held\n",
        "# constant throughout training, and allow us to inspect the model's performance\n",
        "sample_size=16\n",
        "fixed_z = np.random.uniform(-1, 1, size=(sample_size, z_size))\n",
        "fixed_z = torch.from_numpy(fixed_z).float()\n",
        "\n",
        "# train the network\n",
        "D.train()\n",
        "G.train()\n",
        "for epoch in range(num_epochs):\n",
        "    \n",
        "    for batch_i, (real_images, _) in enumerate(train_loader):\n",
        "                \n",
        "        batch_size = real_images.size(0)\n",
        "        \n",
        "        ## Important rescaling step ## \n",
        "        real_images = real_images*2 - 1  # rescale input images from [0,1) to [-1, 1)\n",
        "        \n",
        "        # ============================================ #\n",
        "        #            TRAIN THE DISCRIMINATOR           #\n",
        "        # ============================================ #\n",
        "                \n",
        "        d_optimizer.zero_grad()\n",
        "\n",
        "        # 1. Train with real images\n",
        "        d_out = D(real_images)\n",
        "\n",
        "        # Compute the discriminator losses on real images\n",
        "        # use smoothed labels\n",
        "        r_loss = real_loss(d_out, smooth=True)\n",
        "        \n",
        "        # 2. Train with fake images\n",
        "        \n",
        "        # Generate fake images\n",
        "        z = np.random.uniform(-1, 1, size=(batch_size, z_size))\n",
        "        z = torch.from_numpy(z).float()\n",
        "        fake_images = G(z)\n",
        "        \n",
        "        # Compute the discriminator losses on fake images  \n",
        "        d_out = D(fake_images)\n",
        "        f_loss = fake_loss(d_out)\n",
        "        \n",
        "        # add up real and fake losses and perform backprop\n",
        "        d_loss = r_loss + f_loss\n",
        "        d_loss.backward()\n",
        "        d_optimizer.step()\n",
        "        \n",
        "        \n",
        "        # =========================================\n",
        "        #            TRAIN THE GENERATOR\n",
        "        # =========================================\n",
        "        \n",
        "        # 1. Train with fake images and flipped labels\n",
        "        g_optimizer.zero_grad()\n",
        "\n",
        "        # Generate fake images\n",
        "        z = np.random.uniform(-1, 1, size=(batch_size, z_size))\n",
        "        z = torch.from_numpy(z).float()\n",
        "        fake_images = G(z)\n",
        "        \n",
        "        # Compute the discriminator losses on fake images \n",
        "        # using flipped labels!\n",
        "        d_out = D(fake_images)\n",
        "\n",
        "        # perform backprop\n",
        "        g_loss = real_loss(d_out)\n",
        "        g_loss.backward()\n",
        "        g_optimizer.step()\n",
        "        \n",
        "\n",
        "        # Print some loss stats\n",
        "        if batch_i % print_every == 0:\n",
        "            # print discriminator and generator loss\n",
        "            print('Epoch [{:5d}/{:5d}] | d_loss: {:6.4f} | g_loss: {:6.4f}'.format(\n",
        "                    epoch+1, num_epochs, d_loss.item(), g_loss.item()))\n",
        "\n",
        "    \n",
        "    ## AFTER EACH EPOCH##\n",
        "    # append discriminator loss and generator loss\n",
        "    losses.append((d_loss.item(), g_loss.item()))\n",
        "    \n",
        "    # generate and save sample, fake images\n",
        "    G.eval() # eval mode for generating samples\n",
        "    samples_z = G(fixed_z)\n",
        "    samples.append(samples_z)\n",
        "    G.train() # back to train mode\n",
        "\n",
        "\n",
        "# Save training generator samples\n",
        "with open('train_samples.pkl', 'wb') as f:\n",
        "    pkl.dump(samples, f)"
      ],
      "execution_count": 36,
      "outputs": [
        {
          "output_type": "stream",
          "text": [
            "Epoch [    1/   40] | d_loss: 1.0326 | g_loss: 0.7148\n",
            "Epoch [    1/   40] | d_loss: 1.7919 | g_loss: 0.9598\n",
            "Epoch [    1/   40] | d_loss: 0.7868 | g_loss: 3.8577\n",
            "Epoch [    2/   40] | d_loss: 0.8124 | g_loss: 7.3141\n",
            "Epoch [    2/   40] | d_loss: 0.3486 | g_loss: 12.2190\n",
            "Epoch [    2/   40] | d_loss: 1.7510 | g_loss: 4.2663\n",
            "Epoch [    3/   40] | d_loss: 0.3885 | g_loss: 6.0823\n",
            "Epoch [    3/   40] | d_loss: 0.4688 | g_loss: 10.2932\n",
            "Epoch [    3/   40] | d_loss: 0.4413 | g_loss: 5.0537\n",
            "Epoch [    4/   40] | d_loss: 1.6760 | g_loss: 6.0558\n",
            "Epoch [    4/   40] | d_loss: 0.6110 | g_loss: 2.7866\n",
            "Epoch [    4/   40] | d_loss: 0.5564 | g_loss: 3.9148\n",
            "Epoch [    5/   40] | d_loss: 0.7815 | g_loss: 4.9000\n",
            "Epoch [    5/   40] | d_loss: 1.1478 | g_loss: 3.3300\n",
            "Epoch [    5/   40] | d_loss: 0.7107 | g_loss: 3.0811\n",
            "Epoch [    6/   40] | d_loss: 0.9312 | g_loss: 2.6577\n",
            "Epoch [    6/   40] | d_loss: 1.0311 | g_loss: 2.1946\n",
            "Epoch [    6/   40] | d_loss: 0.9472 | g_loss: 2.6944\n",
            "Epoch [    7/   40] | d_loss: 0.8700 | g_loss: 1.1978\n",
            "Epoch [    7/   40] | d_loss: 0.6000 | g_loss: 2.9326\n",
            "Epoch [    7/   40] | d_loss: 0.8020 | g_loss: 3.0498\n",
            "Epoch [    8/   40] | d_loss: 0.7772 | g_loss: 2.2695\n",
            "Epoch [    8/   40] | d_loss: 0.9668 | g_loss: 1.9605\n",
            "Epoch [    8/   40] | d_loss: 0.7986 | g_loss: 3.1187\n",
            "Epoch [    9/   40] | d_loss: 0.9587 | g_loss: 1.9668\n",
            "Epoch [    9/   40] | d_loss: 0.7920 | g_loss: 1.7252\n",
            "Epoch [    9/   40] | d_loss: 0.8821 | g_loss: 3.3076\n",
            "Epoch [   10/   40] | d_loss: 1.2120 | g_loss: 1.7370\n",
            "Epoch [   10/   40] | d_loss: 0.7324 | g_loss: 2.1812\n",
            "Epoch [   10/   40] | d_loss: 0.6739 | g_loss: 2.3390\n",
            "Epoch [   11/   40] | d_loss: 0.7966 | g_loss: 2.3236\n",
            "Epoch [   11/   40] | d_loss: 1.0826 | g_loss: 2.0915\n",
            "Epoch [   11/   40] | d_loss: 0.7252 | g_loss: 2.1107\n",
            "Epoch [   12/   40] | d_loss: 0.8200 | g_loss: 2.3267\n",
            "Epoch [   12/   40] | d_loss: 0.8265 | g_loss: 1.6815\n",
            "Epoch [   12/   40] | d_loss: 0.7538 | g_loss: 2.5825\n",
            "Epoch [   13/   40] | d_loss: 0.8802 | g_loss: 2.2373\n",
            "Epoch [   13/   40] | d_loss: 0.8006 | g_loss: 2.1208\n",
            "Epoch [   13/   40] | d_loss: 0.8403 | g_loss: 1.6101\n",
            "Epoch [   14/   40] | d_loss: 0.9515 | g_loss: 1.9986\n",
            "Epoch [   14/   40] | d_loss: 0.9190 | g_loss: 2.0598\n",
            "Epoch [   14/   40] | d_loss: 0.8578 | g_loss: 2.1082\n",
            "Epoch [   15/   40] | d_loss: 0.9516 | g_loss: 2.2347\n",
            "Epoch [   15/   40] | d_loss: 0.8116 | g_loss: 1.9127\n",
            "Epoch [   15/   40] | d_loss: 0.8902 | g_loss: 1.6418\n",
            "Epoch [   16/   40] | d_loss: 1.0599 | g_loss: 1.5787\n",
            "Epoch [   16/   40] | d_loss: 0.9689 | g_loss: 2.1071\n",
            "Epoch [   16/   40] | d_loss: 1.1090 | g_loss: 1.7951\n",
            "Epoch [   17/   40] | d_loss: 1.2167 | g_loss: 1.5473\n",
            "Epoch [   17/   40] | d_loss: 1.0222 | g_loss: 1.5313\n",
            "Epoch [   17/   40] | d_loss: 0.8122 | g_loss: 1.8540\n",
            "Epoch [   18/   40] | d_loss: 0.9631 | g_loss: 1.9192\n",
            "Epoch [   18/   40] | d_loss: 0.9273 | g_loss: 1.5520\n",
            "Epoch [   18/   40] | d_loss: 1.0388 | g_loss: 1.9588\n",
            "Epoch [   19/   40] | d_loss: 0.9375 | g_loss: 2.1798\n",
            "Epoch [   19/   40] | d_loss: 0.9066 | g_loss: 1.9201\n",
            "Epoch [   19/   40] | d_loss: 1.1529 | g_loss: 1.6754\n",
            "Epoch [   20/   40] | d_loss: 1.0275 | g_loss: 1.9845\n",
            "Epoch [   20/   40] | d_loss: 1.0152 | g_loss: 1.9340\n",
            "Epoch [   20/   40] | d_loss: 1.1607 | g_loss: 1.6850\n",
            "Epoch [   21/   40] | d_loss: 1.1835 | g_loss: 1.3296\n",
            "Epoch [   21/   40] | d_loss: 0.8897 | g_loss: 1.6583\n",
            "Epoch [   21/   40] | d_loss: 1.0747 | g_loss: 1.7310\n",
            "Epoch [   22/   40] | d_loss: 1.1614 | g_loss: 1.7527\n",
            "Epoch [   22/   40] | d_loss: 0.9280 | g_loss: 1.8580\n",
            "Epoch [   22/   40] | d_loss: 1.0390 | g_loss: 1.7790\n",
            "Epoch [   23/   40] | d_loss: 1.1014 | g_loss: 1.5958\n",
            "Epoch [   23/   40] | d_loss: 1.1286 | g_loss: 1.8708\n",
            "Epoch [   23/   40] | d_loss: 0.9727 | g_loss: 1.3798\n",
            "Epoch [   24/   40] | d_loss: 1.1330 | g_loss: 1.5531\n",
            "Epoch [   24/   40] | d_loss: 0.9422 | g_loss: 1.5547\n",
            "Epoch [   24/   40] | d_loss: 1.2182 | g_loss: 1.8586\n",
            "Epoch [   25/   40] | d_loss: 1.1473 | g_loss: 1.4736\n",
            "Epoch [   25/   40] | d_loss: 0.8979 | g_loss: 1.3280\n",
            "Epoch [   25/   40] | d_loss: 1.1623 | g_loss: 1.5055\n",
            "Epoch [   26/   40] | d_loss: 1.1443 | g_loss: 1.7950\n",
            "Epoch [   26/   40] | d_loss: 0.9682 | g_loss: 1.5894\n",
            "Epoch [   26/   40] | d_loss: 0.9228 | g_loss: 1.8165\n",
            "Epoch [   27/   40] | d_loss: 1.1517 | g_loss: 1.6945\n",
            "Epoch [   27/   40] | d_loss: 0.9913 | g_loss: 1.8027\n",
            "Epoch [   27/   40] | d_loss: 1.1767 | g_loss: 1.6292\n",
            "Epoch [   28/   40] | d_loss: 1.1084 | g_loss: 1.8038\n",
            "Epoch [   28/   40] | d_loss: 1.0828 | g_loss: 1.1988\n",
            "Epoch [   28/   40] | d_loss: 1.1518 | g_loss: 1.9271\n",
            "Epoch [   29/   40] | d_loss: 1.1632 | g_loss: 1.3252\n",
            "Epoch [   29/   40] | d_loss: 1.0103 | g_loss: 2.1828\n",
            "Epoch [   29/   40] | d_loss: 1.0642 | g_loss: 1.7230\n",
            "Epoch [   30/   40] | d_loss: 1.1270 | g_loss: 1.4956\n",
            "Epoch [   30/   40] | d_loss: 1.0282 | g_loss: 1.5914\n",
            "Epoch [   30/   40] | d_loss: 1.1004 | g_loss: 1.7132\n",
            "Epoch [   31/   40] | d_loss: 0.9736 | g_loss: 1.6801\n",
            "Epoch [   31/   40] | d_loss: 1.0998 | g_loss: 1.7990\n",
            "Epoch [   31/   40] | d_loss: 1.1265 | g_loss: 1.4899\n",
            "Epoch [   32/   40] | d_loss: 1.1501 | g_loss: 1.4062\n",
            "Epoch [   32/   40] | d_loss: 0.9811 | g_loss: 1.4240\n",
            "Epoch [   32/   40] | d_loss: 1.1322 | g_loss: 1.4117\n",
            "Epoch [   33/   40] | d_loss: 1.1678 | g_loss: 1.7931\n",
            "Epoch [   33/   40] | d_loss: 0.9905 | g_loss: 1.5351\n",
            "Epoch [   33/   40] | d_loss: 1.0865 | g_loss: 2.0603\n",
            "Epoch [   34/   40] | d_loss: 1.1864 | g_loss: 1.2699\n",
            "Epoch [   34/   40] | d_loss: 1.0908 | g_loss: 1.5767\n",
            "Epoch [   34/   40] | d_loss: 1.2050 | g_loss: 1.2299\n",
            "Epoch [   35/   40] | d_loss: 1.0802 | g_loss: 1.5708\n",
            "Epoch [   35/   40] | d_loss: 0.9760 | g_loss: 1.9596\n",
            "Epoch [   35/   40] | d_loss: 1.2326 | g_loss: 1.4534\n",
            "Epoch [   36/   40] | d_loss: 1.2603 | g_loss: 1.8220\n",
            "Epoch [   36/   40] | d_loss: 1.1234 | g_loss: 1.3259\n",
            "Epoch [   36/   40] | d_loss: 1.1242 | g_loss: 1.1576\n",
            "Epoch [   37/   40] | d_loss: 1.1819 | g_loss: 1.7606\n",
            "Epoch [   37/   40] | d_loss: 1.1623 | g_loss: 1.3326\n",
            "Epoch [   37/   40] | d_loss: 1.1917 | g_loss: 1.4861\n",
            "Epoch [   38/   40] | d_loss: 1.2406 | g_loss: 1.4922\n",
            "Epoch [   38/   40] | d_loss: 1.0954 | g_loss: 1.3093\n",
            "Epoch [   38/   40] | d_loss: 1.1753 | g_loss: 1.3044\n",
            "Epoch [   39/   40] | d_loss: 1.1787 | g_loss: 1.9008\n",
            "Epoch [   39/   40] | d_loss: 1.1085 | g_loss: 1.2907\n",
            "Epoch [   39/   40] | d_loss: 1.2553 | g_loss: 1.4610\n",
            "Epoch [   40/   40] | d_loss: 1.2520 | g_loss: 1.6862\n",
            "Epoch [   40/   40] | d_loss: 1.0048 | g_loss: 1.4386\n",
            "Epoch [   40/   40] | d_loss: 1.1397 | g_loss: 1.6073\n"
          ],
          "name": "stdout"
        }
      ]
    },
    {
      "cell_type": "markdown",
      "metadata": {
        "id": "BL3bmfOIYGzb",
        "colab_type": "text"
      },
      "source": [
        "## Training loss\n",
        "\n",
        "Here we'll plot the training losses for the generator and discriminator, recorded after each epoch."
      ]
    },
    {
      "cell_type": "code",
      "metadata": {
        "id": "JMmGbXBYYGzc",
        "colab_type": "code",
        "colab": {
          "base_uri": "https://localhost:8080/",
          "height": 298
        },
        "outputId": "96acc186-b440-41ba-9114-ea4e92c5a841"
      },
      "source": [
        "fig, ax = plt.subplots()\n",
        "losses = np.array(losses)\n",
        "plt.plot(losses.T[0], label='Discriminator')\n",
        "plt.plot(losses.T[1], label='Generator')\n",
        "plt.title(\"Training Losses\")\n",
        "plt.legend()"
      ],
      "execution_count": 37,
      "outputs": [
        {
          "output_type": "execute_result",
          "data": {
            "text/plain": [
              "<matplotlib.legend.Legend at 0x7fb2c269c0f0>"
            ]
          },
          "metadata": {
            "tags": []
          },
          "execution_count": 37
        },
        {
          "output_type": "display_data",
          "data": {
            "image/png": "[encoded data removed]",
            "text/plain": [
              "<Figure size 432x288 with 1 Axes>"
            ]
          },
          "metadata": {
            "tags": []
          }
        }
      ]
    },
    {
      "cell_type": "markdown",
      "metadata": {
        "id": "GHKKG5mSYGze",
        "colab_type": "text"
      },
      "source": [
        "## Generator samples from training\n",
        "\n",
        "Here we can view samples of images from the generator. First we'll look at the images we saved during training."
      ]
    },
    {
      "cell_type": "code",
      "metadata": {
        "id": "b7U3JbYHYGzf",
        "colab_type": "code",
        "colab": {}
      },
      "source": [
        "# helper function for viewing a list of passed in sample images\n",
        "def view_samples(epoch, samples):\n",
        "    fig, axes = plt.subplots(figsize=(7,7), nrows=4, ncols=4, sharey=True, sharex=True)\n",
        "    for ax, img in zip(axes.flatten(), samples[epoch]):\n",
        "        img = img.detach()\n",
        "        ax.xaxis.set_visible(False)\n",
        "        ax.yaxis.set_visible(False)\n",
        "        im = ax.imshow(img.reshape((28,28)), cmap='Greys_r')"
      ],
      "execution_count": 0,
      "outputs": []
    },
    {
      "cell_type": "code",
      "metadata": {
        "id": "ySV6lC4cYGzh",
        "colab_type": "code",
        "colab": {}
      },
      "source": [
        "# Load samples from generator, taken while training\n",
        "with open('train_samples.pkl', 'rb') as f:\n",
        "    samples = pkl.load(f)"
      ],
      "execution_count": 0,
      "outputs": []
    },
    {
      "cell_type": "markdown",
      "metadata": {
        "id": "9WKGpbhWYGzk",
        "colab_type": "text"
      },
      "source": [
        "These are samples from the final training epoch. You can see the generator is able to reproduce numbers like 1, 7, 3, 2. Since this is just a sample, it isn't representative of the full range of images this generator can make."
      ]
    },
    {
      "cell_type": "code",
      "metadata": {
        "id": "1IWvbGH7YGzk",
        "colab_type": "code",
        "colab": {
          "base_uri": "https://localhost:8080/",
          "height": 415
        },
        "outputId": "8f799957-0b7d-49ec-80f3-0338cca13a21"
      },
      "source": [
        "# -1 indicates final epoch's samples (the last in the list)\n",
        "view_samples(-1, samples)"
      ],
      "execution_count": 45,
      "outputs": [
        {
          "output_type": "display_data",
          "data": {
            "image/png": "[encoded data removed]",
            "text/plain": [
              "<Figure size 504x504 with 16 Axes>"
            ]
          },
          "metadata": {
            "tags": []
          }
        }
      ]
    },
    {
      "cell_type": "markdown",
      "metadata": {
        "id": "C9bk2Qk7YGzo",
        "colab_type": "text"
      },
      "source": [
        "Below I'm showing the generated images as the network was training, every 10 epochs."
      ]
    },
    {
      "cell_type": "code",
      "metadata": {
        "id": "ha25291aYGzp",
        "colab_type": "code",
        "colab": {
          "base_uri": "https://localhost:8080/",
          "height": 687
        },
        "outputId": "e96c650f-5352-4acc-cec0-d59079c8e004"
      },
      "source": [
        "rows = 10 # split epochs into 10, so 100/10 = every 10 epochs\n",
        "cols = 6\n",
        "fig, axes = plt.subplots(figsize=(7,12), nrows=rows, ncols=cols, sharex=True, sharey=True)\n",
        "\n",
        "for sample, ax_row in zip(samples[::int(len(samples)/rows)], axes):\n",
        "    for img, ax in zip(sample[::int(len(sample)/cols)], ax_row):\n",
        "        img = img.detach()\n",
        "        ax.imshow(img.reshape((28,28)), cmap='Greys_r')\n",
        "        ax.xaxis.set_visible(False)\n",
        "        ax.yaxis.set_visible(False)"
      ],
      "execution_count": 41,
      "outputs": [
        {
          "output_type": "display_data",
          "data": {
            "image/png": "[encoded data removed]",
            "text/plain": [
              "<Figure size 504x864 with 60 Axes>"
            ]
          },
          "metadata": {
            "tags": []
          }
        }
      ]
    },
    {
      "cell_type": "markdown",
      "metadata": {
        "id": "j-LHQXnwYGzs",
        "colab_type": "text"
      },
      "source": [
        "It starts out as all noise. Then it learns to make only the center white and the rest black. You can start to see some number like structures appear out of the noise like 1s and 9s."
      ]
    },
    {
      "cell_type": "markdown",
      "metadata": {
        "id": "mGGDnW3GYGzt",
        "colab_type": "text"
      },
      "source": [
        "## Sampling from the generator\n",
        "\n",
        "We can also get completely new images from the generator by using the checkpoint we saved after training. **We just need to pass in a new latent vector $z$ and we'll get new samples**!"
      ]
    },
    {
      "cell_type": "code",
      "metadata": {
        "id": "FYrypzLFYGzu",
        "colab_type": "code",
        "colab": {
          "base_uri": "https://localhost:8080/",
          "height": 415
        },
        "outputId": "39516c08-47c3-4456-cd3b-2ee9c0be5d7f"
      },
      "source": [
        "# randomly generated, new latent vectors\n",
        "sample_size=16\n",
        "rand_z = np.random.uniform(-1, 1, size=(sample_size, z_size))\n",
        "rand_z = torch.from_numpy(rand_z).float()\n",
        "\n",
        "G.eval() # eval mode\n",
        "# generated samples\n",
        "rand_images = G(rand_z)\n",
        "\n",
        "# 0 indicates the first set of samples in the passed in list\n",
        "# and we only have one batch of samples, here\n",
        "view_samples(0, [rand_images])"
      ],
      "execution_count": 52,
      "outputs": [
        {
          "output_type": "display_data",
          "data": {
            "image/png": "[encoded data removed]",
            "text/plain": [
              "<Figure size 504x504 with 16 Axes>"
            ]
          },
          "metadata": {
            "tags": []
          }
        }
      ]
    }
  ]
}