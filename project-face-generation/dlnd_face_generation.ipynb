{
  "nbformat": 4,
  "nbformat_minor": 0,
  "metadata": {
    "kernelspec": {
      "name": "python3",
      "display_name": "Python 3"
    },
    "language_info": {
      "codemirror_mode": {
        "name": "ipython",
        "version": 3
      },
      "file_extension": ".py",
      "mimetype": "text/x-python",
      "name": "python",
      "nbconvert_exporter": "python",
      "pygments_lexer": "ipython3",
      "version": "3.6.3"
    },
    "colab": {
      "name": "dlnd_face_generation.ipynb",
      "provenance": [],
      "include_colab_link": true
    },
    "accelerator": "GPU"
  },
  "cells": [
    {
      "cell_type": "markdown",
      "metadata": {
        "id": "view-in-github",
        "colab_type": "text"
      },
      "source": [
        "<a href=\"https://colab.research.google.com/github/sumanyurosha/deep-learning-v2-pytorch/blob/master/project-face-generation/dlnd_face_generation.ipynb\" target=\"_parent\"><img src=\"https://colab.research.google.com/assets/colab-badge.svg\" alt=\"Open In Colab\"/></a>"
      ]
    },
    {
      "cell_type": "markdown",
      "metadata": {
        "id": "o3YUAYX2hgyA",
        "colab_type": "text"
      },
      "source": [
        "# Face Generation\n",
        "\n",
        "In this project, you'll define and train a DCGAN on a dataset of faces. Your goal is to get a generator network to generate *new* images of faces that look as realistic as possible!\n",
        "\n",
        "The project will be broken down into a series of tasks from **loading in data to defining and training adversarial networks**. At the end of the notebook, you'll be able to visualize the results of your trained Generator to see how it performs; your generated samples should look like fairly realistic faces with small amounts of noise.\n",
        "\n",
        "### Get the Data\n",
        "\n",
        "You'll be using the [CelebFaces Attributes Dataset (CelebA)](http://mmlab.ie.cuhk.edu.hk/projects/CelebA.html) to train your adversarial networks.\n",
        "\n",
        "This dataset is more complex than the number datasets (like MNIST or SVHN) you've been working with, and so, you should prepare to define deeper networks and train them for a longer time to get good results. It is suggested that you utilize a GPU for training.\n",
        "\n",
        "### Pre-processed Data\n",
        "\n",
        "Since the project's main focus is on building the GANs, we've done *some* of the pre-processing for you. Each of the CelebA images has been cropped to remove parts of the image that don't include a face, then resized down to 64x64x3 NumPy images. Some sample data is show below.\n",
        "\n",
        "<img src='https://github.com/sumanyurosha/deep-learning-v2-pytorch/blob/master/project-face-generation/assets/processed_face_data.png?raw=1' width=60% />\n",
        "\n",
        "> If you are working locally, you can download this data [by clicking here](https://s3.amazonaws.com/video.udacity-data.com/topher/2018/November/5be7eb6f_processed-celeba-small/processed-celeba-small.zip)\n",
        "\n",
        "This is a zip file that you'll need to extract in the home directory of this notebook for further loading and processing. After extracting the data, you should be left with a directory of data `processed_celeba_small/`"
      ]
    },
    {
      "cell_type": "code",
      "metadata": {
        "id": "C-ZjFCfwQeGO",
        "colab_type": "code",
        "colab": {
          "base_uri": "https://localhost:8080/",
          "height": 204
        },
        "outputId": "7cc3f49c-f706-4aac-e2a4-eb1d45e866a4"
      },
      "source": [
        "!wget -c \"https://s3.amazonaws.com/video.udacity-data.com/topher/2018/November/5be7eb6f_processed-celeba-small/processed-celeba-small.zip\""
      ],
      "execution_count": 2,
      "outputs": [
        {
          "output_type": "stream",
          "text": [
            "--2019-12-26 09:54:44--  https://s3.amazonaws.com/video.udacity-data.com/topher/2018/November/5be7eb6f_processed-celeba-small/processed-celeba-small.zip\n",
            "Resolving s3.amazonaws.com (s3.amazonaws.com)... 52.216.98.117\n",
            "Connecting to s3.amazonaws.com (s3.amazonaws.com)|52.216.98.117|:443... connected.\n",
            "HTTP request sent, awaiting response... 200 OK\n",
            "Length: 247694507 (236M) [application/zip]\n",
            "Saving to: ‘processed-celeba-small.zip’\n",
            "\n",
            "processed-celeba-sm 100%[===================>] 236.22M  11.1MB/s    in 23s     \n",
            "\n",
            "2019-12-26 09:55:09 (10.1 MB/s) - ‘processed-celeba-small.zip’ saved [247694507/247694507]\n",
            "\n"
          ],
          "name": "stdout"
        }
      ]
    },
    {
      "cell_type": "code",
      "metadata": {
        "id": "3CCPFHq4hgyD",
        "colab_type": "code",
        "colab": {}
      },
      "source": [
        "# can comment out after executing\n",
        "!unzip -qq processed-celeba-small.zip"
      ],
      "execution_count": 0,
      "outputs": []
    },
    {
      "cell_type": "code",
      "metadata": {
        "id": "jiGm0C0lJaM3",
        "colab_type": "code",
        "colab": {
          "base_uri": "https://localhost:8080/",
          "height": 204
        },
        "outputId": "cea1e0f6-1219-48e8-f889-e6d7f0d8c8e5"
      },
      "source": [
        "!wget -c https://raw.githubusercontent.com/sumanyurosha/deep-learning-v2-pytorch/master/project-face-generation/problem_unittests.py"
      ],
      "execution_count": 4,
      "outputs": [
        {
          "output_type": "stream",
          "text": [
            "--2019-12-26 09:55:24--  https://raw.githubusercontent.com/sumanyurosha/deep-learning-v2-pytorch/master/project-face-generation/problem_unittests.py\n",
            "Resolving raw.githubusercontent.com (raw.githubusercontent.com)... 151.101.0.133, 151.101.64.133, 151.101.128.133, ...\n",
            "Connecting to raw.githubusercontent.com (raw.githubusercontent.com)|151.101.0.133|:443... connected.\n",
            "HTTP request sent, awaiting response... 200 OK\n",
            "Length: 2113 (2.1K) [text/plain]\n",
            "Saving to: ‘problem_unittests.py’\n",
            "\n",
            "\rproblem_unittests.p   0%[                    ]       0  --.-KB/s               \rproblem_unittests.p 100%[===================>]   2.06K  --.-KB/s    in 0s      \n",
            "\n",
            "2019-12-26 09:55:25 (59.4 MB/s) - ‘problem_unittests.py’ saved [2113/2113]\n",
            "\n"
          ],
          "name": "stdout"
        }
      ]
    },
    {
      "cell_type": "code",
      "metadata": {
        "id": "S1AWi9ERhgyI",
        "colab_type": "code",
        "colab": {}
      },
      "source": [
        "data_dir = 'processed_celeba_small/'\n",
        "\"\"\"\n",
        "DON'T MODIFY ANYTHING IN THIS CELL\n",
        "\"\"\"\n",
        "import pickle as pkl\n",
        "import matplotlib.pyplot as plt\n",
        "import numpy as np\n",
        "import problem_unittests as tests\n",
        "#import helper\n",
        "\n",
        "%matplotlib inline"
      ],
      "execution_count": 0,
      "outputs": []
    },
    {
      "cell_type": "markdown",
      "metadata": {
        "id": "bicoXsRXhgyP",
        "colab_type": "text"
      },
      "source": [
        "## Visualize the CelebA Data\n",
        "\n",
        "The [CelebA](http://mmlab.ie.cuhk.edu.hk/projects/CelebA.html) dataset contains over 200,000 celebrity images with annotations. Since you're going to be generating faces, you won't need the annotations, you'll only need the images. Note that these are color images with [3 color channels (RGB)](https://en.wikipedia.org/wiki/Channel_(digital_image)#RGB_Images) each.\n",
        "\n",
        "### Pre-process and Load the Data\n",
        "\n",
        "Since the project's main focus is on building the GANs, we've done *some* of the pre-processing for you. Each of the CelebA images has been cropped to remove parts of the image that don't include a face, then resized down to 64x64x3 NumPy images. This *pre-processed* dataset is a smaller subset of the very large CelebA data.\n",
        "\n",
        "> There are a few other steps that you'll need to **transform** this data and create a **DataLoader**.\n",
        "\n",
        "#### Exercise: Complete the following `get_dataloader` function, such that it satisfies these requirements:\n",
        "\n",
        "* Your images should be square, Tensor images of size `image_size x image_size` in the x and y dimension.\n",
        "* Your function should return a DataLoader that shuffles and batches these Tensor images.\n",
        "\n",
        "#### ImageFolder\n",
        "\n",
        "To create a dataset given a directory of images, it's recommended that you use PyTorch's [ImageFolder](https://pytorch.org/docs/stable/torchvision/datasets.html#imagefolder) wrapper, with a root directory `processed_celeba_small/` and data transformation passed in."
      ]
    },
    {
      "cell_type": "code",
      "metadata": {
        "id": "kxAyZ3LkhgyR",
        "colab_type": "code",
        "colab": {}
      },
      "source": [
        "# necessary imports\n",
        "import torch\n",
        "from torchvision import datasets\n",
        "from torchvision import transforms"
      ],
      "execution_count": 0,
      "outputs": []
    },
    {
      "cell_type": "code",
      "metadata": {
        "id": "95FyGWeNhgyT",
        "colab_type": "code",
        "colab": {}
      },
      "source": [
        "def get_dataloader(batch_size, image_size, data_dir='processed_celeba_small/'):\n",
        "    \"\"\"\n",
        "    Batch the neural network data using DataLoader\n",
        "    :param batch_size: The size of each batch; the number of images in a batch\n",
        "    :param img_size: The square size of the image data (x, y)\n",
        "    :param data_dir: Directory where image data is located\n",
        "    :return: DataLoader with batched data\n",
        "    \"\"\"\n",
        "    \n",
        "    # TODO: Implement function and return a dataloader\n",
        "\n",
        "    transform = transforms.Compose([transforms.Resize(size=(image_size, image_size)),\n",
        "                                    transforms.ToTensor()])\n",
        "\n",
        "    dataset = datasets.ImageFolder(data_dir, transform=transform)\n",
        "\n",
        "    dataloader = torch.utils.data.DataLoader(dataset, batch_size, shuffle=True)\n",
        "    \n",
        "    return dataloader\n"
      ],
      "execution_count": 0,
      "outputs": []
    },
    {
      "cell_type": "markdown",
      "metadata": {
        "id": "ZGYZJ7rahgyW",
        "colab_type": "text"
      },
      "source": [
        "## Create a DataLoader\n",
        "\n",
        "#### Exercise: Create a DataLoader `celeba_train_loader` with appropriate hyperparameters.\n",
        "\n",
        "Call the above function and create a dataloader to view images. \n",
        "* You can decide on any reasonable `batch_size` parameter\n",
        "* Your `image_size` **must be** `32`. Resizing the data to a smaller size will make for faster training, while still creating convincing images of faces!"
      ]
    },
    {
      "cell_type": "code",
      "metadata": {
        "id": "tDj_RBSThgyW",
        "colab_type": "code",
        "colab": {}
      },
      "source": [
        "# Define function hyperparameters\n",
        "batch_size = 32\n",
        "img_size = 32\n",
        "\n",
        "\"\"\"\n",
        "DON'T MODIFY ANYTHING IN THIS CELL THAT IS BELOW THIS LINE\n",
        "\"\"\"\n",
        "# Call your function and get a dataloader\n",
        "celeba_train_loader = get_dataloader(batch_size, img_size)\n"
      ],
      "execution_count": 0,
      "outputs": []
    },
    {
      "cell_type": "markdown",
      "metadata": {
        "id": "iC4dOoDMhgya",
        "colab_type": "text"
      },
      "source": [
        "Next, you can view some images! You should seen square images of somewhat-centered faces.\n",
        "\n",
        "Note: You'll need to convert the Tensor images into a NumPy type and transpose the dimensions to correctly display an image, suggested `imshow` code is below, but it may not be perfect."
      ]
    },
    {
      "cell_type": "code",
      "metadata": {
        "id": "NNngts8phgyb",
        "colab_type": "code",
        "colab": {
          "base_uri": "https://localhost:8080/",
          "height": 248
        },
        "outputId": "66f21a54-3663-4dd1-d293-fa7a7ee1d745"
      },
      "source": [
        "# helper display function\n",
        "def imshow(img):\n",
        "    npimg = img.numpy()\n",
        "    plt.imshow(np.transpose(npimg, (1, 2, 0)))\n",
        "\n",
        "\"\"\"\n",
        "DON'T MODIFY ANYTHING IN THIS CELL THAT IS BELOW THIS LINE\n",
        "\"\"\"\n",
        "# obtain one batch of training images\n",
        "dataiter = iter(celeba_train_loader)\n",
        "images, _ = dataiter.next() # _ for no labels\n",
        "\n",
        "# plot the images in the batch, along with the corresponding labels\n",
        "fig = plt.figure(figsize=(20, 4))\n",
        "plot_size=20\n",
        "for idx in np.arange(plot_size):\n",
        "    ax = fig.add_subplot(2, plot_size/2, idx+1, xticks=[], yticks=[])\n",
        "    imshow(images[idx])"
      ],
      "execution_count": 9,
      "outputs": [
        {
          "output_type": "display_data",
          "data": {
            "image/png": "[encoded data removed]",
            "text/plain": [
              "<Figure size 1440x288 with 20 Axes>"
            ]
          },
          "metadata": {
            "tags": []
          }
        }
      ]
    },
    {
      "cell_type": "markdown",
      "metadata": {
        "id": "FOF8OA_mhgyg",
        "colab_type": "text"
      },
      "source": [
        "#### Exercise: Pre-process your image data and scale it to a pixel range of -1 to 1\n",
        "\n",
        "You need to do a bit of pre-processing; you know that the output of a `tanh` activated generator will contain pixel values in a range from -1 to 1, and so, we need to rescale our training images to a range of -1 to 1. (Right now, they are in a range from 0-1.)"
      ]
    },
    {
      "cell_type": "code",
      "metadata": {
        "id": "kn_KoE4Thgyi",
        "colab_type": "code",
        "colab": {}
      },
      "source": [
        "# TODO: Complete the scale function\n",
        "def scale(x, feature_range=(-1, 1)):\n",
        "    ''' Scale takes in an image x and returns that image, scaled\n",
        "       with a feature_range of pixel values from -1 to 1. \n",
        "       This function assumes that the input x is already scaled from 0-1.'''\n",
        "    # assume x is scaled to (0, 1)\n",
        "    # scale to feature_range and return scaled x\n",
        "    \n",
        "    min, max = feature_range\n",
        "    \n",
        "    x = x * (max - min) + min\n",
        "    \n",
        "    return x\n"
      ],
      "execution_count": 0,
      "outputs": []
    },
    {
      "cell_type": "code",
      "metadata": {
        "id": "QvHnnJMihgym",
        "colab_type": "code",
        "colab": {
          "base_uri": "https://localhost:8080/",
          "height": 51
        },
        "outputId": "140997f3-39a5-47c8-d51c-64a86a0da5ec"
      },
      "source": [
        "\"\"\"\n",
        "DON'T MODIFY ANYTHING IN THIS CELL THAT IS BELOW THIS LINE\n",
        "\"\"\"\n",
        "# check scaled range\n",
        "# should be close to -1 to 1\n",
        "img = images[0]\n",
        "scaled_img = scale(img)\n",
        "\n",
        "print('Min: ', scaled_img.min())\n",
        "print('Max: ', scaled_img.max())"
      ],
      "execution_count": 11,
      "outputs": [
        {
          "output_type": "stream",
          "text": [
            "Min:  tensor(-0.9294)\n",
            "Max:  tensor(0.9216)\n"
          ],
          "name": "stdout"
        }
      ]
    },
    {
      "cell_type": "markdown",
      "metadata": {
        "id": "Eia1fiyuhgyp",
        "colab_type": "text"
      },
      "source": [
        "---\n",
        "# Define the Model\n",
        "\n",
        "A GAN is comprised of two adversarial networks, a discriminator and a generator.\n",
        "\n",
        "## Discriminator\n",
        "\n",
        "Your first task will be to define the discriminator. This is a convolutional classifier like you've built before, only without any maxpooling layers. To deal with this complex data, it's suggested you use a deep network with **normalization**. You are also allowed to create any helper functions that may be useful.\n",
        "\n",
        "#### Exercise: Complete the Discriminator class\n",
        "* The inputs to the discriminator are 32x32x3 tensor images\n",
        "* The output should be a single value that will indicate whether a given image is real or fake\n"
      ]
    },
    {
      "cell_type": "code",
      "metadata": {
        "id": "Q0_ZYnRhhgyq",
        "colab_type": "code",
        "colab": {}
      },
      "source": [
        "import torch.nn as nn\n",
        "import torch.nn.functional as F"
      ],
      "execution_count": 0,
      "outputs": []
    },
    {
      "cell_type": "code",
      "metadata": {
        "id": "KmucWSOsOdbq",
        "colab_type": "code",
        "colab": {}
      },
      "source": [
        "def conv(in_channels, out_channels, kernel_size, stride=2, padding=1, batch_norm=True):\n",
        "    \n",
        "    layers = []\n",
        "\n",
        "    # creating a convolution layer\n",
        "    conv_layer = nn.Conv2d(in_channels, out_channels, kernel_size, stride, padding, bias=False)\n",
        "    layers.append(conv_layer)\n",
        "\n",
        "    # adding batch normalisation only if batch_norm is True\n",
        "    if batch_norm:\n",
        "        layers.append(nn.BatchNorm2d(out_channels))\n",
        "\n",
        "    # using sequential container\n",
        "    return nn.Sequential(*layers)"
      ],
      "execution_count": 0,
      "outputs": []
    },
    {
      "cell_type": "code",
      "metadata": {
        "id": "kL8kTtCJhgys",
        "colab_type": "code",
        "colab": {
          "base_uri": "https://localhost:8080/",
          "height": 34
        },
        "outputId": "383b61e2-8f37-4be9-e03c-b413e5019a5f"
      },
      "source": [
        "class Discriminator(nn.Module):\n",
        "\n",
        "    def __init__(self, conv_dim):\n",
        "        \"\"\"\n",
        "        Initialize the Discriminator Module\n",
        "        :param conv_dim: The depth of the first convolutional layer\n",
        "        \"\"\"\n",
        "        super(Discriminator, self).__init__()\n",
        "\n",
        "        self.conv_dim = conv_dim\n",
        "\n",
        "        # complete init function\n",
        "        # 32x32x3 input\n",
        "        self.conv1 = conv(3, conv_dim, 3, batch_norm=False) # not using batch_norm is first layer\n",
        "        # 16x16x32 output\n",
        "        self.conv2 = conv(conv_dim, conv_dim*2, 3)\n",
        "        # 8X8X64 output\n",
        "        self.conv3 = conv(conv_dim*2, conv_dim*4, 3)\n",
        "        # 4x4x128 output\n",
        "        self.conv4 = conv(conv_dim*4, conv_dim*8, 3)\n",
        "        # 2x2x256 output\n",
        "\n",
        "        # fully-connected layer\n",
        "        self.fc = nn.Linear(conv_dim*8*2*2, 1)\n",
        "\n",
        "        \n",
        "\n",
        "    def forward(self, x):\n",
        "        \"\"\"\n",
        "        Forward propagation of the neural network\n",
        "        :param x: The input to the neural network\n",
        "        :return: Discriminator logits; the output of the neural network\n",
        "        \"\"\"\n",
        "        # define feedforward behavior\n",
        "\n",
        "        # passing the input through a series of convolution layers\n",
        "        # with leaky_relu activation\n",
        "        out = F.leaky_relu(self.conv1(x), 0.2)\n",
        "        out = F.leaky_relu(self.conv2(out), 0.2)\n",
        "        out = F.leaky_relu(self.conv3(out), 0.2)\n",
        "        out = F.leaky_relu(self.conv4(out), 0.2)\n",
        "\n",
        "        # flatten the input\n",
        "        out = out.view(-1, self.conv_dim*8*2*2)\n",
        "\n",
        "        # passing through the final, fully-connected layer\n",
        "        out = self.fc(out)\n",
        "        \n",
        "        return out\n",
        "\n",
        "\n",
        "\"\"\"\n",
        "DON'T MODIFY ANYTHING IN THIS CELL THAT IS BELOW THIS LINE\n",
        "\"\"\"\n",
        "tests.test_discriminator(Discriminator)"
      ],
      "execution_count": 14,
      "outputs": [
        {
          "output_type": "stream",
          "text": [
            "Tests Passed\n"
          ],
          "name": "stdout"
        }
      ]
    },
    {
      "cell_type": "markdown",
      "metadata": {
        "id": "Ei7YW8fdhgyv",
        "colab_type": "text"
      },
      "source": [
        "## Generator\n",
        "\n",
        "The generator should upsample an input and generate a *new* image of the same size as our training data `32x32x3`. This should be mostly transpose convolutional layers with normalization applied to the outputs.\n",
        "\n",
        "#### Exercise: Complete the Generator class\n",
        "* The inputs to the generator are vectors of some length `z_size`\n",
        "* The output should be a image of shape `32x32x3`"
      ]
    },
    {
      "cell_type": "code",
      "metadata": {
        "id": "Fu3YwFQuTsH8",
        "colab_type": "code",
        "colab": {}
      },
      "source": [
        "def deconv(in_channels, out_channels, kernel_size, stride=2, padding=1, batch_norm=True):\n",
        "\n",
        "    layers = []\n",
        "    de_conv = nn.ConvTranspose2d(in_channels, out_channels, kernel_size, stride,\n",
        "                                 padding, bias=False)\n",
        "\n",
        "    # adding transpose convolution layer\n",
        "    layers.append(de_conv)\n",
        "\n",
        "    if batch_norm:\n",
        "        layers.append(nn.BatchNorm2d(out_channels))\n",
        "\n",
        "    # returning the layers in a sequential container\n",
        "    return nn.Sequential(*layers)\n"
      ],
      "execution_count": 0,
      "outputs": []
    },
    {
      "cell_type": "code",
      "metadata": {
        "id": "cctkdSo5hgyw",
        "colab_type": "code",
        "colab": {
          "base_uri": "https://localhost:8080/",
          "height": 68
        },
        "outputId": "677d4369-538b-44c3-8cfa-6ba6019e5081"
      },
      "source": [
        "class Generator(nn.Module):\n",
        "    \n",
        "    def __init__(self, z_size, conv_dim):\n",
        "        \"\"\"\n",
        "        Initialize the Generator Module\n",
        "        :param z_size: The length of the input latent vector, z\n",
        "        :param conv_dim: The depth of the inputs to the *last* transpose convolutional layer\n",
        "        \"\"\"\n",
        "        super(Generator, self).__init__()\n",
        "        self.conv_dim = conv_dim\n",
        "\n",
        "        # complete init function\n",
        "\n",
        "        # creating the expected shape for the network from latent vector z\n",
        "        self.fc = nn.Linear(z_size, conv_dim*8*2*2)\n",
        "\n",
        "        # 256x2x2 input\n",
        "        self.t_conv1 = deconv(conv_dim*8, conv_dim*4, 4)\n",
        "        # 128x4x4 output\n",
        "        self.t_conv2 = deconv(conv_dim*4, conv_dim*2, 4)\n",
        "        # 64x8x8 output\n",
        "        self.t_conv3 = deconv(conv_dim*2, conv_dim, 4)\n",
        "        # 32x16x16 output\n",
        "        self.t_conv4 = deconv(conv_dim, 3, 4, batch_norm=False)\n",
        "        # 3x32x32 output\n",
        "        \n",
        "\n",
        "    def forward(self, x):\n",
        "        \"\"\"\n",
        "        Forward propagation of the neural network\n",
        "        :param x: The input to the neural network     \n",
        "        :return: A 32x32x3 Tensor image as output\n",
        "        \"\"\"\n",
        "        # define feedforward behavior\n",
        "        # \n",
        "        out = self.fc(x)\n",
        "\n",
        "        # reshaping it\n",
        "        out = out.view(-1, self.conv_dim*8, 2, 2)\n",
        "\n",
        "        # passing through de_conv layers\n",
        "        out = F.relu(self.t_conv1(out))\n",
        "        out = F.relu(self.t_conv2(out))\n",
        "        out = F.relu(self.t_conv3(out))\n",
        "        out = F.tanh(self.t_conv4(out))\n",
        "        \n",
        "        return out\n",
        "\n",
        "\"\"\"\n",
        "DON'T MODIFY ANYTHING IN THIS CELL THAT IS BELOW THIS LINE\n",
        "\"\"\"\n",
        "tests.test_generator(Generator)"
      ],
      "execution_count": 16,
      "outputs": [
        {
          "output_type": "stream",
          "text": [
            "Tests Passed\n"
          ],
          "name": "stdout"
        },
        {
          "output_type": "stream",
          "text": [
            "/usr/local/lib/python3.6/dist-packages/torch/nn/functional.py:1340: UserWarning: nn.functional.tanh is deprecated. Use torch.tanh instead.\n",
            "  warnings.warn(\"nn.functional.tanh is deprecated. Use torch.tanh instead.\")\n"
          ],
          "name": "stderr"
        }
      ]
    },
    {
      "cell_type": "markdown",
      "metadata": {
        "id": "L2aw3ca0hgyz",
        "colab_type": "text"
      },
      "source": [
        "## Initialize the weights of your networks\n",
        "\n",
        "To help your models converge, you should initialize the weights of the convolutional and linear layers in your model. From reading the [original DCGAN paper](https://arxiv.org/pdf/1511.06434.pdf), they say:\n",
        "> All weights were initialized from a zero-centered Normal distribution with standard deviation 0.02.\n",
        "\n",
        "So, your next task will be to define a weight initialization function that does just this!\n",
        "\n",
        "You can refer back to the lesson on weight initialization or even consult existing model code, such as that from [the `networks.py` file in CycleGAN Github repository](https://github.com/junyanz/pytorch-CycleGAN-and-pix2pix/blob/master/models/networks.py) to help you complete this function.\n",
        "\n",
        "#### Exercise: Complete the weight initialization function\n",
        "\n",
        "* This should initialize only **convolutional** and **linear** layers\n",
        "* Initialize the weights to a normal distribution, centered around 0, with a standard deviation of 0.02.\n",
        "* The bias terms, if they exist, may be left alone or set to 0."
      ]
    },
    {
      "cell_type": "code",
      "metadata": {
        "id": "bS3mpEP8hgy0",
        "colab_type": "code",
        "colab": {}
      },
      "source": [
        "import random\n",
        "from torch.nn import init\n",
        "\n",
        "def weights_init_normal(m):\n",
        "    \"\"\"\n",
        "    Applies initial weights to certain layers in a model .\n",
        "    The weights are taken from a normal distribution \n",
        "    with mean = 0, std dev = 0.02.\n",
        "    :param m: A module or layer in a network    \n",
        "    \"\"\"\n",
        "    # classname will be something like:\n",
        "    # `Conv`, `BatchNorm2d`, `Linear`, etc.\n",
        "    classname = m.__class__.__name__\n",
        "    \n",
        "    # TODO: Apply initial weights to convolutional and linear layers\n",
        "    if hasattr(m, 'weight'):\n",
        "        init.normal_(m.weight.data, 0.0, 0.02)\n",
        "    "
      ],
      "execution_count": 0,
      "outputs": []
    },
    {
      "cell_type": "markdown",
      "metadata": {
        "collapsed": true,
        "id": "3_579nAYhgy2",
        "colab_type": "text"
      },
      "source": [
        "## Build complete network\n",
        "\n",
        "Define your models' hyperparameters and instantiate the discriminator and generator from the classes defined above. Make sure you've passed in the correct input arguments."
      ]
    },
    {
      "cell_type": "code",
      "metadata": {
        "id": "nkDFjJ5Dhgy3",
        "colab_type": "code",
        "colab": {}
      },
      "source": [
        "\"\"\"\n",
        "DON'T MODIFY ANYTHING IN THIS CELL THAT IS BELOW THIS LINE\n",
        "\"\"\"\n",
        "def build_network(d_conv_dim, g_conv_dim, z_size):\n",
        "    # define discriminator and generator\n",
        "    D = Discriminator(d_conv_dim)\n",
        "    G = Generator(z_size=z_size, conv_dim=g_conv_dim)\n",
        "\n",
        "    # initialize model weights\n",
        "    D.apply(weights_init_normal)\n",
        "    G.apply(weights_init_normal)\n",
        "\n",
        "    print(D)\n",
        "    print()\n",
        "    print(G)\n",
        "    \n",
        "    return D, G\n"
      ],
      "execution_count": 0,
      "outputs": []
    },
    {
      "cell_type": "markdown",
      "metadata": {
        "id": "6o8Jcx3whgy5",
        "colab_type": "text"
      },
      "source": [
        "#### Exercise: Define model hyperparameters"
      ]
    },
    {
      "cell_type": "code",
      "metadata": {
        "id": "WKgPjRw-hgy6",
        "colab_type": "code",
        "colab": {
          "base_uri": "https://localhost:8080/",
          "height": 646
        },
        "outputId": "420040ff-27bc-42c3-8aa7-7506cc64b9de"
      },
      "source": [
        "# Define model hyperparams\n",
        "d_conv_dim = 32\n",
        "g_conv_dim = 32\n",
        "z_size = 100\n",
        "\n",
        "\"\"\"\n",
        "DON'T MODIFY ANYTHING IN THIS CELL THAT IS BELOW THIS LINE\n",
        "\"\"\"\n",
        "D, G = build_network(d_conv_dim, g_conv_dim, z_size)"
      ],
      "execution_count": 28,
      "outputs": [
        {
          "output_type": "stream",
          "text": [
            "Discriminator(\n",
            "  (conv1): Sequential(\n",
            "    (0): Conv2d(3, 32, kernel_size=(3, 3), stride=(2, 2), padding=(1, 1), bias=False)\n",
            "  )\n",
            "  (conv2): Sequential(\n",
            "    (0): Conv2d(32, 64, kernel_size=(3, 3), stride=(2, 2), padding=(1, 1), bias=False)\n",
            "    (1): BatchNorm2d(64, eps=1e-05, momentum=0.1, affine=True, track_running_stats=True)\n",
            "  )\n",
            "  (conv3): Sequential(\n",
            "    (0): Conv2d(64, 128, kernel_size=(3, 3), stride=(2, 2), padding=(1, 1), bias=False)\n",
            "    (1): BatchNorm2d(128, eps=1e-05, momentum=0.1, affine=True, track_running_stats=True)\n",
            "  )\n",
            "  (conv4): Sequential(\n",
            "    (0): Conv2d(128, 256, kernel_size=(3, 3), stride=(2, 2), padding=(1, 1), bias=False)\n",
            "    (1): BatchNorm2d(256, eps=1e-05, momentum=0.1, affine=True, track_running_stats=True)\n",
            "  )\n",
            "  (fc): Linear(in_features=1024, out_features=1, bias=True)\n",
            ")\n",
            "\n",
            "Generator(\n",
            "  (fc): Linear(in_features=100, out_features=1024, bias=True)\n",
            "  (t_conv1): Sequential(\n",
            "    (0): ConvTranspose2d(256, 128, kernel_size=(4, 4), stride=(2, 2), padding=(1, 1), bias=False)\n",
            "    (1): BatchNorm2d(128, eps=1e-05, momentum=0.1, affine=True, track_running_stats=True)\n",
            "  )\n",
            "  (t_conv2): Sequential(\n",
            "    (0): ConvTranspose2d(128, 64, kernel_size=(4, 4), stride=(2, 2), padding=(1, 1), bias=False)\n",
            "    (1): BatchNorm2d(64, eps=1e-05, momentum=0.1, affine=True, track_running_stats=True)\n",
            "  )\n",
            "  (t_conv3): Sequential(\n",
            "    (0): ConvTranspose2d(64, 32, kernel_size=(4, 4), stride=(2, 2), padding=(1, 1), bias=False)\n",
            "    (1): BatchNorm2d(32, eps=1e-05, momentum=0.1, affine=True, track_running_stats=True)\n",
            "  )\n",
            "  (t_conv4): Sequential(\n",
            "    (0): ConvTranspose2d(32, 3, kernel_size=(4, 4), stride=(2, 2), padding=(1, 1), bias=False)\n",
            "  )\n",
            ")\n"
          ],
          "name": "stdout"
        }
      ]
    },
    {
      "cell_type": "markdown",
      "metadata": {
        "id": "H2-6YlmNhgy8",
        "colab_type": "text"
      },
      "source": [
        "### Training on GPU\n",
        "\n",
        "Check if you can train on GPU. Here, we'll set this as a boolean variable `train_on_gpu`. Later, you'll be responsible for making sure that \n",
        ">* Models,\n",
        "* Model inputs, and\n",
        "* Loss function arguments\n",
        "\n",
        "Are moved to GPU, where appropriate."
      ]
    },
    {
      "cell_type": "code",
      "metadata": {
        "id": "uEDlG2Ehhgy9",
        "colab_type": "code",
        "colab": {
          "base_uri": "https://localhost:8080/",
          "height": 34
        },
        "outputId": "6761f1bd-18ea-4082-aee4-83f956441c44"
      },
      "source": [
        "\"\"\"\n",
        "DON'T MODIFY ANYTHING IN THIS CELL\n",
        "\"\"\"\n",
        "import torch\n",
        "\n",
        "# Check for a GPU\n",
        "train_on_gpu = torch.cuda.is_available()\n",
        "if not train_on_gpu:\n",
        "    print('No GPU found. Please use a GPU to train your neural network.')\n",
        "else:\n",
        "    print('Training on GPU!')"
      ],
      "execution_count": 29,
      "outputs": [
        {
          "output_type": "stream",
          "text": [
            "Training on GPU!\n"
          ],
          "name": "stdout"
        }
      ]
    },
    {
      "cell_type": "markdown",
      "metadata": {
        "id": "NygG0c97hgzA",
        "colab_type": "text"
      },
      "source": [
        "---\n",
        "## Discriminator and Generator Losses\n",
        "\n",
        "Now we need to calculate the losses for both types of adversarial networks.\n",
        "\n",
        "### Discriminator Losses\n",
        "\n",
        "> * For the discriminator, the total loss is the sum of the losses for real and fake images, `d_loss = d_real_loss + d_fake_loss`. \n",
        "* Remember that we want the discriminator to output 1 for real images and 0 for fake images, so we need to set up the losses to reflect that.\n",
        "\n",
        "\n",
        "### Generator Loss\n",
        "\n",
        "The generator loss will look similar only with flipped labels. The generator's goal is to get the discriminator to *think* its generated images are *real*.\n",
        "\n",
        "#### Exercise: Complete real and fake loss functions\n",
        "\n",
        "**You may choose to use either cross entropy or a least squares error loss to complete the following `real_loss` and `fake_loss` functions.**"
      ]
    },
    {
      "cell_type": "code",
      "metadata": {
        "id": "8zOHvb02hgzB",
        "colab_type": "code",
        "colab": {}
      },
      "source": [
        "def real_loss(D_out):\n",
        "    '''Calculates how close discriminator outputs are to being real.\n",
        "       param, D_out: discriminator logits\n",
        "       return: real loss'''\n",
        "    \n",
        "    batch_size = D_out.size(0)\n",
        "    labels = torch.ones(batch_size)\n",
        "\n",
        "    if train_on_gpu:\n",
        "        labels = labels.cuda()\n",
        "\n",
        "    criterion = nn.BCEWithLogitsLoss()\n",
        "    loss = criterion(D_out.squeeze(), labels)\n",
        "\n",
        "    return loss\n",
        "\n",
        "def fake_loss(D_out):\n",
        "    '''Calculates how close discriminator outputs are to being fake.\n",
        "       param, D_out: discriminator logits\n",
        "       return: fake loss'''\n",
        "\n",
        "    batch_size = D_out.size(0)\n",
        "    labels = torch.zeros(batch_size)\n",
        "\n",
        "    if train_on_gpu:\n",
        "        labels = labels.cuda()\n",
        "\n",
        "    criterion = nn.BCEWithLogitsLoss()\n",
        "    loss = criterion(D_out.squeeze(), labels)\n",
        "\n",
        "    return loss"
      ],
      "execution_count": 0,
      "outputs": []
    },
    {
      "cell_type": "markdown",
      "metadata": {
        "id": "IgVRZwAThgzE",
        "colab_type": "text"
      },
      "source": [
        "## Optimizers\n",
        "\n",
        "#### Exercise: Define optimizers for your Discriminator (D) and Generator (G)\n",
        "\n",
        "Define optimizers for your models with appropriate hyperparameters."
      ]
    },
    {
      "cell_type": "code",
      "metadata": {
        "id": "GLIZG6IehgzE",
        "colab_type": "code",
        "colab": {}
      },
      "source": [
        "import torch.optim as optim\n",
        "\n",
        "lr = 0.0002\n",
        "beta1 = 0.5\n",
        "beta2 = 0.999\n",
        "\n",
        "# Create optimizers for the discriminator D and generator G\n",
        "d_optimizer = optim.Adam(D.parameters(), lr, [beta1, beta2])\n",
        "g_optimizer = optim.Adam(G.parameters(), lr, [beta1, beta2])"
      ],
      "execution_count": 0,
      "outputs": []
    },
    {
      "cell_type": "markdown",
      "metadata": {
        "id": "oQauKoKWhgzN",
        "colab_type": "text"
      },
      "source": [
        "---\n",
        "## Training\n",
        "\n",
        "Training will involve alternating between training the discriminator and the generator. You'll use your functions `real_loss` and `fake_loss` to help you calculate the discriminator losses.\n",
        "\n",
        "* You should train the discriminator by alternating on real and fake images\n",
        "* Then the generator, which tries to trick the discriminator and should have an opposing loss function\n",
        "\n",
        "\n",
        "#### Saving Samples\n",
        "\n",
        "You've been given some code to print out some loss statistics and save some generated \"fake\" samples."
      ]
    },
    {
      "cell_type": "markdown",
      "metadata": {
        "id": "RbMxAG9WhgzQ",
        "colab_type": "text"
      },
      "source": [
        "#### Exercise: Complete the training function\n",
        "\n",
        "Keep in mind that, if you've moved your models to GPU, you'll also have to move any model inputs to GPU."
      ]
    },
    {
      "cell_type": "code",
      "metadata": {
        "id": "O6Mx-inlhgzS",
        "colab_type": "code",
        "colab": {}
      },
      "source": [
        "def train(D, G, n_epochs, print_every=50):\n",
        "    '''Trains adversarial networks for some number of epochs\n",
        "       param, D: the discriminator network\n",
        "       param, G: the generator network\n",
        "       param, n_epochs: number of epochs to train for\n",
        "       param, print_every: when to print and record the models' losses\n",
        "       return: D and G losses'''\n",
        "    \n",
        "    # move models to GPU\n",
        "    if train_on_gpu:\n",
        "        D.cuda()\n",
        "        G.cuda()\n",
        "\n",
        "    # keep track of loss and generated, \"fake\" samples\n",
        "    samples = []\n",
        "    losses = []\n",
        "\n",
        "    # Get some fixed data for sampling. These are images that are held\n",
        "    # constant throughout training, and allow us to inspect the model's performance\n",
        "    sample_size=16\n",
        "    fixed_z = np.random.uniform(-1, 1, size=(sample_size, z_size))\n",
        "    fixed_z = torch.from_numpy(fixed_z).float()\n",
        "    # move z to GPU if available\n",
        "    if train_on_gpu:\n",
        "        fixed_z = fixed_z.cuda()\n",
        "\n",
        "    # epoch training loop\n",
        "    for epoch in range(n_epochs):\n",
        "\n",
        "        # batch training loop\n",
        "        for batch_i, (real_images, _) in enumerate(celeba_train_loader):\n",
        "\n",
        "            batch_size = real_images.size(0)\n",
        "            real_images = scale(real_images)\n",
        "            # real_images = torch.from_numpy(real_images).float()\n",
        "\n",
        "            # moving to gpu, if available!\n",
        "            if train_on_gpu:\n",
        "                real_images = real_images.cuda()\n",
        "\n",
        "            # ===============================================\n",
        "            #         YOUR CODE HERE: TRAIN THE NETWORKS\n",
        "            # ===============================================\n",
        "            \n",
        "            # 1. Train the discriminator on real and fake images\n",
        "\n",
        "            # clearing the gradients\n",
        "            d_optimizer.zero_grad()\n",
        "                \n",
        "            # training the generator with real images\n",
        "            D_real = D(real_images)\n",
        "            d_real_loss = real_loss(D_real)\n",
        "\n",
        "            # training the generator with fake images\n",
        "\n",
        "            z = np.random.uniform(-1., 1., size=(batch_size, z_size))\n",
        "            z = torch.from_numpy(z).float()\n",
        "\n",
        "            if train_on_gpu:\n",
        "                z = z.cuda()\n",
        "\n",
        "            fake_images = G(z)\n",
        "\n",
        "            D_fake = D(fake_images)\n",
        "            d_fake_loss = fake_loss(D_fake)\n",
        "\n",
        "            # adding loss and performing backprop\n",
        "            d_loss = d_real_loss + d_fake_loss\n",
        "            d_loss.backward()\n",
        "            d_optimizer.step()\n",
        "\n",
        "            # 2. Train the generator with an adversarial loss\n",
        "\n",
        "            # clearing accumulated gradients\n",
        "            g_optimizer.zero_grad()\n",
        "            \n",
        "            # creating latent vector z\n",
        "            z = np.random.uniform(-1., 1., (batch_size, z_size))\n",
        "            z = torch.from_numpy(z).float()\n",
        "\n",
        "            # moving to gpu, if available!\n",
        "            if train_on_gpu:\n",
        "                z = z.cuda()\n",
        "\n",
        "            # generating fake_images\n",
        "            fake_images = G(z)\n",
        "\n",
        "            # compute discriminator loss on fake images\n",
        "            D_fake = D(fake_images)\n",
        "\n",
        "            # calculating loss and performing backprop\n",
        "            g_loss = real_loss(D_fake)\n",
        "            g_loss.backward()\n",
        "            g_optimizer.step()\n",
        "            \n",
        "            \n",
        "            # ===============================================\n",
        "            #              END OF YOUR CODE\n",
        "            # ===============================================\n",
        "\n",
        "            # Print some loss stats\n",
        "            if batch_i % print_every == 0:\n",
        "                # append discriminator loss and generator loss\n",
        "                losses.append((d_loss.item(), g_loss.item()))\n",
        "                # print discriminator and generator loss\n",
        "                print('Epoch [{:5d}/{:5d}] | d_loss: {:6.4f} | g_loss: {:6.4f}'.format(\n",
        "                        epoch+1, n_epochs, d_loss.item(), g_loss.item()))\n",
        "\n",
        "\n",
        "        ## AFTER EACH EPOCH##    \n",
        "        # this code assumes your generator is named G, feel free to change the name\n",
        "        # generate and save sample, fake images\n",
        "        G.eval() # for generating samples\n",
        "        samples_z = G(fixed_z)\n",
        "        samples.append(samples_z)\n",
        "        G.train() # back to training mode\n",
        "\n",
        "    # Save training generator samples\n",
        "    with open('train_samples.pkl', 'wb') as f:\n",
        "        pkl.dump(samples, f)\n",
        "    \n",
        "    # finally return losses\n",
        "    return losses"
      ],
      "execution_count": 0,
      "outputs": []
    },
    {
      "cell_type": "markdown",
      "metadata": {
        "id": "p3QoXhYDhgzU",
        "colab_type": "text"
      },
      "source": [
        "Set your number of training epochs and train your GAN!"
      ]
    },
    {
      "cell_type": "code",
      "metadata": {
        "id": "-3MGGgHFhgzV",
        "colab_type": "code",
        "colab": {
          "base_uri": "https://localhost:8080/",
          "height": 1000
        },
        "outputId": "b6864167-34d3-4564-e548-397768e29199"
      },
      "source": [
        "# set number of epochs \n",
        "n_epochs = 15\n",
        "\n",
        "\n",
        "\"\"\"\n",
        "DON'T MODIFY ANYTHING IN THIS CELL\n",
        "\"\"\"\n",
        "# call training function\n",
        "losses = train(D, G, n_epochs=n_epochs, print_every=300)"
      ],
      "execution_count": 57,
      "outputs": [
        {
          "output_type": "stream",
          "text": [
            "/usr/local/lib/python3.6/dist-packages/torch/nn/functional.py:1340: UserWarning: nn.functional.tanh is deprecated. Use torch.tanh instead.\n",
            "  warnings.warn(\"nn.functional.tanh is deprecated. Use torch.tanh instead.\")\n"
          ],
          "name": "stderr"
        },
        {
          "output_type": "stream",
          "text": [
            "Epoch [    1/   15] | d_loss: 0.0473 | g_loss: 4.6425\n",
            "Epoch [    1/   15] | d_loss: 0.2515 | g_loss: 3.2824\n",
            "Epoch [    1/   15] | d_loss: 4.3006 | g_loss: 5.8761\n",
            "Epoch [    1/   15] | d_loss: 0.3670 | g_loss: 1.9955\n",
            "Epoch [    1/   15] | d_loss: 1.0102 | g_loss: 1.8689\n",
            "Epoch [    1/   15] | d_loss: 0.4368 | g_loss: 4.7480\n",
            "Epoch [    1/   15] | d_loss: 0.2622 | g_loss: 3.4303\n",
            "Epoch [    1/   15] | d_loss: 0.6715 | g_loss: 3.7957\n",
            "Epoch [    1/   15] | d_loss: 0.5286 | g_loss: 2.0808\n",
            "Epoch [    1/   15] | d_loss: 0.5282 | g_loss: 3.7903\n",
            "Epoch [    2/   15] | d_loss: 0.0833 | g_loss: 4.6445\n",
            "Epoch [    2/   15] | d_loss: 0.4187 | g_loss: 2.4041\n",
            "Epoch [    2/   15] | d_loss: 0.7141 | g_loss: 2.1705\n",
            "Epoch [    2/   15] | d_loss: 0.3631 | g_loss: 2.6093\n",
            "Epoch [    2/   15] | d_loss: 0.1537 | g_loss: 3.7836\n",
            "Epoch [    2/   15] | d_loss: 0.2618 | g_loss: 2.0134\n",
            "Epoch [    2/   15] | d_loss: 0.1615 | g_loss: 2.8043\n",
            "Epoch [    2/   15] | d_loss: 0.3181 | g_loss: 3.5084\n",
            "Epoch [    2/   15] | d_loss: 0.0964 | g_loss: 4.1791\n",
            "Epoch [    2/   15] | d_loss: 0.5906 | g_loss: 1.8606\n",
            "Epoch [    3/   15] | d_loss: 0.9842 | g_loss: 4.8390\n",
            "Epoch [    3/   15] | d_loss: 0.2610 | g_loss: 4.2804\n",
            "Epoch [    3/   15] | d_loss: 0.1427 | g_loss: 2.5250\n",
            "Epoch [    3/   15] | d_loss: 0.2687 | g_loss: 3.4015\n",
            "Epoch [    3/   15] | d_loss: 0.5751 | g_loss: 1.4198\n",
            "Epoch [    3/   15] | d_loss: 0.4264 | g_loss: 2.5558\n",
            "Epoch [    3/   15] | d_loss: 0.3633 | g_loss: 2.0174\n",
            "Epoch [    3/   15] | d_loss: 0.1934 | g_loss: 4.1835\n",
            "Epoch [    3/   15] | d_loss: 0.2501 | g_loss: 2.2087\n",
            "Epoch [    3/   15] | d_loss: 0.8148 | g_loss: 4.8623\n",
            "Epoch [    4/   15] | d_loss: 0.0645 | g_loss: 2.7624\n",
            "Epoch [    4/   15] | d_loss: 0.1913 | g_loss: 2.4763\n",
            "Epoch [    4/   15] | d_loss: 0.0403 | g_loss: 3.2078\n",
            "Epoch [    4/   15] | d_loss: 0.3469 | g_loss: 5.5833\n",
            "Epoch [    4/   15] | d_loss: 0.1198 | g_loss: 1.2575\n",
            "Epoch [    4/   15] | d_loss: 0.4223 | g_loss: 2.7116\n",
            "Epoch [    4/   15] | d_loss: 0.5397 | g_loss: 1.7880\n",
            "Epoch [    4/   15] | d_loss: 0.1575 | g_loss: 4.4433\n",
            "Epoch [    4/   15] | d_loss: 0.5621 | g_loss: 6.1856\n",
            "Epoch [    4/   15] | d_loss: 0.1483 | g_loss: 2.8852\n",
            "Epoch [    5/   15] | d_loss: 0.2468 | g_loss: 2.7918\n",
            "Epoch [    5/   15] | d_loss: 0.1160 | g_loss: 3.6105\n",
            "Epoch [    5/   15] | d_loss: 0.2443 | g_loss: 5.1440\n",
            "Epoch [    5/   15] | d_loss: 0.1023 | g_loss: 6.0326\n",
            "Epoch [    5/   15] | d_loss: 0.6392 | g_loss: 2.3656\n",
            "Epoch [    5/   15] | d_loss: 0.3502 | g_loss: 2.7387\n",
            "Epoch [    5/   15] | d_loss: 0.0576 | g_loss: 4.9981\n",
            "Epoch [    5/   15] | d_loss: 0.0561 | g_loss: 5.0704\n",
            "Epoch [    5/   15] | d_loss: 0.2836 | g_loss: 2.6186\n",
            "Epoch [    5/   15] | d_loss: 0.1084 | g_loss: 3.3773\n",
            "Epoch [    6/   15] | d_loss: 0.1253 | g_loss: 5.4609\n",
            "Epoch [    6/   15] | d_loss: 0.3235 | g_loss: 5.1597\n",
            "Epoch [    6/   15] | d_loss: 0.2321 | g_loss: 3.5984\n",
            "Epoch [    6/   15] | d_loss: 0.1559 | g_loss: 4.9587\n",
            "Epoch [    6/   15] | d_loss: 0.0834 | g_loss: 1.8690\n",
            "Epoch [    6/   15] | d_loss: 0.1465 | g_loss: 3.5483\n",
            "Epoch [    6/   15] | d_loss: 0.0888 | g_loss: 5.2308\n",
            "Epoch [    6/   15] | d_loss: 0.2943 | g_loss: 5.0805\n",
            "Epoch [    6/   15] | d_loss: 0.1209 | g_loss: 3.0951\n",
            "Epoch [    6/   15] | d_loss: 0.0804 | g_loss: 4.7725\n",
            "Epoch [    7/   15] | d_loss: 1.7116 | g_loss: 4.4689\n",
            "Epoch [    7/   15] | d_loss: 0.2129 | g_loss: 3.9881\n",
            "Epoch [    7/   15] | d_loss: 0.0746 | g_loss: 4.4849\n",
            "Epoch [    7/   15] | d_loss: 0.1163 | g_loss: 5.9638\n",
            "Epoch [    7/   15] | d_loss: 0.0381 | g_loss: 4.1199\n",
            "Epoch [    7/   15] | d_loss: 0.1726 | g_loss: 3.1757\n",
            "Epoch [    7/   15] | d_loss: 0.2539 | g_loss: 2.4570\n",
            "Epoch [    7/   15] | d_loss: 0.2567 | g_loss: 2.6368\n",
            "Epoch [    7/   15] | d_loss: 0.1512 | g_loss: 2.5097\n",
            "Epoch [    7/   15] | d_loss: 0.5978 | g_loss: 7.1787\n",
            "Epoch [    8/   15] | d_loss: 0.3429 | g_loss: 0.8304\n",
            "Epoch [    8/   15] | d_loss: 0.2920 | g_loss: 4.5028\n",
            "Epoch [    8/   15] | d_loss: 0.0928 | g_loss: 3.3764\n",
            "Epoch [    8/   15] | d_loss: 0.0517 | g_loss: 5.1081\n",
            "Epoch [    8/   15] | d_loss: 0.0372 | g_loss: 3.2804\n",
            "Epoch [    8/   15] | d_loss: 0.0408 | g_loss: 2.2531\n",
            "Epoch [    8/   15] | d_loss: 0.3485 | g_loss: 2.7354\n",
            "Epoch [    8/   15] | d_loss: 0.0899 | g_loss: 2.9290\n",
            "Epoch [    8/   15] | d_loss: 0.7378 | g_loss: 5.4576\n",
            "Epoch [    8/   15] | d_loss: 0.1804 | g_loss: 3.5204\n",
            "Epoch [    9/   15] | d_loss: 0.1169 | g_loss: 2.6912\n",
            "Epoch [    9/   15] | d_loss: 0.2227 | g_loss: 3.7934\n",
            "Epoch [    9/   15] | d_loss: 0.1848 | g_loss: 3.4515\n",
            "Epoch [    9/   15] | d_loss: 0.3399 | g_loss: 1.1044\n",
            "Epoch [    9/   15] | d_loss: 0.1178 | g_loss: 3.9063\n",
            "Epoch [    9/   15] | d_loss: 0.0564 | g_loss: 3.8626\n",
            "Epoch [    9/   15] | d_loss: 0.1299 | g_loss: 4.1299\n",
            "Epoch [    9/   15] | d_loss: 0.1521 | g_loss: 4.0491\n",
            "Epoch [    9/   15] | d_loss: 0.1033 | g_loss: 4.3779\n",
            "Epoch [    9/   15] | d_loss: 0.2293 | g_loss: 5.8597\n",
            "Epoch [   10/   15] | d_loss: 0.4911 | g_loss: 5.7469\n",
            "Epoch [   10/   15] | d_loss: 0.4922 | g_loss: 3.1735\n",
            "Epoch [   10/   15] | d_loss: 0.1008 | g_loss: 4.4809\n",
            "Epoch [   10/   15] | d_loss: 0.1961 | g_loss: 4.2401\n",
            "Epoch [   10/   15] | d_loss: 0.1766 | g_loss: 2.4118\n",
            "Epoch [   10/   15] | d_loss: 0.1024 | g_loss: 4.0979\n",
            "Epoch [   10/   15] | d_loss: 0.7909 | g_loss: 0.4874\n",
            "Epoch [   10/   15] | d_loss: 0.5489 | g_loss: 1.8599\n",
            "Epoch [   10/   15] | d_loss: 0.7476 | g_loss: 1.7293\n",
            "Epoch [   10/   15] | d_loss: 0.0481 | g_loss: 6.4712\n",
            "Epoch [   11/   15] | d_loss: 0.1319 | g_loss: 1.5753\n",
            "Epoch [   11/   15] | d_loss: 0.4299 | g_loss: 3.6019\n",
            "Epoch [   11/   15] | d_loss: 0.1156 | g_loss: 2.7801\n",
            "Epoch [   11/   15] | d_loss: 0.0300 | g_loss: 4.9950\n",
            "Epoch [   11/   15] | d_loss: 0.1954 | g_loss: 3.6973\n",
            "Epoch [   11/   15] | d_loss: 0.0498 | g_loss: 4.2243\n",
            "Epoch [   11/   15] | d_loss: 0.1663 | g_loss: 5.4076\n",
            "Epoch [   11/   15] | d_loss: 0.0394 | g_loss: 4.1733\n",
            "Epoch [   11/   15] | d_loss: 0.0973 | g_loss: 2.9825\n",
            "Epoch [   11/   15] | d_loss: 0.1766 | g_loss: 3.7229\n",
            "Epoch [   12/   15] | d_loss: 0.0403 | g_loss: 4.0372\n",
            "Epoch [   12/   15] | d_loss: 0.0357 | g_loss: 3.6791\n",
            "Epoch [   12/   15] | d_loss: 0.0809 | g_loss: 3.8255\n",
            "Epoch [   12/   15] | d_loss: 0.1142 | g_loss: 4.3139\n",
            "Epoch [   12/   15] | d_loss: 0.1793 | g_loss: 4.3286\n",
            "Epoch [   12/   15] | d_loss: 0.1084 | g_loss: 3.3750\n",
            "Epoch [   12/   15] | d_loss: 0.1346 | g_loss: 3.7004\n",
            "Epoch [   12/   15] | d_loss: 0.4780 | g_loss: 2.8249\n",
            "Epoch [   12/   15] | d_loss: 0.2813 | g_loss: 4.1047\n",
            "Epoch [   12/   15] | d_loss: 0.1278 | g_loss: 3.5482\n",
            "Epoch [   13/   15] | d_loss: 0.0089 | g_loss: 4.7301\n",
            "Epoch [   13/   15] | d_loss: 0.2598 | g_loss: 4.4147\n",
            "Epoch [   13/   15] | d_loss: 0.0537 | g_loss: 3.6712\n",
            "Epoch [   13/   15] | d_loss: 0.1651 | g_loss: 2.4006\n",
            "Epoch [   13/   15] | d_loss: 0.0165 | g_loss: 6.2776\n",
            "Epoch [   13/   15] | d_loss: 0.0766 | g_loss: 5.1326\n",
            "Epoch [   13/   15] | d_loss: 0.4868 | g_loss: 4.9895\n",
            "Epoch [   13/   15] | d_loss: 0.3876 | g_loss: 2.6072\n",
            "Epoch [   13/   15] | d_loss: 0.5934 | g_loss: 2.2531\n",
            "Epoch [   13/   15] | d_loss: 0.1244 | g_loss: 4.7981\n",
            "Epoch [   14/   15] | d_loss: 4.3983 | g_loss: 4.7463\n",
            "Epoch [   14/   15] | d_loss: 0.0795 | g_loss: 2.4397\n",
            "Epoch [   14/   15] | d_loss: 0.1170 | g_loss: 2.6181\n",
            "Epoch [   14/   15] | d_loss: 0.1119 | g_loss: 2.9926\n",
            "Epoch [   14/   15] | d_loss: 0.1515 | g_loss: 4.0952\n",
            "Epoch [   14/   15] | d_loss: 0.2638 | g_loss: 3.3736\n",
            "Epoch [   14/   15] | d_loss: 0.0708 | g_loss: 2.6523\n",
            "Epoch [   14/   15] | d_loss: 0.0637 | g_loss: 4.1954\n",
            "Epoch [   14/   15] | d_loss: 0.0283 | g_loss: 3.8717\n",
            "Epoch [   14/   15] | d_loss: 0.0578 | g_loss: 3.4405\n",
            "Epoch [   15/   15] | d_loss: 0.2671 | g_loss: 4.7701\n",
            "Epoch [   15/   15] | d_loss: 0.1142 | g_loss: 3.5347\n",
            "Epoch [   15/   15] | d_loss: 0.0875 | g_loss: 2.8185\n",
            "Epoch [   15/   15] | d_loss: 0.0545 | g_loss: 5.4267\n",
            "Epoch [   15/   15] | d_loss: 0.0171 | g_loss: 5.1937\n",
            "Epoch [   15/   15] | d_loss: 0.2386 | g_loss: 3.7575\n",
            "Epoch [   15/   15] | d_loss: 0.0817 | g_loss: 5.2621\n",
            "Epoch [   15/   15] | d_loss: 0.0180 | g_loss: 4.2203\n",
            "Epoch [   15/   15] | d_loss: 0.4593 | g_loss: 2.3809\n",
            "Epoch [   15/   15] | d_loss: 0.1689 | g_loss: 5.3142\n"
          ],
          "name": "stdout"
        }
      ]
    },
    {
      "cell_type": "markdown",
      "metadata": {
        "collapsed": true,
        "id": "w-6Pa_8QhgzX",
        "colab_type": "text"
      },
      "source": [
        "## Training loss\n",
        "\n",
        "Plot the training losses for the generator and discriminator, recorded after each epoch."
      ]
    },
    {
      "cell_type": "code",
      "metadata": {
        "id": "dGLmPtCchgzX",
        "colab_type": "code",
        "colab": {
          "base_uri": "https://localhost:8080/",
          "height": 298
        },
        "outputId": "121a68da-cefd-488c-ea49-1c7e30674b83"
      },
      "source": [
        "fig, ax = plt.subplots()\n",
        "losses = np.array(losses)\n",
        "plt.plot(losses.T[0], label='Discriminator', alpha=0.5)\n",
        "plt.plot(losses.T[1], label='Generator', alpha=0.5)\n",
        "plt.title(\"Training Losses\")\n",
        "plt.legend()"
      ],
      "execution_count": 58,
      "outputs": [
        {
          "output_type": "execute_result",
          "data": {
            "text/plain": [
              "<matplotlib.legend.Legend at 0x7f486a090240>"
            ]
          },
          "metadata": {
            "tags": []
          },
          "execution_count": 58
        },
        {
          "output_type": "display_data",
          "data": {
            "image/png": "[encoded data removed]",
            "text/plain": [
              "<Figure size 432x288 with 1 Axes>"
            ]
          },
          "metadata": {
            "tags": []
          }
        }
      ]
    },
    {
      "cell_type": "markdown",
      "metadata": {
        "collapsed": true,
        "id": "ke6j5aJphgzb",
        "colab_type": "text"
      },
      "source": [
        "## Generator samples from training\n",
        "\n",
        "View samples of images from the generator, and answer a question about the strengths and weaknesses of your trained models."
      ]
    },
    {
      "cell_type": "code",
      "metadata": {
        "id": "_2x_stGwhgzc",
        "colab_type": "code",
        "colab": {}
      },
      "source": [
        "# helper function for viewing a list of passed in sample images\n",
        "def view_samples(epoch, samples):\n",
        "    fig, axes = plt.subplots(figsize=(16,4), nrows=2, ncols=8, sharey=True, sharex=True)\n",
        "    for ax, img in zip(axes.flatten(), samples[epoch]):\n",
        "        img = img.detach().cpu().numpy()\n",
        "        img = np.transpose(img, (1, 2, 0))\n",
        "        img = ((img + 1)*255 / (2)).astype(np.uint8)\n",
        "        ax.xaxis.set_visible(False)\n",
        "        ax.yaxis.set_visible(False)\n",
        "        im = ax.imshow(img.reshape((32,32,3)))"
      ],
      "execution_count": 0,
      "outputs": []
    },
    {
      "cell_type": "code",
      "metadata": {
        "id": "Gf63UXZvhgze",
        "colab_type": "code",
        "colab": {}
      },
      "source": [
        "# Load samples from generator, taken while training\n",
        "with open('train_samples.pkl', 'rb') as f:\n",
        "    samples = pkl.load(f)"
      ],
      "execution_count": 0,
      "outputs": []
    },
    {
      "cell_type": "code",
      "metadata": {
        "id": "54UVIlJ0hgzi",
        "colab_type": "code",
        "colab": {
          "base_uri": "https://localhost:8080/",
          "height": 248
        },
        "outputId": "ccaff7bc-c8f6-4a81-a9f4-4ede52807e9c"
      },
      "source": [
        "_ = view_samples(-1, samples)"
      ],
      "execution_count": 61,
      "outputs": [
        {
          "output_type": "display_data",
          "data": {
            "image/png": "[encoded data removed]",
            "text/plain": [
              "<Figure size 1152x288 with 16 Axes>"
            ]
          },
          "metadata": {
            "tags": []
          }
        }
      ]
    },
    {
      "cell_type": "markdown",
      "metadata": {
        "id": "zcOwPCgnhgzo",
        "colab_type": "text"
      },
      "source": [
        "### Question: What do you notice about your generated samples and how might you improve this model?\n",
        "When you answer this question, consider the following factors:\n",
        "* The dataset is biased; it is made of \"celebrity\" faces that are mostly white\n",
        "* Model size; larger models have the opportunity to learn more features in a data feature space\n",
        "* Optimization strategy; optimizers and number of epochs affect your final result\n"
      ]
    },
    {
      "cell_type": "markdown",
      "metadata": {
        "id": "mRVc8bB0hgzp",
        "colab_type": "text"
      },
      "source": [
        "**Answer:** \n",
        "\n",
        "*   I absolutely agree that the dataset is biased with white celebrity faces, so we don't get a diverse face generation result. We can improve this by introducing a more diverse face dataset.\n",
        "*   I had earlier used a 3 layered DCGAN for SVNH dataset so I started with a 4-layered DCGAN for this problem, with the intution that face data needs more details to be learnt so a deeper network will be a better.\n",
        "*   To check if my code was correct, I trained my model with only 2 epochs and to my surprise the model was able to generate faces. In order to get better results I tried with 10 epochs in second run.\n",
        "\n"
      ]
    },
    {
      "cell_type": "markdown",
      "metadata": {
        "id": "KGuXQqO0hgzq",
        "colab_type": "text"
      },
      "source": [
        "### Submitting This Project\n",
        "When submitting this project, make sure to run all the cells before saving the notebook. Save the notebook file as \"dlnd_face_generation.ipynb\" and save it as a HTML file under \"File\" -> \"Download as\". Include the \"problem_unittests.py\" files in your submission."
      ]
    }
  ]
}