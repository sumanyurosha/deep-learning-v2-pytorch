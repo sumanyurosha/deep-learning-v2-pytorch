{
 "cells": [
  {
   "cell_type": "markdown",
   "metadata": {
    "colab_type": "text",
    "id": "view-in-github"
   },
   "source": [
    "<a href=\"https://colab.research.google.com/github/sumanyurosha/deep-learning-v2-pytorch/blob/master/project-face-generation/dlnd_face_generation.ipynb\" target=\"_parent\"><img src=\"https://colab.research.google.com/assets/colab-badge.svg\" alt=\"Open In Colab\"/></a>"
   ]
  },
  {
   "cell_type": "markdown",
   "metadata": {
    "colab_type": "text",
    "id": "o3YUAYX2hgyA"
   },
   "source": [
    "# Face Generation\n",
    "\n",
    "In this project, you'll define and train a DCGAN on a dataset of faces. Your goal is to get a generator network to generate *new* images of faces that look as realistic as possible!\n",
    "\n",
    "The project will be broken down into a series of tasks from **loading in data to defining and training adversarial networks**. At the end of the notebook, you'll be able to visualize the results of your trained Generator to see how it performs; your generated samples should look like fairly realistic faces with small amounts of noise.\n",
    "\n",
    "### Get the Data\n",
    "\n",
    "You'll be using the [CelebFaces Attributes Dataset (CelebA)](http://mmlab.ie.cuhk.edu.hk/projects/CelebA.html) to train your adversarial networks.\n",
    "\n",
    "This dataset is more complex than the number datasets (like MNIST or SVHN) you've been working with, and so, you should prepare to define deeper networks and train them for a longer time to get good results. It is suggested that you utilize a GPU for training.\n",
    "\n",
    "### Pre-processed Data\n",
    "\n",
    "Since the project's main focus is on building the GANs, we've done *some* of the pre-processing for you. Each of the CelebA images has been cropped to remove parts of the image that don't include a face, then resized down to 64x64x3 NumPy images. Some sample data is show below.\n",
    "\n",
    "<img src='https://github.com/sumanyurosha/deep-learning-v2-pytorch/blob/master/project-face-generation/assets/processed_face_data.png?raw=1' width=60% />\n",
    "\n",
    "> If you are working locally, you can download this data [by clicking here](https://s3.amazonaws.com/video.udacity-data.com/topher/2018/November/5be7eb6f_processed-celeba-small/processed-celeba-small.zip)\n",
    "\n",
    "This is a zip file that you'll need to extract in the home directory of this notebook for further loading and processing. After extracting the data, you should be left with a directory of data `processed_celeba_small/`"
   ]
  },
  {
   "cell_type": "code",
   "execution_count": 1,
   "metadata": {
    "colab": {
     "base_uri": "https://localhost:8080/",
     "height": 204
    },
    "colab_type": "code",
    "id": "C-ZjFCfwQeGO",
    "outputId": "8fd6ce77-c8bd-4fd8-edb7-94ea42b50e56"
   },
   "outputs": [
    {
     "name": "stdout",
     "output_type": "stream",
     "text": [
      "--2019-12-26 18:59:29--  https://s3.amazonaws.com/video.udacity-data.com/topher/2018/November/5be7eb6f_processed-celeba-small/processed-celeba-small.zip\n",
      "Resolving s3.amazonaws.com (s3.amazonaws.com)... 52.217.45.238\n",
      "Connecting to s3.amazonaws.com (s3.amazonaws.com)|52.217.45.238|:443... connected.\n",
      "HTTP request sent, awaiting response... 200 OK\n",
      "Length: 247694507 (236M) [application/zip]\n",
      "Saving to: ‘processed-celeba-small.zip’\n",
      "\n",
      "processed-celeba-sm 100%[===================>] 236.22M  46.6MB/s    in 5.4s    \n",
      "\n",
      "2019-12-26 18:59:35 (43.6 MB/s) - ‘processed-celeba-small.zip’ saved [247694507/247694507]\n",
      "\n"
     ]
    }
   ],
   "source": [
    "!wget -c \"https://s3.amazonaws.com/video.udacity-data.com/topher/2018/November/5be7eb6f_processed-celeba-small/processed-celeba-small.zip\""
   ]
  },
  {
   "cell_type": "code",
   "execution_count": 0,
   "metadata": {
    "colab": {},
    "colab_type": "code",
    "id": "3CCPFHq4hgyD"
   },
   "outputs": [],
   "source": [
    "# can comment out after executing\n",
    "!unzip -qq processed-celeba-small.zip"
   ]
  },
  {
   "cell_type": "code",
   "execution_count": 3,
   "metadata": {
    "colab": {
     "base_uri": "https://localhost:8080/",
     "height": 204
    },
    "colab_type": "code",
    "id": "jiGm0C0lJaM3",
    "outputId": "fa738346-4cf5-4536-dbb4-225f2483b91d"
   },
   "outputs": [
    {
     "name": "stdout",
     "output_type": "stream",
     "text": [
      "--2019-12-26 18:59:47--  https://raw.githubusercontent.com/sumanyurosha/deep-learning-v2-pytorch/master/project-face-generation/problem_unittests.py\n",
      "Resolving raw.githubusercontent.com (raw.githubusercontent.com)... 151.101.0.133, 151.101.64.133, 151.101.128.133, ...\n",
      "Connecting to raw.githubusercontent.com (raw.githubusercontent.com)|151.101.0.133|:443... connected.\n",
      "HTTP request sent, awaiting response... 200 OK\n",
      "Length: 2113 (2.1K) [text/plain]\n",
      "Saving to: ‘problem_unittests.py’\n",
      "\n",
      "\r",
      "problem_unittests.p   0%[                    ]       0  --.-KB/s               \r",
      "problem_unittests.p 100%[===================>]   2.06K  --.-KB/s    in 0s      \n",
      "\n",
      "2019-12-26 18:59:47 (73.1 MB/s) - ‘problem_unittests.py’ saved [2113/2113]\n",
      "\n"
     ]
    }
   ],
   "source": [
    "!wget -c https://raw.githubusercontent.com/sumanyurosha/deep-learning-v2-pytorch/master/project-face-generation/problem_unittests.py"
   ]
  },
  {
   "cell_type": "code",
   "execution_count": 0,
   "metadata": {
    "colab": {},
    "colab_type": "code",
    "id": "S1AWi9ERhgyI"
   },
   "outputs": [],
   "source": [
    "data_dir = 'processed_celeba_small/'\n",
    "\"\"\"\n",
    "DON'T MODIFY ANYTHING IN THIS CELL\n",
    "\"\"\"\n",
    "import pickle as pkl\n",
    "import matplotlib.pyplot as plt\n",
    "import numpy as np\n",
    "import problem_unittests as tests\n",
    "#import helper\n",
    "\n",
    "%matplotlib inline"
   ]
  },
  {
   "cell_type": "markdown",
   "metadata": {
    "colab_type": "text",
    "id": "bicoXsRXhgyP"
   },
   "source": [
    "## Visualize the CelebA Data\n",
    "\n",
    "The [CelebA](http://mmlab.ie.cuhk.edu.hk/projects/CelebA.html) dataset contains over 200,000 celebrity images with annotations. Since you're going to be generating faces, you won't need the annotations, you'll only need the images. Note that these are color images with [3 color channels (RGB)](https://en.wikipedia.org/wiki/Channel_(digital_image)#RGB_Images) each.\n",
    "\n",
    "### Pre-process and Load the Data\n",
    "\n",
    "Since the project's main focus is on building the GANs, we've done *some* of the pre-processing for you. Each of the CelebA images has been cropped to remove parts of the image that don't include a face, then resized down to 64x64x3 NumPy images. This *pre-processed* dataset is a smaller subset of the very large CelebA data.\n",
    "\n",
    "> There are a few other steps that you'll need to **transform** this data and create a **DataLoader**.\n",
    "\n",
    "#### Exercise: Complete the following `get_dataloader` function, such that it satisfies these requirements:\n",
    "\n",
    "* Your images should be square, Tensor images of size `image_size x image_size` in the x and y dimension.\n",
    "* Your function should return a DataLoader that shuffles and batches these Tensor images.\n",
    "\n",
    "#### ImageFolder\n",
    "\n",
    "To create a dataset given a directory of images, it's recommended that you use PyTorch's [ImageFolder](https://pytorch.org/docs/stable/torchvision/datasets.html#imagefolder) wrapper, with a root directory `processed_celeba_small/` and data transformation passed in."
   ]
  },
  {
   "cell_type": "code",
   "execution_count": 0,
   "metadata": {
    "colab": {},
    "colab_type": "code",
    "id": "kxAyZ3LkhgyR"
   },
   "outputs": [],
   "source": [
    "# necessary imports\n",
    "import torch\n",
    "from torchvision import datasets\n",
    "from torchvision import transforms"
   ]
  },
  {
   "cell_type": "code",
   "execution_count": 0,
   "metadata": {
    "colab": {},
    "colab_type": "code",
    "id": "95FyGWeNhgyT"
   },
   "outputs": [],
   "source": [
    "def get_dataloader(batch_size, image_size, data_dir='processed_celeba_small/'):\n",
    "    \"\"\"\n",
    "    Batch the neural network data using DataLoader\n",
    "    :param batch_size: The size of each batch; the number of images in a batch\n",
    "    :param img_size: The square size of the image data (x, y)\n",
    "    :param data_dir: Directory where image data is located\n",
    "    :return: DataLoader with batched data\n",
    "    \"\"\"\n",
    "    \n",
    "    # TODO: Implement function and return a dataloader\n",
    "\n",
    "    transform = transforms.Compose([transforms.Resize(size=(image_size, image_size)),\n",
    "                                    transforms.ToTensor()])\n",
    "\n",
    "    dataset = datasets.ImageFolder(data_dir, transform=transform)\n",
    "\n",
    "    dataloader = torch.utils.data.DataLoader(dataset, batch_size, shuffle=True)\n",
    "    \n",
    "    return dataloader\n"
   ]
  },
  {
   "cell_type": "markdown",
   "metadata": {
    "colab_type": "text",
    "id": "ZGYZJ7rahgyW"
   },
   "source": [
    "## Create a DataLoader\n",
    "\n",
    "#### Exercise: Create a DataLoader `celeba_train_loader` with appropriate hyperparameters.\n",
    "\n",
    "Call the above function and create a dataloader to view images. \n",
    "* You can decide on any reasonable `batch_size` parameter\n",
    "* Your `image_size` **must be** `32`. Resizing the data to a smaller size will make for faster training, while still creating convincing images of faces!"
   ]
  },
  {
   "cell_type": "code",
   "execution_count": 0,
   "metadata": {
    "colab": {},
    "colab_type": "code",
    "id": "tDj_RBSThgyW"
   },
   "outputs": [],
   "source": [
    "# Define function hyperparameters\n",
    "batch_size = 32\n",
    "img_size = 32\n",
    "\n",
    "\"\"\"\n",
    "DON'T MODIFY ANYTHING IN THIS CELL THAT IS BELOW THIS LINE\n",
    "\"\"\"\n",
    "# Call your function and get a dataloader\n",
    "celeba_train_loader = get_dataloader(batch_size, img_size)\n"
   ]
  },
  {
   "cell_type": "markdown",
   "metadata": {
    "colab_type": "text",
    "id": "iC4dOoDMhgya"
   },
   "source": [
    "Next, you can view some images! You should seen square images of somewhat-centered faces.\n",
    "\n",
    "Note: You'll need to convert the Tensor images into a NumPy type and transpose the dimensions to correctly display an image, suggested `imshow` code is below, but it may not be perfect."
   ]
  },
  {
   "cell_type": "code",
   "execution_count": 8,
   "metadata": {
    "colab": {
     "base_uri": "https://localhost:8080/",
     "height": 248
    },
    "colab_type": "code",
    "id": "NNngts8phgyb",
    "outputId": "a93b7900-5e48-4189-86a0-d48d1cc3387a"
   },
   "outputs": [
    {
     "data": {
      "image/png": "[encoded data removed]",
      "text/plain": [
       "<Figure size 1440x288 with 20 Axes>"
      ]
     },
     "metadata": {
      "tags": []
     },
     "output_type": "display_data"
    }
   ],
   "source": [
    "# helper display function\n",
    "def imshow(img):\n",
    "    npimg = img.numpy()\n",
    "    plt.imshow(np.transpose(npimg, (1, 2, 0)))\n",
    "\n",
    "\"\"\"\n",
    "DON'T MODIFY ANYTHING IN THIS CELL THAT IS BELOW THIS LINE\n",
    "\"\"\"\n",
    "# obtain one batch of training images\n",
    "dataiter = iter(celeba_train_loader)\n",
    "images, _ = dataiter.next() # _ for no labels\n",
    "\n",
    "# plot the images in the batch, along with the corresponding labels\n",
    "fig = plt.figure(figsize=(20, 4))\n",
    "plot_size=20\n",
    "for idx in np.arange(plot_size):\n",
    "    ax = fig.add_subplot(2, plot_size/2, idx+1, xticks=[], yticks=[])\n",
    "    imshow(images[idx])"
   ]
  },
  {
   "cell_type": "markdown",
   "metadata": {
    "colab_type": "text",
    "id": "FOF8OA_mhgyg"
   },
   "source": [
    "#### Exercise: Pre-process your image data and scale it to a pixel range of -1 to 1\n",
    "\n",
    "You need to do a bit of pre-processing; you know that the output of a `tanh` activated generator will contain pixel values in a range from -1 to 1, and so, we need to rescale our training images to a range of -1 to 1. (Right now, they are in a range from 0-1.)"
   ]
  },
  {
   "cell_type": "code",
   "execution_count": 0,
   "metadata": {
    "colab": {},
    "colab_type": "code",
    "id": "kn_KoE4Thgyi"
   },
   "outputs": [],
   "source": [
    "# TODO: Complete the scale function\n",
    "def scale(x, feature_range=(-1, 1)):\n",
    "    ''' Scale takes in an image x and returns that image, scaled\n",
    "       with a feature_range of pixel values from -1 to 1. \n",
    "       This function assumes that the input x is already scaled from 0-1.'''\n",
    "    # assume x is scaled to (0, 1)\n",
    "    # scale to feature_range and return scaled x\n",
    "    \n",
    "    min, max = feature_range\n",
    "    \n",
    "    x = x * (max - min) + min\n",
    "    \n",
    "    return x\n"
   ]
  },
  {
   "cell_type": "code",
   "execution_count": 10,
   "metadata": {
    "colab": {
     "base_uri": "https://localhost:8080/",
     "height": 51
    },
    "colab_type": "code",
    "id": "QvHnnJMihgym",
    "outputId": "7ff04289-ba41-41c0-df8c-c55e9285092c"
   },
   "outputs": [
    {
     "name": "stdout",
     "output_type": "stream",
     "text": [
      "Min:  tensor(-0.9686)\n",
      "Max:  tensor(0.9843)\n"
     ]
    }
   ],
   "source": [
    "\"\"\"\n",
    "DON'T MODIFY ANYTHING IN THIS CELL THAT IS BELOW THIS LINE\n",
    "\"\"\"\n",
    "# check scaled range\n",
    "# should be close to -1 to 1\n",
    "img = images[0]\n",
    "scaled_img = scale(img)\n",
    "\n",
    "print('Min: ', scaled_img.min())\n",
    "print('Max: ', scaled_img.max())"
   ]
  },
  {
   "cell_type": "markdown",
   "metadata": {
    "colab_type": "text",
    "id": "Eia1fiyuhgyp"
   },
   "source": [
    "---\n",
    "# Define the Model\n",
    "\n",
    "A GAN is comprised of two adversarial networks, a discriminator and a generator.\n",
    "\n",
    "## Discriminator\n",
    "\n",
    "Your first task will be to define the discriminator. This is a convolutional classifier like you've built before, only without any maxpooling layers. To deal with this complex data, it's suggested you use a deep network with **normalization**. You are also allowed to create any helper functions that may be useful.\n",
    "\n",
    "#### Exercise: Complete the Discriminator class\n",
    "* The inputs to the discriminator are 32x32x3 tensor images\n",
    "* The output should be a single value that will indicate whether a given image is real or fake\n"
   ]
  },
  {
   "cell_type": "code",
   "execution_count": 0,
   "metadata": {
    "colab": {},
    "colab_type": "code",
    "id": "Q0_ZYnRhhgyq"
   },
   "outputs": [],
   "source": [
    "import torch.nn as nn\n",
    "import torch.nn.functional as F"
   ]
  },
  {
   "cell_type": "code",
   "execution_count": 0,
   "metadata": {
    "colab": {},
    "colab_type": "code",
    "id": "KmucWSOsOdbq"
   },
   "outputs": [],
   "source": [
    "def conv(in_channels, out_channels, kernel_size, stride=2, padding=1, batch_norm=True):\n",
    "    \n",
    "    layers = []\n",
    "\n",
    "    # creating a convolution layer\n",
    "    conv_layer = nn.Conv2d(in_channels, out_channels, kernel_size, stride, padding, bias=False)\n",
    "    layers.append(conv_layer)\n",
    "\n",
    "    # adding batch normalisation only if batch_norm is True\n",
    "    if batch_norm:\n",
    "        layers.append(nn.BatchNorm2d(out_channels))\n",
    "\n",
    "    # using sequential container\n",
    "    return nn.Sequential(*layers)"
   ]
  },
  {
   "cell_type": "code",
   "execution_count": 13,
   "metadata": {
    "colab": {
     "base_uri": "https://localhost:8080/",
     "height": 34
    },
    "colab_type": "code",
    "id": "kL8kTtCJhgys",
    "outputId": "51d6cb2d-8891-4049-a91f-39c55febed78"
   },
   "outputs": [
    {
     "name": "stdout",
     "output_type": "stream",
     "text": [
      "Tests Passed\n"
     ]
    }
   ],
   "source": [
    "class Discriminator(nn.Module):\n",
    "\n",
    "    def __init__(self, conv_dim):\n",
    "        \"\"\"\n",
    "        Initialize the Discriminator Module\n",
    "        :param conv_dim: The depth of the first convolutional layer\n",
    "        \"\"\"\n",
    "        super(Discriminator, self).__init__()\n",
    "\n",
    "        self.conv_dim = conv_dim\n",
    "\n",
    "        # complete init function\n",
    "        # 32x32x3 input\n",
    "        self.conv1 = conv(3, conv_dim, 3, batch_norm=False) # not using batch_norm is first layer\n",
    "        # 16x16x32 output\n",
    "        self.conv2 = conv(conv_dim, conv_dim*2, 3)\n",
    "        # 8X8X64 output\n",
    "        self.conv3 = conv(conv_dim*2, conv_dim*4, 3)\n",
    "        # 4x4x128 output\n",
    "        self.conv4 = conv(conv_dim*4, conv_dim*8, 3)\n",
    "        # 2x2x256 output\n",
    "\n",
    "        # fully-connected layer\n",
    "        self.fc = nn.Linear(conv_dim*8*2*2, 1)\n",
    "\n",
    "        \n",
    "\n",
    "    def forward(self, x):\n",
    "        \"\"\"\n",
    "        Forward propagation of the neural network\n",
    "        :param x: The input to the neural network\n",
    "        :return: Discriminator logits; the output of the neural network\n",
    "        \"\"\"\n",
    "        # define feedforward behavior\n",
    "\n",
    "        # passing the input through a series of convolution layers\n",
    "        # with leaky_relu activation\n",
    "        out = F.leaky_relu(self.conv1(x), 0.2)\n",
    "        out = F.leaky_relu(self.conv2(out), 0.2)\n",
    "        out = F.leaky_relu(self.conv3(out), 0.2)\n",
    "        out = F.leaky_relu(self.conv4(out), 0.2)\n",
    "\n",
    "        # flatten the input\n",
    "        out = out.view(-1, self.conv_dim*8*2*2)\n",
    "\n",
    "        # passing through the final, fully-connected layer\n",
    "        out = self.fc(out)\n",
    "        \n",
    "        return out\n",
    "\n",
    "\n",
    "\"\"\"\n",
    "DON'T MODIFY ANYTHING IN THIS CELL THAT IS BELOW THIS LINE\n",
    "\"\"\"\n",
    "tests.test_discriminator(Discriminator)"
   ]
  },
  {
   "cell_type": "markdown",
   "metadata": {
    "colab_type": "text",
    "id": "Ei7YW8fdhgyv"
   },
   "source": [
    "## Generator\n",
    "\n",
    "The generator should upsample an input and generate a *new* image of the same size as our training data `32x32x3`. This should be mostly transpose convolutional layers with normalization applied to the outputs.\n",
    "\n",
    "#### Exercise: Complete the Generator class\n",
    "* The inputs to the generator are vectors of some length `z_size`\n",
    "* The output should be a image of shape `32x32x3`"
   ]
  },
  {
   "cell_type": "code",
   "execution_count": 0,
   "metadata": {
    "colab": {},
    "colab_type": "code",
    "id": "Fu3YwFQuTsH8"
   },
   "outputs": [],
   "source": [
    "def deconv(in_channels, out_channels, kernel_size, stride=2, padding=1, batch_norm=True):\n",
    "\n",
    "    layers = []\n",
    "    de_conv = nn.ConvTranspose2d(in_channels, out_channels, kernel_size, stride,\n",
    "                                 padding, bias=False)\n",
    "\n",
    "    # adding transpose convolution layer\n",
    "    layers.append(de_conv)\n",
    "\n",
    "    if batch_norm:\n",
    "        layers.append(nn.BatchNorm2d(out_channels))\n",
    "\n",
    "    # returning the layers in a sequential container\n",
    "    return nn.Sequential(*layers)\n"
   ]
  },
  {
   "cell_type": "code",
   "execution_count": 15,
   "metadata": {
    "colab": {
     "base_uri": "https://localhost:8080/",
     "height": 68
    },
    "colab_type": "code",
    "id": "cctkdSo5hgyw",
    "outputId": "cb19cd75-8bcf-4b23-a9f0-fd91298859c4"
   },
   "outputs": [
    {
     "name": "stdout",
     "output_type": "stream",
     "text": [
      "Tests Passed\n"
     ]
    },
    {
     "name": "stderr",
     "output_type": "stream",
     "text": [
      "/usr/local/lib/python3.6/dist-packages/torch/nn/functional.py:1340: UserWarning: nn.functional.tanh is deprecated. Use torch.tanh instead.\n",
      "  warnings.warn(\"nn.functional.tanh is deprecated. Use torch.tanh instead.\")\n"
     ]
    }
   ],
   "source": [
    "class Generator(nn.Module):\n",
    "    \n",
    "    def __init__(self, z_size, conv_dim):\n",
    "        \"\"\"\n",
    "        Initialize the Generator Module\n",
    "        :param z_size: The length of the input latent vector, z\n",
    "        :param conv_dim: The depth of the inputs to the *last* transpose convolutional layer\n",
    "        \"\"\"\n",
    "        super(Generator, self).__init__()\n",
    "        self.conv_dim = conv_dim\n",
    "\n",
    "        # complete init function\n",
    "\n",
    "        # creating the expected shape for the network from latent vector z\n",
    "        self.fc = nn.Linear(z_size, conv_dim*8*2*2)\n",
    "\n",
    "        # 256x2x2 input\n",
    "        self.t_conv1 = deconv(conv_dim*8, conv_dim*4, 4)\n",
    "        # 128x4x4 output\n",
    "        self.t_conv2 = deconv(conv_dim*4, conv_dim*2, 4)\n",
    "        # 64x8x8 output\n",
    "        self.t_conv3 = deconv(conv_dim*2, conv_dim, 4)\n",
    "        # 32x16x16 output\n",
    "        self.t_conv4 = deconv(conv_dim, 3, 4, batch_norm=False)\n",
    "        # 3x32x32 output\n",
    "        \n",
    "\n",
    "    def forward(self, x):\n",
    "        \"\"\"\n",
    "        Forward propagation of the neural network\n",
    "        :param x: The input to the neural network     \n",
    "        :return: A 32x32x3 Tensor image as output\n",
    "        \"\"\"\n",
    "        # define feedforward behavior\n",
    "        # \n",
    "        out = self.fc(x)\n",
    "\n",
    "        # reshaping it\n",
    "        out = out.view(-1, self.conv_dim*8, 2, 2)\n",
    "\n",
    "        # passing through de_conv layers\n",
    "        out = F.relu(self.t_conv1(out))\n",
    "        out = F.relu(self.t_conv2(out))\n",
    "        out = F.relu(self.t_conv3(out))\n",
    "        out = F.tanh(self.t_conv4(out))\n",
    "        \n",
    "        return out\n",
    "\n",
    "\"\"\"\n",
    "DON'T MODIFY ANYTHING IN THIS CELL THAT IS BELOW THIS LINE\n",
    "\"\"\"\n",
    "tests.test_generator(Generator)"
   ]
  },
  {
   "cell_type": "markdown",
   "metadata": {
    "colab_type": "text",
    "id": "L2aw3ca0hgyz"
   },
   "source": [
    "## Initialize the weights of your networks\n",
    "\n",
    "To help your models converge, you should initialize the weights of the convolutional and linear layers in your model. From reading the [original DCGAN paper](https://arxiv.org/pdf/1511.06434.pdf), they say:\n",
    "> All weights were initialized from a zero-centered Normal distribution with standard deviation 0.02.\n",
    "\n",
    "So, your next task will be to define a weight initialization function that does just this!\n",
    "\n",
    "You can refer back to the lesson on weight initialization or even consult existing model code, such as that from [the `networks.py` file in CycleGAN Github repository](https://github.com/junyanz/pytorch-CycleGAN-and-pix2pix/blob/master/models/networks.py) to help you complete this function.\n",
    "\n",
    "#### Exercise: Complete the weight initialization function\n",
    "\n",
    "* This should initialize only **convolutional** and **linear** layers\n",
    "* Initialize the weights to a normal distribution, centered around 0, with a standard deviation of 0.02.\n",
    "* The bias terms, if they exist, may be left alone or set to 0."
   ]
  },
  {
   "cell_type": "code",
   "execution_count": 0,
   "metadata": {
    "colab": {},
    "colab_type": "code",
    "id": "bS3mpEP8hgy0"
   },
   "outputs": [],
   "source": [
    "import random\n",
    "from torch.nn import init\n",
    "\n",
    "def weights_init_normal(m):\n",
    "    \"\"\"\n",
    "    Applies initial weights to certain layers in a model .\n",
    "    The weights are taken from a normal distribution \n",
    "    with mean = 0, std dev = 0.02.\n",
    "    :param m: A module or layer in a network    \n",
    "    \"\"\"\n",
    "    # classname will be something like:\n",
    "    # `Conv`, `BatchNorm2d`, `Linear`, etc.\n",
    "    classname = m.__class__.__name__\n",
    "    \n",
    "    # TODO: Apply initial weights to convolutional and linear layers\n",
    "    if hasattr(m, 'weight'):\n",
    "        init.normal_(m.weight.data, 0.0, 0.02)\n",
    "    "
   ]
  },
  {
   "cell_type": "markdown",
   "metadata": {
    "colab_type": "text",
    "collapsed": true,
    "id": "3_579nAYhgy2"
   },
   "source": [
    "## Build complete network\n",
    "\n",
    "Define your models' hyperparameters and instantiate the discriminator and generator from the classes defined above. Make sure you've passed in the correct input arguments."
   ]
  },
  {
   "cell_type": "code",
   "execution_count": 0,
   "metadata": {
    "colab": {},
    "colab_type": "code",
    "id": "nkDFjJ5Dhgy3"
   },
   "outputs": [],
   "source": [
    "\"\"\"\n",
    "DON'T MODIFY ANYTHING IN THIS CELL THAT IS BELOW THIS LINE\n",
    "\"\"\"\n",
    "def build_network(d_conv_dim, g_conv_dim, z_size):\n",
    "    # define discriminator and generator\n",
    "    D = Discriminator(d_conv_dim)\n",
    "    G = Generator(z_size=z_size, conv_dim=g_conv_dim)\n",
    "\n",
    "    # initialize model weights\n",
    "    D.apply(weights_init_normal)\n",
    "    G.apply(weights_init_normal)\n",
    "\n",
    "    print(D)\n",
    "    print()\n",
    "    print(G)\n",
    "    \n",
    "    return D, G\n"
   ]
  },
  {
   "cell_type": "markdown",
   "metadata": {
    "colab_type": "text",
    "id": "6o8Jcx3whgy5"
   },
   "source": [
    "#### Exercise: Define model hyperparameters"
   ]
  },
  {
   "cell_type": "code",
   "execution_count": 18,
   "metadata": {
    "colab": {
     "base_uri": "https://localhost:8080/",
     "height": 646
    },
    "colab_type": "code",
    "id": "WKgPjRw-hgy6",
    "outputId": "d95c5922-bf06-4280-949e-f14cace135b5"
   },
   "outputs": [
    {
     "name": "stdout",
     "output_type": "stream",
     "text": [
      "Discriminator(\n",
      "  (conv1): Sequential(\n",
      "    (0): Conv2d(3, 32, kernel_size=(3, 3), stride=(2, 2), padding=(1, 1), bias=False)\n",
      "  )\n",
      "  (conv2): Sequential(\n",
      "    (0): Conv2d(32, 64, kernel_size=(3, 3), stride=(2, 2), padding=(1, 1), bias=False)\n",
      "    (1): BatchNorm2d(64, eps=1e-05, momentum=0.1, affine=True, track_running_stats=True)\n",
      "  )\n",
      "  (conv3): Sequential(\n",
      "    (0): Conv2d(64, 128, kernel_size=(3, 3), stride=(2, 2), padding=(1, 1), bias=False)\n",
      "    (1): BatchNorm2d(128, eps=1e-05, momentum=0.1, affine=True, track_running_stats=True)\n",
      "  )\n",
      "  (conv4): Sequential(\n",
      "    (0): Conv2d(128, 256, kernel_size=(3, 3), stride=(2, 2), padding=(1, 1), bias=False)\n",
      "    (1): BatchNorm2d(256, eps=1e-05, momentum=0.1, affine=True, track_running_stats=True)\n",
      "  )\n",
      "  (fc): Linear(in_features=1024, out_features=1, bias=True)\n",
      ")\n",
      "\n",
      "Generator(\n",
      "  (fc): Linear(in_features=100, out_features=1024, bias=True)\n",
      "  (t_conv1): Sequential(\n",
      "    (0): ConvTranspose2d(256, 128, kernel_size=(4, 4), stride=(2, 2), padding=(1, 1), bias=False)\n",
      "    (1): BatchNorm2d(128, eps=1e-05, momentum=0.1, affine=True, track_running_stats=True)\n",
      "  )\n",
      "  (t_conv2): Sequential(\n",
      "    (0): ConvTranspose2d(128, 64, kernel_size=(4, 4), stride=(2, 2), padding=(1, 1), bias=False)\n",
      "    (1): BatchNorm2d(64, eps=1e-05, momentum=0.1, affine=True, track_running_stats=True)\n",
      "  )\n",
      "  (t_conv3): Sequential(\n",
      "    (0): ConvTranspose2d(64, 32, kernel_size=(4, 4), stride=(2, 2), padding=(1, 1), bias=False)\n",
      "    (1): BatchNorm2d(32, eps=1e-05, momentum=0.1, affine=True, track_running_stats=True)\n",
      "  )\n",
      "  (t_conv4): Sequential(\n",
      "    (0): ConvTranspose2d(32, 3, kernel_size=(4, 4), stride=(2, 2), padding=(1, 1), bias=False)\n",
      "  )\n",
      ")\n"
     ]
    }
   ],
   "source": [
    "# Define model hyperparams\n",
    "d_conv_dim = 32\n",
    "g_conv_dim = 32\n",
    "z_size = 100\n",
    "\n",
    "\"\"\"\n",
    "DON'T MODIFY ANYTHING IN THIS CELL THAT IS BELOW THIS LINE\n",
    "\"\"\"\n",
    "D, G = build_network(d_conv_dim, g_conv_dim, z_size)"
   ]
  },
  {
   "cell_type": "markdown",
   "metadata": {
    "colab_type": "text",
    "id": "H2-6YlmNhgy8"
   },
   "source": [
    "### Training on GPU\n",
    "\n",
    "Check if you can train on GPU. Here, we'll set this as a boolean variable `train_on_gpu`. Later, you'll be responsible for making sure that \n",
    ">* Models,\n",
    "* Model inputs, and\n",
    "* Loss function arguments\n",
    "\n",
    "Are moved to GPU, where appropriate."
   ]
  },
  {
   "cell_type": "code",
   "execution_count": 19,
   "metadata": {
    "colab": {
     "base_uri": "https://localhost:8080/",
     "height": 34
    },
    "colab_type": "code",
    "id": "uEDlG2Ehhgy9",
    "outputId": "f83d1eb6-765e-430f-d930-2ae896cf9e60"
   },
   "outputs": [
    {
     "name": "stdout",
     "output_type": "stream",
     "text": [
      "Training on GPU!\n"
     ]
    }
   ],
   "source": [
    "\"\"\"\n",
    "DON'T MODIFY ANYTHING IN THIS CELL\n",
    "\"\"\"\n",
    "import torch\n",
    "\n",
    "# Check for a GPU\n",
    "train_on_gpu = torch.cuda.is_available()\n",
    "if not train_on_gpu:\n",
    "    print('No GPU found. Please use a GPU to train your neural network.')\n",
    "else:\n",
    "    print('Training on GPU!')"
   ]
  },
  {
   "cell_type": "markdown",
   "metadata": {
    "colab_type": "text",
    "id": "NygG0c97hgzA"
   },
   "source": [
    "---\n",
    "## Discriminator and Generator Losses\n",
    "\n",
    "Now we need to calculate the losses for both types of adversarial networks.\n",
    "\n",
    "### Discriminator Losses\n",
    "\n",
    "> * For the discriminator, the total loss is the sum of the losses for real and fake images, `d_loss = d_real_loss + d_fake_loss`. \n",
    "* Remember that we want the discriminator to output 1 for real images and 0 for fake images, so we need to set up the losses to reflect that.\n",
    "\n",
    "\n",
    "### Generator Loss\n",
    "\n",
    "The generator loss will look similar only with flipped labels. The generator's goal is to get the discriminator to *think* its generated images are *real*.\n",
    "\n",
    "#### Exercise: Complete real and fake loss functions\n",
    "\n",
    "**You may choose to use either cross entropy or a least squares error loss to complete the following `real_loss` and `fake_loss` functions.**"
   ]
  },
  {
   "cell_type": "code",
   "execution_count": 0,
   "metadata": {
    "colab": {},
    "colab_type": "code",
    "id": "8zOHvb02hgzB"
   },
   "outputs": [],
   "source": [
    "def real_loss(D_out):\n",
    "    '''Calculates how close discriminator outputs are to being real.\n",
    "       param, D_out: discriminator logits\n",
    "       return: real loss'''\n",
    "    \n",
    "    batch_size = D_out.size(0)\n",
    "    labels = torch.ones(batch_size)\n",
    "\n",
    "    if train_on_gpu:\n",
    "        labels = labels.cuda()\n",
    "\n",
    "    criterion = nn.BCEWithLogitsLoss()\n",
    "    loss = criterion(D_out.squeeze(), labels)\n",
    "\n",
    "    return loss\n",
    "\n",
    "def fake_loss(D_out):\n",
    "    '''Calculates how close discriminator outputs are to being fake.\n",
    "       param, D_out: discriminator logits\n",
    "       return: fake loss'''\n",
    "\n",
    "    batch_size = D_out.size(0)\n",
    "    labels = torch.zeros(batch_size)\n",
    "\n",
    "    if train_on_gpu:\n",
    "        labels = labels.cuda()\n",
    "\n",
    "    criterion = nn.BCEWithLogitsLoss()\n",
    "    loss = criterion(D_out.squeeze(), labels)\n",
    "\n",
    "    return loss"
   ]
  },
  {
   "cell_type": "markdown",
   "metadata": {
    "colab_type": "text",
    "id": "IgVRZwAThgzE"
   },
   "source": [
    "## Optimizers\n",
    "\n",
    "#### Exercise: Define optimizers for your Discriminator (D) and Generator (G)\n",
    "\n",
    "Define optimizers for your models with appropriate hyperparameters."
   ]
  },
  {
   "cell_type": "code",
   "execution_count": 0,
   "metadata": {
    "colab": {},
    "colab_type": "code",
    "id": "GLIZG6IehgzE"
   },
   "outputs": [],
   "source": [
    "import torch.optim as optim\n",
    "\n",
    "lr = 0.0002\n",
    "beta1 = 0.5\n",
    "beta2 = 0.999\n",
    "\n",
    "# Create optimizers for the discriminator D and generator G\n",
    "d_optimizer = optim.Adam(D.parameters(), lr, [beta1, beta2])\n",
    "g_optimizer = optim.Adam(G.parameters(), lr, [beta1, beta2])"
   ]
  },
  {
   "cell_type": "markdown",
   "metadata": {
    "colab_type": "text",
    "id": "oQauKoKWhgzN"
   },
   "source": [
    "---\n",
    "## Training\n",
    "\n",
    "Training will involve alternating between training the discriminator and the generator. You'll use your functions `real_loss` and `fake_loss` to help you calculate the discriminator losses.\n",
    "\n",
    "* You should train the discriminator by alternating on real and fake images\n",
    "* Then the generator, which tries to trick the discriminator and should have an opposing loss function\n",
    "\n",
    "\n",
    "#### Saving Samples\n",
    "\n",
    "You've been given some code to print out some loss statistics and save some generated \"fake\" samples."
   ]
  },
  {
   "cell_type": "markdown",
   "metadata": {
    "colab_type": "text",
    "id": "RbMxAG9WhgzQ"
   },
   "source": [
    "#### Exercise: Complete the training function\n",
    "\n",
    "Keep in mind that, if you've moved your models to GPU, you'll also have to move any model inputs to GPU."
   ]
  },
  {
   "cell_type": "code",
   "execution_count": 0,
   "metadata": {
    "colab": {},
    "colab_type": "code",
    "id": "O6Mx-inlhgzS"
   },
   "outputs": [],
   "source": [
    "def train(D, G, n_epochs, print_every=50):\n",
    "    '''Trains adversarial networks for some number of epochs\n",
    "       param, D: the discriminator network\n",
    "       param, G: the generator network\n",
    "       param, n_epochs: number of epochs to train for\n",
    "       param, print_every: when to print and record the models' losses\n",
    "       return: D and G losses'''\n",
    "    \n",
    "    # move models to GPU\n",
    "    if train_on_gpu:\n",
    "        D.cuda()\n",
    "        G.cuda()\n",
    "\n",
    "    # keep track of loss and generated, \"fake\" samples\n",
    "    samples = []\n",
    "    losses = []\n",
    "\n",
    "    # Get some fixed data for sampling. These are images that are held\n",
    "    # constant throughout training, and allow us to inspect the model's performance\n",
    "    sample_size=16\n",
    "    fixed_z = np.random.uniform(-1, 1, size=(sample_size, z_size))\n",
    "    fixed_z = torch.from_numpy(fixed_z).float()\n",
    "    # move z to GPU if available\n",
    "    if train_on_gpu:\n",
    "        fixed_z = fixed_z.cuda()\n",
    "\n",
    "    # epoch training loop\n",
    "    for epoch in range(n_epochs):\n",
    "\n",
    "        # batch training loop\n",
    "        for batch_i, (real_images, _) in enumerate(celeba_train_loader):\n",
    "\n",
    "            batch_size = real_images.size(0)\n",
    "            real_images = scale(real_images)\n",
    "            # real_images = torch.from_numpy(real_images).float()\n",
    "\n",
    "            # moving to gpu, if available!\n",
    "            if train_on_gpu:\n",
    "                real_images = real_images.cuda()\n",
    "\n",
    "            # ===============================================\n",
    "            #         YOUR CODE HERE: TRAIN THE NETWORKS\n",
    "            # ===============================================\n",
    "            \n",
    "            # 1. Train the discriminator on real and fake images\n",
    "\n",
    "            # clearing the gradients\n",
    "            d_optimizer.zero_grad()\n",
    "                \n",
    "            # training the generator with real images\n",
    "            D_real = D(real_images)\n",
    "            d_real_loss = real_loss(D_real)\n",
    "\n",
    "            # training the generator with fake images\n",
    "\n",
    "            z = np.random.uniform(-1., 1., size=(batch_size, z_size))\n",
    "            z = torch.from_numpy(z).float()\n",
    "\n",
    "            if train_on_gpu:\n",
    "                z = z.cuda()\n",
    "\n",
    "            fake_images = G(z)\n",
    "\n",
    "            D_fake = D(fake_images)\n",
    "            d_fake_loss = fake_loss(D_fake)\n",
    "\n",
    "            # adding loss and performing backprop\n",
    "            d_loss = d_real_loss + d_fake_loss\n",
    "            d_loss.backward()\n",
    "            d_optimizer.step()\n",
    "\n",
    "            # 2. Train the generator with an adversarial loss\n",
    "\n",
    "            # clearing accumulated gradients\n",
    "            g_optimizer.zero_grad()\n",
    "            \n",
    "            # creating latent vector z\n",
    "            z = np.random.uniform(-1., 1., (batch_size, z_size))\n",
    "            z = torch.from_numpy(z).float()\n",
    "\n",
    "            # moving to gpu, if available!\n",
    "            if train_on_gpu:\n",
    "                z = z.cuda()\n",
    "\n",
    "            # generating fake_images\n",
    "            fake_images = G(z)\n",
    "\n",
    "            # compute discriminator loss on fake images\n",
    "            D_fake = D(fake_images)\n",
    "\n",
    "            # calculating loss and performing backprop\n",
    "            g_loss = real_loss(D_fake)\n",
    "            g_loss.backward()\n",
    "            g_optimizer.step()\n",
    "            \n",
    "            \n",
    "            # ===============================================\n",
    "            #              END OF YOUR CODE\n",
    "            # ===============================================\n",
    "\n",
    "            # Print some loss stats\n",
    "            if batch_i % print_every == 0:\n",
    "                # append discriminator loss and generator loss\n",
    "                losses.append((d_loss.item(), g_loss.item()))\n",
    "                # print discriminator and generator loss\n",
    "                print('Epoch [{:5d}/{:5d}] | d_loss: {:6.4f} | g_loss: {:6.4f}'.format(\n",
    "                        epoch+1, n_epochs, d_loss.item(), g_loss.item()))\n",
    "\n",
    "\n",
    "        ## AFTER EACH EPOCH##    \n",
    "        # this code assumes your generator is named G, feel free to change the name\n",
    "        # generate and save sample, fake images\n",
    "        G.eval() # for generating samples\n",
    "        samples_z = G(fixed_z)\n",
    "        samples.append(samples_z)\n",
    "        G.train() # back to training mode\n",
    "\n",
    "    # Save training generator samples\n",
    "    with open('train_samples.pkl', 'wb') as f:\n",
    "        pkl.dump(samples, f)\n",
    "    \n",
    "    # finally return losses\n",
    "    return losses"
   ]
  },
  {
   "cell_type": "markdown",
   "metadata": {
    "colab_type": "text",
    "id": "p3QoXhYDhgzU"
   },
   "source": [
    "Set your number of training epochs and train your GAN!"
   ]
  },
  {
   "cell_type": "code",
   "execution_count": 23,
   "metadata": {
    "colab": {
     "base_uri": "https://localhost:8080/",
     "height": 1000
    },
    "colab_type": "code",
    "id": "-3MGGgHFhgzV",
    "outputId": "20edd159-0fc1-45aa-d48d-723f037363ed"
   },
   "outputs": [
    {
     "name": "stderr",
     "output_type": "stream",
     "text": [
      "/usr/local/lib/python3.6/dist-packages/torch/nn/functional.py:1340: UserWarning: nn.functional.tanh is deprecated. Use torch.tanh instead.\n",
      "  warnings.warn(\"nn.functional.tanh is deprecated. Use torch.tanh instead.\")\n"
     ]
    },
    {
     "name": "stdout",
     "output_type": "stream",
     "text": [
      "Epoch [    1/   25] | d_loss: 1.3876 | g_loss: 0.6798\n",
      "Epoch [    1/   25] | d_loss: 0.1019 | g_loss: 3.3625\n",
      "Epoch [    1/   25] | d_loss: 1.2098 | g_loss: 3.6081\n",
      "Epoch [    1/   25] | d_loss: 1.3744 | g_loss: 1.8348\n",
      "Epoch [    1/   25] | d_loss: 0.8157 | g_loss: 1.3669\n",
      "Epoch [    1/   25] | d_loss: 0.9440 | g_loss: 2.1752\n",
      "Epoch [    1/   25] | d_loss: 1.0416 | g_loss: 2.1747\n",
      "Epoch [    1/   25] | d_loss: 0.8625 | g_loss: 2.2414\n",
      "Epoch [    1/   25] | d_loss: 0.6005 | g_loss: 2.2507\n",
      "Epoch [    1/   25] | d_loss: 0.7240 | g_loss: 1.3423\n",
      "Epoch [    2/   25] | d_loss: 0.6758 | g_loss: 2.0423\n",
      "Epoch [    2/   25] | d_loss: 0.5378 | g_loss: 2.9218\n",
      "Epoch [    2/   25] | d_loss: 1.0834 | g_loss: 2.9190\n",
      "Epoch [    2/   25] | d_loss: 1.0087 | g_loss: 2.9045\n",
      "Epoch [    2/   25] | d_loss: 0.8537 | g_loss: 2.1520\n",
      "Epoch [    2/   25] | d_loss: 0.9053 | g_loss: 1.1130\n",
      "Epoch [    2/   25] | d_loss: 0.6271 | g_loss: 2.7937\n",
      "Epoch [    2/   25] | d_loss: 0.3322 | g_loss: 3.0686\n",
      "Epoch [    2/   25] | d_loss: 0.3551 | g_loss: 1.6887\n",
      "Epoch [    2/   25] | d_loss: 0.9679 | g_loss: 3.3156\n",
      "Epoch [    3/   25] | d_loss: 0.8765 | g_loss: 3.2810\n",
      "Epoch [    3/   25] | d_loss: 0.3448 | g_loss: 1.6973\n",
      "Epoch [    3/   25] | d_loss: 0.7079 | g_loss: 2.6147\n",
      "Epoch [    3/   25] | d_loss: 0.5615 | g_loss: 1.8425\n",
      "Epoch [    3/   25] | d_loss: 0.4756 | g_loss: 1.1987\n",
      "Epoch [    3/   25] | d_loss: 1.0207 | g_loss: 2.0708\n",
      "Epoch [    3/   25] | d_loss: 0.8512 | g_loss: 1.2861\n",
      "Epoch [    3/   25] | d_loss: 0.6240 | g_loss: 1.6001\n",
      "Epoch [    3/   25] | d_loss: 0.5159 | g_loss: 2.4262\n",
      "Epoch [    3/   25] | d_loss: 0.4585 | g_loss: 2.8064\n",
      "Epoch [    4/   25] | d_loss: 1.3628 | g_loss: 4.4952\n",
      "Epoch [    4/   25] | d_loss: 0.4639 | g_loss: 2.5944\n",
      "Epoch [    4/   25] | d_loss: 0.4433 | g_loss: 2.7552\n",
      "Epoch [    4/   25] | d_loss: 0.5801 | g_loss: 2.3882\n",
      "Epoch [    4/   25] | d_loss: 0.7578 | g_loss: 2.3581\n",
      "Epoch [    4/   25] | d_loss: 0.8030 | g_loss: 2.4360\n",
      "Epoch [    4/   25] | d_loss: 0.8733 | g_loss: 0.6753\n",
      "Epoch [    4/   25] | d_loss: 0.5949 | g_loss: 3.3256\n",
      "Epoch [    4/   25] | d_loss: 0.3321 | g_loss: 3.2205\n",
      "Epoch [    4/   25] | d_loss: 1.0566 | g_loss: 3.7870\n",
      "Epoch [    5/   25] | d_loss: 0.5245 | g_loss: 2.4944\n",
      "Epoch [    5/   25] | d_loss: 0.7571 | g_loss: 2.2244\n",
      "Epoch [    5/   25] | d_loss: 0.2727 | g_loss: 4.4447\n",
      "Epoch [    5/   25] | d_loss: 0.2291 | g_loss: 2.2607\n",
      "Epoch [    5/   25] | d_loss: 0.8379 | g_loss: 2.7364\n",
      "Epoch [    5/   25] | d_loss: 0.3751 | g_loss: 3.4911\n",
      "Epoch [    5/   25] | d_loss: 0.4895 | g_loss: 2.4718\n",
      "Epoch [    5/   25] | d_loss: 0.3418 | g_loss: 2.7283\n",
      "Epoch [    5/   25] | d_loss: 0.2761 | g_loss: 4.9954\n",
      "Epoch [    5/   25] | d_loss: 0.3535 | g_loss: 3.3938\n",
      "Epoch [    6/   25] | d_loss: 0.4500 | g_loss: 2.2239\n",
      "Epoch [    6/   25] | d_loss: 0.3968 | g_loss: 3.6375\n",
      "Epoch [    6/   25] | d_loss: 0.4298 | g_loss: 1.9441\n",
      "Epoch [    6/   25] | d_loss: 0.5213 | g_loss: 2.3199\n",
      "Epoch [    6/   25] | d_loss: 0.2771 | g_loss: 1.6598\n",
      "Epoch [    6/   25] | d_loss: 0.3208 | g_loss: 1.9108\n",
      "Epoch [    6/   25] | d_loss: 0.3835 | g_loss: 1.3308\n",
      "Epoch [    6/   25] | d_loss: 0.2993 | g_loss: 1.2201\n",
      "Epoch [    6/   25] | d_loss: 0.2655 | g_loss: 4.3975\n",
      "Epoch [    6/   25] | d_loss: 0.4212 | g_loss: 2.7284\n",
      "Epoch [    7/   25] | d_loss: 0.5339 | g_loss: 2.5272\n",
      "Epoch [    7/   25] | d_loss: 0.7627 | g_loss: 2.5840\n",
      "Epoch [    7/   25] | d_loss: 0.2320 | g_loss: 2.8345\n",
      "Epoch [    7/   25] | d_loss: 0.5438 | g_loss: 2.2042\n",
      "Epoch [    7/   25] | d_loss: 0.4217 | g_loss: 2.7316\n",
      "Epoch [    7/   25] | d_loss: 0.3308 | g_loss: 2.9225\n",
      "Epoch [    7/   25] | d_loss: 0.4450 | g_loss: 1.7510\n",
      "Epoch [    7/   25] | d_loss: 0.3142 | g_loss: 1.4027\n",
      "Epoch [    7/   25] | d_loss: 0.0929 | g_loss: 3.5490\n",
      "Epoch [    7/   25] | d_loss: 0.3134 | g_loss: 3.6017\n",
      "Epoch [    8/   25] | d_loss: 0.5712 | g_loss: 4.0579\n",
      "Epoch [    8/   25] | d_loss: 0.4974 | g_loss: 1.8115\n",
      "Epoch [    8/   25] | d_loss: 0.2846 | g_loss: 3.2814\n",
      "Epoch [    8/   25] | d_loss: 0.3492 | g_loss: 3.0515\n",
      "Epoch [    8/   25] | d_loss: 0.2397 | g_loss: 2.6749\n",
      "Epoch [    8/   25] | d_loss: 0.4146 | g_loss: 5.1663\n",
      "Epoch [    8/   25] | d_loss: 0.4904 | g_loss: 2.6985\n",
      "Epoch [    8/   25] | d_loss: 0.2853 | g_loss: 3.3377\n",
      "Epoch [    8/   25] | d_loss: 0.3326 | g_loss: 2.4002\n",
      "Epoch [    8/   25] | d_loss: 0.1155 | g_loss: 3.3648\n",
      "Epoch [    9/   25] | d_loss: 0.5910 | g_loss: 3.9559\n",
      "Epoch [    9/   25] | d_loss: 0.4680 | g_loss: 2.3525\n",
      "Epoch [    9/   25] | d_loss: 0.3584 | g_loss: 3.4418\n",
      "Epoch [    9/   25] | d_loss: 0.8617 | g_loss: 1.2161\n",
      "Epoch [    9/   25] | d_loss: 0.2545 | g_loss: 3.1568\n",
      "Epoch [    9/   25] | d_loss: 0.2367 | g_loss: 2.9418\n",
      "Epoch [    9/   25] | d_loss: 0.3072 | g_loss: 3.7030\n",
      "Epoch [    9/   25] | d_loss: 1.1216 | g_loss: 3.9108\n",
      "Epoch [    9/   25] | d_loss: 0.2498 | g_loss: 3.2895\n",
      "Epoch [    9/   25] | d_loss: 0.0969 | g_loss: 4.4772\n",
      "Epoch [   10/   25] | d_loss: 0.2799 | g_loss: 4.2662\n",
      "Epoch [   10/   25] | d_loss: 0.1296 | g_loss: 4.3166\n",
      "Epoch [   10/   25] | d_loss: 0.4288 | g_loss: 2.9316\n",
      "Epoch [   10/   25] | d_loss: 0.3586 | g_loss: 3.2213\n",
      "Epoch [   10/   25] | d_loss: 0.2724 | g_loss: 2.9402\n",
      "Epoch [   10/   25] | d_loss: 0.1791 | g_loss: 3.1477\n",
      "Epoch [   10/   25] | d_loss: 0.1888 | g_loss: 4.7971\n",
      "Epoch [   10/   25] | d_loss: 0.0933 | g_loss: 3.0525\n",
      "Epoch [   10/   25] | d_loss: 0.2801 | g_loss: 2.6623\n",
      "Epoch [   10/   25] | d_loss: 0.2241 | g_loss: 2.1293\n",
      "Epoch [   11/   25] | d_loss: 0.4283 | g_loss: 2.2483\n",
      "Epoch [   11/   25] | d_loss: 0.3048 | g_loss: 2.5682\n",
      "Epoch [   11/   25] | d_loss: 0.2490 | g_loss: 4.4662\n",
      "Epoch [   11/   25] | d_loss: 0.2489 | g_loss: 3.9622\n",
      "Epoch [   11/   25] | d_loss: 0.2582 | g_loss: 4.5496\n",
      "Epoch [   11/   25] | d_loss: 1.1301 | g_loss: 0.8310\n",
      "Epoch [   11/   25] | d_loss: 0.8894 | g_loss: 1.2584\n",
      "Epoch [   11/   25] | d_loss: 0.2122 | g_loss: 3.3635\n",
      "Epoch [   11/   25] | d_loss: 0.2380 | g_loss: 2.6178\n",
      "Epoch [   11/   25] | d_loss: 0.2996 | g_loss: 3.2620\n",
      "Epoch [   12/   25] | d_loss: 0.1577 | g_loss: 3.5554\n",
      "Epoch [   12/   25] | d_loss: 0.1181 | g_loss: 2.3534\n",
      "Epoch [   12/   25] | d_loss: 0.2561 | g_loss: 3.0939\n",
      "Epoch [   12/   25] | d_loss: 0.2479 | g_loss: 3.2760\n",
      "Epoch [   12/   25] | d_loss: 0.3181 | g_loss: 3.7240\n",
      "Epoch [   12/   25] | d_loss: 0.3241 | g_loss: 3.9909\n",
      "Epoch [   12/   25] | d_loss: 0.1470 | g_loss: 3.0523\n",
      "Epoch [   12/   25] | d_loss: 0.1144 | g_loss: 0.9999\n",
      "Epoch [   12/   25] | d_loss: 0.3943 | g_loss: 3.6312\n",
      "Epoch [   12/   25] | d_loss: 3.9106 | g_loss: 5.3258\n",
      "Epoch [   13/   25] | d_loss: 0.3688 | g_loss: 2.4838\n",
      "Epoch [   13/   25] | d_loss: 0.2651 | g_loss: 2.9553\n",
      "Epoch [   13/   25] | d_loss: 0.1818 | g_loss: 3.0075\n",
      "Epoch [   13/   25] | d_loss: 0.1874 | g_loss: 5.2106\n",
      "Epoch [   13/   25] | d_loss: 0.3575 | g_loss: 3.4542\n",
      "Epoch [   13/   25] | d_loss: 0.1132 | g_loss: 1.1770\n",
      "Epoch [   13/   25] | d_loss: 0.1380 | g_loss: 4.8204\n",
      "Epoch [   13/   25] | d_loss: 0.1243 | g_loss: 3.5291\n",
      "Epoch [   13/   25] | d_loss: 0.2798 | g_loss: 4.2796\n",
      "Epoch [   13/   25] | d_loss: 0.1282 | g_loss: 6.8563\n",
      "Epoch [   14/   25] | d_loss: 0.4403 | g_loss: 2.1735\n",
      "Epoch [   14/   25] | d_loss: 0.1604 | g_loss: 3.7646\n",
      "Epoch [   14/   25] | d_loss: 0.1524 | g_loss: 6.2012\n",
      "Epoch [   14/   25] | d_loss: 0.4519 | g_loss: 2.1567\n",
      "Epoch [   14/   25] | d_loss: 0.2818 | g_loss: 5.2675\n",
      "Epoch [   14/   25] | d_loss: 0.2912 | g_loss: 1.3596\n",
      "Epoch [   14/   25] | d_loss: 0.4890 | g_loss: 2.2150\n",
      "Epoch [   14/   25] | d_loss: 0.1453 | g_loss: 3.6434\n",
      "Epoch [   14/   25] | d_loss: 0.0878 | g_loss: 3.4314\n",
      "Epoch [   14/   25] | d_loss: 0.3759 | g_loss: 3.3886\n",
      "Epoch [   15/   25] | d_loss: 0.0777 | g_loss: 5.9616\n",
      "Epoch [   15/   25] | d_loss: 0.1068 | g_loss: 3.9105\n",
      "Epoch [   15/   25] | d_loss: 0.0723 | g_loss: 3.4813\n",
      "Epoch [   15/   25] | d_loss: 0.1049 | g_loss: 2.5027\n",
      "Epoch [   15/   25] | d_loss: 0.3283 | g_loss: 2.9664\n",
      "Epoch [   15/   25] | d_loss: 0.4539 | g_loss: 1.6837\n",
      "Epoch [   15/   25] | d_loss: 0.2416 | g_loss: 2.5767\n",
      "Epoch [   15/   25] | d_loss: 0.0864 | g_loss: 2.7182\n",
      "Epoch [   15/   25] | d_loss: 0.8349 | g_loss: 2.8686\n",
      "Epoch [   15/   25] | d_loss: 0.4584 | g_loss: 4.9319\n",
      "Epoch [   16/   25] | d_loss: 0.2947 | g_loss: 4.5565\n",
      "Epoch [   16/   25] | d_loss: 0.1530 | g_loss: 3.1943\n",
      "Epoch [   16/   25] | d_loss: 0.1323 | g_loss: 3.9360\n",
      "Epoch [   16/   25] | d_loss: 0.6133 | g_loss: 2.3235\n",
      "Epoch [   16/   25] | d_loss: 0.2029 | g_loss: 3.7384\n",
      "Epoch [   16/   25] | d_loss: 0.1312 | g_loss: 3.9278\n",
      "Epoch [   16/   25] | d_loss: 0.2049 | g_loss: 3.7541\n",
      "Epoch [   16/   25] | d_loss: 0.1718 | g_loss: 2.5558\n",
      "Epoch [   16/   25] | d_loss: 1.1105 | g_loss: 5.5923\n",
      "Epoch [   16/   25] | d_loss: 0.1758 | g_loss: 3.8613\n",
      "Epoch [   17/   25] | d_loss: 0.0596 | g_loss: 3.1268\n",
      "Epoch [   17/   25] | d_loss: 0.1574 | g_loss: 3.8205\n",
      "Epoch [   17/   25] | d_loss: 0.0800 | g_loss: 4.4284\n",
      "Epoch [   17/   25] | d_loss: 0.1605 | g_loss: 4.5198\n",
      "Epoch [   17/   25] | d_loss: 0.7758 | g_loss: 3.0009\n",
      "Epoch [   17/   25] | d_loss: 0.2550 | g_loss: 4.0282\n",
      "Epoch [   17/   25] | d_loss: 0.1137 | g_loss: 4.1957\n",
      "Epoch [   17/   25] | d_loss: 0.1482 | g_loss: 1.6469\n",
      "Epoch [   17/   25] | d_loss: 0.0173 | g_loss: 3.1697\n",
      "Epoch [   17/   25] | d_loss: 0.1018 | g_loss: 5.5941\n",
      "Epoch [   18/   25] | d_loss: 0.4748 | g_loss: 2.1684\n",
      "Epoch [   18/   25] | d_loss: 0.0528 | g_loss: 2.9053\n",
      "Epoch [   18/   25] | d_loss: 0.1298 | g_loss: 3.3291\n",
      "Epoch [   18/   25] | d_loss: 0.0365 | g_loss: 6.1204\n",
      "Epoch [   18/   25] | d_loss: 0.0857 | g_loss: 3.4167\n",
      "Epoch [   18/   25] | d_loss: 0.0561 | g_loss: 2.9956\n",
      "Epoch [   18/   25] | d_loss: 0.0666 | g_loss: 3.4886\n",
      "Epoch [   18/   25] | d_loss: 0.4207 | g_loss: 5.2263\n",
      "Epoch [   18/   25] | d_loss: 0.2111 | g_loss: 3.0884\n",
      "Epoch [   18/   25] | d_loss: 0.0813 | g_loss: 5.8812\n",
      "Epoch [   19/   25] | d_loss: 0.2826 | g_loss: 2.7703\n",
      "Epoch [   19/   25] | d_loss: 0.0210 | g_loss: 3.7113\n",
      "Epoch [   19/   25] | d_loss: 0.2826 | g_loss: 2.0272\n",
      "Epoch [   19/   25] | d_loss: 0.5634 | g_loss: 2.9544\n",
      "Epoch [   19/   25] | d_loss: 0.6253 | g_loss: 1.5098\n",
      "Epoch [   19/   25] | d_loss: 0.0987 | g_loss: 4.6036\n",
      "Epoch [   19/   25] | d_loss: 0.1400 | g_loss: 3.8217\n",
      "Epoch [   19/   25] | d_loss: 0.1119 | g_loss: 5.3938\n",
      "Epoch [   19/   25] | d_loss: 0.0864 | g_loss: 3.1771\n",
      "Epoch [   19/   25] | d_loss: 0.1089 | g_loss: 3.9079\n",
      "Epoch [   20/   25] | d_loss: 0.2241 | g_loss: 3.4261\n",
      "Epoch [   20/   25] | d_loss: 2.3270 | g_loss: 0.3208\n",
      "Epoch [   20/   25] | d_loss: 0.2434 | g_loss: 2.5437\n",
      "Epoch [   20/   25] | d_loss: 0.1672 | g_loss: 3.1816\n",
      "Epoch [   20/   25] | d_loss: 0.4376 | g_loss: 4.0790\n",
      "Epoch [   20/   25] | d_loss: 0.1495 | g_loss: 5.4763\n",
      "Epoch [   20/   25] | d_loss: 0.5008 | g_loss: 3.6815\n",
      "Epoch [   20/   25] | d_loss: 0.2331 | g_loss: 2.8198\n",
      "Epoch [   20/   25] | d_loss: 0.0527 | g_loss: 2.9741\n",
      "Epoch [   20/   25] | d_loss: 0.2425 | g_loss: 2.3144\n",
      "Epoch [   21/   25] | d_loss: 0.6138 | g_loss: 3.8028\n",
      "Epoch [   21/   25] | d_loss: 0.1204 | g_loss: 2.2603\n",
      "Epoch [   21/   25] | d_loss: 0.2527 | g_loss: 1.7441\n",
      "Epoch [   21/   25] | d_loss: 0.0810 | g_loss: 4.6184\n",
      "Epoch [   21/   25] | d_loss: 0.2379 | g_loss: 4.0678\n",
      "Epoch [   21/   25] | d_loss: 0.5068 | g_loss: 3.8773\n",
      "Epoch [   21/   25] | d_loss: 0.2787 | g_loss: 2.2925\n",
      "Epoch [   21/   25] | d_loss: 0.0832 | g_loss: 3.3308\n",
      "Epoch [   21/   25] | d_loss: 0.2700 | g_loss: 5.0585\n",
      "Epoch [   21/   25] | d_loss: 0.0333 | g_loss: 6.7886\n",
      "Epoch [   22/   25] | d_loss: 0.1550 | g_loss: 3.6746\n",
      "Epoch [   22/   25] | d_loss: 0.1817 | g_loss: 3.8505\n",
      "Epoch [   22/   25] | d_loss: 0.2248 | g_loss: 6.0054\n",
      "Epoch [   22/   25] | d_loss: 0.0272 | g_loss: 3.8981\n",
      "Epoch [   22/   25] | d_loss: 0.0981 | g_loss: 5.3726\n",
      "Epoch [   22/   25] | d_loss: 0.1575 | g_loss: 2.8014\n",
      "Epoch [   22/   25] | d_loss: 1.1100 | g_loss: 5.4149\n",
      "Epoch [   22/   25] | d_loss: 0.0567 | g_loss: 3.9278\n",
      "Epoch [   22/   25] | d_loss: 0.0992 | g_loss: 5.1263\n",
      "Epoch [   22/   25] | d_loss: 0.1508 | g_loss: 5.3776\n",
      "Epoch [   23/   25] | d_loss: 0.0828 | g_loss: 4.9826\n",
      "Epoch [   23/   25] | d_loss: 1.8416 | g_loss: 1.8877\n",
      "Epoch [   23/   25] | d_loss: 0.1859 | g_loss: 2.0641\n",
      "Epoch [   23/   25] | d_loss: 0.0830 | g_loss: 6.9564\n",
      "Epoch [   23/   25] | d_loss: 0.2805 | g_loss: 5.0775\n",
      "Epoch [   23/   25] | d_loss: 0.0196 | g_loss: 3.5493\n",
      "Epoch [   23/   25] | d_loss: 0.0496 | g_loss: 2.2200\n",
      "Epoch [   23/   25] | d_loss: 0.0942 | g_loss: 3.6607\n",
      "Epoch [   23/   25] | d_loss: 0.1464 | g_loss: 3.7499\n",
      "Epoch [   23/   25] | d_loss: 0.2685 | g_loss: 3.0056\n",
      "Epoch [   24/   25] | d_loss: 0.0191 | g_loss: 4.2034\n",
      "Epoch [   24/   25] | d_loss: 0.1047 | g_loss: 2.4772\n",
      "Epoch [   24/   25] | d_loss: 0.3240 | g_loss: 6.3572\n",
      "Epoch [   24/   25] | d_loss: 0.0327 | g_loss: 3.1844\n",
      "Epoch [   24/   25] | d_loss: 0.1449 | g_loss: 4.1955\n",
      "Epoch [   24/   25] | d_loss: 0.0469 | g_loss: 3.9853\n",
      "Epoch [   24/   25] | d_loss: 0.0685 | g_loss: 6.1243\n",
      "Epoch [   24/   25] | d_loss: 0.1572 | g_loss: 3.0806\n",
      "Epoch [   24/   25] | d_loss: 0.1613 | g_loss: 4.3317\n",
      "Epoch [   24/   25] | d_loss: 0.0278 | g_loss: 4.9025\n",
      "Epoch [   25/   25] | d_loss: 0.1422 | g_loss: 5.3029\n",
      "Epoch [   25/   25] | d_loss: 0.2376 | g_loss: 4.1480\n",
      "Epoch [   25/   25] | d_loss: 0.3096 | g_loss: 3.1701\n",
      "Epoch [   25/   25] | d_loss: 0.7964 | g_loss: 2.4961\n",
      "Epoch [   25/   25] | d_loss: 0.1972 | g_loss: 1.1863\n",
      "Epoch [   25/   25] | d_loss: 0.7065 | g_loss: 6.1861\n",
      "Epoch [   25/   25] | d_loss: 0.0772 | g_loss: 4.5678\n",
      "Epoch [   25/   25] | d_loss: 0.3044 | g_loss: 1.2999\n",
      "Epoch [   25/   25] | d_loss: 0.1258 | g_loss: 3.8006\n",
      "Epoch [   25/   25] | d_loss: 0.4834 | g_loss: 2.3276\n"
     ]
    }
   ],
   "source": [
    "# set number of epochs \n",
    "n_epochs = 25\n",
    "\n",
    "\n",
    "\"\"\"\n",
    "DON'T MODIFY ANYTHING IN THIS CELL\n",
    "\"\"\"\n",
    "# call training function\n",
    "losses = train(D, G, n_epochs=n_epochs, print_every=300)"
   ]
  },
  {
   "cell_type": "markdown",
   "metadata": {
    "colab_type": "text",
    "collapsed": true,
    "id": "w-6Pa_8QhgzX"
   },
   "source": [
    "## Training loss\n",
    "\n",
    "Plot the training losses for the generator and discriminator, recorded after each epoch."
   ]
  },
  {
   "cell_type": "code",
   "execution_count": 24,
   "metadata": {
    "colab": {
     "base_uri": "https://localhost:8080/",
     "height": 298
    },
    "colab_type": "code",
    "id": "dGLmPtCchgzX",
    "outputId": "7d2fc122-279e-4d10-9942-f4fc2648f23a"
   },
   "outputs": [
    {
     "data": {
      "text/plain": [
       "<matplotlib.legend.Legend at 0x7fa11e4f9390>"
      ]
     },
     "execution_count": 24,
     "metadata": {
      "tags": []
     },
     "output_type": "execute_result"
    },
    {
     "data": {
      "image/png": "[encoded data removed]",
      "text/plain": [
       "<Figure size 432x288 with 1 Axes>"
      ]
     },
     "metadata": {
      "tags": []
     },
     "output_type": "display_data"
    }
   ],
   "source": [
    "fig, ax = plt.subplots()\n",
    "losses = np.array(losses)\n",
    "plt.plot(losses.T[0], label='Discriminator', alpha=0.5)\n",
    "plt.plot(losses.T[1], label='Generator', alpha=0.5)\n",
    "plt.title(\"Training Losses\")\n",
    "plt.legend()"
   ]
  },
  {
   "cell_type": "markdown",
   "metadata": {
    "colab_type": "text",
    "collapsed": true,
    "id": "ke6j5aJphgzb"
   },
   "source": [
    "## Generator samples from training\n",
    "\n",
    "View samples of images from the generator, and answer a question about the strengths and weaknesses of your trained models."
   ]
  },
  {
   "cell_type": "code",
   "execution_count": 0,
   "metadata": {
    "colab": {},
    "colab_type": "code",
    "id": "_2x_stGwhgzc"
   },
   "outputs": [],
   "source": [
    "# helper function for viewing a list of passed in sample images\n",
    "def view_samples(epoch, samples):\n",
    "    fig, axes = plt.subplots(figsize=(16,4), nrows=2, ncols=8, sharey=True, sharex=True)\n",
    "    for ax, img in zip(axes.flatten(), samples[epoch]):\n",
    "        img = img.detach().cpu().numpy()\n",
    "        img = np.transpose(img, (1, 2, 0))\n",
    "        img = ((img + 1)*255 / (2)).astype(np.uint8)\n",
    "        ax.xaxis.set_visible(False)\n",
    "        ax.yaxis.set_visible(False)\n",
    "        im = ax.imshow(img.reshape((32,32,3)))"
   ]
  },
  {
   "cell_type": "code",
   "execution_count": 0,
   "metadata": {
    "colab": {},
    "colab_type": "code",
    "id": "Gf63UXZvhgze"
   },
   "outputs": [],
   "source": [
    "# Load samples from generator, taken while training\n",
    "with open('train_samples.pkl', 'rb') as f:\n",
    "    samples = pkl.load(f)"
   ]
  },
  {
   "cell_type": "code",
   "execution_count": 27,
   "metadata": {
    "colab": {
     "base_uri": "https://localhost:8080/",
     "height": 248
    },
    "colab_type": "code",
    "id": "54UVIlJ0hgzi",
    "outputId": "e35a1230-6a7b-40c8-96e6-7a07ade94fbe"
   },
   "outputs": [
    {
     "data": {
      "image/png": "[encoded data removed]",
      "text/plain": [
       "<Figure size 1152x288 with 16 Axes>"
      ]
     },
     "metadata": {
      "tags": []
     },
     "output_type": "display_data"
    }
   ],
   "source": [
    "_ = view_samples(-1, samples)"
   ]
  },
  {
   "cell_type": "markdown",
   "metadata": {
    "colab_type": "text",
    "id": "zcOwPCgnhgzo"
   },
   "source": [
    "### Question: What do you notice about your generated samples and how might you improve this model?\n",
    "When you answer this question, consider the following factors:\n",
    "* The dataset is biased; it is made of \"celebrity\" faces that are mostly white\n",
    "* Model size; larger models have the opportunity to learn more features in a data feature space\n",
    "* Optimization strategy; optimizers and number of epochs affect your final result\n"
   ]
  },
  {
   "cell_type": "markdown",
   "metadata": {
    "colab_type": "text",
    "id": "mRVc8bB0hgzp"
   },
   "source": [
    "**Answer:** \n",
    "\n",
    "*   I absolutely agree that the dataset is biased with white celebrity faces, so we don't get a diverse face generation result. We can improve this by introducing a more diverse face dataset.\n",
    "*   I had earlier used a 3 layered DCGAN for SVNH dataset so I started with a 4-layered DCGAN for this problem, with the intution that face data needs more details to be learnt so a deeper network will be a better.\n",
    "*   To check if my code was correct, I trained my model with only 2 epochs and to my surprise the model was able to generate faces. In order to get better results I tried with 10 epochs in second run and then 15 and now I ran it for 25 epochs and the results improved. Not all generated faces were good but yeah 8/10 were good.\n",
    "\n"
   ]
  },
  {
   "cell_type": "markdown",
   "metadata": {
    "colab_type": "text",
    "id": "KGuXQqO0hgzq"
   },
   "source": [
    "### Submitting This Project\n",
    "When submitting this project, make sure to run all the cells before saving the notebook. Save the notebook file as \"dlnd_face_generation.ipynb\" and save it as a HTML file under \"File\" -> \"Download as\". Include the \"problem_unittests.py\" files in your submission."
   ]
  }
 ],
 "metadata": {
  "accelerator": "GPU",
  "colab": {
   "include_colab_link": true,
   "name": "dlnd_face_generation.ipynb",
   "provenance": []
  },
  "kernelspec": {
   "display_name": "Python 3",
   "language": "python",
   "name": "python3"
  },
  "language_info": {
   "codemirror_mode": {
    "name": "ipython",
    "version": 3
   },
   "file_extension": ".py",
   "mimetype": "text/x-python",
   "name": "python",
   "nbconvert_exporter": "python",
   "pygments_lexer": "ipython3",
   "version": "3.7.4"
  }
 },
 "nbformat": 4,
 "nbformat_minor": 1
}
