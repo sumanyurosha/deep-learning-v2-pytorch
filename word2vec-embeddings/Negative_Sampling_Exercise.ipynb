{
  "nbformat": 4,
  "nbformat_minor": 0,
  "metadata": {
    "kernelspec": {
      "name": "python3",
      "display_name": "Python 3"
    },
    "language_info": {
      "codemirror_mode": {
        "name": "ipython",
        "version": 3
      },
      "file_extension": ".py",
      "mimetype": "text/x-python",
      "name": "python",
      "nbconvert_exporter": "python",
      "pygments_lexer": "ipython3",
      "version": "3.6.4"
    },
    "colab": {
      "name": "Negative_Sampling_Exercise.ipynb",
      "provenance": []
    },
    "accelerator": "GPU"
  },
  "cells": [
    {
      "cell_type": "markdown",
      "metadata": {
        "id": "KkGKdEg7eR2M",
        "colab_type": "text"
      },
      "source": [
        "# Skip-gram Word2Vec\n",
        "\n",
        "In this notebook, I'll lead you through using PyTorch to implement the [Word2Vec algorithm](https://en.wikipedia.org/wiki/Word2vec) using the skip-gram architecture. By implementing this, you'll learn about embedding words for use in natural language processing. This will come in handy when dealing with things like machine translation.\n",
        "\n",
        "## Readings\n",
        "\n",
        "Here are the resources I used to build this notebook. I suggest reading these either beforehand or while you're working on this material.\n",
        "\n",
        "* A really good [conceptual overview](http://mccormickml.com/2016/04/19/word2vec-tutorial-the-skip-gram-model/) of Word2Vec from Chris McCormick \n",
        "* [First Word2Vec paper](https://arxiv.org/pdf/1301.3781.pdf) from Mikolov et al.\n",
        "* [Neural Information Processing Systems, paper](http://papers.nips.cc/paper/5021-distributed-representations-of-words-and-phrases-and-their-compositionality.pdf) with improvements for Word2Vec also from Mikolov et al.\n",
        "\n",
        "---\n",
        "## Word embeddings\n",
        "\n",
        "When you're dealing with words in text, you end up with tens of thousands of word classes to analyze; one for each word in a vocabulary. Trying to one-hot encode these words is massively inefficient because most values in a one-hot vector will be set to zero. So, the matrix multiplication that happens in between a one-hot input vector and a first, hidden layer will result in mostly zero-valued hidden outputs.\n",
        "\n",
        "To solve this problem and greatly increase the efficiency of our networks, we use what are called **embeddings**. Embeddings are just a fully connected layer like you've seen before. We call this layer the embedding layer and the weights are embedding weights. We skip the multiplication into the embedding layer by instead directly grabbing the hidden layer values from the weight matrix. We can do this because the multiplication of a one-hot encoded vector with a matrix returns the row of the matrix corresponding the index of the \"on\" input unit.\n",
        "\n",
        "<img src='https://github.com/sumanyurosha/deep-learning-v2-pytorch/blob/master/word2vec-embeddings/assets/lookup_matrix.png?raw=1' width=50%>\n",
        "\n",
        "Instead of doing the matrix multiplication, we use the weight matrix as a lookup table. We encode the words as integers, for example \"heart\" is encoded as 958, \"mind\" as 18094. Then to get hidden layer values for \"heart\", you just take the 958th row of the embedding matrix. This process is called an **embedding lookup** and the number of hidden units is the **embedding dimension**.\n",
        " \n",
        "There is nothing magical going on here. The embedding lookup table is just a weight matrix. The embedding layer is just a hidden layer. The lookup is just a shortcut for the matrix multiplication. The lookup table is trained just like any weight matrix.\n",
        "\n",
        "Embeddings aren't only used for words of course. You can use them for any model where you have a massive number of classes. A particular type of model called **Word2Vec** uses the embedding layer to find vector representations of words that contain semantic meaning."
      ]
    },
    {
      "cell_type": "markdown",
      "metadata": {
        "id": "gTax4ildeR2O",
        "colab_type": "text"
      },
      "source": [
        "---\n",
        "## Word2Vec\n",
        "\n",
        "The Word2Vec algorithm finds much more efficient representations by finding vectors that represent the words. These vectors also contain semantic information about the words.\n",
        "\n",
        "<img src=\"https://github.com/sumanyurosha/deep-learning-v2-pytorch/blob/master/word2vec-embeddings/assets/context_drink.png?raw=1\" width=40%>\n",
        "\n",
        "Words that show up in similar **contexts**, such as \"coffee\", \"tea\", and \"water\" will have vectors near each other. Different words will be further away from one another, and relationships can be represented by distance in vector space.\n",
        "\n",
        "\n",
        "There are two architectures for implementing Word2Vec:\n",
        ">* CBOW (Continuous Bag-Of-Words) and \n",
        "* Skip-gram\n",
        "\n",
        "<img src=\"https://github.com/sumanyurosha/deep-learning-v2-pytorch/blob/master/word2vec-embeddings/assets/word2vec_architectures.png?raw=1\" width=60%>\n",
        "\n",
        "In this implementation, we'll be using the **skip-gram architecture** with **negative sampling** because it performs better than CBOW and trains faster with negative sampling. Here, we pass in a word and try to predict the words surrounding it in the text. In this way, we can train the network to learn representations for words that show up in similar contexts."
      ]
    },
    {
      "cell_type": "markdown",
      "metadata": {
        "id": "mqT9l3vReR2Q",
        "colab_type": "text"
      },
      "source": [
        "---\n",
        "## Loading Data\n",
        "\n",
        "Next, we'll ask you to load in data and place it in the `data` directory\n",
        "\n",
        "1. Load the [text8 dataset](https://s3.amazonaws.com/video.udacity-data.com/topher/2018/October/5bbe6499_text8/text8.zip); a file of cleaned up *Wikipedia article text* from Matt Mahoney. \n",
        "2. Place that data in the `data` folder in the home directory.\n",
        "3. Then you can extract it and delete the archive, zip file to save storage space.\n",
        "\n",
        "After following these steps, you should have one file in your data directory: `data/text8`."
      ]
    },
    {
      "cell_type": "code",
      "metadata": {
        "id": "iZcGmzLOnJLE",
        "colab_type": "code",
        "colab": {
          "base_uri": "https://localhost:8080/",
          "height": 187
        },
        "outputId": "a000e68c-a716-492c-a30b-5b0ddb15a1c8"
      },
      "source": [
        "# downloading & unzipping the file\n",
        "!wget -c https://s3.amazonaws.com/video.udacity-data.com/topher/2018/October/5bbe6499_text8/text8.zip\n",
        "!unzip text8.zip -d data/"
      ],
      "execution_count": 4,
      "outputs": [
        {
          "output_type": "stream",
          "text": [
            "--2019-12-07 18:30:37--  https://s3.amazonaws.com/video.udacity-data.com/topher/2018/October/5bbe6499_text8/text8.zip\n",
            "Resolving s3.amazonaws.com (s3.amazonaws.com)... 54.231.83.2\n",
            "Connecting to s3.amazonaws.com (s3.amazonaws.com)|54.231.83.2|:443... connected.\n",
            "HTTP request sent, awaiting response... 416 Requested Range Not Satisfiable\n",
            "\n",
            "    The file is already fully retrieved; nothing to do.\n",
            "\n",
            "Archive:  text8.zip\n",
            "replace data/text8? [y]es, [n]o, [A]ll, [N]one, [r]ename: y\n",
            "  inflating: data/text8              \n"
          ],
          "name": "stdout"
        }
      ]
    },
    {
      "cell_type": "code",
      "metadata": {
        "id": "G0hnL6x6eR2S",
        "colab_type": "code",
        "colab": {
          "base_uri": "https://localhost:8080/",
          "height": 34
        },
        "outputId": "3da9971d-93e3-4e4a-fb4a-cb01a4e4ef69"
      },
      "source": [
        "# read in the extracted text file      \n",
        "with open('data/text8') as f:\n",
        "    text = f.read()\n",
        "\n",
        "# print out the first 100 characters\n",
        "print(text[:100])"
      ],
      "execution_count": 5,
      "outputs": [
        {
          "output_type": "stream",
          "text": [
            " anarchism originated as a term of abuse first used against early working class radicals including t\n"
          ],
          "name": "stdout"
        }
      ]
    },
    {
      "cell_type": "markdown",
      "metadata": {
        "id": "MYPAjmI1eR2V",
        "colab_type": "text"
      },
      "source": [
        "## Pre-processing\n",
        "\n",
        "Here I'm fixing up the text to make training easier. This comes from the `utils.py` file. The `preprocess` function does a few things:\n",
        ">* It converts any punctuation into tokens, so a period is changed to ` <PERIOD> `. In this data set, there aren't any periods, but it will help in other NLP problems. \n",
        "* It removes all words that show up five or *fewer* times in the dataset. This will greatly reduce issues due to noise in the data and improve the quality of the vector representations. \n",
        "* It returns a list of words in the text.\n",
        "\n",
        "This may take a few seconds to run, since our text file is quite large. If you want to write your own functions for this stuff, go for it!"
      ]
    },
    {
      "cell_type": "code",
      "metadata": {
        "id": "NuZTvM2JeR2W",
        "colab_type": "code",
        "colab": {
          "base_uri": "https://localhost:8080/",
          "height": 54
        },
        "outputId": "f999b8d5-eae6-4d4f-957a-2525056b78c2"
      },
      "source": [
        "import utils\n",
        "\n",
        "# get list of words\n",
        "words = utils.preprocess(text)\n",
        "print(words[:30])"
      ],
      "execution_count": 6,
      "outputs": [
        {
          "output_type": "stream",
          "text": [
            "['anarchism', 'originated', 'as', 'a', 'term', 'of', 'abuse', 'first', 'used', 'against', 'early', 'working', 'class', 'radicals', 'including', 'the', 'diggers', 'of', 'the', 'english', 'revolution', 'and', 'the', 'sans', 'culottes', 'of', 'the', 'french', 'revolution', 'whilst']\n"
          ],
          "name": "stdout"
        }
      ]
    },
    {
      "cell_type": "code",
      "metadata": {
        "id": "NEtXqKoieR2Z",
        "colab_type": "code",
        "colab": {
          "base_uri": "https://localhost:8080/",
          "height": 51
        },
        "outputId": "abac96e6-0d46-4a21-85b1-02321e07324d"
      },
      "source": [
        "# print some stats about this word data\n",
        "print(\"Total words in text: {}\".format(len(words)))\n",
        "print(\"Unique words: {}\".format(len(set(words)))) # `set` removes any duplicate words"
      ],
      "execution_count": 7,
      "outputs": [
        {
          "output_type": "stream",
          "text": [
            "Total words in text: 16680599\n",
            "Unique words: 63641\n"
          ],
          "name": "stdout"
        }
      ]
    },
    {
      "cell_type": "markdown",
      "metadata": {
        "id": "SXgnxG9-eR2c",
        "colab_type": "text"
      },
      "source": [
        "### Dictionaries\n",
        "\n",
        "Next, I'm creating two dictionaries to convert words to integers and back again (integers to words). This is again done with a function in the `utils.py` file. `create_lookup_tables` takes in a list of words in a text and returns two dictionaries.\n",
        ">* The integers are assigned in descending frequency order, so the most frequent word (\"the\") is given the integer 0 and the next most frequent is 1, and so on. \n",
        "\n",
        "Once we have our dictionaries, the words are converted to integers and stored in the list `int_words`."
      ]
    },
    {
      "cell_type": "code",
      "metadata": {
        "id": "4CWjMueUeR2d",
        "colab_type": "code",
        "colab": {
          "base_uri": "https://localhost:8080/",
          "height": 34
        },
        "outputId": "fed99403-9deb-4d40-ac4f-0510b32e30fe"
      },
      "source": [
        "vocab_to_int, int_to_vocab = utils.create_lookup_tables(words)\n",
        "int_words = [vocab_to_int[word] for word in words]\n",
        "\n",
        "print(int_words[:30])"
      ],
      "execution_count": 8,
      "outputs": [
        {
          "output_type": "stream",
          "text": [
            "[5233, 3080, 11, 5, 194, 1, 3133, 45, 58, 155, 127, 741, 476, 10571, 133, 0, 27349, 1, 0, 102, 854, 2, 0, 15067, 58112, 1, 0, 150, 854, 3580]\n"
          ],
          "name": "stdout"
        }
      ]
    },
    {
      "cell_type": "markdown",
      "metadata": {
        "id": "qNYSYsUZeR2g",
        "colab_type": "text"
      },
      "source": [
        "## Subsampling\n",
        "\n",
        "Words that show up often such as \"the\", \"of\", and \"for\" don't provide much context to the nearby words. If we discard some of them, we can remove some of the noise from our data and in return get faster training and better representations. This process is called subsampling by Mikolov. For each word $w_i$ in the training set, we'll discard it with probability given by \n",
        "\n",
        "$$ P(w_i) = 1 - \\sqrt{\\frac{t}{f(w_i)}} $$\n",
        "\n",
        "where $t$ is a threshold parameter and $f(w_i)$ is the frequency of word $w_i$ in the total dataset.\n",
        "\n",
        "> Implement subsampling for the words in `int_words`. That is, go through `int_words` and discard each word given the probablility $P(w_i)$ shown above. Note that $P(w_i)$ is the probability that a word is discarded. Assign the subsampled data to `train_words`."
      ]
    },
    {
      "cell_type": "code",
      "metadata": {
        "id": "UjqSj7gAeR2g",
        "colab_type": "code",
        "colab": {
          "base_uri": "https://localhost:8080/",
          "height": 54
        },
        "outputId": "4aeacc2d-9d6e-4027-ab40-aa07c765d555"
      },
      "source": [
        "from collections import Counter\n",
        "import random\n",
        "import numpy as np\n",
        "\n",
        "threshold = 1e-5\n",
        "word_counts = Counter(int_words)\n",
        "#print(list(word_counts.items())[0])  # dictionary of int_words, how many times they appear\n",
        "\n",
        "total_count = len(int_words)\n",
        "freqs = {word: count/total_count for word, count in word_counts.items()}\n",
        "p_drop = {word: 1 - np.sqrt(threshold/freqs[word]) for word in word_counts}\n",
        "# discard some frequent words, according to the subsampling equation\n",
        "# create a new list of words for training\n",
        "train_words = [word for word in int_words if random.random() < (1 - p_drop[word])]\n",
        "\n",
        "print(train_words[:30])"
      ],
      "execution_count": 9,
      "outputs": [
        {
          "output_type": "stream",
          "text": [
            "[5233, 10571, 133, 27349, 15067, 58112, 3580, 10712, 1324, 454, 3672, 539, 567, 7088, 5233, 248, 44611, 2877, 5233, 5, 2621, 8983, 6437, 4186, 153, 362, 5233, 6753, 7573, 11064]\n"
          ],
          "name": "stdout"
        }
      ]
    },
    {
      "cell_type": "markdown",
      "metadata": {
        "id": "FmNljPlneR2l",
        "colab_type": "text"
      },
      "source": [
        "## Making batches"
      ]
    },
    {
      "cell_type": "markdown",
      "metadata": {
        "id": "lbgjN9akeR2m",
        "colab_type": "text"
      },
      "source": [
        "Now that our data is in good shape, we need to get it into the proper form to pass it into our network. With the skip-gram architecture, for each word in the text, we want to define a surrounding _context_ and grab all the words in a window around that word, with size $C$. \n",
        "\n",
        "From [Mikolov et al.](https://arxiv.org/pdf/1301.3781.pdf): \n",
        "\n",
        "\"Since the more distant words are usually less related to the current word than those close to it, we give less weight to the distant words by sampling less from those words in our training examples... If we choose $C = 5$, for each training word we will select randomly a number $R$ in range $[ 1: C ]$, and then use $R$ words from history and $R$ words from the future of the current word as correct labels.\"\n",
        "\n",
        "> **Exercise:** Implement a function `get_target` that receives a list of words, an index, and a window size, then returns a list of words in the window around the index. Make sure to use the algorithm described above, where you chose a random number of words to from the window.\n",
        "\n",
        "Say, we have an input and we're interested in the idx=2 token, `741`: \n",
        "```\n",
        "[5233, 58, 741, 10571, 27349, 0, 15067, 58112, 3580, 58, 10712]\n",
        "```\n",
        "\n",
        "For `R=2`, `get_target` should return a list of four values:\n",
        "```\n",
        "[5233, 58, 10571, 27349]\n",
        "```"
      ]
    },
    {
      "cell_type": "code",
      "metadata": {
        "id": "yDIwgzPUeR2m",
        "colab_type": "code",
        "colab": {}
      },
      "source": [
        "def get_target(words, idx, window_size=5):\n",
        "    ''' Get a list of words in a window around an index. '''\n",
        "    \n",
        "    R = np.random.randint(1, window_size+1)\n",
        "    start = idx - R if (idx - R) > 0 else 0\n",
        "    stop = idx + R\n",
        "    target_words = words[start:idx] + words[idx+1:stop+1]\n",
        "    \n",
        "    return list(target_words)"
      ],
      "execution_count": 0,
      "outputs": []
    },
    {
      "cell_type": "code",
      "metadata": {
        "id": "NtMtI_0UeR2p",
        "colab_type": "code",
        "colab": {
          "base_uri": "https://localhost:8080/",
          "height": 51
        },
        "outputId": "632713dc-a500-4970-c7b9-9759d9978c91"
      },
      "source": [
        "# test your code!\n",
        "\n",
        "# run this cell multiple times to check for random window selection\n",
        "int_text = [i for i in range(10)]\n",
        "print('Input: ', int_text)\n",
        "idx=5 # word index of interest\n",
        "\n",
        "target = get_target(int_text, idx=idx, window_size=5)\n",
        "print('Target: ', target)  # you should get some indices around the idx"
      ],
      "execution_count": 11,
      "outputs": [
        {
          "output_type": "stream",
          "text": [
            "Input:  [0, 1, 2, 3, 4, 5, 6, 7, 8, 9]\n",
            "Target:  [4, 6]\n"
          ],
          "name": "stdout"
        }
      ]
    },
    {
      "cell_type": "markdown",
      "metadata": {
        "id": "9Qzo8dJyeR2r",
        "colab_type": "text"
      },
      "source": [
        "### Generating Batches \n",
        "\n",
        "Here's a generator function that returns batches of input and target data for our model, using the `get_target` function from above. The idea is that it grabs `batch_size` words from a words list. Then for each of those batches, it gets the target words in a window."
      ]
    },
    {
      "cell_type": "code",
      "metadata": {
        "id": "ZtXx73GaeR2s",
        "colab_type": "code",
        "colab": {}
      },
      "source": [
        "def get_batches(words, batch_size, window_size=5):\n",
        "    ''' Create a generator of word batches as a tuple (inputs, targets) '''\n",
        "    \n",
        "    n_batches = len(words)//batch_size\n",
        "    \n",
        "    # only full batches\n",
        "    words = words[:n_batches*batch_size]\n",
        "    \n",
        "    for idx in range(0, len(words), batch_size):\n",
        "        x, y = [], []\n",
        "        batch = words[idx:idx+batch_size]\n",
        "        for ii in range(len(batch)):\n",
        "            batch_x = batch[ii]\n",
        "            batch_y = get_target(batch, ii, window_size)\n",
        "            y.extend(batch_y)\n",
        "            x.extend([batch_x]*len(batch_y))\n",
        "        yield x, y\n",
        "    "
      ],
      "execution_count": 0,
      "outputs": []
    },
    {
      "cell_type": "code",
      "metadata": {
        "id": "vFa53hlXeR2v",
        "colab_type": "code",
        "colab": {
          "base_uri": "https://localhost:8080/",
          "height": 85
        },
        "outputId": "a6c11c5c-de3f-4391-f648-e2b35612c5e5"
      },
      "source": [
        "int_text = [i for i in range(20)]\n",
        "x,y = next(get_batches(int_text, batch_size=4, window_size=5))\n",
        "\n",
        "print('x\\n', x)\n",
        "print('y\\n', y)"
      ],
      "execution_count": 13,
      "outputs": [
        {
          "output_type": "stream",
          "text": [
            "x\n",
            " [0, 0, 0, 1, 1, 1, 2, 2, 2, 3, 3, 3]\n",
            "y\n",
            " [1, 2, 3, 0, 2, 3, 0, 1, 3, 0, 1, 2]\n"
          ],
          "name": "stdout"
        }
      ]
    },
    {
      "cell_type": "markdown",
      "metadata": {
        "id": "Hjb_qT8ieR2x",
        "colab_type": "text"
      },
      "source": [
        "---\n",
        "## Validation\n",
        "\n",
        "Here, I'm creating a function that will help us observe our model as it learns. We're going to choose a few common words and few uncommon words. Then, we'll print out the closest words to them using the cosine similarity: \n",
        "\n",
        "<img src=\"https://github.com/sumanyurosha/deep-learning-v2-pytorch/blob/master/word2vec-embeddings/assets/two_vectors.png?raw=1\" width=30%>\n",
        "\n",
        "$$\n",
        "\\mathrm{similarity} = \\cos(\\theta) = \\frac{\\vec{a} \\cdot \\vec{b}}{|\\vec{a}||\\vec{b}|}\n",
        "$$\n",
        "\n",
        "\n",
        "We can encode the validation words as vectors $\\vec{a}$ using the embedding table, then calculate the similarity with each word vector $\\vec{b}$ in the embedding table. With the similarities, we can print out the validation words and words in our embedding table semantically similar to those words. It's a nice way to check that our embedding table is grouping together words with similar semantic meanings."
      ]
    },
    {
      "cell_type": "code",
      "metadata": {
        "id": "1iPdtlz-eR2y",
        "colab_type": "code",
        "colab": {}
      },
      "source": [
        "def cosine_similarity(embedding, valid_size=16, valid_window=100, device='cpu'):\n",
        "    \"\"\" Returns the cosine similarity of validation words with words in the embedding matrix.\n",
        "        Here, embedding should be a PyTorch embedding module.\n",
        "    \"\"\"\n",
        "    \n",
        "    # Here we're calculating the cosine similarity between some random words and \n",
        "    # our embedding vectors. With the similarities, we can look at what words are\n",
        "    # close to our random words.\n",
        "    \n",
        "    # sim = (a . b) / |a||b|\n",
        "    \n",
        "    embed_vectors = embedding.weight\n",
        "    \n",
        "    # magnitude of embedding vectors, |b|\n",
        "    magnitudes = embed_vectors.pow(2).sum(dim=1).sqrt().unsqueeze(0)\n",
        "    \n",
        "    # pick N words from our ranges (0,window) and (1000,1000+window). lower id implies more frequent \n",
        "    valid_examples = np.array(random.sample(range(valid_window), valid_size//2))\n",
        "    valid_examples = np.append(valid_examples,\n",
        "                               random.sample(range(1000,1000+valid_window), valid_size//2))\n",
        "    valid_examples = torch.LongTensor(valid_examples).to(device)\n",
        "    \n",
        "    valid_vectors = embedding(valid_examples)\n",
        "    similarities = torch.mm(valid_vectors, embed_vectors.t())/magnitudes\n",
        "        \n",
        "    return valid_examples, similarities"
      ],
      "execution_count": 0,
      "outputs": []
    },
    {
      "cell_type": "markdown",
      "metadata": {
        "id": "3XFv4FkpeR21",
        "colab_type": "text"
      },
      "source": [
        "---\n",
        "# SkipGram model\n",
        "\n",
        "Define and train the SkipGram model. \n",
        "> You'll need to define an [embedding layer](https://pytorch.org/docs/stable/nn.html#embedding) and a final, softmax output layer.\n",
        "\n",
        "An Embedding layer takes in a number of inputs, importantly:\n",
        "* **num_embeddings** – the size of the dictionary of embeddings, or how many rows you'll want in the embedding weight matrix\n",
        "* **embedding_dim** – the size of each embedding vector; the embedding dimension\n",
        "\n",
        "Below is an approximate diagram of the general structure of our network.\n",
        "<img src=\"https://github.com/sumanyurosha/deep-learning-v2-pytorch/blob/master/word2vec-embeddings/assets/skip_gram_arch.png?raw=1\" width=60%>\n",
        "\n",
        ">* The input words are passed in as batches of input word tokens. \n",
        "* This will go into a hidden layer of linear units (our embedding layer). \n",
        "* Then, finally into a softmax output layer. \n",
        "\n",
        "We'll use the softmax layer to make a prediction about the context words by sampling, as usual."
      ]
    },
    {
      "cell_type": "markdown",
      "metadata": {
        "id": "FVrawv3teR23",
        "colab_type": "text"
      },
      "source": [
        "---\n",
        "## Negative Sampling\n",
        "\n",
        "For every example we give the network, we train it using the output from the softmax layer. That means for each input, we're making very small changes to millions of weights even though we only have one true example. This makes training the network very inefficient. We can approximate the loss from the softmax layer by only updating a small subset of all the weights at once. We'll update the weights for the correct example, but only a small number of incorrect, or noise, examples. This is called [\"negative sampling\"](http://papers.nips.cc/paper/5021-distributed-representations-of-words-and-phrases-and-their-compositionality.pdf). \n",
        "\n",
        "There are two modifications we need to make. First, since we're not taking the softmax output over all the words, we're really only concerned with one output word at a time. Similar to how we use an embedding table to map the input word to the hidden layer, we can now use another embedding table to map the hidden layer to the output word. Now we have two embedding layers, one for input words and one for output words. Secondly, we use a modified loss function where we only care about the true example and a small subset of noise examples.\n",
        "\n",
        "$$\n",
        "- \\large \\log{\\sigma\\left(u_{w_O}\\hspace{0.001em}^\\top v_{w_I}\\right)} -\n",
        "\\sum_i^N \\mathbb{E}_{w_i \\sim P_n(w)}\\log{\\sigma\\left(-u_{w_i}\\hspace{0.001em}^\\top v_{w_I}\\right)}\n",
        "$$\n",
        "\n",
        "This is a little complicated so I'll go through it bit by bit. $u_{w_O}\\hspace{0.001em}^\\top$ is the embedding vector for our \"output\" target word (transposed, that's the $^\\top$ symbol) and $v_{w_I}$ is the embedding vector for the \"input\" word. Then the first term \n",
        "\n",
        "$$\\large \\log{\\sigma\\left(u_{w_O}\\hspace{0.001em}^\\top v_{w_I}\\right)}$$\n",
        "\n",
        "says we take the log-sigmoid of the inner product of the output word vector and the input word vector. Now the second term, let's first look at \n",
        "\n",
        "$$\\large \\sum_i^N \\mathbb{E}_{w_i \\sim P_n(w)}$$ \n",
        "\n",
        "This means we're going to take a sum over words $w_i$ drawn from a noise distribution $w_i \\sim P_n(w)$. The noise distribution is basically our vocabulary of words that aren't in the context of our input word. In effect, we can randomly sample words from our vocabulary to get these words. $P_n(w)$ is an arbitrary probability distribution though, which means we get to decide how to weight the words that we're sampling. This could be a uniform distribution, where we sample all words with equal probability. Or it could be according to the frequency that each word shows up in our text corpus, the unigram distribution $U(w)$. The authors found the best distribution to be $U(w)^{3/4}$, empirically. \n",
        "\n",
        "Finally, in \n",
        "\n",
        "$$\\large \\log{\\sigma\\left(-u_{w_i}\\hspace{0.001em}^\\top v_{w_I}\\right)},$$ \n",
        "\n",
        "we take the log-sigmoid of the negated inner product of a noise vector with the input vector. \n",
        "\n",
        "<img src=\"https://github.com/sumanyurosha/deep-learning-v2-pytorch/blob/master/word2vec-embeddings/assets/neg_sampling_loss.png?raw=1\" width=50%>\n",
        "\n",
        "To give you an intuition for what we're doing here, remember that the sigmoid function returns a probability between 0 and 1. The first term in the loss pushes the probability that our network will predict the correct word $w_O$ towards 1. In the second term, since we are negating the sigmoid input, we're pushing the probabilities of the noise words towards 0."
      ]
    },
    {
      "cell_type": "code",
      "metadata": {
        "id": "LjDfFaSjeR25",
        "colab_type": "code",
        "colab": {}
      },
      "source": [
        "import torch\n",
        "from torch import nn\n",
        "import torch.optim as optim"
      ],
      "execution_count": 0,
      "outputs": []
    },
    {
      "cell_type": "code",
      "metadata": {
        "id": "qi2sHT0_eR28",
        "colab_type": "code",
        "colab": {}
      },
      "source": [
        "class SkipGramNeg(nn.Module):\n",
        "    def __init__(self, n_vocab, n_embed, noise_dist=None):\n",
        "        super().__init__()\n",
        "        \n",
        "        self.n_vocab = n_vocab\n",
        "        self.n_embed = n_embed\n",
        "        self.noise_dist = noise_dist\n",
        "        \n",
        "        # define embedding layers for input and output words\n",
        "        self.in_embed = nn.Embedding(n_vocab, n_embed)\n",
        "        self.out_embed = nn.Embedding(n_vocab, n_embed)\n",
        "        \n",
        "        # Initialize both embedding tables with uniform distribution\n",
        "        self.in_embed.weight.data.uniform_(-1., 1.)\n",
        "        self.out_embed.weight.data.uniform_(-1., 1.)\n",
        "\n",
        "        \n",
        "    def forward_input(self, input_words):\n",
        "        # return input vector embeddings\n",
        "        x = self.in_embed(input_words)\n",
        "\n",
        "        return x\n",
        "    \n",
        "    def forward_output(self, output_words):\n",
        "        # return output vector embeddings\n",
        "        x = self.out_embed(output_words)\n",
        "\n",
        "        return x\n",
        "    \n",
        "    def forward_noise(self, batch_size, n_samples):\n",
        "        \"\"\" Generate noise vectors with shape (batch_size, n_samples, n_embed)\"\"\"\n",
        "        if self.noise_dist is None:\n",
        "            # Sample words uniformly\n",
        "            noise_dist = torch.ones(self.n_vocab)\n",
        "        else:\n",
        "            noise_dist = self.noise_dist\n",
        "            \n",
        "        # Sample words from our noise distribution\n",
        "        noise_words = torch.multinomial(noise_dist,\n",
        "                                        batch_size * n_samples,\n",
        "                                        replacement=True)\n",
        "        \n",
        "        device = \"cuda\" if model.out_embed.weight.is_cuda else \"cpu\"\n",
        "        noise_words = noise_words.to(device)\n",
        "        \n",
        "        ## TODO: get the noise embeddings\n",
        "        # reshape the embeddings so that they have dims (batch_size, n_samples, n_embed)\n",
        "        noise_vector = self.out_embed(noise_words).view(batch_size, n_samples, self.n_embed)\n",
        "\n",
        "        \n",
        "        return noise_vector"
      ],
      "execution_count": 0,
      "outputs": []
    },
    {
      "cell_type": "code",
      "metadata": {
        "id": "dZJ6pjQ7eR2_",
        "colab_type": "code",
        "colab": {}
      },
      "source": [
        "class NegativeSamplingLoss(nn.Module):\n",
        "    def __init__(self):\n",
        "        super().__init__()\n",
        "\n",
        "    def forward(self, input_vectors, output_vectors, noise_vectors):\n",
        "        \n",
        "        batch_size, embed_size = input_vectors.shape\n",
        "        \n",
        "        # Input vectors should be a batch of column vectors\n",
        "        input_vectors = input_vectors.view(batch_size, embed_size, 1)\n",
        "        \n",
        "        # Output vectors should be a batch of row vectors\n",
        "        output_vectors = output_vectors.view(batch_size, 1, embed_size)\n",
        "        \n",
        "        # bmm = batch matrix multiplication\n",
        "        # correct log-sigmoid loss\n",
        "        out_loss = torch.bmm(output_vectors, input_vectors).sigmoid().log()\n",
        "        out_loss = out_loss.squeeze()\n",
        "        \n",
        "        # incorrect log-sigmoid loss\n",
        "        noise_loss = torch.bmm(noise_vectors.neg(), input_vectors).sigmoid().log()\n",
        "        noise_loss = noise_loss.squeeze().sum(1)  # sum the losses over the sample of noise vectors\n",
        "\n",
        "        # negate and sum correct and noisy log-sigmoid losses\n",
        "        # return average batch loss\n",
        "        return -(out_loss + noise_loss).mean()"
      ],
      "execution_count": 0,
      "outputs": []
    },
    {
      "cell_type": "markdown",
      "metadata": {
        "id": "CCbZ87mpeR3B",
        "colab_type": "text"
      },
      "source": [
        "### Training\n",
        "\n",
        "Below is our training loop, and I recommend that you train on GPU, if available."
      ]
    },
    {
      "cell_type": "code",
      "metadata": {
        "scrolled": false,
        "id": "toxBLTiveR3C",
        "colab_type": "code",
        "colab": {
          "base_uri": "https://localhost:8080/",
          "height": 1000
        },
        "outputId": "ecdb7b48-a7a6-4831-dbca-52e333306841"
      },
      "source": [
        "device = 'cuda' if torch.cuda.is_available() else 'cpu'\n",
        "\n",
        "# Get our noise distribution\n",
        "# Using word frequencies calculated earlier in the notebook\n",
        "word_freqs = np.array(sorted(freqs.values(), reverse=True))\n",
        "unigram_dist = word_freqs/word_freqs.sum()\n",
        "noise_dist = torch.from_numpy(unigram_dist**(0.75)/np.sum(unigram_dist**(0.75)))\n",
        "\n",
        "# instantiating the model\n",
        "embedding_dim = 300\n",
        "model = SkipGramNeg(len(vocab_to_int), embedding_dim, noise_dist=noise_dist).to(device)\n",
        "\n",
        "# using the loss that we defined\n",
        "criterion = NegativeSamplingLoss() \n",
        "optimizer = optim.Adam(model.parameters(), lr=0.003)\n",
        "\n",
        "print_every = 1500\n",
        "steps = 0\n",
        "epochs = 5\n",
        "\n",
        "# train for some number of epochs\n",
        "for e in range(epochs):\n",
        "    \n",
        "    # get our input, target batches\n",
        "    for input_words, target_words in get_batches(train_words, 512):\n",
        "        steps += 1\n",
        "        inputs, targets = torch.LongTensor(input_words), torch.LongTensor(target_words)\n",
        "        inputs, targets = inputs.to(device), targets.to(device)\n",
        "        \n",
        "        # input, outpt, and noise vectors\n",
        "        input_vectors = model.forward_input(inputs)\n",
        "        output_vectors = model.forward_output(targets)\n",
        "        noise_vectors = model.forward_noise(inputs.shape[0], 5)\n",
        "\n",
        "        # negative sampling loss\n",
        "        loss = criterion(input_vectors, output_vectors, noise_vectors)\n",
        "\n",
        "        optimizer.zero_grad()\n",
        "        loss.backward()\n",
        "        optimizer.step()\n",
        "\n",
        "        # loss stats\n",
        "        if steps % print_every == 0:\n",
        "            print(\"Epoch: {}/{}\".format(e+1, epochs))\n",
        "            print(\"Loss: \", loss.item()) # avg batch loss at this point in training\n",
        "            valid_examples, valid_similarities = cosine_similarity(model.in_embed, device=device)\n",
        "            _, closest_idxs = valid_similarities.topk(6)\n",
        "\n",
        "            valid_examples, closest_idxs = valid_examples.to('cpu'), closest_idxs.to('cpu')\n",
        "            for ii, valid_idx in enumerate(valid_examples):\n",
        "                closest_words = [int_to_vocab[idx.item()] for idx in closest_idxs[ii]][1:]\n",
        "                print(int_to_vocab[valid_idx.item()] + \" | \" + ', '.join(closest_words))\n",
        "            print(\"...\\n\")"
      ],
      "execution_count": 0,
      "outputs": [
        {
          "output_type": "stream",
          "text": [
            "Epoch: 1/5\n",
            "Loss:  6.678182125091553\n",
            "is | one, the, spectrum, provide, a\n",
            "be | associates, belize, arbitrarily, ozone, pix\n",
            "that | apostolic, discontent, wto, living, may\n",
            "are | pakistani, tito, carnival, heraclius, deeds\n",
            "between | farmers, and, upon, grenada, sticky\n",
            "for | the, describe, scheduled, der, ship\n",
            "with | zero, ncaa, one, ascii, pinochet\n",
            "system | zero, visitation, bryant, smokes, scored\n",
            "accepted | failure, factor, montevideo, penny, mallon\n",
            "assembly | alaskan, father, eclipsed, starley, arlecchino\n",
            "road | far, blowing, ins, natura, link\n",
            "hit | dogs, bad, creature, overlook, mansa\n",
            "ice | firenze, the, bed, universe, losers\n",
            "pre | enroll, willingness, col, special, the\n",
            "professional | programmed, materially, exist, grain, disputed\n",
            "hold | red, market, own, reduces, which\n",
            "...\n",
            "\n",
            "Epoch: 1/5\n",
            "Loss:  5.050374507904053\n",
            "two | zero, one, of, a, nine\n",
            "been | of, is, one, nine, to\n",
            "one | zero, nine, of, the, three\n",
            "between | as, the, of, s, in\n",
            "at | by, in, the, of, and\n",
            "also | of, the, a, is, to\n",
            "of | the, and, in, to, a\n",
            "however | external, from, the, two, bees\n",
            "liberal | anchorages, hubble, still, term, the\n",
            "hit | malpractice, overlook, bad, dogs, oxbridge\n",
            "discovered | warms, shockwave, popularity, absorbed, nyse\n",
            "shown | glass, interrupts, it, jeweled, outlining\n",
            "assembly | arlecchino, alaskan, father, of, harmonious\n",
            "marriage | comments, primates, witchcraft, employing, section\n",
            "cost | breaks, heaven, gondwana, ifex, ecosystem\n",
            "mean | data, theism, welcoming, tuong, are\n",
            "...\n",
            "\n",
            "Epoch: 1/5\n",
            "Loss:  4.80534553527832\n",
            "called | is, can, were, to, their\n",
            "this | of, are, it, the, which\n",
            "zero | five, one, seven, nine, two\n",
            "all | to, the, be, are, at\n",
            "of | the, and, in, to, is\n",
            "for | which, the, a, of, are\n",
            "into | and, the, to, by, which\n",
            "are | the, which, is, and, as\n",
            "cost | structure, breaks, inventor, ecosystem, investor\n",
            "scale | burkean, rossby, ecclesia, fellowship, composition\n",
            "orthodox | church, and, was, pope, fischer\n",
            "troops | plated, bernie, brad, marseille, bavaria\n",
            "universe | reviewers, critiqued, bolland, rhinoceros, gearloose\n",
            "operations | explicate, perceived, dramatically, ordered, million\n",
            "test | weltanschauung, raphael, experimenting, comforted, cruel\n",
            "engine | formal, conductivity, nationalism, cogito, companies\n",
            "...\n",
            "\n",
            "Epoch: 1/5\n",
            "Loss:  3.7039945125579834\n",
            "but | the, to, a, they, be\n",
            "after | the, of, by, was, in\n",
            "up | on, it, are, to, be\n",
            "three | four, zero, six, nine, one\n",
            "all | to, or, the, are, in\n",
            "from | the, of, and, by, after\n",
            "b | p, d, one, american, eight\n",
            "one | eight, two, four, nine, zero\n",
            "engineering | unloading, multiple, libraries, achieved, delusion\n",
            "institute | university, mobilization, lading, ghana, winners\n",
            "hold | not, make, deliberation, nature, the\n",
            "experience | already, skunk, that, method, christian\n",
            "applied | cksburg, checker, answers, barbadian, not\n",
            "centre | and, city, the, british, others\n",
            "heavy | classic, geary, metal, reducing, upwardly\n",
            "bbc | please, despite, belt, palin, hath\n",
            "...\n",
            "\n",
            "Epoch: 1/5\n",
            "Loss:  3.7263269424438477\n",
            "between | the, of, to, european, with\n",
            "over | the, in, years, of, zero\n",
            "while | the, as, an, in, to\n",
            "all | the, there, to, their, these\n",
            "years | year, in, seven, zero, eight\n",
            "there | the, all, this, not, to\n",
            "has | a, the, be, to, its\n",
            "will | can, for, it, be, if\n",
            "square | city, three, zero, total, poland\n",
            "ice | coal, snow, dry, off, sweet\n",
            "bbc | television, james, october, july, two\n",
            "proposed | is, monopoly, keyes, seen, or\n",
            "engine | engines, software, combustion, traffic, vestigial\n",
            "grand | spanish, italian, nine, french, eight\n",
            "operating | systems, software, access, system, memory\n",
            "additional | using, status, euwe, constituted, medicinally\n",
            "...\n",
            "\n",
            "Epoch: 1/5\n",
            "Loss:  3.1819701194763184\n",
            "three | five, four, seven, one, zero\n",
            "that | if, any, it, to, or\n",
            "after | his, had, who, he, was\n",
            "however | some, can, and, have, no\n",
            "other | or, most, has, are, is\n",
            "called | the, also, is, with, and\n",
            "with | to, a, this, the, or\n",
            "first | the, a, in, five, of\n",
            "taking | would, can, at, is, this\n",
            "pressure | water, due, gases, gas, normal\n",
            "quite | to, generally, called, very, like\n",
            "rise | largely, over, while, economic, due\n",
            "mean | if, y, vector, we, equation\n",
            "engine | engines, speed, fuel, memory, components\n",
            "derived | language, words, word, languages, root\n",
            "dr | one, frank, tv, michael, american\n",
            "...\n",
            "\n",
            "Epoch: 2/5\n",
            "Loss:  2.903348684310913\n",
            "more | and, to, a, with, provide\n",
            "only | to, because, as, the, would\n",
            "nine | one, six, eight, seven, four\n",
            "have | are, their, those, be, that\n",
            "a | is, to, and, or, the\n",
            "other | to, are, and, those, their\n",
            "b | d, french, f, politician, seven\n",
            "of | and, the, in, was, which\n",
            "defense | force, nuclear, against, military, forces\n",
            "arts | university, art, college, school, culture\n",
            "mathematics | mathematical, theory, algebraic, study, algebra\n",
            "woman | her, she, who, female, father\n",
            "bible | testament, book, books, hebrew, canonical\n",
            "placed | instead, the, called, which, or\n",
            "recorded | band, album, music, songs, love\n",
            "shown | or, because, may, involves, using\n",
            "...\n",
            "\n",
            "Epoch: 2/5\n",
            "Loss:  2.6000375747680664\n",
            "time | to, the, which, with, a\n",
            "for | a, in, to, of, which\n",
            "which | to, these, the, of, is\n",
            "where | a, the, then, if, to\n",
            "this | some, even, a, to, any\n",
            "their | they, them, but, to, as\n",
            "some | a, this, because, are, to\n",
            "eight | nine, seven, six, one, three\n",
            "professional | sports, league, football, teams, team\n",
            "gold | copper, silver, iron, ore, london\n",
            "operating | software, windows, unix, systems, memory\n",
            "mathematics | mathematical, theory, physics, analysis, logic\n",
            "pre | cultural, middle, commonly, also, th\n",
            "ocean | sea, atlantic, pacific, coastline, mountains\n",
            "know | you, we, what, god, my\n",
            "frac | x, mathbf, equation, function, cdot\n",
            "...\n",
            "\n",
            "Epoch: 2/5\n",
            "Loss:  2.64662504196167\n",
            "these | are, be, the, more, very\n",
            "all | be, any, they, is, not\n",
            "th | century, five, seven, nd, empire\n",
            "about | what, that, as, of, s\n",
            "american | actor, singer, actress, nine, writer\n",
            "two | three, zero, five, six, eight\n",
            "into | are, the, other, can, and\n",
            "so | if, it, with, will, could\n",
            "numerous | activities, efforts, the, most, see\n",
            "older | families, years, household, age, poverty\n",
            "centre | city, located, route, ontario, south\n",
            "primarily | are, areas, central, technically, essential\n",
            "event | time, events, at, come, life\n",
            "rise | among, strong, and, war, throughout\n",
            "bible | testament, biblical, translations, christian, books\n",
            "bill | starred, thomas, hired, peter, manager\n",
            "...\n",
            "\n",
            "Epoch: 2/5\n",
            "Loss:  2.785889148712158\n",
            "world | hungary, pictures, germany, chess, international\n",
            "has | the, and, on, of, this\n",
            "also | see, and, is, other, a\n",
            "up | bottom, back, down, points, running\n",
            "be | can, if, does, do, or\n",
            "his | him, he, himself, wife, her\n",
            "would | to, him, so, had, up\n",
            "all | to, there, not, the, any\n",
            "hit | hits, hitting, scored, album, big\n",
            "proposed | analysis, scientific, that, theoretical, difference\n",
            "freedom | rights, moral, freedoms, political, human\n",
            "orthodox | church, churches, christianity, catholic, bishops\n",
            "notes | works, version, poetry, edition, external\n",
            "file | files, format, unix, html, web\n",
            "question | proof, questions, philosophical, if, that\n",
            "engine | engines, fuel, powered, cars, diesel\n",
            "...\n",
            "\n",
            "Epoch: 2/5\n",
            "Loss:  2.490051507949829\n",
            "between | region, disputes, of, geographic, part\n",
            "known | of, also, the, in, and\n",
            "often | traditional, typically, form, sometimes, it\n",
            "but | to, his, be, they, them\n",
            "new | los, washington, york, in, including\n",
            "eight | one, seven, four, nine, five\n",
            "may | be, or, head, if, as\n",
            "who | refused, you, himself, to, with\n",
            "arts | martial, sports, styles, association, sport\n",
            "woman | child, female, children, her, women\n",
            "applications | software, linux, processing, operating, interface\n",
            "consists | each, parts, form, are, adjacent\n",
            "file | interface, user, files, format, code\n",
            "mean | meaning, exactly, simple, we, write\n",
            "event | events, wins, festival, every, lunar\n",
            "existence | universe, property, beliefs, principle, theory\n",
            "...\n",
            "\n",
            "Epoch: 2/5\n",
            "Loss:  2.6505792140960693\n",
            "united | states, constitution, president, civil, nations\n",
            "one | three, five, four, eight, seven\n",
            "some | most, or, used, are, usually\n",
            "about | be, article, what, apparently, that\n",
            "to | for, the, would, and, a\n",
            "at | the, from, year, to, on\n",
            "the | of, in, a, and, with\n",
            "his | him, he, her, who, himself\n",
            "something | you, wrong, doing, person, knowing\n",
            "except | are, still, into, divided, lower\n",
            "scale | scales, frequency, ratios, above, than\n",
            "active | however, number, and, government, movement\n",
            "event | them, in, events, this, wins\n",
            "marriage | marry, legally, marriages, sexual, divorce\n",
            "mathematics | mathematical, mathematicians, sciences, analysis, theory\n",
            "applications | application, operating, software, hardware, systems\n",
            "...\n",
            "\n",
            "Epoch: 3/5\n",
            "Loss:  2.6478073596954346\n",
            "as | the, a, and, most, for\n",
            "and | the, of, most, s, in\n",
            "not | be, or, without, any, to\n",
            "new | the, s, york, robert, and\n",
            "so | do, would, or, a, must\n",
            "s | and, nine, two, the, one\n",
            "would | able, make, when, will, so\n",
            "use | used, standard, example, using, basic\n",
            "applications | application, components, operating, os, interface\n",
            "governor | appointed, governors, president, chief, elected\n",
            "paris | de, la, des, france, du\n",
            "something | you, my, doing, always, question\n",
            "rise | moderate, economy, conditions, more, increased\n",
            "ocean | atlantic, islands, pacific, sea, coast\n",
            "report | archives, reports, journal, pdf, review\n",
            "bill | howard, bush, michael, frank, cooper\n",
            "...\n",
            "\n",
            "Epoch: 3/5\n",
            "Loss:  2.448786497116089\n",
            "where | a, the, into, in, if\n",
            "they | them, their, but, no, up\n",
            "during | periods, year, occurred, early, years\n",
            "on | and, the, a, to, in\n",
            "often | are, or, with, different, as\n",
            "is | a, that, an, or, are\n",
            "use | common, used, allow, using, equipment\n",
            "are | other, a, or, often, easily\n",
            "placed | a, the, other, or, removed\n",
            "mean | is, root, f, we, defined\n",
            "operations | operation, operational, targets, forces, security\n",
            "http | www, org, com, links, html\n",
            "writers | poets, novelists, deaths, winners, fiction\n",
            "bill | michael, manager, thomas, mike, davis\n",
            "san | francisco, california, de, diego, la\n",
            "test | tests, matches, detected, hazardous, nih\n",
            "...\n",
            "\n",
            "Epoch: 3/5\n",
            "Loss:  2.6380808353424072\n",
            "they | them, but, as, to, that\n",
            "was | his, after, son, of, one\n",
            "or | is, can, have, by, are\n",
            "often | different, so, may, used, such\n",
            "be | can, any, that, not, or\n",
            "seven | eight, five, four, nine, six\n",
            "a | by, of, is, the, for\n",
            "time | at, this, the, to, period\n",
            "bible | testament, translations, biblical, scripture, christian\n",
            "liberal | conservative, liberals, party, democratic, political\n",
            "road | river, routes, shopping, commuter, ferry\n",
            "engineering | engineers, fields, systems, management, design\n",
            "taking | drug, drugs, overdose, if, result\n",
            "older | household, females, age, households, population\n",
            "versions | microsoft, version, os, windows, web\n",
            "question | is, that, existence, should, what\n",
            "...\n",
            "\n",
            "Epoch: 3/5\n",
            "Loss:  2.3606977462768555\n",
            "as | the, other, that, most, often\n",
            "first | was, in, the, a, from\n",
            "will | can, if, have, or, be\n",
            "such | or, are, typically, other, some\n",
            "for | a, with, the, to, this\n",
            "also | are, the, and, see, other\n",
            "some | or, are, not, often, which\n",
            "may | or, cannot, some, thus, be\n",
            "cost | costs, expensive, cheaper, markets, prices\n",
            "discovered | discovery, planetary, earth, after, asteroid\n",
            "mathematics | mathematical, theory, academic, physics, studied\n",
            "consists | administrative, divided, serve, each, comprises\n",
            "alternative | complement, complex, spectrum, distribution, scientific\n",
            "http | www, html, org, htm, edu\n",
            "institute | university, research, engineering, college, medical\n",
            "quite | subject, sometimes, some, not, doesn\n",
            "...\n",
            "\n",
            "Epoch: 3/5\n",
            "Loss:  2.665740966796875\n",
            "five | four, six, seven, zero, one\n",
            "were | in, the, including, of, was\n",
            "so | to, it, not, able, but\n",
            "d | b, seven, eight, composer, writer\n",
            "the | of, in, and, from, a\n",
            "but | his, to, more, himself, been\n",
            "use | used, using, normally, or, uses\n",
            "there | of, are, be, is, not\n",
            "smith | adam, john, douglas, oxford, mormon\n",
            "gold | silver, precious, metals, reserves, diamonds\n",
            "ocean | atlantic, islands, pacific, coast, island\n",
            "applications | interface, software, linux, application, allows\n",
            "instance | usually, or, form, meaning, rather\n",
            "universe | cosmic, cosmology, cosmological, evil, worlds\n",
            "marriage | marry, married, daughter, children, divorce\n",
            "derived | latin, derivation, used, word, derives\n",
            "...\n",
            "\n",
            "Epoch: 3/5\n",
            "Loss:  2.383704900741577\n",
            "b | d, one, writer, politician, mathematician\n",
            "war | forces, battle, soldiers, naval, allied\n",
            "he | his, him, himself, her, who\n",
            "american | actor, actress, musician, d, nine\n",
            "while | this, for, also, the, other\n",
            "an | be, the, a, is, on\n",
            "but | these, the, is, more, to\n",
            "where | left, as, from, then, t\n",
            "bill | gerald, nine, gerry, senate, bush\n",
            "engine | engines, fuel, powered, steam, efficiency\n",
            "construction | industries, freight, building, transportation, irrigation\n",
            "except | are, or, only, which, shape\n",
            "shown | examples, segment, is, also, tv\n",
            "account | accounts, observation, published, sources, conducted\n",
            "prince | duke, queen, princess, king, house\n",
            "paris | france, de, la, le, henri\n",
            "...\n",
            "\n",
            "Epoch: 4/5\n",
            "Loss:  2.338003396987915\n",
            "an | as, to, the, is, with\n",
            "i | me, t, iii, am, v\n",
            "had | after, was, were, he, forced\n",
            "or | are, can, a, certain, which\n",
            "states | united, state, government, court, u\n",
            "many | their, some, including, have, europe\n",
            "other | are, most, the, to, these\n",
            "been | the, has, in, its, to\n",
            "know | me, my, you, we, let\n",
            "units | unit, force, infantry, per, density\n",
            "applied | synthetic, highly, materials, employed, component\n",
            "additional | included, each, keys, channels, text\n",
            "arts | art, martial, museum, museums, colleges\n",
            "report | reports, pdf, reported, program, timeline\n",
            "proposed | theories, demonstrated, claims, principle, atomic\n",
            "shows | show, tv, disney, television, radio\n",
            "...\n",
            "\n",
            "Epoch: 4/5\n",
            "Loss:  2.387270212173462\n",
            "five | three, six, nine, zero, four\n",
            "all | are, there, other, for, even\n",
            "called | is, a, as, any, be\n",
            "have | there, are, these, and, most\n",
            "years | seven, age, zero, over, two\n",
            "no | all, any, them, be, a\n",
            "states | united, u, national, law, employees\n",
            "time | the, end, after, making, to\n",
            "powers | sovereign, constitutional, constitution, judicial, government\n",
            "question | but, idea, reply, questions, what\n",
            "know | me, my, i, let, you\n",
            "quite | other, much, are, been, not\n",
            "additional | adequate, addition, down, plus, normally\n",
            "scale | ratios, measurements, atmospheric, expected, correlated\n",
            "report | reports, medical, investigation, news, allegations\n",
            "smith | joseph, williams, simon, robert, dan\n",
            "...\n",
            "\n"
          ],
          "name": "stdout"
        }
      ]
    },
    {
      "cell_type": "markdown",
      "metadata": {
        "id": "JN0dJZwMeR3F",
        "colab_type": "text"
      },
      "source": [
        "## Visualizing the word vectors\n",
        "\n",
        "Below we'll use T-SNE to visualize how our high-dimensional word vectors cluster together. T-SNE is used to project these vectors into two dimensions while preserving local stucture. Check out [this post from Christopher Olah](http://colah.github.io/posts/2014-10-Visualizing-MNIST/) to learn more about T-SNE and other ways to visualize high-dimensional data."
      ]
    },
    {
      "cell_type": "code",
      "metadata": {
        "id": "SmebeFQseR3J",
        "colab_type": "code",
        "colab": {}
      },
      "source": [
        "%matplotlib inline\n",
        "%config InlineBackend.figure_format = 'retina'\n",
        "\n",
        "import matplotlib.pyplot as plt\n",
        "from sklearn.manifold import TSNE"
      ],
      "execution_count": 0,
      "outputs": []
    },
    {
      "cell_type": "code",
      "metadata": {
        "id": "9vRT7HONeR3M",
        "colab_type": "code",
        "colab": {}
      },
      "source": [
        "# getting embeddings from the embedding layer of our model, by name\n",
        "embeddings = model.in_embed.weight.to('cpu').data.numpy()"
      ],
      "execution_count": 0,
      "outputs": []
    },
    {
      "cell_type": "code",
      "metadata": {
        "id": "jP3_k39oeR3Q",
        "colab_type": "code",
        "colab": {}
      },
      "source": [
        "viz_words = 380\n",
        "tsne = TSNE()\n",
        "embed_tsne = tsne.fit_transform(embeddings[:viz_words, :])"
      ],
      "execution_count": 0,
      "outputs": []
    },
    {
      "cell_type": "code",
      "metadata": {
        "id": "YS0MdptFeR3U",
        "colab_type": "code",
        "colab": {}
      },
      "source": [
        "fig, ax = plt.subplots(figsize=(16, 16))\n",
        "for idx in range(viz_words):\n",
        "    plt.scatter(*embed_tsne[idx, :], color='steelblue')\n",
        "    plt.annotate(int_to_vocab[idx], (embed_tsne[idx, 0], embed_tsne[idx, 1]), alpha=0.7)"
      ],
      "execution_count": 0,
      "outputs": []
    },
    {
      "cell_type": "code",
      "metadata": {
        "id": "MdmeFq2BeR3W",
        "colab_type": "code",
        "colab": {}
      },
      "source": [
        ""
      ],
      "execution_count": 0,
      "outputs": []
    }
  ]
}