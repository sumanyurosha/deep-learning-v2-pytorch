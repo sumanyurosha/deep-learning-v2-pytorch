{
 "cells": [
  {
   "cell_type": "markdown",
   "metadata": {},
   "source": [
    "# Neural networks with PyTorch\n",
    "\n",
    "Deep learning networks tend to be massive with dozens or hundreds of layers, that's where the term \"deep\" comes from. You can build one of these deep networks using only weight matrices as we did in the previous notebook, but in general it's very cumbersome and difficult to implement. PyTorch has a nice module `nn` that provides a nice way to efficiently build large neural networks."
   ]
  },
  {
   "cell_type": "code",
   "execution_count": 1,
   "metadata": {},
   "outputs": [],
   "source": [
    "# Import necessary packages\n",
    "\n",
    "%matplotlib inline\n",
    "%config InlineBackend.figure_format = 'retina'\n",
    "\n",
    "import numpy as np\n",
    "import torch\n",
    "\n",
    "import helper\n",
    "\n",
    "import matplotlib.pyplot as plt"
   ]
  },
  {
   "cell_type": "markdown",
   "metadata": {},
   "source": [
    "\n",
    "Now we're going to build a larger network that can solve a (formerly) difficult problem, identifying text in an image. Here we'll use the MNIST dataset which consists of greyscale handwritten digits. Each image is 28x28 pixels, you can see a sample below\n",
    "\n",
    "<img src='assets/mnist.png'>\n",
    "\n",
    "Our goal is to build a neural network that can take one of these images and predict the digit in the image.\n",
    "\n",
    "First up, we need to get our dataset. This is provided through the `torchvision` package. The code below will download the MNIST dataset, then create training and test datasets for us. Don't worry too much about the details here, you'll learn more about this later."
   ]
  },
  {
   "cell_type": "code",
   "execution_count": 2,
   "metadata": {},
   "outputs": [],
   "source": [
    "### Run this cell\n",
    "\n",
    "from torchvision import datasets, transforms\n",
    "\n",
    "# Define a transform to normalize the data\n",
    "transform = transforms.Compose([transforms.ToTensor(),\n",
    "                              transforms.Normalize((0.5,), (0.5,)),\n",
    "                              ])\n",
    "\n",
    "# Download and load the training data\n",
    "trainset = datasets.MNIST('~/.pytorch/MNIST_data/', download=True, train=True, transform=transform)\n",
    "trainloader = torch.utils.data.DataLoader(trainset, batch_size=64, shuffle=True)"
   ]
  },
  {
   "cell_type": "markdown",
   "metadata": {},
   "source": [
    "We have the training data loaded into `trainloader` and we make that an iterator with `iter(trainloader)`. Later, we'll use this to loop through the dataset for training, like\n",
    "\n",
    "```python\n",
    "for image, label in trainloader:\n",
    "    ## do things with images and labels\n",
    "```\n",
    "\n",
    "You'll notice I created the `trainloader` with a batch size of 64, and `shuffle=True`. The batch size is the number of images we get in one iteration from the data loader and pass through our network, often called a *batch*. And `shuffle=True` tells it to shuffle the dataset every time we start going through the data loader again. But here I'm just grabbing the first batch so we can check out the data. We can see below that `images` is just a tensor with size `(64, 1, 28, 28)`. So, 64 images per batch, 1 color channel, and 28x28 images."
   ]
  },
  {
   "cell_type": "code",
   "execution_count": 3,
   "metadata": {},
   "outputs": [
    {
     "name": "stdout",
     "output_type": "stream",
     "text": [
      "<class 'torch.Tensor'>\n",
      "torch.Size([64, 1, 28, 28])\n",
      "torch.Size([64])\n"
     ]
    }
   ],
   "source": [
    "dataiter = iter(trainloader)\n",
    "images, labels = dataiter.next()\n",
    "print(type(images))\n",
    "print(images.shape)\n",
    "print(labels.shape)"
   ]
  },
  {
   "cell_type": "markdown",
   "metadata": {},
   "source": [
    "This is what one of the images looks like. "
   ]
  },
  {
   "cell_type": "code",
   "execution_count": 8,
   "metadata": {},
   "outputs": [
    {
     "data": {
      "image/png": "[encoded data removed]",
      "text/plain": [
       "<Figure size 432x288 with 1 Axes>"
      ]
     },
     "metadata": {
      "image/png": {
       "height": 250,
       "width": 253
      },
      "needs_background": "light"
     },
     "output_type": "display_data"
    }
   ],
   "source": [
    "plt.imshow(images[60].numpy().squeeze(), cmap='Greys_r');"
   ]
  },
  {
   "cell_type": "markdown",
   "metadata": {},
   "source": [
    "First, let's try to build a simple network for this dataset using weight matrices and matrix multiplications. Then, we'll see how to do it using PyTorch's `nn` module which provides a much more convenient and powerful method for defining network architectures.\n",
    "\n",
    "The networks you've seen so far are called *fully-connected* or *dense* networks. Each unit in one layer is connected to each unit in the next layer. In fully-connected networks, the input to each layer must be a one-dimensional vector (which can be stacked into a 2D tensor as a batch of multiple examples). However, our images are 28x28 2D tensors, so we need to convert them into 1D vectors. Thinking about sizes, we need to convert the batch of images with shape `(64, 1, 28, 28)` to a have a shape of `(64, 784)`, 784 is 28 times 28. This is typically called *flattening*, we flattened the 2D images into 1D vectors.\n",
    "\n",
    "Previously you built a network with one output unit. Here we need 10 output units, one for each digit. We want our network to predict the digit shown in an image, so what we'll do is calculate probabilities that the image is of any one digit or class. This ends up being a discrete probability distribution over the classes (digits) that tells us the most likely class for the image. That means we need 10 output units for the 10 classes (digits). We'll see how to convert the network output into a probability distribution next.\n",
    "\n",
    "> **Exercise:** Flatten the batch of images `images`. Then build a multi-layer network with 784 input units, 256 hidden units, and 10 output units using random tensors for the weights and biases. For now, use a sigmoid activation for the hidden layer. Leave the output layer without an activation, we'll add one that gives us a probability distribution next."
   ]
  },
  {
   "cell_type": "code",
   "execution_count": 15,
   "metadata": {},
   "outputs": [
    {
     "name": "stdout",
     "output_type": "stream",
     "text": [
      "torch.Size([64, 10])\n",
      "tensor([[ 14.3795, -16.1141, -22.6109, -14.0283,  21.6906,   7.7597,  -3.1158,\n",
      "         -14.5230,  -1.5755,   1.7514],\n",
      "        [  0.3808, -10.4843, -22.1458, -22.4550,  11.5670,   3.7047,  10.9932,\n",
      "         -13.4471,  -1.6315,   4.0515],\n",
      "        [ 15.6597, -16.7538, -24.1204, -20.4792,  12.9857,   7.0687,  14.9602,\n",
      "          -7.2707,   1.1905,   4.7191],\n",
      "        [  2.3383,  -2.8428, -19.9140, -20.7174,  15.6252,   7.5817,  -3.0450,\n",
      "          -6.9329,  -7.5920,  -7.1071],\n",
      "        [ 13.0178, -11.2358, -17.7907, -25.8687,  13.1465,   9.4140,  -1.1797,\n",
      "          -2.4928,   0.1671,  -2.7178],\n",
      "        [  5.1685, -14.8025, -15.9079, -12.0596,  13.9922,   1.6412,   2.9160,\n",
      "           0.1255,   3.7508,  -2.0016],\n",
      "        [  5.9269,  -8.1169, -12.7447, -17.8541,   9.8910,   3.1793,  -2.1945,\n",
      "          -1.9848,  -0.8476,   4.8434],\n",
      "        [ -3.7508,  -6.1724, -26.7106, -16.9860,  20.0536,   9.5177,   9.8894,\n",
      "         -16.4752,  -5.7148,   0.9720],\n",
      "        [  7.0234,  -3.6013, -23.0537, -19.5187,  19.5736,   4.2995,   5.3160,\n",
      "          -4.9707,  -1.8782,  -6.9711],\n",
      "        [  3.5506, -11.3858, -25.9245, -17.2685,  12.8831,  11.8163,  -0.3511,\n",
      "          -7.9068,  -1.3357,   8.9977],\n",
      "        [ 15.7126, -19.1603, -18.0055, -21.5753,  21.9602,   3.4198,   1.2095,\n",
      "         -14.0530,  -5.8885,   4.7379],\n",
      "        [  5.7182, -10.1730, -27.1969,  -6.8534,  18.3289,   3.4926,   4.7892,\n",
      "         -11.2166,  -1.8930,   4.3087],\n",
      "        [  6.5658,  -2.3149, -17.0408, -11.6911,   6.6812,  -4.7757,  -0.6788,\n",
      "         -13.8041, -13.7192,   3.9322],\n",
      "        [  1.5643,  -1.0349, -20.4472, -16.2652,   8.3470,  10.4586,   7.5691,\n",
      "         -16.9104,  -1.2747,   1.2639],\n",
      "        [ 10.2569, -20.2770, -10.8452, -22.2931,  17.6400,   3.8257,  -3.8088,\n",
      "          -8.2454,  -9.1641,   2.3309],\n",
      "        [ -2.6231,  -8.7881, -20.3643, -19.3560,  13.2868,  -4.7037,  15.0853,\n",
      "          -9.7519,  -6.3521,   6.8611],\n",
      "        [ -0.6330,  -9.2744, -21.8251, -16.3876,  13.8788,  11.8805,   2.4500,\n",
      "          -1.5754,   1.0946,  -8.4274],\n",
      "        [ 11.1035,  -8.2000, -23.2294,  -9.3557,  11.1940,   7.8276,  10.9170,\n",
      "          -5.1170,   4.0029,  -0.3331],\n",
      "        [ -7.2324,  -8.0779, -18.9480, -18.3559,  15.9992,  12.9535,   5.6588,\n",
      "         -13.5519,  -8.7604,   6.3622],\n",
      "        [ -3.0656,  -3.6488, -13.6251,  -8.9558,   7.9978,  -0.2429,   4.4298,\n",
      "         -10.2997,  -2.9999,   8.4653],\n",
      "        [ 11.7559, -13.2580, -21.4892, -17.2746,   6.4021,   9.6590,   2.7482,\n",
      "          -0.0374,  -3.5377,   4.9149],\n",
      "        [  5.6840,  -2.7351, -14.3052, -10.7418,   6.0880,   9.6702,   4.9074,\n",
      "          -0.8046,  -3.0554,  -0.1361],\n",
      "        [  4.8963, -12.1467, -17.3281, -19.1068,  18.8708,  11.4289,   3.3175,\n",
      "          -7.3608,   2.6911,  -7.9970],\n",
      "        [  7.1679, -15.0051, -20.6200, -15.5119,   7.0079,  12.4362,   9.3154,\n",
      "         -10.9712,  -7.3668,   6.9693],\n",
      "        [ -3.4163, -10.7605, -16.8292, -10.6480,  19.8774,   8.8867,   9.3384,\n",
      "          -9.7467,  -1.8186,   5.0270],\n",
      "        [  6.0297,  -8.3149, -23.6237, -18.2804,   9.8720,   6.2237,   7.2717,\n",
      "         -13.2087,   7.0260,   2.4146],\n",
      "        [ -0.9154,  -2.7378, -18.7252, -16.5712,  15.4119,   3.3391,  13.3231,\n",
      "          -6.3709,  -7.0488,   2.2092],\n",
      "        [ -1.0479,  -6.3535, -27.4891, -16.4641,   5.2424,   1.4759,   9.1875,\n",
      "          -5.2419,   3.6967,   6.0181],\n",
      "        [  8.9669, -15.7511, -24.8052, -20.4471,  20.4939,  17.9707,  -3.6278,\n",
      "          -6.9246,  -9.2897,   9.4857],\n",
      "        [ 13.3885, -14.0821, -17.6694, -16.6244,  13.9826,  10.3931,  -7.0270,\n",
      "           0.0741,  -1.5233,  -1.2868],\n",
      "        [ -0.1319,  -8.3480, -22.9891, -23.2504,   9.5797,   9.9943,   9.4311,\n",
      "          -7.4616,   0.2418,  -3.9385],\n",
      "        [  8.7867, -12.5748, -19.1726, -15.0900,   7.0527,   3.0594,   1.1966,\n",
      "          -2.6861,  -0.1854,  -8.4654],\n",
      "        [  6.6169,   1.2471, -12.8600, -16.3957,  12.0067,   3.7774,   0.2252,\n",
      "         -13.1972,  -3.3040,   6.9674],\n",
      "        [  7.8090, -10.3818, -22.8747, -20.4918,  23.2224,  12.1786,  -1.7937,\n",
      "          -7.7300,   0.4744,   0.2456],\n",
      "        [  8.7620,   4.1364, -17.5093, -15.3192,   8.7711,   1.1193,  -2.3400,\n",
      "          -7.2168,  -4.1387,   2.7794],\n",
      "        [ 12.1845, -17.4214, -21.8550, -24.8976,  27.9325,   6.5988,   6.3924,\n",
      "          -1.0286,  -1.2478, -12.3431],\n",
      "        [  9.7534, -10.4325, -15.3137, -16.0972,  11.4755,   9.6484,   2.1418,\n",
      "         -20.8193,   1.3221,   1.9535],\n",
      "        [  2.4362,  -3.6676, -16.7415,  -6.0879,  10.2636,   7.2507,   3.8651,\n",
      "          -7.5470,   1.8085,   3.3328],\n",
      "        [  3.3272, -11.9080, -16.0139, -20.7582,  10.2490,  11.6963,   1.8044,\n",
      "         -10.9140,  -4.6964,   6.8517],\n",
      "        [ 11.2178,  -6.1868, -17.8795,  -6.0852,  18.3182,  11.2887,   6.7829,\n",
      "          -0.4164, -11.0157,  -6.9401],\n",
      "        [  8.1217, -12.4999, -21.3026, -19.1211,  17.0922,   7.8717,  -0.9771,\n",
      "          -8.8756,  -5.9071,  -0.6402],\n",
      "        [  6.1123,  -3.5970,  -8.7061, -13.7198,  14.6560,   7.7685,   5.5355,\n",
      "           1.8041, -10.2652,   5.0024],\n",
      "        [  4.3597,  -7.3586, -12.6437, -14.6446,   9.2639,  -0.2554,   5.2324,\n",
      "           3.2461,   0.5191,  -5.3171],\n",
      "        [  6.1071,  -9.4091, -13.5600, -21.2609,  13.2696,   7.2188,   2.0265,\n",
      "          -3.9580,   0.1211,  -4.3149],\n",
      "        [ 16.7613,  -9.0915, -15.4011, -20.4026,  17.9994,  11.8282,   2.4236,\n",
      "          -3.3691,  -0.0678, -13.9830],\n",
      "        [  5.7517,  -8.5178, -10.3400, -16.2446,  18.3357,  -1.1559,  10.5957,\n",
      "           3.1674,   1.1335,  -6.0625],\n",
      "        [ 11.8934, -18.3410, -16.1306, -27.5680,  19.8849,  11.8226,  -1.4914,\n",
      "          -0.9214,  -2.8132,  -9.3935],\n",
      "        [ -1.5352, -16.7067,  -7.0657, -19.3601,  16.9951,  11.1700,  -0.5054,\n",
      "         -10.9839,  -3.1286,   2.6611],\n",
      "        [  5.3086,  -9.7450, -12.7410, -15.9833,  18.9965,  11.3719,   3.1290,\n",
      "           0.8062,   4.8736,  -1.4614],\n",
      "        [  6.1308,  -7.9176, -14.9734, -11.2066,  11.8365,   7.5475,   2.0380,\n",
      "          -5.4117,   1.1240,   5.6229],\n",
      "        [  2.1671, -19.8358, -24.5658, -23.2177,  15.6452,  14.2194,   0.7256,\n",
      "          -1.2683,   4.5614,   2.1573],\n",
      "        [  3.7526,  -1.8770, -11.3825,  -9.7009,  13.7398,  11.8154,   9.7448,\n",
      "         -17.0767,  -5.1558,  -1.7357],\n",
      "        [ 10.2776, -14.3352, -20.1169, -15.8514,   9.7246,   8.0386,  11.4060,\n",
      "           5.5517,  -0.6262,   1.7786],\n",
      "        [ 10.7120, -13.6497, -23.7420, -19.8664,  14.0495,   8.1304,  13.4537,\n",
      "         -10.7263,   6.8678,   6.0245],\n",
      "        [  8.6351, -17.7710, -17.8506, -19.2705,  13.8694,   7.2802,  -1.0964,\n",
      "          -3.3915,   5.2620,  -5.0275],\n",
      "        [  6.6699, -14.3189, -25.0648, -19.4632,   4.2673,  13.2139,   9.1284,\n",
      "         -11.8195,  -8.1917,   2.5785],\n",
      "        [ -3.3417,  -3.8222, -22.9782, -15.6159,   6.2023,   1.5958,  11.4659,\n",
      "          -5.3846,  -5.1527,   1.2979],\n",
      "        [  1.7046,  -6.0117, -15.4032, -16.6116,  13.2780,  11.1978,   1.4764,\n",
      "           1.4632,  -0.5489,  -1.6981],\n",
      "        [ 11.5039,  -6.4065, -19.3226, -11.9074,  15.3749,   5.6158,   3.8284,\n",
      "          -8.0769,   4.0890,  -3.4390],\n",
      "        [  3.0775,   3.9401, -21.8429, -11.6673,   4.0527,  -2.6850,   8.2564,\n",
      "         -11.9265,  -2.4956,  -0.0143],\n",
      "        [  8.1905,  -9.1403, -17.5361, -17.1792,   8.4765,   6.9264,  -1.8648,\n",
      "         -11.0542,   0.3639,  -1.2916],\n",
      "        [  6.9246, -18.7788, -26.2121, -18.2259,  20.6375,  -4.3608, -11.3577,\n",
      "          -9.3877,  -3.4712,   3.1936],\n",
      "        [ 11.1886, -14.7779, -19.7240, -16.3401,  10.3675,  -3.6265,  -1.0444,\n",
      "         -10.1545,   0.2334,   5.3638],\n",
      "        [  3.2860, -10.1212,  -8.3573, -11.0245,  15.0419,   9.7349,   2.1939,\n",
      "         -10.9902,   2.0555,   2.1830]])\n"
     ]
    }
   ],
   "source": [
    "## Your solution\n",
    "def activation(x):\n",
    "    return 1/(1+torch.exp(-x))\n",
    "\n",
    "torch.manual_seed(6)\n",
    "\n",
    "img = images.view(64,784)\n",
    "\n",
    "n_input = img.shape[1]\n",
    "n_hidden = 256\n",
    "n_output = 10\n",
    "\n",
    "W1 = torch.randn(n_input, n_hidden)\n",
    "W2 = torch.randn(n_hidden, n_output)\n",
    "\n",
    "B1 = torch.randn(1, n_hidden)\n",
    "B2 = torch.randn(1, n_output)\n",
    "\n",
    "h = activation(torch.mm(img, W1) + B1)\n",
    "\n",
    "out = torch.mm(h, W2) + B2\n",
    "print(out.shape)\n",
    "print(out)\n",
    "# output of your network, should have shape (64,10)"
   ]
  },
  {
   "cell_type": "markdown",
   "metadata": {},
   "source": [
    "Now we have 10 outputs for our network. We want to pass in an image to our network and get out a probability distribution over the classes that tells us the likely class(es) the image belongs to. Something that looks like this:\n",
    "<img src='assets/image_distribution.png' width=500px>\n",
    "\n",
    "Here we see that the probability for each class is roughly the same. This is representing an untrained network, it hasn't seen any data yet so it just returns a uniform distribution with equal probabilities for each class.\n",
    "\n",
    "To calculate this probability distribution, we often use the [**softmax** function](https://en.wikipedia.org/wiki/Softmax_function). Mathematically this looks like\n",
    "\n",
    "$$\n",
    "\\Large \\sigma(x_i) = \\cfrac{e^{x_i}}{\\sum_k^K{e^{x_k}}}\n",
    "$$\n",
    "\n",
    "What this does is squish each input $x_i$ between 0 and 1 and normalizes the values to give you a proper probability distribution where the probabilites sum up to one.\n",
    "\n",
    "> **Exercise:** Implement a function `softmax` that performs the softmax calculation and returns probability distributions for each example in the batch. Note that you'll need to pay attention to the shapes when doing this. If you have a tensor `a` with shape `(64, 10)` and a tensor `b` with shape `(64,)`, doing `a/b` will give you an error because PyTorch will try to do the division across the columns (called broadcasting) but you'll get a size mismatch. The way to think about this is for each of the 64 examples, you only want to divide by one value, the sum in the denominator. So you need `b` to have a shape of `(64, 1)`. This way PyTorch will divide the 10 values in each row of `a` by the one value in each row of `b`. Pay attention to how you take the sum as well. You'll need to define the `dim` keyword in `torch.sum`. Setting `dim=0` takes the sum across the rows while `dim=1` takes the sum across the columns."
   ]
  },
  {
   "cell_type": "code",
   "execution_count": 21,
   "metadata": {},
   "outputs": [
    {
     "name": "stdout",
     "output_type": "stream",
     "text": [
      "torch.Size([64, 10])\n",
      "torch.Size([64])\n",
      "torch.Size([64, 10])\n",
      "tensor([[6.6767e-04, 3.8138e-17, 5.7517e-20, 3.0702e-16, 9.9933e-01, 8.9044e-07,\n",
      "         1.6843e-11, 1.8722e-16, 7.8591e-11, 2.1890e-09],\n",
      "        [8.8624e-06, 1.6940e-10, 1.4601e-15, 1.0718e-15, 6.3926e-01, 2.4609e-04,\n",
      "         3.6014e-01, 8.7532e-12, 1.1847e-06, 3.4813e-04],\n",
      "        [6.3856e-01, 5.3482e-15, 3.3800e-18, 1.2891e-16, 4.4045e-02, 1.1862e-04,\n",
      "         3.1726e-01, 7.0255e-11, 3.3213e-07, 1.1318e-05],\n",
      "        [1.6960e-06, 9.5350e-09, 3.6759e-16, 1.6461e-16, 9.9968e-01, 3.2106e-04,\n",
      "         7.7891e-09, 1.5959e-10, 8.2559e-11, 1.3407e-10],\n",
      "        [4.6198e-01, 1.3533e-11, 1.9259e-14, 5.9763e-18, 5.2544e-01, 1.2574e-02,\n",
      "         3.1530e-07, 8.4808e-08, 1.2123e-06, 6.7721e-08],\n",
      "        [1.4717e-04, 3.1225e-13, 1.0339e-13, 4.8502e-12, 9.9980e-01, 4.3242e-06,\n",
      "         1.5473e-05, 9.4982e-07, 3.5654e-05, 1.1321e-07],\n",
      "        [1.8491e-02, 1.4718e-08, 1.4388e-10, 8.6900e-13, 9.7403e-01, 1.1850e-03,\n",
      "         5.4940e-06, 6.7761e-06, 2.1127e-05, 6.2579e-03],\n",
      "        [4.5907e-11, 4.0754e-12, 4.9038e-21, 8.2014e-17, 9.9993e-01, 2.6565e-05,\n",
      "         3.8524e-05, 1.3668e-16, 6.4403e-12, 5.1635e-09],\n",
      "        [3.5444e-06, 8.6155e-11, 3.0706e-19, 1.0531e-17, 1.0000e+00, 2.3257e-07,\n",
      "         6.4269e-07, 2.1905e-11, 4.8263e-10, 2.9635e-12],\n",
      "        [6.4849e-05, 2.1141e-11, 1.0257e-17, 5.8924e-14, 7.3274e-01, 2.5214e-01,\n",
      "         1.3105e-06, 6.8553e-10, 4.8957e-07, 1.5051e-02],\n",
      "        [1.9315e-03, 1.3829e-18, 4.3882e-18, 1.2358e-19, 9.9807e-01, 8.8548e-09,\n",
      "         9.7106e-10, 2.2847e-16, 8.0283e-13, 3.3085e-08],\n",
      "        [3.3361e-06, 4.1860e-13, 1.6920e-20, 1.1573e-11, 9.9999e-01, 3.6033e-07,\n",
      "         1.3176e-06, 1.4742e-13, 1.6510e-09, 8.1491e-07],\n",
      "        [4.5558e-01, 6.3348e-05, 2.5489e-11, 5.3665e-09, 5.1131e-01, 5.4077e-06,\n",
      "         3.2531e-04, 6.4873e-10, 7.0615e-10, 3.2720e-02],\n",
      "        [1.1655e-04, 8.6631e-06, 3.2137e-14, 2.1051e-12, 1.0285e-01, 8.4969e-01,\n",
      "         4.7246e-02, 1.1041e-12, 6.8163e-06, 8.6309e-05],\n",
      "        [6.2126e-04, 3.4085e-17, 4.2534e-13, 4.5395e-18, 9.9938e-01, 1.0006e-06,\n",
      "         4.8372e-10, 5.7256e-12, 2.2848e-12, 2.2441e-07],\n",
      "        [1.7487e-08, 3.6752e-11, 3.4498e-16, 9.4566e-16, 1.4200e-01, 2.1834e-09,\n",
      "         8.5777e-01, 1.4020e-11, 4.1997e-10, 2.2997e-04],\n",
      "        [4.3893e-07, 7.7532e-11, 2.7464e-16, 6.3133e-14, 8.8061e-01, 1.1937e-01,\n",
      "         9.5785e-06, 1.7103e-07, 2.4697e-06, 1.8084e-10],\n",
      "        [3.3747e-01, 1.3958e-09, 4.1464e-16, 4.3945e-10, 3.6945e-01, 1.2751e-02,\n",
      "         2.8005e-01, 3.0464e-08, 2.7830e-04, 3.6425e-06],\n",
      "        [7.7696e-11, 3.3358e-11, 6.3442e-16, 1.1469e-15, 9.5451e-01, 4.5400e-02,\n",
      "         3.0833e-05, 1.3992e-13, 1.6858e-11, 6.2298e-05],\n",
      "        [5.9728e-06, 3.3337e-06, 1.5497e-10, 1.6524e-08, 3.8103e-01, 1.0047e-04,\n",
      "         1.0750e-02, 4.3099e-09, 6.3785e-06, 6.0810e-01],\n",
      "        [8.8593e-01, 1.2134e-11, 3.2303e-15, 2.1858e-13, 4.1906e-03, 1.0882e-01,\n",
      "         1.0849e-04, 6.6930e-06, 2.0206e-07, 9.4706e-04],\n",
      "        [1.7601e-02, 3.8829e-06, 3.6672e-11, 1.2940e-09, 2.6364e-02, 9.4785e-01,\n",
      "         8.0961e-03, 2.6766e-05, 2.8187e-06, 5.2230e-05],\n",
      "        [8.5252e-07, 3.3809e-14, 1.9000e-16, 3.2082e-17, 9.9941e-01, 5.8585e-04,\n",
      "         1.7581e-07, 4.0507e-12, 9.3972e-08, 2.1439e-12],\n",
      "        [4.8705e-03, 1.1428e-12, 4.1635e-15, 6.8840e-13, 4.1503e-03, 9.4528e-01,\n",
      "         4.1707e-02, 6.4544e-11, 2.3727e-09, 3.9930e-03],\n",
      "        [7.6499e-11, 4.9441e-14, 1.1441e-16, 5.5327e-14, 9.9996e-01, 1.6856e-05,\n",
      "         2.6480e-05, 1.3626e-13, 3.7802e-10, 3.5524e-07],\n",
      "        [1.8166e-02, 1.0703e-08, 2.4040e-15, 5.0295e-13, 8.4719e-01, 2.2056e-02,\n",
      "         6.2902e-02, 8.0197e-11, 4.9200e-02, 4.8893e-04],\n",
      "        [7.2185e-08, 1.1669e-08, 1.3298e-15, 1.1461e-14, 8.8980e-01, 5.0835e-06,\n",
      "         1.1019e-01, 3.0843e-10, 1.5658e-10, 1.6423e-06],\n",
      "        [3.3655e-05, 1.6706e-07, 1.1061e-16, 6.7900e-12, 1.8152e-02, 4.1987e-04,\n",
      "         9.3810e-01, 5.0771e-07, 3.8691e-03, 3.9424e-02],\n",
      "        [9.1275e-06, 1.6806e-16, 1.9649e-20, 1.5347e-18, 9.2573e-01, 7.4247e-02,\n",
      "         3.0941e-11, 1.1449e-12, 1.0755e-13, 1.5335e-05],\n",
      "        [3.4949e-01, 4.1027e-13, 1.1354e-14, 3.2284e-14, 6.3303e-01, 1.7479e-02,\n",
      "         4.7543e-10, 5.7683e-07, 1.1676e-07, 1.4791e-07],\n",
      "        [1.7944e-05, 4.8497e-09, 2.1240e-15, 1.6356e-15, 2.9622e-01, 4.4841e-01,\n",
      "         2.5532e-01, 1.1767e-08, 2.6074e-05, 3.9878e-07],\n",
      "        [8.4712e-01, 4.4749e-10, 6.1006e-13, 3.6178e-11, 1.4958e-01, 2.7582e-03,\n",
      "         4.2818e-04, 8.8185e-06, 1.0751e-04, 2.7255e-08],\n",
      "        [4.5120e-03, 2.1003e-05, 1.5691e-11, 4.5721e-13, 9.8879e-01, 2.6374e-04,\n",
      "         7.5590e-06, 1.1199e-11, 2.2170e-07, 6.4059e-03],\n",
      "        [2.0231e-07, 2.5460e-15, 9.5563e-21, 1.0355e-19, 9.9998e-01, 1.5986e-05,\n",
      "         1.3667e-11, 3.6101e-14, 1.3202e-10, 1.0503e-10],\n",
      "        [4.9457e-01, 4.8457e-03, 1.9264e-12, 1.7214e-11, 4.9909e-01, 2.3717e-04,\n",
      "         7.4593e-06, 5.6849e-08, 1.2346e-06, 1.2474e-03],\n",
      "        [1.4479e-07, 2.0095e-20, 2.3856e-22, 1.1382e-23, 1.0000e+00, 5.4314e-10,\n",
      "         4.4185e-10, 2.6447e-13, 2.1241e-13, 3.2250e-18],\n",
      "        [1.3338e-01, 2.2827e-10, 1.7321e-12, 7.9125e-13, 7.4640e-01, 1.2008e-01,\n",
      "         6.5977e-05, 7.0393e-15, 2.9069e-05, 5.4657e-05],\n",
      "        [3.7879e-04, 8.4637e-07, 1.7768e-12, 7.5237e-08, 9.5021e-01, 4.6699e-02,\n",
      "         1.5812e-03, 1.7489e-08, 2.0220e-04, 9.2854e-04],\n",
      "        [1.8653e-04, 4.5102e-11, 7.4306e-13, 6.4653e-15, 1.8917e-01, 8.0428e-01,\n",
      "         4.0681e-05, 1.2187e-10, 6.1115e-08, 6.3304e-03],\n",
      "        [8.2336e-04, 2.2743e-11, 1.9002e-16, 2.5175e-11, 9.9828e-01, 8.8381e-04,\n",
      "         9.7620e-06, 7.2929e-09, 1.8184e-13, 1.0708e-11],\n",
      "        [1.2707e-04, 1.4067e-13, 2.1146e-17, 1.8735e-16, 9.9977e-01, 9.8967e-05,\n",
      "         1.4206e-08, 5.2750e-12, 1.0266e-10, 1.9898e-08],\n",
      "        [1.9450e-04, 1.1810e-08, 7.1345e-11, 4.7420e-13, 9.9861e-01, 1.0190e-03,\n",
      "         1.0925e-04, 2.6176e-06, 1.5006e-11, 6.4108e-05],\n",
      "        [7.2149e-03, 5.8752e-08, 2.9767e-10, 4.0248e-11, 9.7292e-01, 7.1434e-05,\n",
      "         1.7267e-02, 2.3692e-03, 1.5498e-04, 4.5251e-07],\n",
      "        [7.7266e-04, 1.4106e-10, 2.2217e-12, 1.0051e-15, 9.9686e-01, 2.3485e-03,\n",
      "         1.3057e-05, 3.2870e-08, 1.9423e-06, 2.3004e-08],\n",
      "        [2.2440e-01, 1.3283e-12, 2.4160e-15, 1.6254e-17, 7.7398e-01, 1.6167e-03,\n",
      "         1.3312e-07, 4.0599e-10, 1.1022e-08, 9.9760e-15],\n",
      "        [3.4247e-06, 2.1749e-12, 3.5163e-13, 9.5887e-16, 9.9956e-01, 3.4254e-09,\n",
      "         4.3486e-04, 2.5839e-07, 3.3804e-08, 2.5340e-11],\n",
      "        [3.3812e-04, 2.5028e-17, 2.2824e-16, 2.4614e-21, 9.9935e-01, 3.1501e-04,\n",
      "         5.2015e-10, 9.1977e-10, 1.3870e-10, 1.9243e-13],\n",
      "        [8.9351e-09, 2.3024e-15, 3.5419e-11, 1.6213e-16, 9.9706e-01, 2.9437e-03,\n",
      "         2.5024e-08, 7.0404e-13, 1.8160e-09, 5.9364e-07],\n",
      "        [1.1355e-06, 3.2923e-13, 1.6458e-14, 6.4308e-16, 9.9951e-01, 4.8806e-04,\n",
      "         1.2842e-07, 1.2584e-08, 7.3498e-07, 1.3032e-09],\n",
      "        [3.2644e-03, 2.5863e-09, 2.2303e-12, 9.6449e-11, 9.8123e-01, 1.3461e-02,\n",
      "         5.4493e-05, 3.1693e-08, 2.1847e-05, 1.9644e-03],\n",
      "        [1.1298e-06, 3.1422e-16, 2.7736e-18, 1.0678e-17, 8.0623e-01, 1.9375e-01,\n",
      "         2.6726e-07, 3.6394e-08, 1.2383e-05, 1.1187e-06],\n",
      "        [3.9493e-05, 1.4178e-07, 1.0553e-11, 5.6715e-11, 8.5880e-01, 1.2535e-01,\n",
      "         1.5809e-02, 3.5517e-14, 5.3413e-09, 1.6329e-07],\n",
      "        [2.0914e-01, 4.2777e-12, 1.3190e-14, 9.3916e-13, 1.2030e-01, 2.2286e-02,\n",
      "         6.4638e-01, 1.8535e-03, 3.8454e-06, 4.2595e-05],\n",
      "        [2.2338e-02, 5.8732e-13, 2.4314e-17, 1.1722e-15, 6.2877e-01, 1.6900e-03,\n",
      "         3.4652e-01, 1.0927e-11, 4.7808e-04, 2.0572e-04],\n",
      "        [5.2939e-03, 1.8020e-14, 1.6642e-14, 4.0229e-15, 9.9316e-01, 1.3657e-03,\n",
      "         3.1437e-07, 3.1673e-08, 1.8151e-04, 6.1687e-09],\n",
      "        [1.4127e-03, 1.0833e-12, 2.3326e-17, 6.3181e-15, 1.2783e-04, 9.8192e-01,\n",
      "         1.6511e-02, 1.3189e-11, 4.9630e-10, 2.3615e-05],\n",
      "        [3.6885e-07, 2.2812e-07, 1.0935e-15, 1.7228e-12, 5.1492e-03, 5.1428e-05,\n",
      "         9.9476e-01, 4.7823e-08, 6.0301e-08, 3.8178e-05],\n",
      "        [8.3682e-06, 3.7279e-09, 3.1104e-13, 9.2896e-14, 8.8894e-01, 1.1103e-01,\n",
      "         6.6608e-06, 6.5730e-06, 8.7892e-07, 2.7852e-07],\n",
      "        [2.0412e-02, 3.3999e-10, 8.3576e-16, 1.3883e-12, 9.7951e-01, 5.6583e-05,\n",
      "         9.4717e-06, 6.3981e-11, 1.2292e-05, 6.6109e-09],\n",
      "        [5.4476e-03, 1.2906e-02, 8.1921e-14, 2.1509e-09, 1.4446e-02, 1.7123e-05,\n",
      "         9.6691e-01, 1.6598e-09, 2.0693e-05, 2.4744e-04],\n",
      "        [3.8252e-01, 1.1376e-08, 2.5689e-12, 3.6707e-12, 5.0921e-01, 1.0806e-01,\n",
      "         1.6432e-05, 1.6781e-09, 1.5263e-04, 2.9152e-05],\n",
      "        [1.1080e-06, 7.6154e-18, 4.5027e-21, 1.3237e-17, 1.0000e+00, 1.3911e-11,\n",
      "         1.2725e-14, 9.1240e-14, 3.3862e-11, 2.6557e-08],\n",
      "        [6.9306e-01, 3.6615e-12, 2.6035e-14, 7.6773e-13, 3.0488e-01, 2.5506e-07,\n",
      "         3.3730e-06, 3.7286e-10, 1.2105e-05, 2.0468e-03],\n",
      "        [7.8040e-06, 1.1740e-11, 6.8501e-11, 4.7576e-12, 9.9505e-01, 4.9324e-03,\n"
     ]
    },
    {
     "name": "stdout",
     "output_type": "stream",
     "text": [
      "         2.6186e-06, 4.9234e-12, 2.2800e-06, 2.5902e-06]])\n"
     ]
    }
   ],
   "source": [
    "tmp = out\n",
    "expo = torch.exp(tmp)\n",
    "print(expo.shape)\n",
    "\n",
    "b = expo.sum(dim=1)\n",
    "print(b.shape)\n",
    "\n",
    "ans = expo/b.view(64,1)\n",
    "print(ans.shape)\n",
    "print(ans)"
   ]
  },
  {
   "cell_type": "code",
   "execution_count": 22,
   "metadata": {},
   "outputs": [
    {
     "name": "stdout",
     "output_type": "stream",
     "text": [
      "torch.Size([64, 10])\n",
      "tensor([1.0000, 1.0000, 1.0000, 1.0000, 1.0000, 1.0000, 1.0000, 1.0000, 1.0000,\n",
      "        1.0000, 1.0000, 1.0000, 1.0000, 1.0000, 1.0000, 1.0000, 1.0000, 1.0000,\n",
      "        1.0000, 1.0000, 1.0000, 1.0000, 1.0000, 1.0000, 1.0000, 1.0000, 1.0000,\n",
      "        1.0000, 1.0000, 1.0000, 1.0000, 1.0000, 1.0000, 1.0000, 1.0000, 1.0000,\n",
      "        1.0000, 1.0000, 1.0000, 1.0000, 1.0000, 1.0000, 1.0000, 1.0000, 1.0000,\n",
      "        1.0000, 1.0000, 1.0000, 1.0000, 1.0000, 1.0000, 1.0000, 1.0000, 1.0000,\n",
      "        1.0000, 1.0000, 1.0000, 1.0000, 1.0000, 1.0000, 1.0000, 1.0000, 1.0000,\n",
      "        1.0000])\n"
     ]
    }
   ],
   "source": [
    "def softmax(x):\n",
    "    return torch.exp(x)/torch.sum(torch.exp(x),dim=1).view(-1,1)\n",
    "\n",
    "# Here, out should be the output of the network in the previous excercise with shape (64,10)\n",
    "probabilities = softmax(out)\n",
    "\n",
    "# Does it have the right shape? Should be (64, 10)\n",
    "print(probabilities.shape)\n",
    "# Does it sum to 1?\n",
    "print(probabilities.sum(dim=1))"
   ]
  },
  {
   "cell_type": "markdown",
   "metadata": {},
   "source": [
    "## Building networks with PyTorch\n",
    "\n",
    "PyTorch provides a module `nn` that makes building networks much simpler. Here I'll show you how to build the same one as above with 784 inputs, 256 hidden units, 10 output units and a softmax output."
   ]
  },
  {
   "cell_type": "code",
   "execution_count": 23,
   "metadata": {},
   "outputs": [],
   "source": [
    "from torch import nn"
   ]
  },
  {
   "cell_type": "code",
   "execution_count": 24,
   "metadata": {},
   "outputs": [],
   "source": [
    "class Network(nn.Module):\n",
    "    def __init__(self):\n",
    "        super().__init__()\n",
    "        \n",
    "        # Inputs to hidden layer linear transformation\n",
    "        self.hidden = nn.Linear(784, 256)\n",
    "        # Output layer, 10 units - one for each digit\n",
    "        self.output = nn.Linear(256, 10)\n",
    "        \n",
    "        # Define sigmoid activation and softmax output \n",
    "        self.sigmoid = nn.Sigmoid()\n",
    "        self.softmax = nn.Softmax(dim=1)\n",
    "        \n",
    "    def forward(self, x):\n",
    "        # Pass the input tensor through each of our operations\n",
    "        x = self.hidden(x)\n",
    "        x = self.sigmoid(x)\n",
    "        x = self.output(x)\n",
    "        x = self.softmax(x)\n",
    "        \n",
    "        return x"
   ]
  },
  {
   "cell_type": "markdown",
   "metadata": {},
   "source": [
    "Let's go through this bit by bit.\n",
    "\n",
    "```python\n",
    "class Network(nn.Module):\n",
    "```\n",
    "\n",
    "Here we're inheriting from `nn.Module`. Combined with `super().__init__()` this creates a class that tracks the architecture and provides a lot of useful methods and attributes. It is mandatory to inherit from `nn.Module` when you're creating a class for your network. The name of the class itself can be anything.\n",
    "\n",
    "```python\n",
    "self.hidden = nn.Linear(784, 256)\n",
    "```\n",
    "\n",
    "This line creates a module for a linear transformation, $x\\mathbf{W} + b$, with 784 inputs and 256 outputs and assigns it to `self.hidden`. The module automatically creates the weight and bias tensors which we'll use in the `forward` method. You can access the weight and bias tensors once the network (`net`) is created with `net.hidden.weight` and `net.hidden.bias`.\n",
    "\n",
    "```python\n",
    "self.output = nn.Linear(256, 10)\n",
    "```\n",
    "\n",
    "Similarly, this creates another linear transformation with 256 inputs and 10 outputs.\n",
    "\n",
    "```python\n",
    "self.sigmoid = nn.Sigmoid()\n",
    "self.softmax = nn.Softmax(dim=1)\n",
    "```\n",
    "\n",
    "Here I defined operations for the sigmoid activation and softmax output. Setting `dim=1` in `nn.Softmax(dim=1)` calculates softmax across the columns.\n",
    "\n",
    "```python\n",
    "def forward(self, x):\n",
    "```\n",
    "\n",
    "PyTorch networks created with `nn.Module` must have a `forward` method defined. It takes in a tensor `x` and passes it through the operations you defined in the `__init__` method.\n",
    "\n",
    "```python\n",
    "x = self.hidden(x)\n",
    "x = self.sigmoid(x)\n",
    "x = self.output(x)\n",
    "x = self.softmax(x)\n",
    "```\n",
    "\n",
    "Here the input tensor `x` is passed through each operation and reassigned to `x`. We can see that the input tensor goes through the hidden layer, then a sigmoid function, then the output layer, and finally the softmax function. It doesn't matter what you name the variables here, as long as the inputs and outputs of the operations match the network architecture you want to build. The order in which you define things in the `__init__` method doesn't matter, but you'll need to sequence the operations correctly in the `forward` method.\n",
    "\n",
    "Now we can create a `Network` object."
   ]
  },
  {
   "cell_type": "code",
   "execution_count": 25,
   "metadata": {},
   "outputs": [
    {
     "data": {
      "text/plain": [
       "Network(\n",
       "  (hidden): Linear(in_features=784, out_features=256, bias=True)\n",
       "  (output): Linear(in_features=256, out_features=10, bias=True)\n",
       "  (sigmoid): Sigmoid()\n",
       "  (softmax): Softmax()\n",
       ")"
      ]
     },
     "execution_count": 25,
     "metadata": {},
     "output_type": "execute_result"
    }
   ],
   "source": [
    "# Create the network and look at it's text representation\n",
    "model = Network()\n",
    "model"
   ]
  },
  {
   "cell_type": "markdown",
   "metadata": {},
   "source": [
    "You can define the network somewhat more concisely and clearly using the `torch.nn.functional` module. This is the most common way you'll see networks defined as many operations are simple element-wise functions. We normally import this module as `F`, `import torch.nn.functional as F`."
   ]
  },
  {
   "cell_type": "code",
   "execution_count": null,
   "metadata": {
    "collapsed": true
   },
   "outputs": [],
   "source": [
    "import torch.nn.functional as F\n",
    "\n",
    "class Network(nn.Module):\n",
    "    def __init__(self):\n",
    "        super().__init__()\n",
    "        # Inputs to hidden layer linear transformation\n",
    "        self.hidden = nn.Linear(784, 256)\n",
    "        # Output layer, 10 units - one for each digit\n",
    "        self.output = nn.Linear(256, 10)\n",
    "        \n",
    "    def forward(self, x):\n",
    "        # Hidden layer with sigmoid activation\n",
    "        x = F.sigmoid(self.hidden(x))\n",
    "        # Output layer with softmax activation\n",
    "        x = F.softmax(self.output(x), dim=1)\n",
    "        \n",
    "        return x"
   ]
  },
  {
   "cell_type": "markdown",
   "metadata": {},
   "source": [
    "### Activation functions\n",
    "\n",
    "So far we've only been looking at the sigmoid activation function, but in general any function can be used as an activation function. The only requirement is that for a network to approximate a non-linear function, the activation functions must be non-linear. Here are a few more examples of common activation functions: Tanh (hyperbolic tangent), and ReLU (rectified linear unit).\n",
    "\n",
    "<img src=\"assets/activation.png\" width=700px>\n",
    "\n",
    "In practice, the ReLU function is used almost exclusively as the activation function for hidden layers."
   ]
  },
  {
   "cell_type": "markdown",
   "metadata": {},
   "source": [
    "### Your Turn to Build a Network\n",
    "\n",
    "<img src=\"assets/mlp_mnist.png\" width=600px>\n",
    "\n",
    "> **Exercise:** Create a network with 784 input units, a hidden layer with 128 units and a ReLU activation, then a hidden layer with 64 units and a ReLU activation, and finally an output layer with a softmax activation as shown above. You can use a ReLU activation with the `nn.ReLU` module or `F.relu` function.\n",
    "\n",
    "It's good practice to name your layers by their type of network, for instance 'fc' to represent a fully-connected layer. As you code your solution, use `fc1`, `fc2`, and `fc3` as your layer names."
   ]
  },
  {
   "cell_type": "code",
   "execution_count": 28,
   "metadata": {
    "scrolled": true
   },
   "outputs": [],
   "source": [
    "## Your solution here\n",
    "class Network(nn.Module):\n",
    "    def __init__(self):\n",
    "        super().__init__()\n",
    "        self.hidden1 = nn.Linear(784,128)\n",
    "        self.hidden2 = nn.Linear(128,64)\n",
    "        self.output = nn.Linear(64,10)\n",
    "        self.softmax = nn.Softmax(dim=1)\n",
    "        self.ReLU = nn.ReLU()\n",
    "        \n",
    "    def forward(self, x):\n",
    "        x = self.hidden1(x)\n",
    "        x = self.ReLU(x)\n",
    "        x = self.hidden2(x)\n",
    "        x = self.ReLU(x)\n",
    "        x = self.output(x)\n",
    "        x = self.softmax(x)\n",
    "        return x"
   ]
  },
  {
   "cell_type": "code",
   "execution_count": 29,
   "metadata": {},
   "outputs": [
    {
     "data": {
      "text/plain": [
       "Network(\n",
       "  (hidden1): Linear(in_features=784, out_features=128, bias=True)\n",
       "  (hidden2): Linear(in_features=128, out_features=64, bias=True)\n",
       "  (output): Linear(in_features=64, out_features=10, bias=True)\n",
       "  (softmax): Softmax()\n",
       "  (ReLU): ReLU()\n",
       ")"
      ]
     },
     "execution_count": 29,
     "metadata": {},
     "output_type": "execute_result"
    }
   ],
   "source": [
    "model = Network()\n",
    "model"
   ]
  },
  {
   "cell_type": "markdown",
   "metadata": {},
   "source": [
    "### Initializing weights and biases\n",
    "\n",
    "The weights and such are automatically initialized for you, but it's possible to customize how they are initialized. The weights and biases are tensors attached to the layer you defined, you can get them with `model.fc1.weight` for instance."
   ]
  },
  {
   "cell_type": "code",
   "execution_count": 46,
   "metadata": {},
   "outputs": [
    {
     "name": "stdout",
     "output_type": "stream",
     "text": [
      "Parameter containing:\n",
      "tensor([[-0.0067,  0.0100,  0.0050,  ..., -0.0171,  0.0091,  0.0036],\n",
      "        [-0.0145, -0.0070, -0.0275,  ...,  0.0132, -0.0144,  0.0015],\n",
      "        [ 0.0083,  0.0129, -0.0117,  ..., -0.0076,  0.0207, -0.0223],\n",
      "        ...,\n",
      "        [ 0.0075,  0.0116,  0.0156,  ..., -0.0038, -0.0052,  0.0049],\n",
      "        [-0.0145,  0.0062, -0.0045,  ..., -0.0080,  0.0040,  0.0067],\n",
      "        [ 0.0098,  0.0109, -0.0028,  ..., -0.0140, -0.0119, -0.0116]],\n",
      "       requires_grad=True)\n",
      "Parameter containing:\n",
      "tensor([0., 0., 0., 0., 0., 0., 0., 0., 0., 0., 0., 0., 0., 0., 0., 0., 0., 0.,\n",
      "        0., 0., 0., 0., 0., 0., 0., 0., 0., 0., 0., 0., 0., 0., 0., 0., 0., 0.,\n",
      "        0., 0., 0., 0., 0., 0., 0., 0., 0., 0., 0., 0., 0., 0., 0., 0., 0., 0.,\n",
      "        0., 0., 0., 0., 0., 0., 0., 0., 0., 0., 0., 0., 0., 0., 0., 0., 0., 0.,\n",
      "        0., 0., 0., 0., 0., 0., 0., 0., 0., 0., 0., 0., 0., 0., 0., 0., 0., 0.,\n",
      "        0., 0., 0., 0., 0., 0., 0., 0., 0., 0., 0., 0., 0., 0., 0., 0., 0., 0.,\n",
      "        0., 0., 0., 0., 0., 0., 0., 0., 0., 0., 0., 0., 0., 0., 0., 0., 0., 0.,\n",
      "        0., 0.], requires_grad=True)\n"
     ]
    }
   ],
   "source": [
    "print(model.hidden1.weight)\n",
    "print(model.hidden1.bias)"
   ]
  },
  {
   "cell_type": "markdown",
   "metadata": {},
   "source": [
    "For custom initialization, we want to modify these tensors in place. These are actually autograd *Variables*, so we need to get back the actual tensors with `model.fc1.weight.data`. Once we have the tensors, we can fill them with zeros (for biases) or random normal values."
   ]
  },
  {
   "cell_type": "code",
   "execution_count": 33,
   "metadata": {},
   "outputs": [
    {
     "data": {
      "text/plain": [
       "tensor([0., 0., 0., 0., 0., 0., 0., 0., 0., 0., 0., 0., 0., 0., 0., 0., 0., 0.,\n",
       "        0., 0., 0., 0., 0., 0., 0., 0., 0., 0., 0., 0., 0., 0., 0., 0., 0., 0.,\n",
       "        0., 0., 0., 0., 0., 0., 0., 0., 0., 0., 0., 0., 0., 0., 0., 0., 0., 0.,\n",
       "        0., 0., 0., 0., 0., 0., 0., 0., 0., 0., 0., 0., 0., 0., 0., 0., 0., 0.,\n",
       "        0., 0., 0., 0., 0., 0., 0., 0., 0., 0., 0., 0., 0., 0., 0., 0., 0., 0.,\n",
       "        0., 0., 0., 0., 0., 0., 0., 0., 0., 0., 0., 0., 0., 0., 0., 0., 0., 0.,\n",
       "        0., 0., 0., 0., 0., 0., 0., 0., 0., 0., 0., 0., 0., 0., 0., 0., 0., 0.,\n",
       "        0., 0.])"
      ]
     },
     "execution_count": 33,
     "metadata": {},
     "output_type": "execute_result"
    }
   ],
   "source": [
    "# Set biases to all zeros\n",
    "model.hidden1.bias.data.fill_(0)"
   ]
  },
  {
   "cell_type": "code",
   "execution_count": 45,
   "metadata": {},
   "outputs": [
    {
     "data": {
      "text/plain": [
       "tensor([[-0.0067,  0.0100,  0.0050,  ..., -0.0171,  0.0091,  0.0036],\n",
       "        [-0.0145, -0.0070, -0.0275,  ...,  0.0132, -0.0144,  0.0015],\n",
       "        [ 0.0083,  0.0129, -0.0117,  ..., -0.0076,  0.0207, -0.0223],\n",
       "        ...,\n",
       "        [ 0.0075,  0.0116,  0.0156,  ..., -0.0038, -0.0052,  0.0049],\n",
       "        [-0.0145,  0.0062, -0.0045,  ..., -0.0080,  0.0040,  0.0067],\n",
       "        [ 0.0098,  0.0109, -0.0028,  ..., -0.0140, -0.0119, -0.0116]])"
      ]
     },
     "execution_count": 45,
     "metadata": {},
     "output_type": "execute_result"
    }
   ],
   "source": [
    "# sample from random normal with standard dev = 0.01\n",
    "model.hidden1.weight.data.normal_(std=0.01)"
   ]
  },
  {
   "cell_type": "markdown",
   "metadata": {},
   "source": [
    "### Forward pass\n",
    "\n",
    "Now that we have a network, let's see what happens when we pass in an image."
   ]
  },
  {
   "cell_type": "code",
   "execution_count": 73,
   "metadata": {},
   "outputs": [
    {
     "name": "stdout",
     "output_type": "stream",
     "text": [
      "torch.Size([1, 784])\n",
      "tensor([[0.0939, 0.1038, 0.0922, 0.1005, 0.1014, 0.1041, 0.0924, 0.0920, 0.1126,\n",
      "         0.1071]], grad_fn=<SoftmaxBackward>)\n"
     ]
    },
    {
     "data": {
      "image/png": "[encoded data removed]",
      "text/plain": [
       "<Figure size 432x648 with 2 Axes>"
      ]
     },
     "metadata": {
      "image/png": {
       "height": 224,
       "width": 423
      },
      "needs_background": "light"
     },
     "output_type": "display_data"
    }
   ],
   "source": [
    "# Grab some data \n",
    "dataiter = iter(trainloader)\n",
    "images, labels = dataiter.next()\n",
    "\n",
    "# Resize images into a 1D vector, new shape is (batch size, color channels, image pixels) \n",
    "images.resize_(64, 1, 784)\n",
    "# or images.resize_(images.shape[0], 1, 784) to automatically get batch size\n",
    "\n",
    "# Forward pass through the network\n",
    "img_idx = 0\n",
    "ps = model.forward(images[0])\n",
    "\n",
    "print(images[0].size())\n",
    "print(ps)\n",
    "\n",
    "img = images[img_idx]\n",
    "helper.view_classify(img.view(1, 28, 28), ps)"
   ]
  },
  {
   "cell_type": "markdown",
   "metadata": {},
   "source": [
    "As you can see above, our network has basically no idea what this digit is. It's because we haven't trained it yet, all the weights are random!\n",
    "\n",
    "### Using `nn.Sequential`\n",
    "\n",
    "PyTorch provides a convenient way to build networks like this where a tensor is passed sequentially through operations, `nn.Sequential` ([documentation](https://pytorch.org/docs/master/nn.html#torch.nn.Sequential)). Using this to build the equivalent network:"
   ]
  },
  {
   "cell_type": "code",
   "execution_count": 74,
   "metadata": {},
   "outputs": [
    {
     "name": "stdout",
     "output_type": "stream",
     "text": [
      "Sequential(\n",
      "  (0): Linear(in_features=784, out_features=128, bias=True)\n",
      "  (1): ReLU()\n",
      "  (2): Linear(in_features=128, out_features=64, bias=True)\n",
      "  (3): ReLU()\n",
      "  (4): Linear(in_features=64, out_features=10, bias=True)\n",
      "  (5): Softmax()\n",
      ")\n"
     ]
    },
    {
     "data": {
      "image/png": "[encoded data removed]",
      "text/plain": [
       "<Figure size 432x648 with 2 Axes>"
      ]
     },
     "metadata": {
      "image/png": {
       "height": 224,
       "width": 423
      },
      "needs_background": "light"
     },
     "output_type": "display_data"
    }
   ],
   "source": [
    "# Hyperparameters for our network\n",
    "input_size = 784\n",
    "hidden_sizes = [128, 64]\n",
    "output_size = 10\n",
    "\n",
    "# Build a feed-forward network\n",
    "model = nn.Sequential(nn.Linear(input_size, hidden_sizes[0]),\n",
    "                      nn.ReLU(),\n",
    "                      nn.Linear(hidden_sizes[0], hidden_sizes[1]),\n",
    "                      nn.ReLU(),\n",
    "                      nn.Linear(hidden_sizes[1], output_size),\n",
    "                      nn.Softmax(dim=1))\n",
    "print(model)\n",
    "\n",
    "# Forward pass through the network and display output\n",
    "images, labels = next(iter(trainloader))\n",
    "images.resize_(images.shape[0], 1, 784)\n",
    "ps = model.forward(images[0,:])\n",
    "helper.view_classify(images[0].view(1, 28, 28), ps)"
   ]
  },
  {
   "cell_type": "markdown",
   "metadata": {},
   "source": [
    "Here our model is the same as before: 784 input units, a hidden layer with 128 units, ReLU activation, 64 unit hidden layer, another ReLU, then the output layer with 10 units, and the softmax output.\n",
    "\n",
    "The operations are available by passing in the appropriate index. For example, if you want to get first Linear operation and look at the weights, you'd use `model[0]`."
   ]
  },
  {
   "cell_type": "code",
   "execution_count": 75,
   "metadata": {},
   "outputs": [
    {
     "name": "stdout",
     "output_type": "stream",
     "text": [
      "Linear(in_features=784, out_features=128, bias=True)\n"
     ]
    },
    {
     "data": {
      "text/plain": [
       "Parameter containing:\n",
       "tensor([[-0.0314,  0.0250,  0.0040,  ..., -0.0161, -0.0164,  0.0022],\n",
       "        [ 0.0141, -0.0096,  0.0199,  ..., -0.0002,  0.0284, -0.0133],\n",
       "        [ 0.0243, -0.0101,  0.0231,  ...,  0.0033,  0.0119,  0.0262],\n",
       "        ...,\n",
       "        [ 0.0054,  0.0254, -0.0270,  ..., -0.0089, -0.0215,  0.0245],\n",
       "        [-0.0262, -0.0353, -0.0070,  ...,  0.0166, -0.0150, -0.0270],\n",
       "        [-0.0296,  0.0012,  0.0323,  ..., -0.0208,  0.0295,  0.0198]],\n",
       "       requires_grad=True)"
      ]
     },
     "execution_count": 75,
     "metadata": {},
     "output_type": "execute_result"
    }
   ],
   "source": [
    "print(model[0])\n",
    "model[0].weight"
   ]
  },
  {
   "cell_type": "markdown",
   "metadata": {},
   "source": [
    "You can also pass in an `OrderedDict` to name the individual layers and operations, instead of using incremental integers. Note that dictionary keys must be unique, so _each operation must have a different name_."
   ]
  },
  {
   "cell_type": "code",
   "execution_count": 76,
   "metadata": {},
   "outputs": [
    {
     "data": {
      "text/plain": [
       "Sequential(\n",
       "  (fc1): Linear(in_features=784, out_features=128, bias=True)\n",
       "  (relu1): ReLU()\n",
       "  (fc2): Linear(in_features=128, out_features=64, bias=True)\n",
       "  (relu2): ReLU()\n",
       "  (output): Linear(in_features=64, out_features=10, bias=True)\n",
       "  (softmax): Softmax()\n",
       ")"
      ]
     },
     "execution_count": 76,
     "metadata": {},
     "output_type": "execute_result"
    }
   ],
   "source": [
    "from collections import OrderedDict\n",
    "model = nn.Sequential(OrderedDict([\n",
    "                      ('fc1', nn.Linear(input_size, hidden_sizes[0])),\n",
    "                      ('relu1', nn.ReLU()),\n",
    "                      ('fc2', nn.Linear(hidden_sizes[0], hidden_sizes[1])),\n",
    "                      ('relu2', nn.ReLU()),\n",
    "                      ('output', nn.Linear(hidden_sizes[1], output_size)),\n",
    "                      ('softmax', nn.Softmax(dim=1))]))\n",
    "model"
   ]
  },
  {
   "cell_type": "markdown",
   "metadata": {},
   "source": [
    "Now you can access layers either by integer or the name"
   ]
  },
  {
   "cell_type": "code",
   "execution_count": 77,
   "metadata": {},
   "outputs": [
    {
     "name": "stdout",
     "output_type": "stream",
     "text": [
      "Linear(in_features=784, out_features=128, bias=True)\n",
      "Linear(in_features=784, out_features=128, bias=True)\n"
     ]
    }
   ],
   "source": [
    "print(model[0])\n",
    "print(model.fc1)"
   ]
  },
  {
   "cell_type": "markdown",
   "metadata": {},
   "source": [
    "In the next notebook, we'll see how we can train a neural network to accuractly predict the numbers appearing in the MNIST images."
   ]
  }
 ],
 "metadata": {
  "kernelspec": {
   "display_name": "Python 3",
   "language": "python",
   "name": "python3"
  },
  "language_info": {
   "codemirror_mode": {
    "name": "ipython",
    "version": 3
   },
   "file_extension": ".py",
   "mimetype": "text/x-python",
   "name": "python",
   "nbconvert_exporter": "python",
   "pygments_lexer": "ipython3",
   "version": "3.7.0"
  }
 },
 "nbformat": 4,
 "nbformat_minor": 2
}
