{
 "cells": [
  {
   "cell_type": "markdown",
   "metadata": {},
   "source": [
    "# Neural networks with PyTorch\n",
    "\n",
    "Deep learning networks tend to be massive with dozens or hundreds of layers, that's where the term \"deep\" comes from. You can build one of these deep networks using only weight matrices as we did in the previous notebook, but in general it's very cumbersome and difficult to implement. PyTorch has a nice module `nn` that provides a nice way to efficiently build large neural networks."
   ]
  },
  {
   "cell_type": "code",
   "execution_count": 5,
   "metadata": {},
   "outputs": [],
   "source": [
    "# Import necessary packages\n",
    "\n",
    "%matplotlib inline\n",
    "%config InlineBackend.figure_format = 'retina'\n",
    "\n",
    "import numpy as np\n",
    "import torch\n",
    "\n",
    "import helper\n",
    "\n",
    "import matplotlib.pyplot as plt"
   ]
  },
  {
   "cell_type": "markdown",
   "metadata": {},
   "source": [
    "\n",
    "Now we're going to build a larger network that can solve a (formerly) difficult problem, identifying text in an image. Here we'll use the MNIST dataset which consists of greyscale handwritten digits. Each image is 28x28 pixels, you can see a sample below\n",
    "\n",
    "<img src='assets/mnist.png'>\n",
    "\n",
    "Our goal is to build a neural network that can take one of these images and predict the digit in the image.\n",
    "\n",
    "First up, we need to get our dataset. This is provided through the `torchvision` package. The code below will download the MNIST dataset, then create training and test datasets for us. Don't worry too much about the details here, you'll learn more about this later."
   ]
  },
  {
   "cell_type": "code",
   "execution_count": 6,
   "metadata": {},
   "outputs": [
    {
     "name": "stdout",
     "output_type": "stream",
     "text": [
      "Downloading http://yann.lecun.com/exdb/mnist/train-images-idx3-ubyte.gz to C:\\Users\\Sumanyu/.pytorch/MNIST_data/MNIST\\raw\\train-images-idx3-ubyte.gz\n"
     ]
    },
    {
     "name": "stderr",
     "output_type": "stream",
     "text": [
      "100%|██████████████████████████████████████████████████████████████████▉| 9904128/9912422 [00:14<00:00, 2944994.37it/s]"
     ]
    },
    {
     "name": "stdout",
     "output_type": "stream",
     "text": [
      "Extracting C:\\Users\\Sumanyu/.pytorch/MNIST_data/MNIST\\raw\\train-images-idx3-ubyte.gz\n",
      "Downloading http://yann.lecun.com/exdb/mnist/train-labels-idx1-ubyte.gz to C:\\Users\\Sumanyu/.pytorch/MNIST_data/MNIST\\raw\\train-labels-idx1-ubyte.gz\n"
     ]
    },
    {
     "name": "stderr",
     "output_type": "stream",
     "text": [
      "\n",
      "0it [00:00, ?it/s]\n",
      "  0%|                                                                                        | 0/28881 [00:00<?, ?it/s]\n",
      " 57%|█████████████████████████████████████████▍                               | 16384/28881 [00:01<00:00, 39441.68it/s]\n",
      " 85%|██████████████████████████████████████████████████████████████           | 24576/28881 [00:01<00:00, 34588.64it/s]\n",
      "32768it [00:01, 23801.69it/s]                                                                                          "
     ]
    },
    {
     "name": "stdout",
     "output_type": "stream",
     "text": [
      "Extracting C:\\Users\\Sumanyu/.pytorch/MNIST_data/MNIST\\raw\\train-labels-idx1-ubyte.gz\n",
      "Downloading http://yann.lecun.com/exdb/mnist/t10k-images-idx3-ubyte.gz to C:\\Users\\Sumanyu/.pytorch/MNIST_data/MNIST\\raw\\t10k-images-idx3-ubyte.gz\n"
     ]
    },
    {
     "name": "stderr",
     "output_type": "stream",
     "text": [
      "\n",
      "0it [00:00, ?it/s]\n",
      "  0%|                                                                                      | 0/1648877 [00:00<?, ?it/s]\n",
      "  1%|▋                                                                      | 16384/1648877 [00:01<00:50, 32513.08it/s]\n",
      "  2%|█▍                                                                     | 32768/1648877 [00:01<00:43, 37293.62it/s]\n",
      "  3%|██▍                                                                    | 57344/1648877 [00:01<00:35, 45034.86it/s]\n",
      "  4%|███▏                                                                   | 73728/1648877 [00:01<00:31, 49336.74it/s]\n",
      "  5%|███▌                                                                   | 81920/1648877 [00:02<00:33, 46726.88it/s]\n",
      "  6%|████▏                                                                  | 98304/1648877 [00:02<00:32, 48453.84it/s]\n",
      "  7%|████▊                                                                 | 114688/1648877 [00:02<00:24, 61433.13it/s]\n",
      "  8%|█████▌                                                                | 131072/1648877 [00:02<00:26, 57834.00it/s]\n",
      "  9%|██████▎                                                               | 147456/1648877 [00:02<00:21, 69236.25it/s]\n",
      " 10%|██████▉                                                               | 163840/1648877 [00:03<00:22, 64878.83it/s]\n",
      " 11%|███████▋                                                              | 180224/1648877 [00:03<00:21, 69850.70it/s]\n",
      " 12%|████████▎                                                             | 196608/1648877 [00:03<00:20, 72296.64it/s]\n",
      " 13%|█████████                                                             | 212992/1648877 [00:03<00:21, 65388.55it/s]\n",
      " 14%|█████████▋                                                            | 229376/1648877 [00:04<00:18, 78387.97it/s]\n",
      " 15%|██████████▍                                                           | 245760/1648877 [00:04<00:23, 60302.95it/s]\n",
      " 17%|████████████▏                                                         | 286720/1648877 [00:04<00:18, 72970.60it/s]\n",
      " 18%|████████████▊                                                         | 303104/1648877 [00:04<00:17, 74868.29it/s]\n",
      " 20%|█████████████▉                                                        | 327680/1648877 [00:05<00:15, 83154.79it/s]\n",
      " 21%|██████████████▌                                                       | 344064/1648877 [00:05<00:15, 82769.96it/s]\n",
      " 22%|███████████████▋                                                      | 368640/1648877 [00:05<00:15, 82957.04it/s]\n",
      " 24%|████████████████▍                                                    | 393216/1648877 [00:05<00:12, 100768.91it/s]\n",
      " 25%|█████████████████▋                                                    | 417792/1648877 [00:06<00:13, 93087.77it/s]\n",
      " 27%|██████████████████▊                                                  | 450560/1648877 [00:06<00:11, 107410.73it/s]\n",
      " 29%|████████████████████▏                                                | 483328/1648877 [00:06<00:09, 119421.85it/s]\n",
      " 32%|█████████████████████▉                                               | 524288/1648877 [00:06<00:08, 135926.68it/s]\n",
      " 35%|███████████████████████▉                                             | 573440/1648877 [00:06<00:06, 156049.70it/s]\n",
      " 38%|██████████████████████████                                           | 622592/1648877 [00:07<00:05, 180729.05it/s]\n",
      " 42%|████████████████████████████▊                                        | 688128/1648877 [00:07<00:05, 185510.37it/s]\n",
      " 45%|███████████████████████████████▏                                     | 745472/1648877 [00:07<00:03, 231871.11it/s]\n",
      " 50%|██████████████████████████████████▎                                  | 819200/1648877 [00:07<00:03, 232989.26it/s]\n",
      " 54%|█████████████████████████████████████▎                               | 892928/1648877 [00:07<00:02, 284517.65it/s]\n",
      " 60%|█████████████████████████████████████████▍                           | 991232/1648877 [00:08<00:02, 302700.47it/s]\n",
      " 66%|████████████████████████████████████████████▉                       | 1089536/1648877 [00:08<00:01, 335940.28it/s]\n",
      " 73%|█████████████████████████████████████████████████▋                  | 1204224/1648877 [00:08<00:01, 397811.31it/s]\n",
      " 80%|██████████████████████████████████████████████████████▋             | 1327104/1648877 [00:08<00:00, 435218.74it/s]\n",
      " 88%|████████████████████████████████████████████████████████████▏       | 1458176/1648877 [00:09<00:00, 467596.61it/s]\n",
      " 95%|████████████████████████████████████████████████████████████████▌   | 1564672/1648877 [00:09<00:00, 558629.68it/s]\n",
      " 99%|███████████████████████████████████████████████████████████████████▌| 1638400/1648877 [00:09<00:00, 584002.38it/s]"
     ]
    },
    {
     "name": "stdout",
     "output_type": "stream",
     "text": [
      "Extracting C:\\Users\\Sumanyu/.pytorch/MNIST_data/MNIST\\raw\\t10k-images-idx3-ubyte.gz\n",
      "Downloading http://yann.lecun.com/exdb/mnist/t10k-labels-idx1-ubyte.gz to C:\\Users\\Sumanyu/.pytorch/MNIST_data/MNIST\\raw\\t10k-labels-idx1-ubyte.gz\n"
     ]
    },
    {
     "name": "stderr",
     "output_type": "stream",
     "text": [
      "\n",
      "\n",
      "0it [00:00, ?it/s]\n",
      "\n",
      "  0%|                                                                                         | 0/4542 [00:00<?, ?it/s]\n",
      "\n",
      "8192it [00:00, 16203.63it/s]                                                                                           "
     ]
    },
    {
     "name": "stdout",
     "output_type": "stream",
     "text": [
      "Extracting C:\\Users\\Sumanyu/.pytorch/MNIST_data/MNIST\\raw\\t10k-labels-idx1-ubyte.gz\n",
      "Processing...\n",
      "Done!\n"
     ]
    },
    {
     "name": "stderr",
     "output_type": "stream",
     "text": [
      "9920512it [00:30, 2944994.37it/s]                                                                                      \n",
      "1654784it [00:23, 584002.38it/s]                                                                                       "
     ]
    }
   ],
   "source": [
    "### Run this cell\n",
    "\n",
    "from torchvision import datasets, transforms\n",
    "\n",
    "# Define a transform to normalize the data\n",
    "transform = transforms.Compose([transforms.ToTensor(),\n",
    "                              transforms.Normalize((0.5,), (0.5,)),\n",
    "                              ])\n",
    "\n",
    "# Download and load the training data\n",
    "trainset = datasets.MNIST('~/.pytorch/MNIST_data/', download=True, train=True, transform=transform)\n",
    "trainloader = torch.utils.data.DataLoader(trainset, batch_size=64, shuffle=True)"
   ]
  },
  {
   "cell_type": "markdown",
   "metadata": {},
   "source": [
    "We have the training data loaded into `trainloader` and we make that an iterator with `iter(trainloader)`. Later, we'll use this to loop through the dataset for training, like\n",
    "\n",
    "```python\n",
    "for image, label in trainloader:\n",
    "    ## do things with images and labels\n",
    "```\n",
    "\n",
    "You'll notice I created the `trainloader` with a batch size of 64, and `shuffle=True`. The batch size is the number of images we get in one iteration from the data loader and pass through our network, often called a *batch*. And `shuffle=True` tells it to shuffle the dataset every time we start going through the data loader again. But here I'm just grabbing the first batch so we can check out the data. We can see below that `images` is just a tensor with size `(64, 1, 28, 28)`. So, 64 images per batch, 1 color channel, and 28x28 images."
   ]
  },
  {
   "cell_type": "code",
   "execution_count": 7,
   "metadata": {},
   "outputs": [
    {
     "name": "stdout",
     "output_type": "stream",
     "text": [
      "<class 'torch.Tensor'>\n",
      "torch.Size([64, 1, 28, 28])\n",
      "torch.Size([64])\n"
     ]
    }
   ],
   "source": [
    "dataiter = iter(trainloader)\n",
    "images, labels = dataiter.next()\n",
    "print(type(images))\n",
    "print(images.shape)\n",
    "print(labels.shape)"
   ]
  },
  {
   "cell_type": "markdown",
   "metadata": {},
   "source": [
    "This is what one of the images looks like. "
   ]
  },
  {
   "cell_type": "code",
   "execution_count": 8,
   "metadata": {},
   "outputs": [
    {
     "data": {
      "image/png": "[encoded data removed]",
      "text/plain": [
       "<Figure size 432x288 with 1 Axes>"
      ]
     },
     "metadata": {
      "image/png": {
       "height": 250,
       "width": 253
      },
      "needs_background": "light"
     },
     "output_type": "display_data"
    }
   ],
   "source": [
    "plt.imshow(images[60].numpy().squeeze(), cmap='Greys_r');"
   ]
  },
  {
   "cell_type": "markdown",
   "metadata": {},
   "source": [
    "First, let's try to build a simple network for this dataset using weight matrices and matrix multiplications. Then, we'll see how to do it using PyTorch's `nn` module which provides a much more convenient and powerful method for defining network architectures.\n",
    "\n",
    "The networks you've seen so far are called *fully-connected* or *dense* networks. Each unit in one layer is connected to each unit in the next layer. In fully-connected networks, the input to each layer must be a one-dimensional vector (which can be stacked into a 2D tensor as a batch of multiple examples). However, our images are 28x28 2D tensors, so we need to convert them into 1D vectors. Thinking about sizes, we need to convert the batch of images with shape `(64, 1, 28, 28)` to a have a shape of `(64, 784)`, 784 is 28 times 28. This is typically called *flattening*, we flattened the 2D images into 1D vectors.\n",
    "\n",
    "Previously you built a network with one output unit. Here we need 10 output units, one for each digit. We want our network to predict the digit shown in an image, so what we'll do is calculate probabilities that the image is of any one digit or class. This ends up being a discrete probability distribution over the classes (digits) that tells us the most likely class for the image. That means we need 10 output units for the 10 classes (digits). We'll see how to convert the network output into a probability distribution next.\n",
    "\n",
    "> **Exercise:** Flatten the batch of images `images`. Then build a multi-layer network with 784 input units, 256 hidden units, and 10 output units using random tensors for the weights and biases. For now, use a sigmoid activation for the hidden layer. Leave the output layer without an activation, we'll add one that gives us a probability distribution next."
   ]
  },
  {
   "cell_type": "code",
   "execution_count": 9,
   "metadata": {},
   "outputs": [],
   "source": [
    "def activation(x):\n",
    "    return 1/(1 + torch.exp(-x))"
   ]
  },
  {
   "cell_type": "code",
   "execution_count": 31,
   "metadata": {},
   "outputs": [
    {
     "name": "stdout",
     "output_type": "stream",
     "text": [
      "tensor([1.0000e+00, 9.9998e-01, 9.9956e-01, 9.4138e-09, 2.5940e-13, 4.4614e-07,\n",
      "        5.7839e-12, 9.9890e-01, 1.0000e+00, 8.5123e-09, 9.9865e-01, 1.4498e-12,\n",
      "        1.0000e+00, 2.6626e-08, 9.8561e-01, 4.6611e-24, 2.5837e-06, 1.0000e+00,\n",
      "        2.7683e-03, 9.9772e-01, 9.3495e-01, 1.0000e+00, 1.0000e+00, 1.4092e-12,\n",
      "        6.3256e-01, 1.0000e+00, 1.0800e-07, 1.0000e+00, 1.0000e+00, 9.9999e-01,\n",
      "        6.8780e-02, 1.0000e+00, 5.4441e-09, 1.0000e+00, 1.0000e+00, 1.0000e+00,\n",
      "        1.4481e-14, 3.4925e-13, 1.0000e+00, 6.6405e-02, 1.0000e+00, 1.0000e+00,\n",
      "        5.7605e-25, 1.0000e+00, 1.0000e+00, 6.0241e-07, 3.1832e-08, 9.9800e-01,\n",
      "        2.1815e-08, 1.0000e+00, 2.9492e-20, 9.7689e-01, 1.0000e+00, 8.1759e-10,\n",
      "        9.9919e-01, 1.1923e-15, 9.6618e-01, 2.6358e-08, 4.4341e-28, 3.2186e-09,\n",
      "        2.5054e-05, 9.9998e-01, 4.9678e-06, 1.1487e-03, 1.4472e-15, 7.7907e-11,\n",
      "        3.4344e-04, 9.9387e-01, 6.0000e-32, 9.9996e-01, 2.2649e-11, 9.9925e-01,\n",
      "        1.0000e+00, 3.4819e-17, 9.7979e-01, 3.8272e-05, 8.7170e-01, 9.9997e-01,\n",
      "        1.0000e+00, 8.2790e-01, 2.8064e-18, 2.9545e-04, 1.9885e-06, 9.8748e-01,\n",
      "        1.0000e+00, 9.9998e-01, 1.0000e+00, 1.0000e+00, 1.0000e+00, 9.3566e-01,\n",
      "        1.5298e-16, 1.0051e-02, 2.3609e-19, 1.3111e-02, 1.0000e+00, 5.0830e-04,\n",
      "        5.2228e-19, 1.0000e+00, 1.0000e+00, 1.0000e+00, 4.3199e-06, 1.0000e+00,\n",
      "        9.9225e-02, 6.7836e-01, 1.0000e+00, 1.0000e+00, 1.0000e+00, 8.0978e-24,\n",
      "        9.8668e-01, 1.4529e-12, 4.9786e-09, 1.1649e-04, 8.1958e-05, 1.0000e+00,\n",
      "        1.0000e+00, 6.8072e-10, 9.9981e-01, 1.0000e+00, 1.0000e+00, 2.9200e-04,\n",
      "        9.9988e-01, 1.0000e+00, 3.1729e-04, 9.1769e-07, 9.9787e-01, 9.8315e-01,\n",
      "        1.0000e+00, 7.1099e-01, 1.0000e+00, 1.0587e-01, 1.0429e-13, 9.3192e-01,\n",
      "        1.0000e+00, 1.0000e+00, 9.8036e-01, 7.0729e-17, 1.9570e-09, 9.9999e-01,\n",
      "        1.0000e+00, 1.0000e+00, 1.5166e-07, 2.1915e-17, 9.9998e-01, 8.2841e-10,\n",
      "        9.9904e-01, 9.9989e-01, 9.3390e-28, 9.9994e-01, 1.0354e-23, 1.3008e-02,\n",
      "        1.0202e-20, 7.0330e-05, 7.0350e-07, 1.0000e+00, 1.5161e-01, 4.5725e-08,\n",
      "        9.9994e-01, 9.9427e-01, 1.0000e+00, 1.0000e+00, 9.9927e-01, 1.0000e+00,\n",
      "        9.9999e-01, 4.5443e-06, 9.8767e-01, 1.0000e+00, 1.0000e+00, 9.9998e-01,\n",
      "        6.1761e-01, 5.6975e-09, 3.7296e-12, 9.3266e-01, 1.0000e+00, 1.3461e-16,\n",
      "        1.0000e+00, 1.0000e+00, 8.5061e-10, 1.0000e+00, 3.6776e-17, 1.8133e-18,\n",
      "        1.0000e+00, 1.0000e+00, 1.0000e+00, 7.6986e-14, 9.0621e-17, 4.4392e-01,\n",
      "        9.8358e-12, 9.9999e-01, 1.0000e+00, 1.0480e-15, 4.0521e-07, 7.3251e-01,\n",
      "        1.0000e+00, 3.5191e-07, 9.9991e-01, 1.4449e-09, 6.9084e-01, 1.0000e+00,\n",
      "        1.0000e+00, 3.1599e-15, 1.0000e+00, 1.0000e+00, 1.0000e+00, 1.0000e+00,\n",
      "        1.4961e-05, 2.9707e-03, 2.5799e-06, 4.8035e-07, 9.9994e-01, 1.0000e+00,\n",
      "        9.9164e-01, 1.0000e+00, 1.0000e+00, 3.4910e-11, 1.0000e+00, 9.2398e-25,\n",
      "        8.3145e-11, 9.1017e-09, 7.7149e-04, 1.1766e-25, 1.0000e+00, 1.0000e+00,\n",
      "        1.1537e-03, 1.4665e-11, 1.0000e+00, 1.0000e+00, 1.2298e-06, 1.0000e+00,\n",
      "        4.4538e-11, 1.0000e+00, 1.0000e+00, 1.0000e+00, 1.0000e+00, 9.9996e-01,\n",
      "        7.0488e-10, 9.9945e-01, 9.9999e-01, 1.0000e+00, 5.9441e-11, 9.9999e-01,\n",
      "        1.5182e-01, 9.9990e-01, 3.3006e-02, 1.5356e-04, 7.3645e-04, 5.1129e-03,\n",
      "        5.9791e-06, 3.1131e-06, 3.0250e-06, 2.1989e-02, 1.0000e+00, 8.5246e-18,\n",
      "        7.3819e-05, 9.8841e-01, 8.5871e-02, 1.0000e+00])\n"
     ]
    },
    {
     "data": {
      "text/plain": [
       "torch.Size([64, 10])"
      ]
     },
     "execution_count": 31,
     "metadata": {},
     "output_type": "execute_result"
    }
   ],
   "source": [
    "## Your solution\n",
    "\n",
    "inputs = images.view(images.shape[0],-1)\n",
    "\n",
    "w1 = torch.randn(784,256)\n",
    "w2 = torch.rand(256,10)\n",
    "\n",
    "b1 = torch.randn(256)\n",
    "b2 = torch.randn(10)\n",
    "\n",
    "h = activation(torch.mm(inputs, w1) + b1)\n",
    "\n",
    "out = torch.mm(h, w2) + b2\n",
    "\n",
    "out.shape\n",
    "\n",
    "# output of your network, should have shape (64,10)"
   ]
  },
  {
   "cell_type": "markdown",
   "metadata": {},
   "source": [
    "Now we have 10 outputs for our network. We want to pass in an image to our network and get out a probability distribution over the classes that tells us the likely class(es) the image belongs to. Something that looks like this:\n",
    "<img src='assets/image_distribution.png' width=500px>\n",
    "\n",
    "Here we see that the probability for each class is roughly the same. This is representing an untrained network, it hasn't seen any data yet so it just returns a uniform distribution with equal probabilities for each class.\n",
    "\n",
    "To calculate this probability distribution, we often use the [**softmax** function](https://en.wikipedia.org/wiki/Softmax_function). Mathematically this looks like\n",
    "\n",
    "$$\n",
    "\\Large \\sigma(x_i) = \\cfrac{e^{x_i}}{\\sum_k^K{e^{x_k}}}\n",
    "$$\n",
    "\n",
    "What this does is squish each input $x_i$ between 0 and 1 and normalizes the values to give you a proper probability distribution where the probabilites sum up to one.\n",
    "\n",
    "> **Exercise:** Implement a function `softmax` that performs the softmax calculation and returns probability distributions for each example in the batch. Note that you'll need to pay attention to the shapes when doing this. If you have a tensor `a` with shape `(64, 10)` and a tensor `b` with shape `(64,)`, doing `a/b` will give you an error because PyTorch will try to do the division across the columns (called broadcasting) but you'll get a size mismatch. The way to think about this is for each of the 64 examples, you only want to divide by one value, the sum in the denominator. So you need `b` to have a shape of `(64, 1)`. This way PyTorch will divide the 10 values in each row of `a` by the one value in each row of `b`. Pay attention to how you take the sum as well. You'll need to define the `dim` keyword in `torch.sum`. Setting `dim=0` takes the sum across the rows while `dim=1` takes the sum across the columns."
   ]
  },
  {
   "cell_type": "code",
   "execution_count": 26,
   "metadata": {},
   "outputs": [
    {
     "name": "stdout",
     "output_type": "stream",
     "text": [
      "torch.Size([64, 10])\n",
      "tensor([1.0000, 1.0000, 1.0000, 1.0000, 1.0000, 1.0000, 1.0000, 1.0000, 1.0000,\n",
      "        1.0000, 1.0000, 1.0000, 1.0000, 1.0000, 1.0000, 1.0000, 1.0000, 1.0000,\n",
      "        1.0000, 1.0000, 1.0000, 1.0000, 1.0000, 1.0000, 1.0000, 1.0000, 1.0000,\n",
      "        1.0000, 1.0000, 1.0000, 1.0000, 1.0000, 1.0000, 1.0000, 1.0000, 1.0000,\n",
      "        1.0000, 1.0000, 1.0000, 1.0000, 1.0000, 1.0000, 1.0000, 1.0000, 1.0000,\n",
      "        1.0000, 1.0000, 1.0000, 1.0000, 1.0000, 1.0000, 1.0000, 1.0000, 1.0000,\n",
      "        1.0000, 1.0000, 1.0000, 1.0000, 1.0000, 1.0000, 1.0000, 1.0000, 1.0000,\n",
      "        1.0000])\n"
     ]
    }
   ],
   "source": [
    "def softmax(x):\n",
    "    return torch.exp(x)/torch.exp(x).sum(dim=1).view(-1,1)\n",
    "\n",
    "probabilities = softmax(out)\n",
    "print(probabilities.shape)\n",
    "print(probabilities.sum(dim=1))"
   ]
  },
  {
   "cell_type": "code",
   "execution_count": 27,
   "metadata": {},
   "outputs": [
    {
     "name": "stdout",
     "output_type": "stream",
     "text": [
      "torch.Size([64, 10])\n",
      "tensor([1.0000, 1.0000, 1.0000, 1.0000, 1.0000, 1.0000, 1.0000, 1.0000, 1.0000,\n",
      "        1.0000, 1.0000, 1.0000, 1.0000, 1.0000, 1.0000, 1.0000, 1.0000, 1.0000,\n",
      "        1.0000, 1.0000, 1.0000, 1.0000, 1.0000, 1.0000, 1.0000, 1.0000, 1.0000,\n",
      "        1.0000, 1.0000, 1.0000, 1.0000, 1.0000, 1.0000, 1.0000, 1.0000, 1.0000,\n",
      "        1.0000, 1.0000, 1.0000, 1.0000, 1.0000, 1.0000, 1.0000, 1.0000, 1.0000,\n",
      "        1.0000, 1.0000, 1.0000, 1.0000, 1.0000, 1.0000, 1.0000, 1.0000, 1.0000,\n",
      "        1.0000, 1.0000, 1.0000, 1.0000, 1.0000, 1.0000, 1.0000, 1.0000, 1.0000,\n",
      "        1.0000])\n"
     ]
    }
   ],
   "source": [
    "def softmax(x):\n",
    "    return torch.exp(x)/torch.sum(torch.exp(x),dim=1).view(-1,1)\n",
    "\n",
    "# Here, out should be the output of the network in the previous excercise with shape (64,10)\n",
    "probabilities = softmax(out)\n",
    "\n",
    "# Does it have the right shape? Should be (64, 10)\n",
    "print(probabilities.shape)\n",
    "# Does it sum to 1?\n",
    "print(probabilities.sum(dim=1))"
   ]
  },
  {
   "cell_type": "markdown",
   "metadata": {},
   "source": [
    "## Building networks with PyTorch\n",
    "\n",
    "PyTorch provides a module `nn` that makes building networks much simpler. Here I'll show you how to build the same one as above with 784 inputs, 256 hidden units, 10 output units and a softmax output."
   ]
  },
  {
   "cell_type": "code",
   "execution_count": 34,
   "metadata": {},
   "outputs": [],
   "source": [
    "from torch import nn"
   ]
  },
  {
   "cell_type": "code",
   "execution_count": 36,
   "metadata": {},
   "outputs": [],
   "source": [
    "class Network(nn.Module):\n",
    "    def __init__(self):\n",
    "        super().__init__()\n",
    "        \n",
    "        # Inputs to hidden layer linear transformation\n",
    "        self.hidden = nn.Linear(784, 256)\n",
    "        # Output layer, 10 units - one for each digit\n",
    "        self.output = nn.Linear(256, 10)\n",
    "        \n",
    "        # Define sigmoid activation and softmax output \n",
    "        self.sigmoid = nn.Sigmoid()\n",
    "        self.softmax = nn.Softmax(dim=1)\n",
    "        \n",
    "    def forward(self, x):\n",
    "        # Pass the input tensor through each of our operations\n",
    "        x = self.hidden(x)\n",
    "        x = self.sigmoid(x)\n",
    "        x = self.output(x)\n",
    "        x = self.softmax(x)\n",
    "        \n",
    "        return x"
   ]
  },
  {
   "cell_type": "markdown",
   "metadata": {},
   "source": [
    "Let's go through this bit by bit.\n",
    "\n",
    "```python\n",
    "class Network(nn.Module):\n",
    "```\n",
    "\n",
    "Here we're inheriting from `nn.Module`. Combined with `super().__init__()` this creates a class that tracks the architecture and provides a lot of useful methods and attributes. It is mandatory to inherit from `nn.Module` when you're creating a class for your network. The name of the class itself can be anything.\n",
    "\n",
    "```python\n",
    "self.hidden = nn.Linear(784, 256)\n",
    "```\n",
    "\n",
    "This line creates a module for a linear transformation, $x\\mathbf{W} + b$, with 784 inputs and 256 outputs and assigns it to `self.hidden`. The module automatically creates the weight and bias tensors which we'll use in the `forward` method. You can access the weight and bias tensors once the network (`net`) is created with `net.hidden.weight` and `net.hidden.bias`.\n",
    "\n",
    "```python\n",
    "self.output = nn.Linear(256, 10)\n",
    "```\n",
    "\n",
    "Similarly, this creates another linear transformation with 256 inputs and 10 outputs.\n",
    "\n",
    "```python\n",
    "self.sigmoid = nn.Sigmoid()\n",
    "self.softmax = nn.Softmax(dim=1)\n",
    "```\n",
    "\n",
    "Here I defined operations for the sigmoid activation and softmax output. Setting `dim=1` in `nn.Softmax(dim=1)` calculates softmax across the columns.\n",
    "\n",
    "```python\n",
    "def forward(self, x):\n",
    "```\n",
    "\n",
    "PyTorch networks created with `nn.Module` must have a `forward` method defined. It takes in a tensor `x` and passes it through the operations you defined in the `__init__` method.\n",
    "\n",
    "```python\n",
    "x = self.hidden(x)\n",
    "x = self.sigmoid(x)\n",
    "x = self.output(x)\n",
    "x = self.softmax(x)\n",
    "```\n",
    "\n",
    "Here the input tensor `x` is passed through each operation and reassigned to `x`. We can see that the input tensor goes through the hidden layer, then a sigmoid function, then the output layer, and finally the softmax function. It doesn't matter what you name the variables here, as long as the inputs and outputs of the operations match the network architecture you want to build. The order in which you define things in the `__init__` method doesn't matter, but you'll need to sequence the operations correctly in the `forward` method.\n",
    "\n",
    "Now we can create a `Network` object."
   ]
  },
  {
   "cell_type": "code",
   "execution_count": 37,
   "metadata": {},
   "outputs": [
    {
     "data": {
      "text/plain": [
       "Network(\n",
       "  (hidden): Linear(in_features=784, out_features=256, bias=True)\n",
       "  (output): Linear(in_features=256, out_features=10, bias=True)\n",
       "  (sigmoid): Sigmoid()\n",
       "  (softmax): Softmax()\n",
       ")"
      ]
     },
     "execution_count": 37,
     "metadata": {},
     "output_type": "execute_result"
    }
   ],
   "source": [
    "# Create the network and look at it's text representation\n",
    "model = Network()\n",
    "model"
   ]
  },
  {
   "cell_type": "markdown",
   "metadata": {},
   "source": [
    "You can define the network somewhat more concisely and clearly using the `torch.nn.functional` module. This is the most common way you'll see networks defined as many operations are simple element-wise functions. We normally import this module as `F`, `import torch.nn.functional as F`."
   ]
  },
  {
   "cell_type": "code",
   "execution_count": 38,
   "metadata": {},
   "outputs": [],
   "source": [
    "import torch.nn.functional as F\n",
    "\n",
    "class Network(nn.Module):\n",
    "    def __init__(self):\n",
    "        super().__init__()\n",
    "        # Inputs to hidden layer linear transformation\n",
    "        self.hidden = nn.Linear(784, 256)\n",
    "        # Output layer, 10 units - one for each digit\n",
    "        self.output = nn.Linear(256, 10)\n",
    "        \n",
    "    def forward(self, x):\n",
    "        # Hidden layer with sigmoid activation\n",
    "        x = F.sigmoid(self.hidden(x))\n",
    "        # Output layer with softmax activation\n",
    "        x = F.softmax(self.output(x), dim=1)\n",
    "        \n",
    "        return x"
   ]
  },
  {
   "cell_type": "markdown",
   "metadata": {},
   "source": [
    "### Activation functions\n",
    "\n",
    "So far we've only been looking at the sigmoid activation function, but in general any function can be used as an activation function. The only requirement is that for a network to approximate a non-linear function, the activation functions must be non-linear. Here are a few more examples of common activation functions: Tanh (hyperbolic tangent), and ReLU (rectified linear unit).\n",
    "\n",
    "<img src=\"assets/activation.png\" width=700px>\n",
    "\n",
    "In practice, the ReLU function is used almost exclusively as the activation function for hidden layers."
   ]
  },
  {
   "cell_type": "markdown",
   "metadata": {},
   "source": [
    "### Your Turn to Build a Network\n",
    "\n",
    "<img src=\"assets/mlp_mnist.png\" width=600px>\n",
    "\n",
    "> **Exercise:** Create a network with 784 input units, a hidden layer with 128 units and a ReLU activation, then a hidden layer with 64 units and a ReLU activation, and finally an output layer with a softmax activation as shown above. You can use a ReLU activation with the `nn.ReLU` module or `F.relu` function.\n",
    "\n",
    "It's good practice to name your layers by their type of network, for instance 'fc' to represent a fully-connected layer. As you code your solution, use `fc1`, `fc2`, and `fc3` as your layer names."
   ]
  },
  {
   "cell_type": "code",
   "execution_count": 39,
   "metadata": {
    "scrolled": true
   },
   "outputs": [],
   "source": [
    "## Your solution here\n",
    "class Network(nn.Module):\n",
    "    def __init__(self):\n",
    "        super().__init__()\n",
    "        self.hidden1 = nn.Linear(784,128)\n",
    "        self.hidden2 = nn.Linear(128,64)\n",
    "        self.output = nn.Linear(64,10)\n",
    "        self.softmax = nn.Softmax(dim=1)\n",
    "        self.ReLU = nn.ReLU()\n",
    "        \n",
    "    def forward(self, x):\n",
    "        x = self.hidden1(x)\n",
    "        x = self.ReLU(x)\n",
    "        x = self.hidden2(x)\n",
    "        x = self.ReLU(x)\n",
    "        x = self.output(x)\n",
    "        x = self.softmax(x)\n",
    "        return x"
   ]
  },
  {
   "cell_type": "code",
   "execution_count": 40,
   "metadata": {},
   "outputs": [
    {
     "data": {
      "text/plain": [
       "Network(\n",
       "  (hidden1): Linear(in_features=784, out_features=128, bias=True)\n",
       "  (hidden2): Linear(in_features=128, out_features=64, bias=True)\n",
       "  (output): Linear(in_features=64, out_features=10, bias=True)\n",
       "  (softmax): Softmax()\n",
       "  (ReLU): ReLU()\n",
       ")"
      ]
     },
     "execution_count": 40,
     "metadata": {},
     "output_type": "execute_result"
    }
   ],
   "source": [
    "model = Network()\n",
    "model"
   ]
  },
  {
   "cell_type": "markdown",
   "metadata": {},
   "source": [
    "### Initializing weights and biases\n",
    "\n",
    "The weights and such are automatically initialized for you, but it's possible to customize how they are initialized. The weights and biases are tensors attached to the layer you defined, you can get them with `model.fc1.weight` for instance."
   ]
  },
  {
   "cell_type": "code",
   "execution_count": 41,
   "metadata": {},
   "outputs": [
    {
     "name": "stdout",
     "output_type": "stream",
     "text": [
      "Parameter containing:\n",
      "tensor([[-0.0275, -0.0168, -0.0181,  ..., -0.0177,  0.0069, -0.0046],\n",
      "        [-0.0202, -0.0131,  0.0253,  ...,  0.0076,  0.0004, -0.0132],\n",
      "        [ 0.0190,  0.0017,  0.0258,  ..., -0.0002, -0.0277,  0.0057],\n",
      "        ...,\n",
      "        [ 0.0208,  0.0189, -0.0169,  ..., -0.0169, -0.0325,  0.0185],\n",
      "        [-0.0214,  0.0326, -0.0039,  ..., -0.0210, -0.0075,  0.0042],\n",
      "        [ 0.0070,  0.0119, -0.0039,  ...,  0.0334, -0.0350,  0.0074]],\n",
      "       requires_grad=True)\n",
      "Parameter containing:\n",
      "tensor([ 0.0061, -0.0078, -0.0166, -0.0234, -0.0053, -0.0205,  0.0096, -0.0135,\n",
      "         0.0323, -0.0244, -0.0352, -0.0226,  0.0151, -0.0019,  0.0308,  0.0268,\n",
      "         0.0051,  0.0282,  0.0156,  0.0079, -0.0142,  0.0260, -0.0178,  0.0144,\n",
      "        -0.0205, -0.0354,  0.0068, -0.0168, -0.0137, -0.0098,  0.0179, -0.0018,\n",
      "        -0.0279,  0.0179,  0.0182, -0.0041, -0.0285,  0.0287, -0.0321, -0.0159,\n",
      "         0.0228,  0.0264,  0.0257,  0.0060, -0.0169, -0.0230, -0.0206, -0.0233,\n",
      "        -0.0199,  0.0073, -0.0296, -0.0045,  0.0028,  0.0201, -0.0044, -0.0062,\n",
      "         0.0177, -0.0152, -0.0141, -0.0342,  0.0246,  0.0005, -0.0216, -0.0191,\n",
      "        -0.0134,  0.0144, -0.0153,  0.0279,  0.0022, -0.0167, -0.0356,  0.0035,\n",
      "         0.0307, -0.0287, -0.0172, -0.0130, -0.0045,  0.0101,  0.0172,  0.0090,\n",
      "        -0.0120, -0.0014,  0.0298,  0.0293,  0.0210, -0.0309,  0.0266,  0.0124,\n",
      "        -0.0183, -0.0281,  0.0150, -0.0001,  0.0174,  0.0097, -0.0030,  0.0046,\n",
      "        -0.0131, -0.0295, -0.0298,  0.0260, -0.0082, -0.0207,  0.0082, -0.0170,\n",
      "        -0.0253,  0.0193,  0.0180, -0.0231, -0.0050, -0.0035,  0.0161,  0.0105,\n",
      "         0.0307, -0.0307, -0.0157, -0.0072, -0.0201,  0.0313,  0.0194, -0.0346,\n",
      "         0.0338, -0.0155,  0.0093,  0.0068,  0.0045,  0.0201,  0.0056,  0.0191],\n",
      "       requires_grad=True)\n"
     ]
    }
   ],
   "source": [
    "print(model.hidden1.weight)\n",
    "print(model.hidden1.bias)"
   ]
  },
  {
   "cell_type": "markdown",
   "metadata": {},
   "source": [
    "For custom initialization, we want to modify these tensors in place. These are actually autograd *Variables*, so we need to get back the actual tensors with `model.fc1.weight.data`. Once we have the tensors, we can fill them with zeros (for biases) or random normal values."
   ]
  },
  {
   "cell_type": "code",
   "execution_count": 42,
   "metadata": {},
   "outputs": [
    {
     "data": {
      "text/plain": [
       "tensor([0., 0., 0., 0., 0., 0., 0., 0., 0., 0., 0., 0., 0., 0., 0., 0., 0., 0., 0., 0., 0., 0., 0., 0.,\n",
       "        0., 0., 0., 0., 0., 0., 0., 0., 0., 0., 0., 0., 0., 0., 0., 0., 0., 0., 0., 0., 0., 0., 0., 0.,\n",
       "        0., 0., 0., 0., 0., 0., 0., 0., 0., 0., 0., 0., 0., 0., 0., 0., 0., 0., 0., 0., 0., 0., 0., 0.,\n",
       "        0., 0., 0., 0., 0., 0., 0., 0., 0., 0., 0., 0., 0., 0., 0., 0., 0., 0., 0., 0., 0., 0., 0., 0.,\n",
       "        0., 0., 0., 0., 0., 0., 0., 0., 0., 0., 0., 0., 0., 0., 0., 0., 0., 0., 0., 0., 0., 0., 0., 0.,\n",
       "        0., 0., 0., 0., 0., 0., 0., 0.])"
      ]
     },
     "execution_count": 42,
     "metadata": {},
     "output_type": "execute_result"
    }
   ],
   "source": [
    "# Set biases to all zeros\n",
    "model.hidden1.bias.data.fill_(0)"
   ]
  },
  {
   "cell_type": "code",
   "execution_count": 43,
   "metadata": {},
   "outputs": [
    {
     "data": {
      "text/plain": [
       "tensor([[ 2.9226e-03,  2.5402e-02, -5.0813e-03,  ...,  6.1783e-03,\n",
       "          9.8374e-03, -1.6120e-02],\n",
       "        [-1.1585e-02, -7.1908e-05,  9.1011e-04,  ..., -7.8682e-03,\n",
       "          2.1489e-04,  2.1273e-02],\n",
       "        [-1.1971e-02, -1.7456e-02, -1.1125e-02,  ..., -7.5607e-04,\n",
       "         -1.1029e-03, -3.3019e-03],\n",
       "        ...,\n",
       "        [ 3.1641e-03,  4.2979e-03,  1.2611e-02,  ..., -1.3489e-02,\n",
       "         -2.9581e-03,  1.7581e-02],\n",
       "        [-1.3331e-04,  4.0774e-03,  6.3678e-04,  ..., -2.0962e-03,\n",
       "         -1.4842e-02,  1.1438e-02],\n",
       "        [-3.6196e-03, -4.5840e-03,  8.0296e-03,  ...,  1.1232e-02,\n",
       "         -5.3438e-03, -2.2677e-04]])"
      ]
     },
     "execution_count": 43,
     "metadata": {},
     "output_type": "execute_result"
    }
   ],
   "source": [
    "# sample from random normal with standard dev = 0.01\n",
    "model.hidden1.weight.data.normal_(std=0.01)"
   ]
  },
  {
   "cell_type": "markdown",
   "metadata": {},
   "source": [
    "### Forward pass\n",
    "\n",
    "Now that we have a network, let's see what happens when we pass in an image."
   ]
  },
  {
   "cell_type": "code",
   "execution_count": 73,
   "metadata": {},
   "outputs": [
    {
     "name": "stdout",
     "output_type": "stream",
     "text": [
      "torch.Size([1, 784])\n",
      "tensor([[0.0939, 0.1038, 0.0922, 0.1005, 0.1014, 0.1041, 0.0924, 0.0920, 0.1126,\n",
      "         0.1071]], grad_fn=<SoftmaxBackward>)\n"
     ]
    },
    {
     "data": {
      "image/png": "[encoded data removed]",
      "text/plain": [
       "<Figure size 432x648 with 2 Axes>"
      ]
     },
     "metadata": {
      "image/png": {
       "height": 224,
       "width": 423
      },
      "needs_background": "light"
     },
     "output_type": "display_data"
    }
   ],
   "source": [
    "# Grab some data \n",
    "dataiter = iter(trainloader)\n",
    "images, labels = dataiter.next()\n",
    "\n",
    "# Resize images into a 1D vector, new shape is (batch size, color channels, image pixels) \n",
    "images.resize_(64, 1, 784)\n",
    "# or images.resize_(images.shape[0], 1, 784) to automatically get batch size\n",
    "\n",
    "# Forward pass through the network\n",
    "img_idx = 0\n",
    "ps = model.forward(images[0])\n",
    "\n",
    "print(images[0].size())\n",
    "print(ps)\n",
    "\n",
    "img = images[img_idx]\n",
    "helper.view_classify(img.view(1, 28, 28), ps)"
   ]
  },
  {
   "cell_type": "markdown",
   "metadata": {},
   "source": [
    "As you can see above, our network has basically no idea what this digit is. It's because we haven't trained it yet, all the weights are random!\n",
    "\n",
    "### Using `nn.Sequential`\n",
    "\n",
    "PyTorch provides a convenient way to build networks like this where a tensor is passed sequentially through operations, `nn.Sequential` ([documentation](https://pytorch.org/docs/master/nn.html#torch.nn.Sequential)). Using this to build the equivalent network:"
   ]
  },
  {
   "cell_type": "code",
   "execution_count": 74,
   "metadata": {},
   "outputs": [
    {
     "name": "stdout",
     "output_type": "stream",
     "text": [
      "Sequential(\n",
      "  (0): Linear(in_features=784, out_features=128, bias=True)\n",
      "  (1): ReLU()\n",
      "  (2): Linear(in_features=128, out_features=64, bias=True)\n",
      "  (3): ReLU()\n",
      "  (4): Linear(in_features=64, out_features=10, bias=True)\n",
      "  (5): Softmax()\n",
      ")\n"
     ]
    },
    {
     "data": {
      "image/png": "[encoded data removed]",
      "text/plain": [
       "<Figure size 432x648 with 2 Axes>"
      ]
     },
     "metadata": {
      "image/png": {
       "height": 224,
       "width": 423
      },
      "needs_background": "light"
     },
     "output_type": "display_data"
    }
   ],
   "source": [
    "# Hyperparameters for our network\n",
    "input_size = 784\n",
    "hidden_sizes = [128, 64]\n",
    "output_size = 10\n",
    "\n",
    "# Build a feed-forward network\n",
    "model = nn.Sequential(nn.Linear(input_size, hidden_sizes[0]),\n",
    "                      nn.ReLU(),\n",
    "                      nn.Linear(hidden_sizes[0], hidden_sizes[1]),\n",
    "                      nn.ReLU(),\n",
    "                      nn.Linear(hidden_sizes[1], output_size),\n",
    "                      nn.Softmax(dim=1))\n",
    "print(model)\n",
    "\n",
    "# Forward pass through the network and display output\n",
    "images, labels = next(iter(trainloader))\n",
    "images.resize_(images.shape[0], 1, 784)\n",
    "ps = model.forward(images[0,:])\n",
    "helper.view_classify(images[0].view(1, 28, 28), ps)"
   ]
  },
  {
   "cell_type": "markdown",
   "metadata": {},
   "source": [
    "Here our model is the same as before: 784 input units, a hidden layer with 128 units, ReLU activation, 64 unit hidden layer, another ReLU, then the output layer with 10 units, and the softmax output.\n",
    "\n",
    "The operations are available by passing in the appropriate index. For example, if you want to get first Linear operation and look at the weights, you'd use `model[0]`."
   ]
  },
  {
   "cell_type": "code",
   "execution_count": 75,
   "metadata": {},
   "outputs": [
    {
     "name": "stdout",
     "output_type": "stream",
     "text": [
      "Linear(in_features=784, out_features=128, bias=True)\n"
     ]
    },
    {
     "data": {
      "text/plain": [
       "Parameter containing:\n",
       "tensor([[-0.0314,  0.0250,  0.0040,  ..., -0.0161, -0.0164,  0.0022],\n",
       "        [ 0.0141, -0.0096,  0.0199,  ..., -0.0002,  0.0284, -0.0133],\n",
       "        [ 0.0243, -0.0101,  0.0231,  ...,  0.0033,  0.0119,  0.0262],\n",
       "        ...,\n",
       "        [ 0.0054,  0.0254, -0.0270,  ..., -0.0089, -0.0215,  0.0245],\n",
       "        [-0.0262, -0.0353, -0.0070,  ...,  0.0166, -0.0150, -0.0270],\n",
       "        [-0.0296,  0.0012,  0.0323,  ..., -0.0208,  0.0295,  0.0198]],\n",
       "       requires_grad=True)"
      ]
     },
     "execution_count": 75,
     "metadata": {},
     "output_type": "execute_result"
    }
   ],
   "source": [
    "print(model[0])\n",
    "model[0].weight"
   ]
  },
  {
   "cell_type": "markdown",
   "metadata": {},
   "source": [
    "You can also pass in an `OrderedDict` to name the individual layers and operations, instead of using incremental integers. Note that dictionary keys must be unique, so _each operation must have a different name_."
   ]
  },
  {
   "cell_type": "code",
   "execution_count": 76,
   "metadata": {},
   "outputs": [
    {
     "data": {
      "text/plain": [
       "Sequential(\n",
       "  (fc1): Linear(in_features=784, out_features=128, bias=True)\n",
       "  (relu1): ReLU()\n",
       "  (fc2): Linear(in_features=128, out_features=64, bias=True)\n",
       "  (relu2): ReLU()\n",
       "  (output): Linear(in_features=64, out_features=10, bias=True)\n",
       "  (softmax): Softmax()\n",
       ")"
      ]
     },
     "execution_count": 76,
     "metadata": {},
     "output_type": "execute_result"
    }
   ],
   "source": [
    "from collections import OrderedDict\n",
    "model = nn.Sequential(OrderedDict([\n",
    "                      ('fc1', nn.Linear(input_size, hidden_sizes[0])),\n",
    "                      ('relu1', nn.ReLU()),\n",
    "                      ('fc2', nn.Linear(hidden_sizes[0], hidden_sizes[1])),\n",
    "                      ('relu2', nn.ReLU()),\n",
    "                      ('output', nn.Linear(hidden_sizes[1], output_size)),\n",
    "                      ('softmax', nn.Softmax(dim=1))]))\n",
    "model"
   ]
  },
  {
   "cell_type": "markdown",
   "metadata": {},
   "source": [
    "Now you can access layers either by integer or the name"
   ]
  },
  {
   "cell_type": "code",
   "execution_count": 77,
   "metadata": {},
   "outputs": [
    {
     "name": "stdout",
     "output_type": "stream",
     "text": [
      "Linear(in_features=784, out_features=128, bias=True)\n",
      "Linear(in_features=784, out_features=128, bias=True)\n"
     ]
    }
   ],
   "source": [
    "print(model[0])\n",
    "print(model.fc1)"
   ]
  },
  {
   "cell_type": "markdown",
   "metadata": {},
   "source": [
    "In the next notebook, we'll see how we can train a neural network to accuractly predict the numbers appearing in the MNIST images."
   ]
  }
 ],
 "metadata": {
  "kernelspec": {
   "display_name": "Python 3",
   "language": "python",
   "name": "python3"
  },
  "language_info": {
   "codemirror_mode": {
    "name": "ipython",
    "version": 3
   },
   "file_extension": ".py",
   "mimetype": "text/x-python",
   "name": "python",
   "nbconvert_exporter": "python",
   "pygments_lexer": "ipython3",
   "version": "3.7.0"
  }
 },
 "nbformat": 4,
 "nbformat_minor": 2
}
